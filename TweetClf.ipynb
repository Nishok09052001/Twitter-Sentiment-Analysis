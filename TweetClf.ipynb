{
 "cells": [
  {
   "cell_type": "markdown",
   "metadata": {},
   "source": [
    "<center><b><h1> Twitter Sentiment Analysis </h1></b></center>"
   ]
  },
  {
   "cell_type": "code",
   "execution_count": 1,
   "metadata": {},
   "outputs": [
    {
     "data": {
      "text/html": [
       "        <script type=\"text/javascript\">\n",
       "        window.PlotlyConfig = {MathJaxConfig: 'local'};\n",
       "        if (window.MathJax) {MathJax.Hub.Config({SVG: {font: \"STIX-Web\"}});}\n",
       "        if (typeof require !== 'undefined') {\n",
       "        require.undef(\"plotly\");\n",
       "        requirejs.config({\n",
       "            paths: {\n",
       "                'plotly': ['https://cdn.plot.ly/plotly-latest.min']\n",
       "            }\n",
       "        });\n",
       "        require(['plotly'], function(Plotly) {\n",
       "            window._Plotly = Plotly;\n",
       "        });\n",
       "        }\n",
       "        </script>\n",
       "        "
      ]
     },
     "metadata": {},
     "output_type": "display_data"
    },
    {
     "data": {
      "text/html": [
       "        <script type=\"text/javascript\">\n",
       "        window.PlotlyConfig = {MathJaxConfig: 'local'};\n",
       "        if (window.MathJax) {MathJax.Hub.Config({SVG: {font: \"STIX-Web\"}});}\n",
       "        if (typeof require !== 'undefined') {\n",
       "        require.undef(\"plotly\");\n",
       "        requirejs.config({\n",
       "            paths: {\n",
       "                'plotly': ['https://cdn.plot.ly/plotly-latest.min']\n",
       "            }\n",
       "        });\n",
       "        require(['plotly'], function(Plotly) {\n",
       "            window._Plotly = Plotly;\n",
       "        });\n",
       "        }\n",
       "        </script>\n",
       "        "
      ]
     },
     "metadata": {},
     "output_type": "display_data"
    },
    {
     "name": "stderr",
     "output_type": "stream",
     "text": [
      "[nltk_data] Downloading package punkt to\n",
      "[nltk_data]     C:\\Users\\rpshr\\AppData\\Roaming\\nltk_data...\n",
      "[nltk_data]   Package punkt is already up-to-date!\n",
      "[nltk_data] Downloading package averaged_perceptron_tagger to\n",
      "[nltk_data]     C:\\Users\\rpshr\\AppData\\Roaming\\nltk_data...\n",
      "[nltk_data]   Package averaged_perceptron_tagger is already up-to-\n",
      "[nltk_data]       date!\n",
      "[nltk_data] Downloading package tagsets to\n",
      "[nltk_data]     C:\\Users\\rpshr\\AppData\\Roaming\\nltk_data...\n",
      "[nltk_data]   Package tagsets is already up-to-date!\n",
      "C:\\Users\\rpshr\\Anaconda3\\lib\\site-packages\\dask\\dataframe\\utils.py:14: FutureWarning:\n",
      "\n",
      "pandas.util.testing is deprecated. Use the functions in the public API at pandas.testing instead.\n",
      "\n"
     ]
    }
   ],
   "source": [
    "#import neccessary libraries\n",
    "\n",
    "import pandas as pd\n",
    "import numpy as np\n",
    "import matplotlib.pyplot as plt\n",
    "import seaborn as sns\n",
    "import re\n",
    "\n",
    "import plotly as py\n",
    "import cufflinks as cf\n",
    "\n",
    "from plotly.offline import iplot\n",
    "py.offline.init_notebook_mode(connected = True)\n",
    "cf.go_offline()\n",
    "\n",
    "from sklearn.feature_extraction.text import CountVectorizer\n",
    "import nltk\n",
    "nltk.download('punkt')\n",
    "nltk.download('averaged_perceptron_tagger')\n",
    "nltk.download('tagsets')\n",
    "\n",
    "from wordcloud import WordCloud, STOPWORDS\n",
    "import pickle\n",
    "import time\n",
    "\n",
    "from sklearn.model_selection import train_test_split\n",
    "from sklearn.feature_extraction.text import TfidfVectorizer\n",
    "from sklearn import metrics\n",
    "\n",
    "from sklearn.naive_bayes import GaussianNB\n",
    "from sklearn.svm import SVC\n",
    "from sklearn.linear_model import LogisticRegression\n",
    "from sklearn.tree import DecisionTreeClassifier\n",
    "from sklearn.ensemble import RandomForestClassifier\n",
    "\n",
    "from sklearn import preprocessing\n",
    "import xgboost as xgb\n",
    "from sklearn.ensemble import VotingClassifier\n",
    "\n",
    "import spacy\n",
    "import en_core_web_lg\n",
    "nlp = en_core_web_lg.load()\n",
    "from spacy.lang.en.stop_words import STOP_WORDS\n",
    "from bs4 import BeautifulSoup\n",
    "\n",
    "import warnings\n",
    "warnings.filterwarnings('ignore')"
   ]
  },
  {
   "cell_type": "code",
   "execution_count": 2,
   "metadata": {},
   "outputs": [],
   "source": [
    "df = pd.read_csv(\"CoronaTweetsSentimentAnalysis.csv\")"
   ]
  },
  {
   "cell_type": "code",
   "execution_count": 3,
   "metadata": {},
   "outputs": [
    {
     "data": {
      "text/html": [
       "<div>\n",
       "<style scoped>\n",
       "    .dataframe tbody tr th:only-of-type {\n",
       "        vertical-align: middle;\n",
       "    }\n",
       "\n",
       "    .dataframe tbody tr th {\n",
       "        vertical-align: top;\n",
       "    }\n",
       "\n",
       "    .dataframe thead th {\n",
       "        text-align: right;\n",
       "    }\n",
       "</style>\n",
       "<table border=\"1\" class=\"dataframe\">\n",
       "  <thead>\n",
       "    <tr style=\"text-align: right;\">\n",
       "      <th></th>\n",
       "      <th>UserName</th>\n",
       "      <th>ScreenName</th>\n",
       "      <th>Location</th>\n",
       "      <th>TweetAt</th>\n",
       "      <th>OriginalTweet</th>\n",
       "      <th>Sentiment</th>\n",
       "    </tr>\n",
       "  </thead>\n",
       "  <tbody>\n",
       "    <tr>\n",
       "      <th>0</th>\n",
       "      <td>1</td>\n",
       "      <td>44954</td>\n",
       "      <td>Seattle, WA</td>\n",
       "      <td>02-03-2020</td>\n",
       "      <td>When I couldn't find hand sanitizer at Fred Me...</td>\n",
       "      <td>Positive</td>\n",
       "    </tr>\n",
       "    <tr>\n",
       "      <th>1</th>\n",
       "      <td>2</td>\n",
       "      <td>44956</td>\n",
       "      <td>Chicagoland</td>\n",
       "      <td>02-03-2020</td>\n",
       "      <td>#Panic buying hits #NewYork City as anxious sh...</td>\n",
       "      <td>Negative</td>\n",
       "    </tr>\n",
       "    <tr>\n",
       "      <th>2</th>\n",
       "      <td>3</td>\n",
       "      <td>44959</td>\n",
       "      <td>NaN</td>\n",
       "      <td>03-03-2020</td>\n",
       "      <td>Voting in the age of #coronavirus = hand sanit...</td>\n",
       "      <td>Positive</td>\n",
       "    </tr>\n",
       "    <tr>\n",
       "      <th>3</th>\n",
       "      <td>4</td>\n",
       "      <td>44963</td>\n",
       "      <td>Boksburg, South Africa</td>\n",
       "      <td>04-03-2020</td>\n",
       "      <td>Best quality couches at unbelievably low price...</td>\n",
       "      <td>Positive</td>\n",
       "    </tr>\n",
       "    <tr>\n",
       "      <th>4</th>\n",
       "      <td>5</td>\n",
       "      <td>44967</td>\n",
       "      <td>Washington, DC</td>\n",
       "      <td>04-03-2020</td>\n",
       "      <td>While we were busy watching election returns a...</td>\n",
       "      <td>Positive</td>\n",
       "    </tr>\n",
       "  </tbody>\n",
       "</table>\n",
       "</div>"
      ],
      "text/plain": [
       "   UserName  ScreenName                Location     TweetAt  \\\n",
       "0         1       44954             Seattle, WA  02-03-2020   \n",
       "1         2       44956             Chicagoland  02-03-2020   \n",
       "2         3       44959                     NaN  03-03-2020   \n",
       "3         4       44963  Boksburg, South Africa  04-03-2020   \n",
       "4         5       44967          Washington, DC  04-03-2020   \n",
       "\n",
       "                                       OriginalTweet Sentiment  \n",
       "0  When I couldn't find hand sanitizer at Fred Me...  Positive  \n",
       "1  #Panic buying hits #NewYork City as anxious sh...  Negative  \n",
       "2  Voting in the age of #coronavirus = hand sanit...  Positive  \n",
       "3  Best quality couches at unbelievably low price...  Positive  \n",
       "4  While we were busy watching election returns a...  Positive  "
      ]
     },
     "execution_count": 3,
     "metadata": {},
     "output_type": "execute_result"
    }
   ],
   "source": [
    "df.head()"
   ]
  },
  {
   "cell_type": "code",
   "execution_count": 4,
   "metadata": {},
   "outputs": [
    {
     "name": "stdout",
     "output_type": "stream",
     "text": [
      "(1988, 6)\n",
      "UserName           0\n",
      "ScreenName         0\n",
      "Location         452\n",
      "TweetAt            0\n",
      "OriginalTweet      0\n",
      "Sentiment          0\n",
      "dtype: int64\n"
     ]
    }
   ],
   "source": [
    "#Look at shape of the data\n",
    "print(df.shape)\n",
    "#How many values are null in each columns\n",
    "print(df.isnull().sum())"
   ]
  },
  {
   "cell_type": "code",
   "execution_count": 5,
   "metadata": {},
   "outputs": [
    {
     "data": {
      "text/plain": [
       "Negative    1041\n",
       "Positive     947\n",
       "Name: Sentiment, dtype: int64"
      ]
     },
     "execution_count": 5,
     "metadata": {},
     "output_type": "execute_result"
    }
   ],
   "source": [
    "#Label values\n",
    "df['Sentiment'].value_counts()"
   ]
  },
  {
   "cell_type": "code",
   "execution_count": 6,
   "metadata": {},
   "outputs": [
    {
     "data": {
      "text/html": [
       "<div>\n",
       "<style scoped>\n",
       "    .dataframe tbody tr th:only-of-type {\n",
       "        vertical-align: middle;\n",
       "    }\n",
       "\n",
       "    .dataframe tbody tr th {\n",
       "        vertical-align: top;\n",
       "    }\n",
       "\n",
       "    .dataframe thead th {\n",
       "        text-align: right;\n",
       "    }\n",
       "</style>\n",
       "<table border=\"1\" class=\"dataframe\">\n",
       "  <thead>\n",
       "    <tr style=\"text-align: right;\">\n",
       "      <th></th>\n",
       "      <th>Sentiment</th>\n",
       "      <th>Tweet</th>\n",
       "    </tr>\n",
       "  </thead>\n",
       "  <tbody>\n",
       "    <tr>\n",
       "      <th>0</th>\n",
       "      <td>Positive</td>\n",
       "      <td>When I couldn't find hand sanitizer at Fred Me...</td>\n",
       "    </tr>\n",
       "    <tr>\n",
       "      <th>1</th>\n",
       "      <td>Negative</td>\n",
       "      <td>#Panic buying hits #NewYork City as anxious sh...</td>\n",
       "    </tr>\n",
       "    <tr>\n",
       "      <th>2</th>\n",
       "      <td>Positive</td>\n",
       "      <td>Voting in the age of #coronavirus = hand sanit...</td>\n",
       "    </tr>\n",
       "    <tr>\n",
       "      <th>3</th>\n",
       "      <td>Positive</td>\n",
       "      <td>Best quality couches at unbelievably low price...</td>\n",
       "    </tr>\n",
       "    <tr>\n",
       "      <th>4</th>\n",
       "      <td>Positive</td>\n",
       "      <td>While we were busy watching election returns a...</td>\n",
       "    </tr>\n",
       "  </tbody>\n",
       "</table>\n",
       "</div>"
      ],
      "text/plain": [
       "  Sentiment                                              Tweet\n",
       "0  Positive  When I couldn't find hand sanitizer at Fred Me...\n",
       "1  Negative  #Panic buying hits #NewYork City as anxious sh...\n",
       "2  Positive  Voting in the age of #coronavirus = hand sanit...\n",
       "3  Positive  Best quality couches at unbelievably low price...\n",
       "4  Positive  While we were busy watching election returns a..."
      ]
     },
     "execution_count": 6,
     "metadata": {},
     "output_type": "execute_result"
    }
   ],
   "source": [
    "df['Tweet'] = pd.Series(df[['OriginalTweet','Location']].fillna('').values.tolist()).str.join(' ')\n",
    "df.drop(['UserName','ScreenName','TweetAt','OriginalTweet','Location'],axis = 1, inplace = True)\n",
    "df.head()"
   ]
  },
  {
   "cell_type": "code",
   "execution_count": 7,
   "metadata": {},
   "outputs": [
    {
     "data": {
      "text/plain": [
       "'Best quality couches at unbelievably low prices available to order.\\r\\r\\n\\r\\r\\nWe are in Boksburg GP \\r\\r\\n\\r\\r\\nFor more info WhatsApp:\\r\\r\\n084 764 8086\\r\\r\\n\\r\\r\\n#SuperTuesdsy #PowerTalk \\r\\r\\n#Covid_19 #SayEntrepreneur \\r\\r\\n#DJSBU https://t.co/HhDJhyQ2Dc Boksburg, South Africa'"
      ]
     },
     "execution_count": 7,
     "metadata": {},
     "output_type": "execute_result"
    }
   ],
   "source": [
    "df['Tweet'][3]"
   ]
  },
  {
   "cell_type": "code",
   "execution_count": 8,
   "metadata": {},
   "outputs": [],
   "source": [
    "df1 = df[['Tweet','Sentiment']]"
   ]
  },
  {
   "cell_type": "code",
   "execution_count": 9,
   "metadata": {},
   "outputs": [],
   "source": [
    "def get_avg_word_len(x):\n",
    "    words = x.split()\n",
    "    word_len = 0\n",
    "    for word in words:\n",
    "        word_len = word_len + len(word)\n",
    "    return word_len/len(words)"
   ]
  },
  {
   "cell_type": "code",
   "execution_count": 10,
   "metadata": {},
   "outputs": [],
   "source": [
    "df1['text_len'] = df1['Tweet'].apply(lambda x: len(x))\n",
    "df1['word_count'] = df1['Tweet'].apply(lambda x: len(x.split()))\n",
    "df1['avg_word_len'] = df1['Tweet'].apply(lambda x: get_avg_word_len(x))"
   ]
  },
  {
   "cell_type": "code",
   "execution_count": 11,
   "metadata": {},
   "outputs": [
    {
     "data": {
      "text/html": [
       "<div>\n",
       "<style scoped>\n",
       "    .dataframe tbody tr th:only-of-type {\n",
       "        vertical-align: middle;\n",
       "    }\n",
       "\n",
       "    .dataframe tbody tr th {\n",
       "        vertical-align: top;\n",
       "    }\n",
       "\n",
       "    .dataframe thead th {\n",
       "        text-align: right;\n",
       "    }\n",
       "</style>\n",
       "<table border=\"1\" class=\"dataframe\">\n",
       "  <thead>\n",
       "    <tr style=\"text-align: right;\">\n",
       "      <th></th>\n",
       "      <th>Tweet</th>\n",
       "      <th>Sentiment</th>\n",
       "      <th>text_len</th>\n",
       "      <th>word_count</th>\n",
       "      <th>avg_word_len</th>\n",
       "    </tr>\n",
       "  </thead>\n",
       "  <tbody>\n",
       "    <tr>\n",
       "      <th>0</th>\n",
       "      <td>When I couldn't find hand sanitizer at Fred Me...</td>\n",
       "      <td>Positive</td>\n",
       "      <td>205</td>\n",
       "      <td>32</td>\n",
       "      <td>5.406250</td>\n",
       "    </tr>\n",
       "    <tr>\n",
       "      <th>1</th>\n",
       "      <td>#Panic buying hits #NewYork City as anxious sh...</td>\n",
       "      <td>Negative</td>\n",
       "      <td>330</td>\n",
       "      <td>38</td>\n",
       "      <td>7.368421</td>\n",
       "    </tr>\n",
       "    <tr>\n",
       "      <th>2</th>\n",
       "      <td>Voting in the age of #coronavirus = hand sanit...</td>\n",
       "      <td>Positive</td>\n",
       "      <td>91</td>\n",
       "      <td>12</td>\n",
       "      <td>6.583333</td>\n",
       "    </tr>\n",
       "    <tr>\n",
       "      <th>3</th>\n",
       "      <td>Best quality couches at unbelievably low price...</td>\n",
       "      <td>Positive</td>\n",
       "      <td>256</td>\n",
       "      <td>31</td>\n",
       "      <td>6.516129</td>\n",
       "    </tr>\n",
       "    <tr>\n",
       "      <th>4</th>\n",
       "      <td>While we were busy watching election returns a...</td>\n",
       "      <td>Positive</td>\n",
       "      <td>212</td>\n",
       "      <td>28</td>\n",
       "      <td>6.607143</td>\n",
       "    </tr>\n",
       "  </tbody>\n",
       "</table>\n",
       "</div>"
      ],
      "text/plain": [
       "                                               Tweet Sentiment  text_len  \\\n",
       "0  When I couldn't find hand sanitizer at Fred Me...  Positive       205   \n",
       "1  #Panic buying hits #NewYork City as anxious sh...  Negative       330   \n",
       "2  Voting in the age of #coronavirus = hand sanit...  Positive        91   \n",
       "3  Best quality couches at unbelievably low price...  Positive       256   \n",
       "4  While we were busy watching election returns a...  Positive       212   \n",
       "\n",
       "   word_count  avg_word_len  \n",
       "0          32      5.406250  \n",
       "1          38      7.368421  \n",
       "2          12      6.583333  \n",
       "3          31      6.516129  \n",
       "4          28      6.607143  "
      ]
     },
     "execution_count": 11,
     "metadata": {},
     "output_type": "execute_result"
    }
   ],
   "source": [
    "df1.head()"
   ]
  },
  {
   "cell_type": "markdown",
   "metadata": {},
   "source": [
    "## Exploratory data analysis"
   ]
  },
  {
   "cell_type": "markdown",
   "metadata": {},
   "source": [
    "### Distribution of Questions based on Quality"
   ]
  },
  {
   "cell_type": "code",
   "execution_count": 12,
   "metadata": {},
   "outputs": [
    {
     "data": {
      "application/vnd.plotly.v1+json": {
       "config": {
        "linkText": "Export to plot.ly",
        "plotlyServerURL": "https://plot.ly",
        "showLink": true
       },
       "data": [
        {
         "histfunc": "count",
         "histnorm": "",
         "marker": {
          "color": "rgba(173, 216, 230, 1.0)",
          "line": {
           "color": "#000000",
           "width": 1.3
          }
         },
         "name": "Sentiment",
         "nbinsx": 40,
         "opacity": 0.8,
         "orientation": "v",
         "type": "histogram",
         "x": [
          "Positive",
          "Negative",
          "Positive",
          "Positive",
          "Positive",
          "Positive",
          "Negative",
          "Positive",
          "Negative",
          "Negative",
          "Negative",
          "Positive",
          "Negative",
          "Negative",
          "Negative",
          "Positive",
          "Negative",
          "Positive",
          "Positive",
          "Negative",
          "Negative",
          "Negative",
          "Positive",
          "Positive",
          "Positive",
          "Negative",
          "Positive",
          "Positive",
          "Positive",
          "Negative",
          "Positive",
          "Negative",
          "Negative",
          "Positive",
          "Positive",
          "Positive",
          "Negative",
          "Negative",
          "Negative",
          "Negative",
          "Negative",
          "Negative",
          "Negative",
          "Negative",
          "Negative",
          "Positive",
          "Negative",
          "Negative",
          "Positive",
          "Positive",
          "Positive",
          "Positive",
          "Negative",
          "Negative",
          "Negative",
          "Negative",
          "Positive",
          "Negative",
          "Positive",
          "Negative",
          "Negative",
          "Negative",
          "Positive",
          "Negative",
          "Positive",
          "Positive",
          "Negative",
          "Negative",
          "Positive",
          "Negative",
          "Negative",
          "Positive",
          "Positive",
          "Negative",
          "Negative",
          "Negative",
          "Positive",
          "Negative",
          "Negative",
          "Negative",
          "Negative",
          "Positive",
          "Positive",
          "Positive",
          "Positive",
          "Negative",
          "Positive",
          "Negative",
          "Positive",
          "Positive",
          "Negative",
          "Positive",
          "Positive",
          "Positive",
          "Negative",
          "Positive",
          "Negative",
          "Positive",
          "Positive",
          "Negative",
          "Negative",
          "Positive",
          "Positive",
          "Positive",
          "Negative",
          "Negative",
          "Positive",
          "Negative",
          "Positive",
          "Positive",
          "Positive",
          "Negative",
          "Negative",
          "Positive",
          "Negative",
          "Negative",
          "Positive",
          "Positive",
          "Positive",
          "Negative",
          "Positive",
          "Negative",
          "Positive",
          "Positive",
          "Positive",
          "Negative",
          "Positive",
          "Negative",
          "Positive",
          "Negative",
          "Negative",
          "Positive",
          "Positive",
          "Positive",
          "Positive",
          "Positive",
          "Negative",
          "Positive",
          "Negative",
          "Positive",
          "Positive",
          "Negative",
          "Negative",
          "Negative",
          "Positive",
          "Positive",
          "Negative",
          "Negative",
          "Positive",
          "Positive",
          "Positive",
          "Negative",
          "Negative",
          "Negative",
          "Negative",
          "Negative",
          "Negative",
          "Positive",
          "Positive",
          "Positive",
          "Negative",
          "Negative",
          "Negative",
          "Negative",
          "Positive",
          "Negative",
          "Negative",
          "Negative",
          "Negative",
          "Positive",
          "Negative",
          "Negative",
          "Negative",
          "Positive",
          "Positive",
          "Negative",
          "Negative",
          "Negative",
          "Positive",
          "Positive",
          "Negative",
          "Negative",
          "Positive",
          "Positive",
          "Positive",
          "Positive",
          "Negative",
          "Positive",
          "Negative",
          "Positive",
          "Positive",
          "Negative",
          "Negative",
          "Positive",
          "Positive",
          "Negative",
          "Negative",
          "Negative",
          "Positive",
          "Negative",
          "Negative",
          "Positive",
          "Negative",
          "Negative",
          "Positive",
          "Positive",
          "Positive",
          "Negative",
          "Positive",
          "Negative",
          "Negative",
          "Positive",
          "Positive",
          "Negative",
          "Positive",
          "Negative",
          "Negative",
          "Positive",
          "Positive",
          "Positive",
          "Positive",
          "Negative",
          "Negative",
          "Negative",
          "Negative",
          "Positive",
          "Positive",
          "Negative",
          "Positive",
          "Positive",
          "Negative",
          "Negative",
          "Negative",
          "Positive",
          "Positive",
          "Positive",
          "Negative",
          "Negative",
          "Negative",
          "Negative",
          "Positive",
          "Negative",
          "Positive",
          "Negative",
          "Negative",
          "Positive",
          "Negative",
          "Positive",
          "Negative",
          "Positive",
          "Negative",
          "Negative",
          "Negative",
          "Negative",
          "Positive",
          "Negative",
          "Negative",
          "Negative",
          "Positive",
          "Negative",
          "Positive",
          "Negative",
          "Negative",
          "Negative",
          "Positive",
          "Positive",
          "Negative",
          "Negative",
          "Negative",
          "Positive",
          "Negative",
          "Negative",
          "Positive",
          "Negative",
          "Negative",
          "Negative",
          "Negative",
          "Positive",
          "Positive",
          "Negative",
          "Positive",
          "Negative",
          "Negative",
          "Negative",
          "Negative",
          "Negative",
          "Negative",
          "Positive",
          "Negative",
          "Negative",
          "Positive",
          "Negative",
          "Negative",
          "Negative",
          "Negative",
          "Positive",
          "Positive",
          "Positive",
          "Positive",
          "Positive",
          "Positive",
          "Positive",
          "Negative",
          "Negative",
          "Positive",
          "Negative",
          "Negative",
          "Negative",
          "Negative",
          "Negative",
          "Negative",
          "Negative",
          "Positive",
          "Positive",
          "Negative",
          "Negative",
          "Positive",
          "Negative",
          "Negative",
          "Positive",
          "Positive",
          "Negative",
          "Negative",
          "Negative",
          "Negative",
          "Negative",
          "Positive",
          "Negative",
          "Negative",
          "Positive",
          "Positive",
          "Negative",
          "Negative",
          "Negative",
          "Positive",
          "Positive",
          "Negative",
          "Negative",
          "Positive",
          "Positive",
          "Negative",
          "Negative",
          "Positive",
          "Positive",
          "Negative",
          "Positive",
          "Negative",
          "Negative",
          "Negative",
          "Negative",
          "Negative",
          "Negative",
          "Positive",
          "Positive",
          "Positive",
          "Negative",
          "Negative",
          "Negative",
          "Positive",
          "Positive",
          "Negative",
          "Positive",
          "Positive",
          "Positive",
          "Negative",
          "Negative",
          "Negative",
          "Negative",
          "Positive",
          "Negative",
          "Positive",
          "Negative",
          "Negative",
          "Negative",
          "Positive",
          "Negative",
          "Positive",
          "Positive",
          "Negative",
          "Negative",
          "Negative",
          "Negative",
          "Negative",
          "Negative",
          "Negative",
          "Positive",
          "Positive",
          "Negative",
          "Negative",
          "Positive",
          "Negative",
          "Negative",
          "Positive",
          "Positive",
          "Positive",
          "Positive",
          "Positive",
          "Positive",
          "Negative",
          "Positive",
          "Negative",
          "Negative",
          "Positive",
          "Positive",
          "Positive",
          "Negative",
          "Negative",
          "Positive",
          "Negative",
          "Negative",
          "Positive",
          "Negative",
          "Negative",
          "Negative",
          "Positive",
          "Negative",
          "Positive",
          "Positive",
          "Positive",
          "Positive",
          "Negative",
          "Negative",
          "Negative",
          "Negative",
          "Negative",
          "Negative",
          "Negative",
          "Positive",
          "Negative",
          "Negative",
          "Negative",
          "Negative",
          "Positive",
          "Negative",
          "Positive",
          "Negative",
          "Negative",
          "Negative",
          "Positive",
          "Positive",
          "Positive",
          "Positive",
          "Positive",
          "Negative",
          "Negative",
          "Negative",
          "Positive",
          "Negative",
          "Negative",
          "Negative",
          "Positive",
          "Positive",
          "Positive",
          "Negative",
          "Positive",
          "Negative",
          "Positive",
          "Negative",
          "Positive",
          "Negative",
          "Positive",
          "Negative",
          "Positive",
          "Negative",
          "Positive",
          "Negative",
          "Negative",
          "Positive",
          "Positive",
          "Positive",
          "Positive",
          "Negative",
          "Negative",
          "Positive",
          "Negative",
          "Negative",
          "Positive",
          "Negative",
          "Negative",
          "Positive",
          "Negative",
          "Negative",
          "Negative",
          "Negative",
          "Positive",
          "Negative",
          "Negative",
          "Negative",
          "Positive",
          "Positive",
          "Positive",
          "Negative",
          "Negative",
          "Negative",
          "Negative",
          "Positive",
          "Positive",
          "Positive",
          "Negative",
          "Negative",
          "Negative",
          "Positive",
          "Positive",
          "Negative",
          "Negative",
          "Negative",
          "Negative",
          "Positive",
          "Negative",
          "Negative",
          "Positive",
          "Positive",
          "Positive",
          "Positive",
          "Positive",
          "Negative",
          "Negative",
          "Positive",
          "Positive",
          "Negative",
          "Negative",
          "Negative",
          "Positive",
          "Negative",
          "Positive",
          "Negative",
          "Negative",
          "Negative",
          "Positive",
          "Negative",
          "Negative",
          "Negative",
          "Negative",
          "Negative",
          "Positive",
          "Negative",
          "Positive",
          "Positive",
          "Positive",
          "Positive",
          "Negative",
          "Positive",
          "Negative",
          "Positive",
          "Positive",
          "Positive",
          "Positive",
          "Positive",
          "Negative",
          "Positive",
          "Negative",
          "Negative",
          "Positive",
          "Negative",
          "Negative",
          "Positive",
          "Negative",
          "Negative",
          "Positive",
          "Negative",
          "Positive",
          "Positive",
          "Positive",
          "Negative",
          "Positive",
          "Negative",
          "Negative",
          "Negative",
          "Positive",
          "Negative",
          "Negative",
          "Positive",
          "Positive",
          "Positive",
          "Negative",
          "Positive",
          "Positive",
          "Positive",
          "Negative",
          "Negative",
          "Negative",
          "Negative",
          "Negative",
          "Positive",
          "Positive",
          "Positive",
          "Negative",
          "Positive",
          "Positive",
          "Positive",
          "Negative",
          "Positive",
          "Positive",
          "Negative",
          "Positive",
          "Positive",
          "Positive",
          "Positive",
          "Positive",
          "Positive",
          "Positive",
          "Positive",
          "Negative",
          "Negative",
          "Positive",
          "Negative",
          "Negative",
          "Positive",
          "Negative",
          "Positive",
          "Positive",
          "Negative",
          "Positive",
          "Negative",
          "Positive",
          "Positive",
          "Positive",
          "Negative",
          "Negative",
          "Negative",
          "Negative",
          "Positive",
          "Negative",
          "Negative",
          "Positive",
          "Positive",
          "Negative",
          "Positive",
          "Negative",
          "Positive",
          "Negative",
          "Positive",
          "Positive",
          "Negative",
          "Positive",
          "Negative",
          "Positive",
          "Positive",
          "Positive",
          "Positive",
          "Positive",
          "Negative",
          "Negative",
          "Positive",
          "Positive",
          "Negative",
          "Positive",
          "Positive",
          "Positive",
          "Negative",
          "Negative",
          "Negative",
          "Positive",
          "Negative",
          "Positive",
          "Positive",
          "Negative",
          "Positive",
          "Negative",
          "Negative",
          "Positive",
          "Negative",
          "Positive",
          "Positive",
          "Positive",
          "Negative",
          "Negative",
          "Negative",
          "Negative",
          "Positive",
          "Positive",
          "Negative",
          "Positive",
          "Negative",
          "Negative",
          "Negative",
          "Positive",
          "Positive",
          "Negative",
          "Positive",
          "Negative",
          "Negative",
          "Positive",
          "Negative",
          "Negative",
          "Positive",
          "Positive",
          "Negative",
          "Negative",
          "Negative",
          "Negative",
          "Positive",
          "Positive",
          "Positive",
          "Positive",
          "Positive",
          "Positive",
          "Positive",
          "Negative",
          "Negative",
          "Negative",
          "Negative",
          "Negative",
          "Positive",
          "Negative",
          "Negative",
          "Negative",
          "Positive",
          "Negative",
          "Positive",
          "Negative",
          "Negative",
          "Positive",
          "Positive",
          "Negative",
          "Negative",
          "Positive",
          "Positive",
          "Positive",
          "Negative",
          "Negative",
          "Negative",
          "Positive",
          "Negative",
          "Negative",
          "Negative",
          "Negative",
          "Negative",
          "Positive",
          "Positive",
          "Negative",
          "Positive",
          "Positive",
          "Negative",
          "Negative",
          "Negative",
          "Negative",
          "Negative",
          "Positive",
          "Negative",
          "Negative",
          "Positive",
          "Positive",
          "Negative",
          "Positive",
          "Positive",
          "Negative",
          "Negative",
          "Negative",
          "Negative",
          "Positive",
          "Negative",
          "Negative",
          "Negative",
          "Positive",
          "Positive",
          "Negative",
          "Negative",
          "Negative",
          "Positive",
          "Negative",
          "Negative",
          "Negative",
          "Negative",
          "Positive",
          "Positive",
          "Negative",
          "Positive",
          "Negative",
          "Negative",
          "Negative",
          "Positive",
          "Negative",
          "Negative",
          "Positive",
          "Negative",
          "Negative",
          "Positive",
          "Positive",
          "Negative",
          "Negative",
          "Positive",
          "Positive",
          "Negative",
          "Negative",
          "Negative",
          "Positive",
          "Negative",
          "Negative",
          "Negative",
          "Negative",
          "Positive",
          "Positive",
          "Positive",
          "Negative",
          "Negative",
          "Negative",
          "Negative",
          "Positive",
          "Positive",
          "Positive",
          "Negative",
          "Positive",
          "Negative",
          "Negative",
          "Positive",
          "Negative",
          "Positive",
          "Negative",
          "Positive",
          "Positive",
          "Positive",
          "Negative",
          "Positive",
          "Negative",
          "Positive",
          "Negative",
          "Positive",
          "Positive",
          "Negative",
          "Negative",
          "Positive",
          "Negative",
          "Negative",
          "Negative",
          "Positive",
          "Positive",
          "Negative",
          "Positive",
          "Negative",
          "Negative",
          "Negative",
          "Negative",
          "Negative",
          "Negative",
          "Negative",
          "Negative",
          "Negative",
          "Negative",
          "Positive",
          "Negative",
          "Positive",
          "Negative",
          "Positive",
          "Positive",
          "Negative",
          "Positive",
          "Positive",
          "Negative",
          "Positive",
          "Positive",
          "Negative",
          "Positive",
          "Positive",
          "Negative",
          "Negative",
          "Positive",
          "Negative",
          "Negative",
          "Positive",
          "Negative",
          "Positive",
          "Positive",
          "Negative",
          "Negative",
          "Positive",
          "Positive",
          "Negative",
          "Negative",
          "Negative",
          "Positive",
          "Negative",
          "Positive",
          "Negative",
          "Negative",
          "Negative",
          "Positive",
          "Positive",
          "Negative",
          "Negative",
          "Positive",
          "Positive",
          "Positive",
          "Positive",
          "Positive",
          "Positive",
          "Negative",
          "Positive",
          "Negative",
          "Negative",
          "Negative",
          "Negative",
          "Negative",
          "Positive",
          "Positive",
          "Negative",
          "Positive",
          "Positive",
          "Negative",
          "Positive",
          "Positive",
          "Positive",
          "Positive",
          "Negative",
          "Positive",
          "Negative",
          "Negative",
          "Positive",
          "Negative",
          "Negative",
          "Positive",
          "Positive",
          "Negative",
          "Negative",
          "Positive",
          "Positive",
          "Negative",
          "Negative",
          "Positive",
          "Positive",
          "Positive",
          "Negative",
          "Negative",
          "Negative",
          "Negative",
          "Negative",
          "Negative",
          "Negative",
          "Positive",
          "Positive",
          "Positive",
          "Positive",
          "Negative",
          "Positive",
          "Negative",
          "Negative",
          "Positive",
          "Negative",
          "Negative",
          "Positive",
          "Negative",
          "Positive",
          "Positive",
          "Positive",
          "Negative",
          "Positive",
          "Positive",
          "Positive",
          "Negative",
          "Positive",
          "Positive",
          "Positive",
          "Positive",
          "Positive",
          "Positive",
          "Positive",
          "Positive",
          "Positive",
          "Negative",
          "Positive",
          "Positive",
          "Negative",
          "Positive",
          "Negative",
          "Positive",
          "Negative",
          "Positive",
          "Negative",
          "Negative",
          "Positive",
          "Negative",
          "Negative",
          "Negative",
          "Negative",
          "Negative",
          "Negative",
          "Positive",
          "Positive",
          "Negative",
          "Positive",
          "Negative",
          "Positive",
          "Negative",
          "Negative",
          "Positive",
          "Negative",
          "Positive",
          "Negative",
          "Negative",
          "Negative",
          "Positive",
          "Negative",
          "Positive",
          "Negative",
          "Negative",
          "Negative",
          "Positive",
          "Negative",
          "Negative",
          "Positive",
          "Negative",
          "Negative",
          "Positive",
          "Positive",
          "Positive",
          "Negative",
          "Positive",
          "Positive",
          "Positive",
          "Negative",
          "Positive",
          "Positive",
          "Negative",
          "Positive",
          "Positive",
          "Positive",
          "Positive",
          "Negative",
          "Positive",
          "Positive",
          "Negative",
          "Negative",
          "Negative",
          "Negative",
          "Positive",
          "Positive",
          "Negative",
          "Positive",
          "Positive",
          "Positive",
          "Negative",
          "Negative",
          "Negative",
          "Positive",
          "Positive",
          "Negative",
          "Positive",
          "Negative",
          "Positive",
          "Negative",
          "Positive",
          "Positive",
          "Positive",
          "Positive",
          "Negative",
          "Negative",
          "Negative",
          "Negative",
          "Negative",
          "Positive",
          "Negative",
          "Negative",
          "Positive",
          "Positive",
          "Negative",
          "Negative",
          "Negative",
          "Negative",
          "Negative",
          "Positive",
          "Positive",
          "Positive",
          "Positive",
          "Negative",
          "Negative",
          "Negative",
          "Negative",
          "Negative",
          "Positive",
          "Positive",
          "Positive",
          "Positive",
          "Positive",
          "Negative",
          "Positive",
          "Negative",
          "Negative",
          "Positive",
          "Negative",
          "Negative",
          "Negative",
          "Negative",
          "Negative",
          "Negative",
          "Negative",
          "Negative",
          "Negative",
          "Positive",
          "Negative",
          "Negative",
          "Negative",
          "Positive",
          "Negative",
          "Negative",
          "Positive",
          "Negative",
          "Positive",
          "Negative",
          "Positive",
          "Negative",
          "Negative",
          "Positive",
          "Positive",
          "Positive",
          "Positive",
          "Negative",
          "Negative",
          "Positive",
          "Positive",
          "Negative",
          "Positive",
          "Positive",
          "Positive",
          "Positive",
          "Negative",
          "Positive",
          "Positive",
          "Positive",
          "Negative",
          "Negative",
          "Negative",
          "Negative",
          "Negative",
          "Negative",
          "Negative",
          "Negative",
          "Negative",
          "Positive",
          "Negative",
          "Negative",
          "Positive",
          "Positive",
          "Negative",
          "Negative",
          "Negative",
          "Positive",
          "Negative",
          "Positive",
          "Positive",
          "Positive",
          "Positive",
          "Positive",
          "Negative",
          "Positive",
          "Negative",
          "Positive",
          "Negative",
          "Positive",
          "Negative",
          "Positive",
          "Positive",
          "Positive",
          "Negative",
          "Negative",
          "Positive",
          "Positive",
          "Negative",
          "Positive",
          "Negative",
          "Negative",
          "Negative",
          "Positive",
          "Positive",
          "Negative",
          "Positive",
          "Positive",
          "Negative",
          "Positive",
          "Negative",
          "Negative",
          "Positive",
          "Positive",
          "Positive",
          "Positive",
          "Positive",
          "Negative",
          "Negative",
          "Positive",
          "Positive",
          "Positive",
          "Negative",
          "Negative",
          "Positive",
          "Negative",
          "Negative",
          "Negative",
          "Positive",
          "Negative",
          "Negative",
          "Negative",
          "Positive",
          "Negative",
          "Negative",
          "Positive",
          "Negative",
          "Negative",
          "Negative",
          "Positive",
          "Negative",
          "Positive",
          "Negative",
          "Negative",
          "Negative",
          "Positive",
          "Negative",
          "Negative",
          "Positive",
          "Positive",
          "Negative",
          "Negative",
          "Negative",
          "Positive",
          "Negative",
          "Positive",
          "Positive",
          "Positive",
          "Positive",
          "Positive",
          "Positive",
          "Negative",
          "Negative",
          "Negative",
          "Positive",
          "Negative",
          "Positive",
          "Negative",
          "Negative",
          "Positive",
          "Negative",
          "Negative",
          "Negative",
          "Positive",
          "Positive",
          "Negative",
          "Negative",
          "Negative",
          "Positive",
          "Negative",
          "Negative",
          "Positive",
          "Negative",
          "Positive",
          "Positive",
          "Negative",
          "Positive",
          "Negative",
          "Negative",
          "Positive",
          "Positive",
          "Negative",
          "Positive",
          "Negative",
          "Positive",
          "Positive",
          "Positive",
          "Positive",
          "Negative",
          "Negative",
          "Negative",
          "Positive",
          "Negative",
          "Positive",
          "Negative",
          "Positive",
          "Positive",
          "Positive",
          "Positive",
          "Negative",
          "Negative",
          "Negative",
          "Positive",
          "Positive",
          "Positive",
          "Positive",
          "Negative",
          "Positive",
          "Positive",
          "Positive",
          "Positive",
          "Positive",
          "Negative",
          "Positive",
          "Negative",
          "Positive",
          "Negative",
          "Negative",
          "Negative",
          "Negative",
          "Positive",
          "Positive",
          "Positive",
          "Negative",
          "Negative",
          "Positive",
          "Negative",
          "Positive",
          "Negative",
          "Negative",
          "Positive",
          "Positive",
          "Negative",
          "Positive",
          "Positive",
          "Positive",
          "Negative",
          "Negative",
          "Positive",
          "Negative",
          "Positive",
          "Negative",
          "Positive",
          "Negative",
          "Negative",
          "Negative",
          "Negative",
          "Positive",
          "Positive",
          "Positive",
          "Positive",
          "Negative",
          "Negative",
          "Positive",
          "Positive",
          "Negative",
          "Negative",
          "Positive",
          "Negative",
          "Negative",
          "Positive",
          "Negative",
          "Negative",
          "Negative",
          "Positive",
          "Positive",
          "Negative",
          "Negative",
          "Positive",
          "Positive",
          "Positive",
          "Positive",
          "Negative",
          "Negative",
          "Negative",
          "Positive",
          "Negative",
          "Positive",
          "Negative",
          "Negative",
          "Positive",
          "Negative",
          "Negative",
          "Positive",
          "Positive",
          "Positive",
          "Positive",
          "Positive",
          "Positive",
          "Negative",
          "Positive",
          "Negative",
          "Negative",
          "Negative",
          "Positive",
          "Positive",
          "Negative",
          "Positive",
          "Negative",
          "Positive",
          "Negative",
          "Positive",
          "Positive",
          "Negative",
          "Positive",
          "Positive",
          "Positive",
          "Negative",
          "Negative",
          "Negative",
          "Negative",
          "Negative",
          "Positive",
          "Positive",
          "Positive",
          "Positive",
          "Positive",
          "Negative",
          "Negative",
          "Negative",
          "Negative",
          "Negative",
          "Positive",
          "Negative",
          "Negative",
          "Negative",
          "Positive",
          "Negative",
          "Positive",
          "Negative",
          "Negative",
          "Negative",
          "Positive",
          "Positive",
          "Positive",
          "Positive",
          "Negative",
          "Positive",
          "Positive",
          "Negative",
          "Negative",
          "Negative",
          "Positive",
          "Negative",
          "Negative",
          "Positive",
          "Positive",
          "Negative",
          "Positive",
          "Positive",
          "Positive",
          "Positive",
          "Negative",
          "Positive",
          "Positive",
          "Positive",
          "Negative",
          "Negative",
          "Negative",
          "Negative",
          "Negative",
          "Negative",
          "Positive",
          "Negative",
          "Positive",
          "Negative",
          "Positive",
          "Positive",
          "Negative",
          "Negative",
          "Positive",
          "Negative",
          "Positive",
          "Negative",
          "Negative",
          "Positive",
          "Negative",
          "Negative",
          "Negative",
          "Positive",
          "Negative",
          "Negative",
          "Negative",
          "Positive",
          "Negative",
          "Negative",
          "Negative",
          "Positive",
          "Positive",
          "Negative",
          "Positive",
          "Negative",
          "Positive",
          "Negative",
          "Negative",
          "Positive",
          "Positive",
          "Negative",
          "Negative",
          "Positive",
          "Negative",
          "Positive",
          "Positive",
          "Positive",
          "Negative",
          "Negative",
          "Positive",
          "Negative",
          "Positive",
          "Positive",
          "Negative",
          "Negative",
          "Negative",
          "Positive",
          "Positive",
          "Negative",
          "Negative",
          "Negative",
          "Negative",
          "Positive",
          "Positive",
          "Positive",
          "Positive",
          "Positive",
          "Positive",
          "Positive",
          "Negative",
          "Negative",
          "Positive",
          "Negative",
          "Negative",
          "Negative",
          "Positive",
          "Positive",
          "Positive",
          "Negative",
          "Negative",
          "Negative",
          "Negative",
          "Positive",
          "Positive",
          "Negative",
          "Negative",
          "Positive",
          "Positive",
          "Positive",
          "Negative",
          "Positive",
          "Positive",
          "Negative",
          "Positive",
          "Positive",
          "Positive",
          "Negative",
          "Negative",
          "Positive",
          "Negative",
          "Negative",
          "Negative",
          "Positive",
          "Positive",
          "Negative",
          "Positive",
          "Positive",
          "Positive",
          "Negative",
          "Negative",
          "Negative",
          "Positive",
          "Positive",
          "Positive",
          "Positive",
          "Negative",
          "Positive",
          "Positive",
          "Negative",
          "Negative",
          "Positive",
          "Positive",
          "Positive",
          "Positive",
          "Positive",
          "Negative",
          "Positive",
          "Positive",
          "Negative",
          "Positive",
          "Negative",
          "Negative",
          "Positive",
          "Negative",
          "Negative",
          "Positive",
          "Negative",
          "Positive",
          "Positive",
          "Negative",
          "Negative",
          "Negative",
          "Positive",
          "Negative",
          "Positive",
          "Positive",
          "Negative",
          "Negative",
          "Negative",
          "Negative",
          "Negative",
          "Positive",
          "Negative",
          "Positive",
          "Negative",
          "Positive",
          "Negative",
          "Negative",
          "Negative",
          "Negative",
          "Negative",
          "Positive",
          "Negative",
          "Negative",
          "Negative",
          "Positive",
          "Negative",
          "Positive",
          "Negative",
          "Positive",
          "Positive",
          "Negative",
          "Negative",
          "Positive",
          "Positive",
          "Negative",
          "Positive",
          "Positive",
          "Positive",
          "Positive",
          "Negative",
          "Positive",
          "Negative",
          "Positive",
          "Negative",
          "Positive",
          "Negative",
          "Positive",
          "Negative",
          "Positive",
          "Positive",
          "Positive",
          "Positive",
          "Positive",
          "Positive",
          "Positive",
          "Negative",
          "Negative",
          "Negative",
          "Negative",
          "Negative",
          "Negative",
          "Negative",
          "Negative",
          "Negative",
          "Negative",
          "Negative",
          "Positive",
          "Negative",
          "Negative",
          "Positive",
          "Negative",
          "Positive",
          "Negative",
          "Positive",
          "Negative",
          "Negative",
          "Negative",
          "Positive",
          "Negative",
          "Positive",
          "Positive",
          "Negative",
          "Negative",
          "Negative",
          "Negative",
          "Positive",
          "Negative",
          "Positive",
          "Positive",
          "Positive",
          "Negative",
          "Positive",
          "Negative",
          "Positive",
          "Positive",
          "Negative",
          "Negative",
          "Positive",
          "Negative",
          "Negative",
          "Positive",
          "Positive",
          "Negative",
          "Positive",
          "Negative",
          "Positive",
          "Positive",
          "Positive",
          "Negative",
          "Negative",
          "Positive",
          "Positive",
          "Negative",
          "Positive",
          "Negative",
          "Negative",
          "Positive",
          "Negative",
          "Positive",
          "Positive",
          "Positive",
          "Positive",
          "Positive",
          "Negative",
          "Negative",
          "Negative",
          "Negative",
          "Positive",
          "Positive",
          "Negative",
          "Negative",
          "Negative",
          "Negative",
          "Positive",
          "Positive",
          "Negative",
          "Positive",
          "Positive",
          "Positive",
          "Negative",
          "Negative",
          "Negative",
          "Positive",
          "Positive",
          "Positive",
          "Positive",
          "Negative",
          "Positive",
          "Negative",
          "Positive",
          "Negative",
          "Positive",
          "Positive",
          "Positive",
          "Negative",
          "Positive",
          "Positive",
          "Negative",
          "Negative",
          "Negative",
          "Positive",
          "Negative",
          "Positive",
          "Positive",
          "Positive",
          "Positive",
          "Positive",
          "Negative",
          "Positive",
          "Positive",
          "Positive",
          "Positive",
          "Negative",
          "Negative",
          "Negative",
          "Negative",
          "Negative",
          "Positive",
          "Negative",
          "Negative",
          "Negative",
          "Positive",
          "Negative",
          "Negative",
          "Positive",
          "Negative",
          "Negative",
          "Negative",
          "Positive",
          "Positive",
          "Negative",
          "Negative",
          "Negative",
          "Positive",
          "Negative",
          "Positive",
          "Negative",
          "Negative",
          "Positive",
          "Positive",
          "Positive",
          "Negative",
          "Positive",
          "Negative",
          "Positive",
          "Positive",
          "Positive",
          "Positive",
          "Negative",
          "Negative",
          "Positive",
          "Positive",
          "Positive",
          "Negative",
          "Positive",
          "Positive",
          "Negative",
          "Positive",
          "Negative",
          "Negative",
          "Negative",
          "Negative",
          "Positive",
          "Positive",
          "Positive",
          "Positive",
          "Positive",
          "Positive",
          "Negative",
          "Positive",
          "Positive",
          "Negative",
          "Positive",
          "Positive",
          "Negative",
          "Positive",
          "Positive",
          "Negative",
          "Negative",
          "Positive",
          "Positive",
          "Positive",
          "Positive",
          "Positive",
          "Positive",
          "Negative",
          "Negative",
          "Positive",
          "Negative",
          "Negative",
          "Negative",
          "Positive",
          "Positive",
          "Negative",
          "Negative",
          "Negative",
          "Negative",
          "Positive",
          "Negative",
          "Positive",
          "Positive",
          "Positive",
          "Positive",
          "Positive",
          "Negative",
          "Negative",
          "Negative",
          "Negative",
          "Positive",
          "Positive",
          "Positive",
          "Positive",
          "Negative",
          "Negative",
          "Negative",
          "Positive",
          "Negative",
          "Negative",
          "Negative",
          "Positive",
          "Positive",
          "Negative",
          "Positive",
          "Positive",
          "Negative",
          "Negative",
          "Positive",
          "Negative",
          "Positive",
          "Positive",
          "Positive",
          "Negative",
          "Positive",
          "Negative",
          "Negative",
          "Negative",
          "Positive",
          "Negative",
          "Negative",
          "Negative",
          "Positive",
          "Positive",
          "Negative",
          "Negative",
          "Negative",
          "Negative",
          "Negative",
          "Negative",
          "Positive",
          "Negative",
          "Negative",
          "Negative",
          "Positive",
          "Positive",
          "Negative",
          "Positive",
          "Negative",
          "Negative",
          "Positive",
          "Positive",
          "Negative",
          "Positive",
          "Negative",
          "Positive",
          "Positive",
          "Negative",
          "Positive",
          "Positive",
          "Negative",
          "Negative",
          "Positive",
          "Positive",
          "Positive",
          "Negative",
          "Positive",
          "Negative",
          "Negative",
          "Negative",
          "Positive",
          "Positive",
          "Negative",
          "Negative",
          "Positive",
          "Negative",
          "Positive",
          "Positive",
          "Positive",
          "Negative",
          "Positive",
          "Positive",
          "Negative",
          "Positive",
          "Negative",
          "Positive",
          "Positive",
          "Positive",
          "Negative",
          "Positive",
          "Positive",
          "Positive",
          "Positive",
          "Positive",
          "Negative",
          "Negative",
          "Negative",
          "Negative",
          "Positive",
          "Positive",
          "Negative",
          "Positive",
          "Negative",
          "Negative",
          "Negative",
          "Positive",
          "Positive",
          "Negative",
          "Negative",
          "Positive",
          "Positive",
          "Positive",
          "Positive",
          "Positive",
          "Negative",
          "Positive",
          "Negative",
          "Negative",
          "Negative",
          "Positive",
          "Negative",
          "Negative",
          "Negative",
          "Positive",
          "Negative",
          "Negative",
          "Negative",
          "Negative",
          "Negative",
          "Positive",
          "Negative",
          "Positive",
          "Negative",
          "Positive",
          "Negative",
          "Negative",
          "Positive",
          "Negative",
          "Positive",
          "Negative",
          "Positive",
          "Negative",
          "Positive",
          "Negative",
          "Negative",
          "Positive",
          "Positive",
          "Positive",
          "Negative",
          "Positive",
          "Positive",
          "Negative",
          "Positive",
          "Negative"
         ]
        }
       ],
       "layout": {
        "barmode": "overlay",
        "legend": {
         "bgcolor": "#F5F6F9",
         "font": {
          "color": "#4D5663"
         }
        },
        "paper_bgcolor": "#F5F6F9",
        "plot_bgcolor": "#F5F6F9",
        "template": {
         "data": {
          "bar": [
           {
            "error_x": {
             "color": "#2a3f5f"
            },
            "error_y": {
             "color": "#2a3f5f"
            },
            "marker": {
             "line": {
              "color": "#E5ECF6",
              "width": 0.5
             }
            },
            "type": "bar"
           }
          ],
          "barpolar": [
           {
            "marker": {
             "line": {
              "color": "#E5ECF6",
              "width": 0.5
             }
            },
            "type": "barpolar"
           }
          ],
          "carpet": [
           {
            "aaxis": {
             "endlinecolor": "#2a3f5f",
             "gridcolor": "white",
             "linecolor": "white",
             "minorgridcolor": "white",
             "startlinecolor": "#2a3f5f"
            },
            "baxis": {
             "endlinecolor": "#2a3f5f",
             "gridcolor": "white",
             "linecolor": "white",
             "minorgridcolor": "white",
             "startlinecolor": "#2a3f5f"
            },
            "type": "carpet"
           }
          ],
          "choropleth": [
           {
            "colorbar": {
             "outlinewidth": 0,
             "ticks": ""
            },
            "type": "choropleth"
           }
          ],
          "contour": [
           {
            "colorbar": {
             "outlinewidth": 0,
             "ticks": ""
            },
            "colorscale": [
             [
              0,
              "#0d0887"
             ],
             [
              0.1111111111111111,
              "#46039f"
             ],
             [
              0.2222222222222222,
              "#7201a8"
             ],
             [
              0.3333333333333333,
              "#9c179e"
             ],
             [
              0.4444444444444444,
              "#bd3786"
             ],
             [
              0.5555555555555556,
              "#d8576b"
             ],
             [
              0.6666666666666666,
              "#ed7953"
             ],
             [
              0.7777777777777778,
              "#fb9f3a"
             ],
             [
              0.8888888888888888,
              "#fdca26"
             ],
             [
              1,
              "#f0f921"
             ]
            ],
            "type": "contour"
           }
          ],
          "contourcarpet": [
           {
            "colorbar": {
             "outlinewidth": 0,
             "ticks": ""
            },
            "type": "contourcarpet"
           }
          ],
          "heatmap": [
           {
            "colorbar": {
             "outlinewidth": 0,
             "ticks": ""
            },
            "colorscale": [
             [
              0,
              "#0d0887"
             ],
             [
              0.1111111111111111,
              "#46039f"
             ],
             [
              0.2222222222222222,
              "#7201a8"
             ],
             [
              0.3333333333333333,
              "#9c179e"
             ],
             [
              0.4444444444444444,
              "#bd3786"
             ],
             [
              0.5555555555555556,
              "#d8576b"
             ],
             [
              0.6666666666666666,
              "#ed7953"
             ],
             [
              0.7777777777777778,
              "#fb9f3a"
             ],
             [
              0.8888888888888888,
              "#fdca26"
             ],
             [
              1,
              "#f0f921"
             ]
            ],
            "type": "heatmap"
           }
          ],
          "heatmapgl": [
           {
            "colorbar": {
             "outlinewidth": 0,
             "ticks": ""
            },
            "colorscale": [
             [
              0,
              "#0d0887"
             ],
             [
              0.1111111111111111,
              "#46039f"
             ],
             [
              0.2222222222222222,
              "#7201a8"
             ],
             [
              0.3333333333333333,
              "#9c179e"
             ],
             [
              0.4444444444444444,
              "#bd3786"
             ],
             [
              0.5555555555555556,
              "#d8576b"
             ],
             [
              0.6666666666666666,
              "#ed7953"
             ],
             [
              0.7777777777777778,
              "#fb9f3a"
             ],
             [
              0.8888888888888888,
              "#fdca26"
             ],
             [
              1,
              "#f0f921"
             ]
            ],
            "type": "heatmapgl"
           }
          ],
          "histogram": [
           {
            "marker": {
             "colorbar": {
              "outlinewidth": 0,
              "ticks": ""
             }
            },
            "type": "histogram"
           }
          ],
          "histogram2d": [
           {
            "colorbar": {
             "outlinewidth": 0,
             "ticks": ""
            },
            "colorscale": [
             [
              0,
              "#0d0887"
             ],
             [
              0.1111111111111111,
              "#46039f"
             ],
             [
              0.2222222222222222,
              "#7201a8"
             ],
             [
              0.3333333333333333,
              "#9c179e"
             ],
             [
              0.4444444444444444,
              "#bd3786"
             ],
             [
              0.5555555555555556,
              "#d8576b"
             ],
             [
              0.6666666666666666,
              "#ed7953"
             ],
             [
              0.7777777777777778,
              "#fb9f3a"
             ],
             [
              0.8888888888888888,
              "#fdca26"
             ],
             [
              1,
              "#f0f921"
             ]
            ],
            "type": "histogram2d"
           }
          ],
          "histogram2dcontour": [
           {
            "colorbar": {
             "outlinewidth": 0,
             "ticks": ""
            },
            "colorscale": [
             [
              0,
              "#0d0887"
             ],
             [
              0.1111111111111111,
              "#46039f"
             ],
             [
              0.2222222222222222,
              "#7201a8"
             ],
             [
              0.3333333333333333,
              "#9c179e"
             ],
             [
              0.4444444444444444,
              "#bd3786"
             ],
             [
              0.5555555555555556,
              "#d8576b"
             ],
             [
              0.6666666666666666,
              "#ed7953"
             ],
             [
              0.7777777777777778,
              "#fb9f3a"
             ],
             [
              0.8888888888888888,
              "#fdca26"
             ],
             [
              1,
              "#f0f921"
             ]
            ],
            "type": "histogram2dcontour"
           }
          ],
          "mesh3d": [
           {
            "colorbar": {
             "outlinewidth": 0,
             "ticks": ""
            },
            "type": "mesh3d"
           }
          ],
          "parcoords": [
           {
            "line": {
             "colorbar": {
              "outlinewidth": 0,
              "ticks": ""
             }
            },
            "type": "parcoords"
           }
          ],
          "pie": [
           {
            "automargin": true,
            "type": "pie"
           }
          ],
          "scatter": [
           {
            "marker": {
             "colorbar": {
              "outlinewidth": 0,
              "ticks": ""
             }
            },
            "type": "scatter"
           }
          ],
          "scatter3d": [
           {
            "line": {
             "colorbar": {
              "outlinewidth": 0,
              "ticks": ""
             }
            },
            "marker": {
             "colorbar": {
              "outlinewidth": 0,
              "ticks": ""
             }
            },
            "type": "scatter3d"
           }
          ],
          "scattercarpet": [
           {
            "marker": {
             "colorbar": {
              "outlinewidth": 0,
              "ticks": ""
             }
            },
            "type": "scattercarpet"
           }
          ],
          "scattergeo": [
           {
            "marker": {
             "colorbar": {
              "outlinewidth": 0,
              "ticks": ""
             }
            },
            "type": "scattergeo"
           }
          ],
          "scattergl": [
           {
            "marker": {
             "colorbar": {
              "outlinewidth": 0,
              "ticks": ""
             }
            },
            "type": "scattergl"
           }
          ],
          "scattermapbox": [
           {
            "marker": {
             "colorbar": {
              "outlinewidth": 0,
              "ticks": ""
             }
            },
            "type": "scattermapbox"
           }
          ],
          "scatterpolar": [
           {
            "marker": {
             "colorbar": {
              "outlinewidth": 0,
              "ticks": ""
             }
            },
            "type": "scatterpolar"
           }
          ],
          "scatterpolargl": [
           {
            "marker": {
             "colorbar": {
              "outlinewidth": 0,
              "ticks": ""
             }
            },
            "type": "scatterpolargl"
           }
          ],
          "scatterternary": [
           {
            "marker": {
             "colorbar": {
              "outlinewidth": 0,
              "ticks": ""
             }
            },
            "type": "scatterternary"
           }
          ],
          "surface": [
           {
            "colorbar": {
             "outlinewidth": 0,
             "ticks": ""
            },
            "colorscale": [
             [
              0,
              "#0d0887"
             ],
             [
              0.1111111111111111,
              "#46039f"
             ],
             [
              0.2222222222222222,
              "#7201a8"
             ],
             [
              0.3333333333333333,
              "#9c179e"
             ],
             [
              0.4444444444444444,
              "#bd3786"
             ],
             [
              0.5555555555555556,
              "#d8576b"
             ],
             [
              0.6666666666666666,
              "#ed7953"
             ],
             [
              0.7777777777777778,
              "#fb9f3a"
             ],
             [
              0.8888888888888888,
              "#fdca26"
             ],
             [
              1,
              "#f0f921"
             ]
            ],
            "type": "surface"
           }
          ],
          "table": [
           {
            "cells": {
             "fill": {
              "color": "#EBF0F8"
             },
             "line": {
              "color": "white"
             }
            },
            "header": {
             "fill": {
              "color": "#C8D4E3"
             },
             "line": {
              "color": "white"
             }
            },
            "type": "table"
           }
          ]
         },
         "layout": {
          "annotationdefaults": {
           "arrowcolor": "#2a3f5f",
           "arrowhead": 0,
           "arrowwidth": 1
          },
          "autotypenumbers": "strict",
          "coloraxis": {
           "colorbar": {
            "outlinewidth": 0,
            "ticks": ""
           }
          },
          "colorscale": {
           "diverging": [
            [
             0,
             "#8e0152"
            ],
            [
             0.1,
             "#c51b7d"
            ],
            [
             0.2,
             "#de77ae"
            ],
            [
             0.3,
             "#f1b6da"
            ],
            [
             0.4,
             "#fde0ef"
            ],
            [
             0.5,
             "#f7f7f7"
            ],
            [
             0.6,
             "#e6f5d0"
            ],
            [
             0.7,
             "#b8e186"
            ],
            [
             0.8,
             "#7fbc41"
            ],
            [
             0.9,
             "#4d9221"
            ],
            [
             1,
             "#276419"
            ]
           ],
           "sequential": [
            [
             0,
             "#0d0887"
            ],
            [
             0.1111111111111111,
             "#46039f"
            ],
            [
             0.2222222222222222,
             "#7201a8"
            ],
            [
             0.3333333333333333,
             "#9c179e"
            ],
            [
             0.4444444444444444,
             "#bd3786"
            ],
            [
             0.5555555555555556,
             "#d8576b"
            ],
            [
             0.6666666666666666,
             "#ed7953"
            ],
            [
             0.7777777777777778,
             "#fb9f3a"
            ],
            [
             0.8888888888888888,
             "#fdca26"
            ],
            [
             1,
             "#f0f921"
            ]
           ],
           "sequentialminus": [
            [
             0,
             "#0d0887"
            ],
            [
             0.1111111111111111,
             "#46039f"
            ],
            [
             0.2222222222222222,
             "#7201a8"
            ],
            [
             0.3333333333333333,
             "#9c179e"
            ],
            [
             0.4444444444444444,
             "#bd3786"
            ],
            [
             0.5555555555555556,
             "#d8576b"
            ],
            [
             0.6666666666666666,
             "#ed7953"
            ],
            [
             0.7777777777777778,
             "#fb9f3a"
            ],
            [
             0.8888888888888888,
             "#fdca26"
            ],
            [
             1,
             "#f0f921"
            ]
           ]
          },
          "colorway": [
           "#636efa",
           "#EF553B",
           "#00cc96",
           "#ab63fa",
           "#FFA15A",
           "#19d3f3",
           "#FF6692",
           "#B6E880",
           "#FF97FF",
           "#FECB52"
          ],
          "font": {
           "color": "#2a3f5f"
          },
          "geo": {
           "bgcolor": "white",
           "lakecolor": "white",
           "landcolor": "#E5ECF6",
           "showlakes": true,
           "showland": true,
           "subunitcolor": "white"
          },
          "hoverlabel": {
           "align": "left"
          },
          "hovermode": "closest",
          "mapbox": {
           "style": "light"
          },
          "paper_bgcolor": "white",
          "plot_bgcolor": "#E5ECF6",
          "polar": {
           "angularaxis": {
            "gridcolor": "white",
            "linecolor": "white",
            "ticks": ""
           },
           "bgcolor": "#E5ECF6",
           "radialaxis": {
            "gridcolor": "white",
            "linecolor": "white",
            "ticks": ""
           }
          },
          "scene": {
           "xaxis": {
            "backgroundcolor": "#E5ECF6",
            "gridcolor": "white",
            "gridwidth": 2,
            "linecolor": "white",
            "showbackground": true,
            "ticks": "",
            "zerolinecolor": "white"
           },
           "yaxis": {
            "backgroundcolor": "#E5ECF6",
            "gridcolor": "white",
            "gridwidth": 2,
            "linecolor": "white",
            "showbackground": true,
            "ticks": "",
            "zerolinecolor": "white"
           },
           "zaxis": {
            "backgroundcolor": "#E5ECF6",
            "gridcolor": "white",
            "gridwidth": 2,
            "linecolor": "white",
            "showbackground": true,
            "ticks": "",
            "zerolinecolor": "white"
           }
          },
          "shapedefaults": {
           "line": {
            "color": "#2a3f5f"
           }
          },
          "ternary": {
           "aaxis": {
            "gridcolor": "white",
            "linecolor": "white",
            "ticks": ""
           },
           "baxis": {
            "gridcolor": "white",
            "linecolor": "white",
            "ticks": ""
           },
           "bgcolor": "#E5ECF6",
           "caxis": {
            "gridcolor": "white",
            "linecolor": "white",
            "ticks": ""
           }
          },
          "title": {
           "x": 0.05
          },
          "xaxis": {
           "automargin": true,
           "gridcolor": "white",
           "linecolor": "white",
           "ticks": "",
           "title": {
            "standoff": 15
           },
           "zerolinecolor": "white",
           "zerolinewidth": 2
          },
          "yaxis": {
           "automargin": true,
           "gridcolor": "white",
           "linecolor": "white",
           "ticks": "",
           "title": {
            "standoff": 15
           },
           "zerolinecolor": "white",
           "zerolinewidth": 2
          }
         }
        },
        "title": {
         "font": {
          "color": "#4D5663"
         },
         "text": "Distribution of Tweets based on Sentiment"
        },
        "xaxis": {
         "gridcolor": "#E1E5ED",
         "linecolor": "black",
         "showgrid": true,
         "tickfont": {
          "color": "#4D5663"
         },
         "title": {
          "font": {
           "color": "#4D5663"
          },
          "text": "Sentiment"
         },
         "zerolinecolor": "#E1E5ED"
        },
        "yaxis": {
         "gridcolor": "#E1E5ED",
         "linecolor": "black",
         "showgrid": true,
         "tickfont": {
          "color": "#4D5663"
         },
         "title": {
          "font": {
           "color": "#4D5663"
          },
          "text": "Count"
         },
         "zerolinecolor": "#E1E5ED"
        }
       }
      },
      "text/html": [
       "<div>                            <div id=\"da47bc87-5765-46fb-b0c1-7e4c9343c358\" class=\"plotly-graph-div\" style=\"height:525px; width:100%;\"></div>            <script type=\"text/javascript\">                require([\"plotly\"], function(Plotly) {                    window.PLOTLYENV=window.PLOTLYENV || {};\n",
       "                    window.PLOTLYENV.BASE_URL='https://plot.ly';                                    if (document.getElementById(\"da47bc87-5765-46fb-b0c1-7e4c9343c358\")) {                    Plotly.newPlot(                        \"da47bc87-5765-46fb-b0c1-7e4c9343c358\",                        [{\"histfunc\": \"count\", \"histnorm\": \"\", \"marker\": {\"color\": \"rgba(173, 216, 230, 1.0)\", \"line\": {\"color\": \"#000000\", \"width\": 1.3}}, \"name\": \"Sentiment\", \"nbinsx\": 40, \"opacity\": 0.8, \"orientation\": \"v\", \"type\": \"histogram\", \"x\": [\"Positive\", \"Negative\", \"Positive\", \"Positive\", \"Positive\", \"Positive\", \"Negative\", \"Positive\", \"Negative\", \"Negative\", \"Negative\", \"Positive\", \"Negative\", \"Negative\", \"Negative\", \"Positive\", \"Negative\", \"Positive\", \"Positive\", \"Negative\", \"Negative\", \"Negative\", \"Positive\", \"Positive\", \"Positive\", \"Negative\", \"Positive\", \"Positive\", \"Positive\", \"Negative\", \"Positive\", \"Negative\", \"Negative\", \"Positive\", \"Positive\", \"Positive\", \"Negative\", \"Negative\", \"Negative\", \"Negative\", \"Negative\", \"Negative\", \"Negative\", \"Negative\", \"Negative\", \"Positive\", \"Negative\", \"Negative\", \"Positive\", \"Positive\", \"Positive\", \"Positive\", \"Negative\", \"Negative\", \"Negative\", \"Negative\", \"Positive\", \"Negative\", \"Positive\", \"Negative\", \"Negative\", \"Negative\", \"Positive\", \"Negative\", \"Positive\", \"Positive\", \"Negative\", \"Negative\", \"Positive\", \"Negative\", \"Negative\", \"Positive\", \"Positive\", \"Negative\", \"Negative\", \"Negative\", \"Positive\", \"Negative\", \"Negative\", \"Negative\", \"Negative\", \"Positive\", \"Positive\", \"Positive\", \"Positive\", \"Negative\", \"Positive\", \"Negative\", \"Positive\", \"Positive\", \"Negative\", \"Positive\", \"Positive\", \"Positive\", \"Negative\", \"Positive\", \"Negative\", \"Positive\", \"Positive\", \"Negative\", \"Negative\", \"Positive\", \"Positive\", \"Positive\", \"Negative\", \"Negative\", \"Positive\", \"Negative\", \"Positive\", \"Positive\", \"Positive\", \"Negative\", \"Negative\", \"Positive\", \"Negative\", \"Negative\", \"Positive\", \"Positive\", \"Positive\", \"Negative\", \"Positive\", \"Negative\", \"Positive\", \"Positive\", \"Positive\", \"Negative\", \"Positive\", \"Negative\", \"Positive\", \"Negative\", \"Negative\", \"Positive\", \"Positive\", \"Positive\", \"Positive\", \"Positive\", \"Negative\", \"Positive\", \"Negative\", \"Positive\", \"Positive\", \"Negative\", \"Negative\", \"Negative\", \"Positive\", \"Positive\", \"Negative\", \"Negative\", \"Positive\", \"Positive\", \"Positive\", \"Negative\", \"Negative\", \"Negative\", \"Negative\", \"Negative\", \"Negative\", \"Positive\", \"Positive\", \"Positive\", \"Negative\", \"Negative\", \"Negative\", \"Negative\", \"Positive\", \"Negative\", \"Negative\", \"Negative\", \"Negative\", \"Positive\", \"Negative\", \"Negative\", \"Negative\", \"Positive\", \"Positive\", \"Negative\", \"Negative\", \"Negative\", \"Positive\", \"Positive\", \"Negative\", \"Negative\", \"Positive\", \"Positive\", \"Positive\", \"Positive\", \"Negative\", \"Positive\", \"Negative\", \"Positive\", \"Positive\", \"Negative\", \"Negative\", \"Positive\", \"Positive\", \"Negative\", \"Negative\", \"Negative\", \"Positive\", \"Negative\", \"Negative\", \"Positive\", \"Negative\", \"Negative\", \"Positive\", \"Positive\", \"Positive\", \"Negative\", \"Positive\", \"Negative\", \"Negative\", \"Positive\", \"Positive\", \"Negative\", \"Positive\", \"Negative\", \"Negative\", \"Positive\", \"Positive\", \"Positive\", \"Positive\", \"Negative\", \"Negative\", \"Negative\", \"Negative\", \"Positive\", \"Positive\", \"Negative\", \"Positive\", \"Positive\", \"Negative\", \"Negative\", \"Negative\", \"Positive\", \"Positive\", \"Positive\", \"Negative\", \"Negative\", \"Negative\", \"Negative\", \"Positive\", \"Negative\", \"Positive\", \"Negative\", \"Negative\", \"Positive\", \"Negative\", \"Positive\", \"Negative\", \"Positive\", \"Negative\", \"Negative\", \"Negative\", \"Negative\", \"Positive\", \"Negative\", \"Negative\", \"Negative\", \"Positive\", \"Negative\", \"Positive\", \"Negative\", \"Negative\", \"Negative\", \"Positive\", \"Positive\", \"Negative\", \"Negative\", \"Negative\", \"Positive\", \"Negative\", \"Negative\", \"Positive\", \"Negative\", \"Negative\", \"Negative\", \"Negative\", \"Positive\", \"Positive\", \"Negative\", \"Positive\", \"Negative\", \"Negative\", \"Negative\", \"Negative\", \"Negative\", \"Negative\", \"Positive\", \"Negative\", \"Negative\", \"Positive\", \"Negative\", \"Negative\", \"Negative\", \"Negative\", \"Positive\", \"Positive\", \"Positive\", \"Positive\", \"Positive\", \"Positive\", \"Positive\", \"Negative\", \"Negative\", \"Positive\", \"Negative\", \"Negative\", \"Negative\", \"Negative\", \"Negative\", \"Negative\", \"Negative\", \"Positive\", \"Positive\", \"Negative\", \"Negative\", \"Positive\", \"Negative\", \"Negative\", \"Positive\", \"Positive\", \"Negative\", \"Negative\", \"Negative\", \"Negative\", \"Negative\", \"Positive\", \"Negative\", \"Negative\", \"Positive\", \"Positive\", \"Negative\", \"Negative\", \"Negative\", \"Positive\", \"Positive\", \"Negative\", \"Negative\", \"Positive\", \"Positive\", \"Negative\", \"Negative\", \"Positive\", \"Positive\", \"Negative\", \"Positive\", \"Negative\", \"Negative\", \"Negative\", \"Negative\", \"Negative\", \"Negative\", \"Positive\", \"Positive\", \"Positive\", \"Negative\", \"Negative\", \"Negative\", \"Positive\", \"Positive\", \"Negative\", \"Positive\", \"Positive\", \"Positive\", \"Negative\", \"Negative\", \"Negative\", \"Negative\", \"Positive\", \"Negative\", \"Positive\", \"Negative\", \"Negative\", \"Negative\", \"Positive\", \"Negative\", \"Positive\", \"Positive\", \"Negative\", \"Negative\", \"Negative\", \"Negative\", \"Negative\", \"Negative\", \"Negative\", \"Positive\", \"Positive\", \"Negative\", \"Negative\", \"Positive\", \"Negative\", \"Negative\", \"Positive\", \"Positive\", \"Positive\", \"Positive\", \"Positive\", \"Positive\", \"Negative\", \"Positive\", \"Negative\", \"Negative\", \"Positive\", \"Positive\", \"Positive\", \"Negative\", \"Negative\", \"Positive\", \"Negative\", \"Negative\", \"Positive\", \"Negative\", \"Negative\", \"Negative\", \"Positive\", \"Negative\", \"Positive\", \"Positive\", \"Positive\", \"Positive\", \"Negative\", \"Negative\", \"Negative\", \"Negative\", \"Negative\", \"Negative\", \"Negative\", \"Positive\", \"Negative\", \"Negative\", \"Negative\", \"Negative\", \"Positive\", \"Negative\", \"Positive\", \"Negative\", \"Negative\", \"Negative\", \"Positive\", \"Positive\", \"Positive\", \"Positive\", \"Positive\", \"Negative\", \"Negative\", \"Negative\", \"Positive\", \"Negative\", \"Negative\", \"Negative\", \"Positive\", \"Positive\", \"Positive\", \"Negative\", \"Positive\", \"Negative\", \"Positive\", \"Negative\", \"Positive\", \"Negative\", \"Positive\", \"Negative\", \"Positive\", \"Negative\", \"Positive\", \"Negative\", \"Negative\", \"Positive\", \"Positive\", \"Positive\", \"Positive\", \"Negative\", \"Negative\", \"Positive\", \"Negative\", \"Negative\", \"Positive\", \"Negative\", \"Negative\", \"Positive\", \"Negative\", \"Negative\", \"Negative\", \"Negative\", \"Positive\", \"Negative\", \"Negative\", \"Negative\", \"Positive\", \"Positive\", \"Positive\", \"Negative\", \"Negative\", \"Negative\", \"Negative\", \"Positive\", \"Positive\", \"Positive\", \"Negative\", \"Negative\", \"Negative\", \"Positive\", \"Positive\", \"Negative\", \"Negative\", \"Negative\", \"Negative\", \"Positive\", \"Negative\", \"Negative\", \"Positive\", \"Positive\", \"Positive\", \"Positive\", \"Positive\", \"Negative\", \"Negative\", \"Positive\", \"Positive\", \"Negative\", \"Negative\", \"Negative\", \"Positive\", \"Negative\", \"Positive\", \"Negative\", \"Negative\", \"Negative\", \"Positive\", \"Negative\", \"Negative\", \"Negative\", \"Negative\", \"Negative\", \"Positive\", \"Negative\", \"Positive\", \"Positive\", \"Positive\", \"Positive\", \"Negative\", \"Positive\", \"Negative\", \"Positive\", \"Positive\", \"Positive\", \"Positive\", \"Positive\", \"Negative\", \"Positive\", \"Negative\", \"Negative\", \"Positive\", \"Negative\", \"Negative\", \"Positive\", \"Negative\", \"Negative\", \"Positive\", \"Negative\", \"Positive\", \"Positive\", \"Positive\", \"Negative\", \"Positive\", \"Negative\", \"Negative\", \"Negative\", \"Positive\", \"Negative\", \"Negative\", \"Positive\", \"Positive\", \"Positive\", \"Negative\", \"Positive\", \"Positive\", \"Positive\", \"Negative\", \"Negative\", \"Negative\", \"Negative\", \"Negative\", \"Positive\", \"Positive\", \"Positive\", \"Negative\", \"Positive\", \"Positive\", \"Positive\", \"Negative\", \"Positive\", \"Positive\", \"Negative\", \"Positive\", \"Positive\", \"Positive\", \"Positive\", \"Positive\", \"Positive\", \"Positive\", \"Positive\", \"Negative\", \"Negative\", \"Positive\", \"Negative\", \"Negative\", \"Positive\", \"Negative\", \"Positive\", \"Positive\", \"Negative\", \"Positive\", \"Negative\", \"Positive\", \"Positive\", \"Positive\", \"Negative\", \"Negative\", \"Negative\", \"Negative\", \"Positive\", \"Negative\", \"Negative\", \"Positive\", \"Positive\", \"Negative\", \"Positive\", \"Negative\", \"Positive\", \"Negative\", \"Positive\", \"Positive\", \"Negative\", \"Positive\", \"Negative\", \"Positive\", \"Positive\", \"Positive\", \"Positive\", \"Positive\", \"Negative\", \"Negative\", \"Positive\", \"Positive\", \"Negative\", \"Positive\", \"Positive\", \"Positive\", \"Negative\", \"Negative\", \"Negative\", \"Positive\", \"Negative\", \"Positive\", \"Positive\", \"Negative\", \"Positive\", \"Negative\", \"Negative\", \"Positive\", \"Negative\", \"Positive\", \"Positive\", \"Positive\", \"Negative\", \"Negative\", \"Negative\", \"Negative\", \"Positive\", \"Positive\", \"Negative\", \"Positive\", \"Negative\", \"Negative\", \"Negative\", \"Positive\", \"Positive\", \"Negative\", \"Positive\", \"Negative\", \"Negative\", \"Positive\", \"Negative\", \"Negative\", \"Positive\", \"Positive\", \"Negative\", \"Negative\", \"Negative\", \"Negative\", \"Positive\", \"Positive\", \"Positive\", \"Positive\", \"Positive\", \"Positive\", \"Positive\", \"Negative\", \"Negative\", \"Negative\", \"Negative\", \"Negative\", \"Positive\", \"Negative\", \"Negative\", \"Negative\", \"Positive\", \"Negative\", \"Positive\", \"Negative\", \"Negative\", \"Positive\", \"Positive\", \"Negative\", \"Negative\", \"Positive\", \"Positive\", \"Positive\", \"Negative\", \"Negative\", \"Negative\", \"Positive\", \"Negative\", \"Negative\", \"Negative\", \"Negative\", \"Negative\", \"Positive\", \"Positive\", \"Negative\", \"Positive\", \"Positive\", \"Negative\", \"Negative\", \"Negative\", \"Negative\", \"Negative\", \"Positive\", \"Negative\", \"Negative\", \"Positive\", \"Positive\", \"Negative\", \"Positive\", \"Positive\", \"Negative\", \"Negative\", \"Negative\", \"Negative\", \"Positive\", \"Negative\", \"Negative\", \"Negative\", \"Positive\", \"Positive\", \"Negative\", \"Negative\", \"Negative\", \"Positive\", \"Negative\", \"Negative\", \"Negative\", \"Negative\", \"Positive\", \"Positive\", \"Negative\", \"Positive\", \"Negative\", \"Negative\", \"Negative\", \"Positive\", \"Negative\", \"Negative\", \"Positive\", \"Negative\", \"Negative\", \"Positive\", \"Positive\", \"Negative\", \"Negative\", \"Positive\", \"Positive\", \"Negative\", \"Negative\", \"Negative\", \"Positive\", \"Negative\", \"Negative\", \"Negative\", \"Negative\", \"Positive\", \"Positive\", \"Positive\", \"Negative\", \"Negative\", \"Negative\", \"Negative\", \"Positive\", \"Positive\", \"Positive\", \"Negative\", \"Positive\", \"Negative\", \"Negative\", \"Positive\", \"Negative\", \"Positive\", \"Negative\", \"Positive\", \"Positive\", \"Positive\", \"Negative\", \"Positive\", \"Negative\", \"Positive\", \"Negative\", \"Positive\", \"Positive\", \"Negative\", \"Negative\", \"Positive\", \"Negative\", \"Negative\", \"Negative\", \"Positive\", \"Positive\", \"Negative\", \"Positive\", \"Negative\", \"Negative\", \"Negative\", \"Negative\", \"Negative\", \"Negative\", \"Negative\", \"Negative\", \"Negative\", \"Negative\", \"Positive\", \"Negative\", \"Positive\", \"Negative\", \"Positive\", \"Positive\", \"Negative\", \"Positive\", \"Positive\", \"Negative\", \"Positive\", \"Positive\", \"Negative\", \"Positive\", \"Positive\", \"Negative\", \"Negative\", \"Positive\", \"Negative\", \"Negative\", \"Positive\", \"Negative\", \"Positive\", \"Positive\", \"Negative\", \"Negative\", \"Positive\", \"Positive\", \"Negative\", \"Negative\", \"Negative\", \"Positive\", \"Negative\", \"Positive\", \"Negative\", \"Negative\", \"Negative\", \"Positive\", \"Positive\", \"Negative\", \"Negative\", \"Positive\", \"Positive\", \"Positive\", \"Positive\", \"Positive\", \"Positive\", \"Negative\", \"Positive\", \"Negative\", \"Negative\", \"Negative\", \"Negative\", \"Negative\", \"Positive\", \"Positive\", \"Negative\", \"Positive\", \"Positive\", \"Negative\", \"Positive\", \"Positive\", \"Positive\", \"Positive\", \"Negative\", \"Positive\", \"Negative\", \"Negative\", \"Positive\", \"Negative\", \"Negative\", \"Positive\", \"Positive\", \"Negative\", \"Negative\", \"Positive\", \"Positive\", \"Negative\", \"Negative\", \"Positive\", \"Positive\", \"Positive\", \"Negative\", \"Negative\", \"Negative\", \"Negative\", \"Negative\", \"Negative\", \"Negative\", \"Positive\", \"Positive\", \"Positive\", \"Positive\", \"Negative\", \"Positive\", \"Negative\", \"Negative\", \"Positive\", \"Negative\", \"Negative\", \"Positive\", \"Negative\", \"Positive\", \"Positive\", \"Positive\", \"Negative\", \"Positive\", \"Positive\", \"Positive\", \"Negative\", \"Positive\", \"Positive\", \"Positive\", \"Positive\", \"Positive\", \"Positive\", \"Positive\", \"Positive\", \"Positive\", \"Negative\", \"Positive\", \"Positive\", \"Negative\", \"Positive\", \"Negative\", \"Positive\", \"Negative\", \"Positive\", \"Negative\", \"Negative\", \"Positive\", \"Negative\", \"Negative\", \"Negative\", \"Negative\", \"Negative\", \"Negative\", \"Positive\", \"Positive\", \"Negative\", \"Positive\", \"Negative\", \"Positive\", \"Negative\", \"Negative\", \"Positive\", \"Negative\", \"Positive\", \"Negative\", \"Negative\", \"Negative\", \"Positive\", \"Negative\", \"Positive\", \"Negative\", \"Negative\", \"Negative\", \"Positive\", \"Negative\", \"Negative\", \"Positive\", \"Negative\", \"Negative\", \"Positive\", \"Positive\", \"Positive\", \"Negative\", \"Positive\", \"Positive\", \"Positive\", \"Negative\", \"Positive\", \"Positive\", \"Negative\", \"Positive\", \"Positive\", \"Positive\", \"Positive\", \"Negative\", \"Positive\", \"Positive\", \"Negative\", \"Negative\", \"Negative\", \"Negative\", \"Positive\", \"Positive\", \"Negative\", \"Positive\", \"Positive\", \"Positive\", \"Negative\", \"Negative\", \"Negative\", \"Positive\", \"Positive\", \"Negative\", \"Positive\", \"Negative\", \"Positive\", \"Negative\", \"Positive\", \"Positive\", \"Positive\", \"Positive\", \"Negative\", \"Negative\", \"Negative\", \"Negative\", \"Negative\", \"Positive\", \"Negative\", \"Negative\", \"Positive\", \"Positive\", \"Negative\", \"Negative\", \"Negative\", \"Negative\", \"Negative\", \"Positive\", \"Positive\", \"Positive\", \"Positive\", \"Negative\", \"Negative\", \"Negative\", \"Negative\", \"Negative\", \"Positive\", \"Positive\", \"Positive\", \"Positive\", \"Positive\", \"Negative\", \"Positive\", \"Negative\", \"Negative\", \"Positive\", \"Negative\", \"Negative\", \"Negative\", \"Negative\", \"Negative\", \"Negative\", \"Negative\", \"Negative\", \"Negative\", \"Positive\", \"Negative\", \"Negative\", \"Negative\", \"Positive\", \"Negative\", \"Negative\", \"Positive\", \"Negative\", \"Positive\", \"Negative\", \"Positive\", \"Negative\", \"Negative\", \"Positive\", \"Positive\", \"Positive\", \"Positive\", \"Negative\", \"Negative\", \"Positive\", \"Positive\", \"Negative\", \"Positive\", \"Positive\", \"Positive\", \"Positive\", \"Negative\", \"Positive\", \"Positive\", \"Positive\", \"Negative\", \"Negative\", \"Negative\", \"Negative\", \"Negative\", \"Negative\", \"Negative\", \"Negative\", \"Negative\", \"Positive\", \"Negative\", \"Negative\", \"Positive\", \"Positive\", \"Negative\", \"Negative\", \"Negative\", \"Positive\", \"Negative\", \"Positive\", \"Positive\", \"Positive\", \"Positive\", \"Positive\", \"Negative\", \"Positive\", \"Negative\", \"Positive\", \"Negative\", \"Positive\", \"Negative\", \"Positive\", \"Positive\", \"Positive\", \"Negative\", \"Negative\", \"Positive\", \"Positive\", \"Negative\", \"Positive\", \"Negative\", \"Negative\", \"Negative\", \"Positive\", \"Positive\", \"Negative\", \"Positive\", \"Positive\", \"Negative\", \"Positive\", \"Negative\", \"Negative\", \"Positive\", \"Positive\", \"Positive\", \"Positive\", \"Positive\", \"Negative\", \"Negative\", \"Positive\", \"Positive\", \"Positive\", \"Negative\", \"Negative\", \"Positive\", \"Negative\", \"Negative\", \"Negative\", \"Positive\", \"Negative\", \"Negative\", \"Negative\", \"Positive\", \"Negative\", \"Negative\", \"Positive\", \"Negative\", \"Negative\", \"Negative\", \"Positive\", \"Negative\", \"Positive\", \"Negative\", \"Negative\", \"Negative\", \"Positive\", \"Negative\", \"Negative\", \"Positive\", \"Positive\", \"Negative\", \"Negative\", \"Negative\", \"Positive\", \"Negative\", \"Positive\", \"Positive\", \"Positive\", \"Positive\", \"Positive\", \"Positive\", \"Negative\", \"Negative\", \"Negative\", \"Positive\", \"Negative\", \"Positive\", \"Negative\", \"Negative\", \"Positive\", \"Negative\", \"Negative\", \"Negative\", \"Positive\", \"Positive\", \"Negative\", \"Negative\", \"Negative\", \"Positive\", \"Negative\", \"Negative\", \"Positive\", \"Negative\", \"Positive\", \"Positive\", \"Negative\", \"Positive\", \"Negative\", \"Negative\", \"Positive\", \"Positive\", \"Negative\", \"Positive\", \"Negative\", \"Positive\", \"Positive\", \"Positive\", \"Positive\", \"Negative\", \"Negative\", \"Negative\", \"Positive\", \"Negative\", \"Positive\", \"Negative\", \"Positive\", \"Positive\", \"Positive\", \"Positive\", \"Negative\", \"Negative\", \"Negative\", \"Positive\", \"Positive\", \"Positive\", \"Positive\", \"Negative\", \"Positive\", \"Positive\", \"Positive\", \"Positive\", \"Positive\", \"Negative\", \"Positive\", \"Negative\", \"Positive\", \"Negative\", \"Negative\", \"Negative\", \"Negative\", \"Positive\", \"Positive\", \"Positive\", \"Negative\", \"Negative\", \"Positive\", \"Negative\", \"Positive\", \"Negative\", \"Negative\", \"Positive\", \"Positive\", \"Negative\", \"Positive\", \"Positive\", \"Positive\", \"Negative\", \"Negative\", \"Positive\", \"Negative\", \"Positive\", \"Negative\", \"Positive\", \"Negative\", \"Negative\", \"Negative\", \"Negative\", \"Positive\", \"Positive\", \"Positive\", \"Positive\", \"Negative\", \"Negative\", \"Positive\", \"Positive\", \"Negative\", \"Negative\", \"Positive\", \"Negative\", \"Negative\", \"Positive\", \"Negative\", \"Negative\", \"Negative\", \"Positive\", \"Positive\", \"Negative\", \"Negative\", \"Positive\", \"Positive\", \"Positive\", \"Positive\", \"Negative\", \"Negative\", \"Negative\", \"Positive\", \"Negative\", \"Positive\", \"Negative\", \"Negative\", \"Positive\", \"Negative\", \"Negative\", \"Positive\", \"Positive\", \"Positive\", \"Positive\", \"Positive\", \"Positive\", \"Negative\", \"Positive\", \"Negative\", \"Negative\", \"Negative\", \"Positive\", \"Positive\", \"Negative\", \"Positive\", \"Negative\", \"Positive\", \"Negative\", \"Positive\", \"Positive\", \"Negative\", \"Positive\", \"Positive\", \"Positive\", \"Negative\", \"Negative\", \"Negative\", \"Negative\", \"Negative\", \"Positive\", \"Positive\", \"Positive\", \"Positive\", \"Positive\", \"Negative\", \"Negative\", \"Negative\", \"Negative\", \"Negative\", \"Positive\", \"Negative\", \"Negative\", \"Negative\", \"Positive\", \"Negative\", \"Positive\", \"Negative\", \"Negative\", \"Negative\", \"Positive\", \"Positive\", \"Positive\", \"Positive\", \"Negative\", \"Positive\", \"Positive\", \"Negative\", \"Negative\", \"Negative\", \"Positive\", \"Negative\", \"Negative\", \"Positive\", \"Positive\", \"Negative\", \"Positive\", \"Positive\", \"Positive\", \"Positive\", \"Negative\", \"Positive\", \"Positive\", \"Positive\", \"Negative\", \"Negative\", \"Negative\", \"Negative\", \"Negative\", \"Negative\", \"Positive\", \"Negative\", \"Positive\", \"Negative\", \"Positive\", \"Positive\", \"Negative\", \"Negative\", \"Positive\", \"Negative\", \"Positive\", \"Negative\", \"Negative\", \"Positive\", \"Negative\", \"Negative\", \"Negative\", \"Positive\", \"Negative\", \"Negative\", \"Negative\", \"Positive\", \"Negative\", \"Negative\", \"Negative\", \"Positive\", \"Positive\", \"Negative\", \"Positive\", \"Negative\", \"Positive\", \"Negative\", \"Negative\", \"Positive\", \"Positive\", \"Negative\", \"Negative\", \"Positive\", \"Negative\", \"Positive\", \"Positive\", \"Positive\", \"Negative\", \"Negative\", \"Positive\", \"Negative\", \"Positive\", \"Positive\", \"Negative\", \"Negative\", \"Negative\", \"Positive\", \"Positive\", \"Negative\", \"Negative\", \"Negative\", \"Negative\", \"Positive\", \"Positive\", \"Positive\", \"Positive\", \"Positive\", \"Positive\", \"Positive\", \"Negative\", \"Negative\", \"Positive\", \"Negative\", \"Negative\", \"Negative\", \"Positive\", \"Positive\", \"Positive\", \"Negative\", \"Negative\", \"Negative\", \"Negative\", \"Positive\", \"Positive\", \"Negative\", \"Negative\", \"Positive\", \"Positive\", \"Positive\", \"Negative\", \"Positive\", \"Positive\", \"Negative\", \"Positive\", \"Positive\", \"Positive\", \"Negative\", \"Negative\", \"Positive\", \"Negative\", \"Negative\", \"Negative\", \"Positive\", \"Positive\", \"Negative\", \"Positive\", \"Positive\", \"Positive\", \"Negative\", \"Negative\", \"Negative\", \"Positive\", \"Positive\", \"Positive\", \"Positive\", \"Negative\", \"Positive\", \"Positive\", \"Negative\", \"Negative\", \"Positive\", \"Positive\", \"Positive\", \"Positive\", \"Positive\", \"Negative\", \"Positive\", \"Positive\", \"Negative\", \"Positive\", \"Negative\", \"Negative\", \"Positive\", \"Negative\", \"Negative\", \"Positive\", \"Negative\", \"Positive\", \"Positive\", \"Negative\", \"Negative\", \"Negative\", \"Positive\", \"Negative\", \"Positive\", \"Positive\", \"Negative\", \"Negative\", \"Negative\", \"Negative\", \"Negative\", \"Positive\", \"Negative\", \"Positive\", \"Negative\", \"Positive\", \"Negative\", \"Negative\", \"Negative\", \"Negative\", \"Negative\", \"Positive\", \"Negative\", \"Negative\", \"Negative\", \"Positive\", \"Negative\", \"Positive\", \"Negative\", \"Positive\", \"Positive\", \"Negative\", \"Negative\", \"Positive\", \"Positive\", \"Negative\", \"Positive\", \"Positive\", \"Positive\", \"Positive\", \"Negative\", \"Positive\", \"Negative\", \"Positive\", \"Negative\", \"Positive\", \"Negative\", \"Positive\", \"Negative\", \"Positive\", \"Positive\", \"Positive\", \"Positive\", \"Positive\", \"Positive\", \"Positive\", \"Negative\", \"Negative\", \"Negative\", \"Negative\", \"Negative\", \"Negative\", \"Negative\", \"Negative\", \"Negative\", \"Negative\", \"Negative\", \"Positive\", \"Negative\", \"Negative\", \"Positive\", \"Negative\", \"Positive\", \"Negative\", \"Positive\", \"Negative\", \"Negative\", \"Negative\", \"Positive\", \"Negative\", \"Positive\", \"Positive\", \"Negative\", \"Negative\", \"Negative\", \"Negative\", \"Positive\", \"Negative\", \"Positive\", \"Positive\", \"Positive\", \"Negative\", \"Positive\", \"Negative\", \"Positive\", \"Positive\", \"Negative\", \"Negative\", \"Positive\", \"Negative\", \"Negative\", \"Positive\", \"Positive\", \"Negative\", \"Positive\", \"Negative\", \"Positive\", \"Positive\", \"Positive\", \"Negative\", \"Negative\", \"Positive\", \"Positive\", \"Negative\", \"Positive\", \"Negative\", \"Negative\", \"Positive\", \"Negative\", \"Positive\", \"Positive\", \"Positive\", \"Positive\", \"Positive\", \"Negative\", \"Negative\", \"Negative\", \"Negative\", \"Positive\", \"Positive\", \"Negative\", \"Negative\", \"Negative\", \"Negative\", \"Positive\", \"Positive\", \"Negative\", \"Positive\", \"Positive\", \"Positive\", \"Negative\", \"Negative\", \"Negative\", \"Positive\", \"Positive\", \"Positive\", \"Positive\", \"Negative\", \"Positive\", \"Negative\", \"Positive\", \"Negative\", \"Positive\", \"Positive\", \"Positive\", \"Negative\", \"Positive\", \"Positive\", \"Negative\", \"Negative\", \"Negative\", \"Positive\", \"Negative\", \"Positive\", \"Positive\", \"Positive\", \"Positive\", \"Positive\", \"Negative\", \"Positive\", \"Positive\", \"Positive\", \"Positive\", \"Negative\", \"Negative\", \"Negative\", \"Negative\", \"Negative\", \"Positive\", \"Negative\", \"Negative\", \"Negative\", \"Positive\", \"Negative\", \"Negative\", \"Positive\", \"Negative\", \"Negative\", \"Negative\", \"Positive\", \"Positive\", \"Negative\", \"Negative\", \"Negative\", \"Positive\", \"Negative\", \"Positive\", \"Negative\", \"Negative\", \"Positive\", \"Positive\", \"Positive\", \"Negative\", \"Positive\", \"Negative\", \"Positive\", \"Positive\", \"Positive\", \"Positive\", \"Negative\", \"Negative\", \"Positive\", \"Positive\", \"Positive\", \"Negative\", \"Positive\", \"Positive\", \"Negative\", \"Positive\", \"Negative\", \"Negative\", \"Negative\", \"Negative\", \"Positive\", \"Positive\", \"Positive\", \"Positive\", \"Positive\", \"Positive\", \"Negative\", \"Positive\", \"Positive\", \"Negative\", \"Positive\", \"Positive\", \"Negative\", \"Positive\", \"Positive\", \"Negative\", \"Negative\", \"Positive\", \"Positive\", \"Positive\", \"Positive\", \"Positive\", \"Positive\", \"Negative\", \"Negative\", \"Positive\", \"Negative\", \"Negative\", \"Negative\", \"Positive\", \"Positive\", \"Negative\", \"Negative\", \"Negative\", \"Negative\", \"Positive\", \"Negative\", \"Positive\", \"Positive\", \"Positive\", \"Positive\", \"Positive\", \"Negative\", \"Negative\", \"Negative\", \"Negative\", \"Positive\", \"Positive\", \"Positive\", \"Positive\", \"Negative\", \"Negative\", \"Negative\", \"Positive\", \"Negative\", \"Negative\", \"Negative\", \"Positive\", \"Positive\", \"Negative\", \"Positive\", \"Positive\", \"Negative\", \"Negative\", \"Positive\", \"Negative\", \"Positive\", \"Positive\", \"Positive\", \"Negative\", \"Positive\", \"Negative\", \"Negative\", \"Negative\", \"Positive\", \"Negative\", \"Negative\", \"Negative\", \"Positive\", \"Positive\", \"Negative\", \"Negative\", \"Negative\", \"Negative\", \"Negative\", \"Negative\", \"Positive\", \"Negative\", \"Negative\", \"Negative\", \"Positive\", \"Positive\", \"Negative\", \"Positive\", \"Negative\", \"Negative\", \"Positive\", \"Positive\", \"Negative\", \"Positive\", \"Negative\", \"Positive\", \"Positive\", \"Negative\", \"Positive\", \"Positive\", \"Negative\", \"Negative\", \"Positive\", \"Positive\", \"Positive\", \"Negative\", \"Positive\", \"Negative\", \"Negative\", \"Negative\", \"Positive\", \"Positive\", \"Negative\", \"Negative\", \"Positive\", \"Negative\", \"Positive\", \"Positive\", \"Positive\", \"Negative\", \"Positive\", \"Positive\", \"Negative\", \"Positive\", \"Negative\", \"Positive\", \"Positive\", \"Positive\", \"Negative\", \"Positive\", \"Positive\", \"Positive\", \"Positive\", \"Positive\", \"Negative\", \"Negative\", \"Negative\", \"Negative\", \"Positive\", \"Positive\", \"Negative\", \"Positive\", \"Negative\", \"Negative\", \"Negative\", \"Positive\", \"Positive\", \"Negative\", \"Negative\", \"Positive\", \"Positive\", \"Positive\", \"Positive\", \"Positive\", \"Negative\", \"Positive\", \"Negative\", \"Negative\", \"Negative\", \"Positive\", \"Negative\", \"Negative\", \"Negative\", \"Positive\", \"Negative\", \"Negative\", \"Negative\", \"Negative\", \"Negative\", \"Positive\", \"Negative\", \"Positive\", \"Negative\", \"Positive\", \"Negative\", \"Negative\", \"Positive\", \"Negative\", \"Positive\", \"Negative\", \"Positive\", \"Negative\", \"Positive\", \"Negative\", \"Negative\", \"Positive\", \"Positive\", \"Positive\", \"Negative\", \"Positive\", \"Positive\", \"Negative\", \"Positive\", \"Negative\"]}],                        {\"barmode\": \"overlay\", \"legend\": {\"bgcolor\": \"#F5F6F9\", \"font\": {\"color\": \"#4D5663\"}}, \"paper_bgcolor\": \"#F5F6F9\", \"plot_bgcolor\": \"#F5F6F9\", \"template\": {\"data\": {\"bar\": [{\"error_x\": {\"color\": \"#2a3f5f\"}, \"error_y\": {\"color\": \"#2a3f5f\"}, \"marker\": {\"line\": {\"color\": \"#E5ECF6\", \"width\": 0.5}}, \"type\": \"bar\"}], \"barpolar\": [{\"marker\": {\"line\": {\"color\": \"#E5ECF6\", \"width\": 0.5}}, \"type\": \"barpolar\"}], \"carpet\": [{\"aaxis\": {\"endlinecolor\": \"#2a3f5f\", \"gridcolor\": \"white\", \"linecolor\": \"white\", \"minorgridcolor\": \"white\", \"startlinecolor\": \"#2a3f5f\"}, \"baxis\": {\"endlinecolor\": \"#2a3f5f\", \"gridcolor\": \"white\", \"linecolor\": \"white\", \"minorgridcolor\": \"white\", \"startlinecolor\": \"#2a3f5f\"}, \"type\": \"carpet\"}], \"choropleth\": [{\"colorbar\": {\"outlinewidth\": 0, \"ticks\": \"\"}, \"type\": \"choropleth\"}], \"contour\": [{\"colorbar\": {\"outlinewidth\": 0, \"ticks\": \"\"}, \"colorscale\": [[0.0, \"#0d0887\"], [0.1111111111111111, \"#46039f\"], [0.2222222222222222, \"#7201a8\"], [0.3333333333333333, \"#9c179e\"], [0.4444444444444444, \"#bd3786\"], [0.5555555555555556, \"#d8576b\"], [0.6666666666666666, \"#ed7953\"], [0.7777777777777778, \"#fb9f3a\"], [0.8888888888888888, \"#fdca26\"], [1.0, \"#f0f921\"]], \"type\": \"contour\"}], \"contourcarpet\": [{\"colorbar\": {\"outlinewidth\": 0, \"ticks\": \"\"}, \"type\": \"contourcarpet\"}], \"heatmap\": [{\"colorbar\": {\"outlinewidth\": 0, \"ticks\": \"\"}, \"colorscale\": [[0.0, \"#0d0887\"], [0.1111111111111111, \"#46039f\"], [0.2222222222222222, \"#7201a8\"], [0.3333333333333333, \"#9c179e\"], [0.4444444444444444, \"#bd3786\"], [0.5555555555555556, \"#d8576b\"], [0.6666666666666666, \"#ed7953\"], [0.7777777777777778, \"#fb9f3a\"], [0.8888888888888888, \"#fdca26\"], [1.0, \"#f0f921\"]], \"type\": \"heatmap\"}], \"heatmapgl\": [{\"colorbar\": {\"outlinewidth\": 0, \"ticks\": \"\"}, \"colorscale\": [[0.0, \"#0d0887\"], [0.1111111111111111, \"#46039f\"], [0.2222222222222222, \"#7201a8\"], [0.3333333333333333, \"#9c179e\"], [0.4444444444444444, \"#bd3786\"], [0.5555555555555556, \"#d8576b\"], [0.6666666666666666, \"#ed7953\"], [0.7777777777777778, \"#fb9f3a\"], [0.8888888888888888, \"#fdca26\"], [1.0, \"#f0f921\"]], \"type\": \"heatmapgl\"}], \"histogram\": [{\"marker\": {\"colorbar\": {\"outlinewidth\": 0, \"ticks\": \"\"}}, \"type\": \"histogram\"}], \"histogram2d\": [{\"colorbar\": {\"outlinewidth\": 0, \"ticks\": \"\"}, \"colorscale\": [[0.0, \"#0d0887\"], [0.1111111111111111, \"#46039f\"], [0.2222222222222222, \"#7201a8\"], [0.3333333333333333, \"#9c179e\"], [0.4444444444444444, \"#bd3786\"], [0.5555555555555556, \"#d8576b\"], [0.6666666666666666, \"#ed7953\"], [0.7777777777777778, \"#fb9f3a\"], [0.8888888888888888, \"#fdca26\"], [1.0, \"#f0f921\"]], \"type\": \"histogram2d\"}], \"histogram2dcontour\": [{\"colorbar\": {\"outlinewidth\": 0, \"ticks\": \"\"}, \"colorscale\": [[0.0, \"#0d0887\"], [0.1111111111111111, \"#46039f\"], [0.2222222222222222, \"#7201a8\"], [0.3333333333333333, \"#9c179e\"], [0.4444444444444444, \"#bd3786\"], [0.5555555555555556, \"#d8576b\"], [0.6666666666666666, \"#ed7953\"], [0.7777777777777778, \"#fb9f3a\"], [0.8888888888888888, \"#fdca26\"], [1.0, \"#f0f921\"]], \"type\": \"histogram2dcontour\"}], \"mesh3d\": [{\"colorbar\": {\"outlinewidth\": 0, \"ticks\": \"\"}, \"type\": \"mesh3d\"}], \"parcoords\": [{\"line\": {\"colorbar\": {\"outlinewidth\": 0, \"ticks\": \"\"}}, \"type\": \"parcoords\"}], \"pie\": [{\"automargin\": true, \"type\": \"pie\"}], \"scatter\": [{\"marker\": {\"colorbar\": {\"outlinewidth\": 0, \"ticks\": \"\"}}, \"type\": \"scatter\"}], \"scatter3d\": [{\"line\": {\"colorbar\": {\"outlinewidth\": 0, \"ticks\": \"\"}}, \"marker\": {\"colorbar\": {\"outlinewidth\": 0, \"ticks\": \"\"}}, \"type\": \"scatter3d\"}], \"scattercarpet\": [{\"marker\": {\"colorbar\": {\"outlinewidth\": 0, \"ticks\": \"\"}}, \"type\": \"scattercarpet\"}], \"scattergeo\": [{\"marker\": {\"colorbar\": {\"outlinewidth\": 0, \"ticks\": \"\"}}, \"type\": \"scattergeo\"}], \"scattergl\": [{\"marker\": {\"colorbar\": {\"outlinewidth\": 0, \"ticks\": \"\"}}, \"type\": \"scattergl\"}], \"scattermapbox\": [{\"marker\": {\"colorbar\": {\"outlinewidth\": 0, \"ticks\": \"\"}}, \"type\": \"scattermapbox\"}], \"scatterpolar\": [{\"marker\": {\"colorbar\": {\"outlinewidth\": 0, \"ticks\": \"\"}}, \"type\": \"scatterpolar\"}], \"scatterpolargl\": [{\"marker\": {\"colorbar\": {\"outlinewidth\": 0, \"ticks\": \"\"}}, \"type\": \"scatterpolargl\"}], \"scatterternary\": [{\"marker\": {\"colorbar\": {\"outlinewidth\": 0, \"ticks\": \"\"}}, \"type\": \"scatterternary\"}], \"surface\": [{\"colorbar\": {\"outlinewidth\": 0, \"ticks\": \"\"}, \"colorscale\": [[0.0, \"#0d0887\"], [0.1111111111111111, \"#46039f\"], [0.2222222222222222, \"#7201a8\"], [0.3333333333333333, \"#9c179e\"], [0.4444444444444444, \"#bd3786\"], [0.5555555555555556, \"#d8576b\"], [0.6666666666666666, \"#ed7953\"], [0.7777777777777778, \"#fb9f3a\"], [0.8888888888888888, \"#fdca26\"], [1.0, \"#f0f921\"]], \"type\": \"surface\"}], \"table\": [{\"cells\": {\"fill\": {\"color\": \"#EBF0F8\"}, \"line\": {\"color\": \"white\"}}, \"header\": {\"fill\": {\"color\": \"#C8D4E3\"}, \"line\": {\"color\": \"white\"}}, \"type\": \"table\"}]}, \"layout\": {\"annotationdefaults\": {\"arrowcolor\": \"#2a3f5f\", \"arrowhead\": 0, \"arrowwidth\": 1}, \"autotypenumbers\": \"strict\", \"coloraxis\": {\"colorbar\": {\"outlinewidth\": 0, \"ticks\": \"\"}}, \"colorscale\": {\"diverging\": [[0, \"#8e0152\"], [0.1, \"#c51b7d\"], [0.2, \"#de77ae\"], [0.3, \"#f1b6da\"], [0.4, \"#fde0ef\"], [0.5, \"#f7f7f7\"], [0.6, \"#e6f5d0\"], [0.7, \"#b8e186\"], [0.8, \"#7fbc41\"], [0.9, \"#4d9221\"], [1, \"#276419\"]], \"sequential\": [[0.0, \"#0d0887\"], [0.1111111111111111, \"#46039f\"], [0.2222222222222222, \"#7201a8\"], [0.3333333333333333, \"#9c179e\"], [0.4444444444444444, \"#bd3786\"], [0.5555555555555556, \"#d8576b\"], [0.6666666666666666, \"#ed7953\"], [0.7777777777777778, \"#fb9f3a\"], [0.8888888888888888, \"#fdca26\"], [1.0, \"#f0f921\"]], \"sequentialminus\": [[0.0, \"#0d0887\"], [0.1111111111111111, \"#46039f\"], [0.2222222222222222, \"#7201a8\"], [0.3333333333333333, \"#9c179e\"], [0.4444444444444444, \"#bd3786\"], [0.5555555555555556, \"#d8576b\"], [0.6666666666666666, \"#ed7953\"], [0.7777777777777778, \"#fb9f3a\"], [0.8888888888888888, \"#fdca26\"], [1.0, \"#f0f921\"]]}, \"colorway\": [\"#636efa\", \"#EF553B\", \"#00cc96\", \"#ab63fa\", \"#FFA15A\", \"#19d3f3\", \"#FF6692\", \"#B6E880\", \"#FF97FF\", \"#FECB52\"], \"font\": {\"color\": \"#2a3f5f\"}, \"geo\": {\"bgcolor\": \"white\", \"lakecolor\": \"white\", \"landcolor\": \"#E5ECF6\", \"showlakes\": true, \"showland\": true, \"subunitcolor\": \"white\"}, \"hoverlabel\": {\"align\": \"left\"}, \"hovermode\": \"closest\", \"mapbox\": {\"style\": \"light\"}, \"paper_bgcolor\": \"white\", \"plot_bgcolor\": \"#E5ECF6\", \"polar\": {\"angularaxis\": {\"gridcolor\": \"white\", \"linecolor\": \"white\", \"ticks\": \"\"}, \"bgcolor\": \"#E5ECF6\", \"radialaxis\": {\"gridcolor\": \"white\", \"linecolor\": \"white\", \"ticks\": \"\"}}, \"scene\": {\"xaxis\": {\"backgroundcolor\": \"#E5ECF6\", \"gridcolor\": \"white\", \"gridwidth\": 2, \"linecolor\": \"white\", \"showbackground\": true, \"ticks\": \"\", \"zerolinecolor\": \"white\"}, \"yaxis\": {\"backgroundcolor\": \"#E5ECF6\", \"gridcolor\": \"white\", \"gridwidth\": 2, \"linecolor\": \"white\", \"showbackground\": true, \"ticks\": \"\", \"zerolinecolor\": \"white\"}, \"zaxis\": {\"backgroundcolor\": \"#E5ECF6\", \"gridcolor\": \"white\", \"gridwidth\": 2, \"linecolor\": \"white\", \"showbackground\": true, \"ticks\": \"\", \"zerolinecolor\": \"white\"}}, \"shapedefaults\": {\"line\": {\"color\": \"#2a3f5f\"}}, \"ternary\": {\"aaxis\": {\"gridcolor\": \"white\", \"linecolor\": \"white\", \"ticks\": \"\"}, \"baxis\": {\"gridcolor\": \"white\", \"linecolor\": \"white\", \"ticks\": \"\"}, \"bgcolor\": \"#E5ECF6\", \"caxis\": {\"gridcolor\": \"white\", \"linecolor\": \"white\", \"ticks\": \"\"}}, \"title\": {\"x\": 0.05}, \"xaxis\": {\"automargin\": true, \"gridcolor\": \"white\", \"linecolor\": \"white\", \"ticks\": \"\", \"title\": {\"standoff\": 15}, \"zerolinecolor\": \"white\", \"zerolinewidth\": 2}, \"yaxis\": {\"automargin\": true, \"gridcolor\": \"white\", \"linecolor\": \"white\", \"ticks\": \"\", \"title\": {\"standoff\": 15}, \"zerolinecolor\": \"white\", \"zerolinewidth\": 2}}}, \"title\": {\"font\": {\"color\": \"#4D5663\"}, \"text\": \"Distribution of Tweets based on Sentiment\"}, \"xaxis\": {\"gridcolor\": \"#E1E5ED\", \"linecolor\": \"black\", \"showgrid\": true, \"tickfont\": {\"color\": \"#4D5663\"}, \"title\": {\"font\": {\"color\": \"#4D5663\"}, \"text\": \"Sentiment\"}, \"zerolinecolor\": \"#E1E5ED\"}, \"yaxis\": {\"gridcolor\": \"#E1E5ED\", \"linecolor\": \"black\", \"showgrid\": true, \"tickfont\": {\"color\": \"#4D5663\"}, \"title\": {\"font\": {\"color\": \"#4D5663\"}, \"text\": \"Count\"}, \"zerolinecolor\": \"#E1E5ED\"}},                        {\"showLink\": true, \"linkText\": \"Export to plot.ly\", \"plotlyServerURL\": \"https://plot.ly\", \"responsive\": true}                    ).then(function(){\n",
       "                            \n",
       "var gd = document.getElementById('da47bc87-5765-46fb-b0c1-7e4c9343c358');\n",
       "var x = new MutationObserver(function (mutations, observer) {{\n",
       "        var display = window.getComputedStyle(gd).display;\n",
       "        if (!display || display === 'none') {{\n",
       "            console.log([gd, 'removed!']);\n",
       "            Plotly.purge(gd);\n",
       "            observer.disconnect();\n",
       "        }}\n",
       "}});\n",
       "\n",
       "// Listen for the removal of the full notebook cells\n",
       "var notebookContainer = gd.closest('#notebook-container');\n",
       "if (notebookContainer) {{\n",
       "    x.observe(notebookContainer, {childList: true});\n",
       "}}\n",
       "\n",
       "// Listen for the clearing of the current output cell\n",
       "var outputEl = gd.closest('.output');\n",
       "if (outputEl) {{\n",
       "    x.observe(outputEl, {childList: true});\n",
       "}}\n",
       "\n",
       "                        })                };                });            </script>        </div>"
      ]
     },
     "metadata": {},
     "output_type": "display_data"
    }
   ],
   "source": [
    "df1['Sentiment'].iplot(kind = 'hist',bins = 40, \n",
    "               xTitle = 'Sentiment', yTitle = 'Count',\n",
    "              title = 'Distribution of Tweets based on Sentiment',\n",
    "              colors = 'lightblue', linecolor = 'black')"
   ]
  },
  {
   "cell_type": "markdown",
   "metadata": {},
   "source": [
    "### Distrubution of Question length"
   ]
  },
  {
   "cell_type": "code",
   "execution_count": 13,
   "metadata": {},
   "outputs": [
    {
     "data": {
      "application/vnd.plotly.v1+json": {
       "config": {
        "linkText": "Export to plot.ly",
        "plotlyServerURL": "https://plot.ly",
        "showLink": true
       },
       "data": [
        {
         "histfunc": "count",
         "histnorm": "",
         "marker": {
          "color": "rgba(255, 153, 51, 1.0)",
          "line": {
           "color": "#4D5663",
           "width": 1.3
          }
         },
         "name": "text_len",
         "opacity": 0.8,
         "orientation": "v",
         "type": "histogram",
         "x": [
          205,
          330,
          91,
          256,
          212,
          241,
          290,
          269,
          221,
          292,
          251,
          201,
          290,
          287,
          324,
          297,
          280,
          197,
          247,
          317,
          285,
          138,
          128,
          294,
          154,
          182,
          281,
          240,
          330,
          223,
          165,
          304,
          294,
          299,
          312,
          121,
          277,
          219,
          256,
          275,
          278,
          294,
          300,
          315,
          317,
          93,
          121,
          304,
          131,
          153,
          109,
          288,
          225,
          235,
          225,
          268,
          270,
          173,
          258,
          313,
          252,
          169,
          244,
          203,
          268,
          281,
          227,
          293,
          191,
          347,
          256,
          153,
          262,
          298,
          194,
          258,
          183,
          248,
          328,
          269,
          115,
          300,
          114,
          221,
          269,
          116,
          258,
          132,
          295,
          282,
          346,
          278,
          286,
          274,
          191,
          310,
          254,
          304,
          186,
          264,
          241,
          324,
          155,
          248,
          316,
          167,
          268,
          193,
          170,
          228,
          125,
          110,
          275,
          276,
          232,
          239,
          319,
          319,
          285,
          268,
          272,
          207,
          166,
          283,
          286,
          298,
          320,
          269,
          199,
          240,
          218,
          133,
          283,
          253,
          307,
          142,
          177,
          293,
          277,
          313,
          130,
          320,
          271,
          119,
          199,
          83,
          158,
          197,
          117,
          229,
          255,
          286,
          185,
          235,
          254,
          190,
          137,
          184,
          126,
          263,
          219,
          129,
          268,
          288,
          271,
          223,
          313,
          192,
          241,
          270,
          332,
          216,
          298,
          283,
          153,
          113,
          318,
          118,
          259,
          253,
          109,
          286,
          181,
          297,
          221,
          260,
          233,
          256,
          249,
          235,
          198,
          217,
          216,
          274,
          311,
          155,
          256,
          127,
          188,
          185,
          138,
          135,
          276,
          195,
          298,
          311,
          180,
          181,
          162,
          178,
          138,
          301,
          132,
          314,
          70,
          227,
          158,
          176,
          78,
          273,
          295,
          289,
          131,
          153,
          140,
          267,
          305,
          263,
          189,
          220,
          168,
          207,
          301,
          186,
          133,
          185,
          209,
          201,
          154,
          257,
          210,
          280,
          188,
          261,
          178,
          132,
          331,
          220,
          118,
          181,
          322,
          167,
          218,
          235,
          323,
          164,
          273,
          129,
          273,
          231,
          178,
          309,
          275,
          108,
          309,
          108,
          177,
          150,
          256,
          201,
          261,
          244,
          315,
          119,
          198,
          161,
          207,
          136,
          290,
          169,
          326,
          175,
          157,
          175,
          93,
          148,
          113,
          213,
          194,
          174,
          321,
          263,
          121,
          264,
          298,
          228,
          320,
          229,
          207,
          316,
          208,
          167,
          200,
          240,
          261,
          144,
          280,
          294,
          270,
          229,
          225,
          157,
          165,
          141,
          175,
          266,
          237,
          193,
          311,
          240,
          225,
          256,
          160,
          278,
          111,
          282,
          303,
          135,
          196,
          278,
          165,
          163,
          244,
          173,
          288,
          194,
          234,
          119,
          198,
          287,
          261,
          271,
          196,
          289,
          253,
          189,
          280,
          131,
          278,
          90,
          284,
          240,
          101,
          268,
          174,
          174,
          103,
          257,
          288,
          222,
          310,
          283,
          282,
          188,
          305,
          269,
          279,
          287,
          265,
          257,
          226,
          166,
          191,
          225,
          342,
          287,
          129,
          301,
          150,
          176,
          130,
          286,
          229,
          247,
          337,
          202,
          168,
          276,
          104,
          220,
          227,
          283,
          150,
          256,
          281,
          287,
          150,
          100,
          311,
          292,
          262,
          328,
          191,
          272,
          98,
          280,
          273,
          120,
          115,
          181,
          232,
          288,
          256,
          225,
          199,
          313,
          271,
          149,
          119,
          144,
          197,
          122,
          299,
          292,
          286,
          238,
          312,
          293,
          156,
          176,
          257,
          248,
          264,
          302,
          324,
          95,
          177,
          88,
          297,
          284,
          137,
          255,
          280,
          251,
          105,
          300,
          289,
          139,
          75,
          251,
          182,
          297,
          192,
          294,
          123,
          300,
          247,
          274,
          290,
          316,
          302,
          192,
          213,
          148,
          255,
          259,
          218,
          186,
          278,
          166,
          309,
          151,
          212,
          97,
          284,
          273,
          179,
          163,
          170,
          289,
          123,
          244,
          178,
          200,
          231,
          285,
          269,
          173,
          173,
          297,
          217,
          256,
          83,
          155,
          265,
          259,
          168,
          291,
          184,
          169,
          206,
          256,
          148,
          167,
          298,
          130,
          212,
          194,
          294,
          203,
          255,
          138,
          213,
          217,
          240,
          303,
          303,
          277,
          237,
          324,
          200,
          119,
          97,
          159,
          235,
          175,
          288,
          183,
          245,
          106,
          279,
          222,
          291,
          147,
          191,
          267,
          256,
          254,
          271,
          113,
          96,
          308,
          254,
          213,
          335,
          307,
          123,
          163,
          316,
          252,
          269,
          238,
          196,
          328,
          276,
          207,
          271,
          268,
          230,
          168,
          179,
          187,
          275,
          203,
          165,
          241,
          267,
          226,
          252,
          109,
          303,
          173,
          184,
          268,
          262,
          131,
          242,
          269,
          261,
          185,
          310,
          148,
          287,
          168,
          187,
          178,
          254,
          130,
          154,
          296,
          166,
          256,
          216,
          258,
          208,
          270,
          130,
          256,
          306,
          148,
          154,
          172,
          243,
          220,
          165,
          95,
          166,
          302,
          218,
          234,
          165,
          213,
          77,
          293,
          281,
          162,
          209,
          220,
          92,
          286,
          205,
          285,
          124,
          148,
          184,
          190,
          278,
          183,
          217,
          208,
          235,
          91,
          303,
          191,
          316,
          271,
          287,
          172,
          234,
          324,
          244,
          232,
          255,
          249,
          287,
          152,
          118,
          149,
          314,
          275,
          270,
          213,
          236,
          300,
          303,
          118,
          306,
          319,
          239,
          299,
          290,
          161,
          181,
          300,
          138,
          145,
          171,
          225,
          298,
          290,
          240,
          319,
          232,
          174,
          218,
          333,
          289,
          131,
          145,
          274,
          174,
          154,
          174,
          55,
          258,
          161,
          139,
          146,
          127,
          237,
          265,
          253,
          135,
          298,
          216,
          291,
          220,
          165,
          123,
          186,
          289,
          267,
          274,
          177,
          118,
          177,
          113,
          230,
          247,
          309,
          315,
          178,
          109,
          208,
          278,
          270,
          151,
          167,
          165,
          321,
          74,
          269,
          201,
          333,
          212,
          287,
          139,
          220,
          276,
          207,
          271,
          300,
          207,
          304,
          142,
          191,
          181,
          170,
          196,
          280,
          99,
          313,
          295,
          203,
          224,
          298,
          120,
          264,
          163,
          324,
          249,
          285,
          188,
          230,
          246,
          303,
          168,
          198,
          305,
          320,
          188,
          165,
          168,
          260,
          205,
          145,
          226,
          291,
          193,
          292,
          109,
          276,
          161,
          280,
          322,
          187,
          182,
          186,
          133,
          300,
          210,
          264,
          266,
          276,
          265,
          244,
          245,
          268,
          200,
          149,
          224,
          285,
          202,
          271,
          215,
          269,
          166,
          206,
          317,
          271,
          185,
          298,
          317,
          166,
          177,
          139,
          107,
          191,
          175,
          285,
          196,
          183,
          155,
          146,
          225,
          284,
          286,
          283,
          189,
          291,
          114,
          208,
          231,
          258,
          325,
          249,
          224,
          146,
          217,
          290,
          284,
          300,
          126,
          144,
          147,
          277,
          182,
          253,
          284,
          192,
          211,
          196,
          168,
          167,
          97,
          238,
          162,
          398,
          291,
          160,
          187,
          132,
          186,
          220,
          109,
          198,
          263,
          125,
          142,
          277,
          211,
          210,
          247,
          254,
          251,
          288,
          223,
          183,
          307,
          184,
          221,
          232,
          282,
          209,
          277,
          288,
          141,
          137,
          131,
          129,
          117,
          278,
          286,
          274,
          283,
          261,
          153,
          296,
          268,
          303,
          129,
          147,
          271,
          270,
          294,
          271,
          260,
          108,
          289,
          86,
          284,
          225,
          115,
          185,
          286,
          220,
          200,
          256,
          247,
          231,
          189,
          281,
          281,
          175,
          251,
          254,
          283,
          180,
          293,
          174,
          177,
          217,
          281,
          280,
          133,
          171,
          261,
          58,
          251,
          239,
          231,
          204,
          145,
          256,
          308,
          258,
          175,
          167,
          293,
          103,
          308,
          138,
          190,
          178,
          248,
          72,
          269,
          274,
          329,
          278,
          261,
          111,
          90,
          68,
          218,
          311,
          292,
          214,
          191,
          252,
          292,
          225,
          312,
          268,
          272,
          311,
          252,
          222,
          303,
          152,
          283,
          90,
          296,
          285,
          291,
          268,
          131,
          261,
          216,
          228,
          269,
          280,
          193,
          256,
          263,
          271,
          279,
          200,
          215,
          213,
          167,
          218,
          213,
          312,
          293,
          167,
          264,
          177,
          139,
          187,
          140,
          274,
          170,
          195,
          293,
          293,
          277,
          188,
          280,
          287,
          293,
          273,
          304,
          189,
          128,
          176,
          312,
          293,
          305,
          191,
          121,
          199,
          157,
          215,
          242,
          235,
          212,
          224,
          177,
          298,
          137,
          164,
          252,
          317,
          226,
          295,
          280,
          292,
          256,
          166,
          133,
          314,
          181,
          227,
          308,
          177,
          265,
          309,
          284,
          121,
          193,
          296,
          305,
          248,
          256,
          178,
          194,
          308,
          167,
          274,
          119,
          305,
          210,
          294,
          155,
          294,
          130,
          280,
          289,
          285,
          222,
          197,
          147,
          190,
          192,
          295,
          291,
          307,
          280,
          138,
          151,
          141,
          294,
          273,
          139,
          157,
          304,
          247,
          319,
          116,
          235,
          97,
          264,
          330,
          276,
          304,
          315,
          256,
          262,
          180,
          343,
          287,
          225,
          217,
          170,
          256,
          272,
          173,
          115,
          316,
          270,
          189,
          223,
          272,
          304,
          103,
          231,
          256,
          242,
          227,
          177,
          303,
          241,
          299,
          237,
          255,
          275,
          251,
          331,
          265,
          140,
          280,
          154,
          239,
          273,
          317,
          285,
          319,
          147,
          193,
          166,
          278,
          165,
          169,
          267,
          244,
          173,
          101,
          284,
          221,
          134,
          295,
          226,
          294,
          135,
          187,
          232,
          229,
          230,
          263,
          311,
          99,
          319,
          181,
          147,
          178,
          196,
          157,
          180,
          187,
          245,
          254,
          172,
          186,
          295,
          272,
          205,
          185,
          66,
          190,
          281,
          280,
          150,
          93,
          116,
          240,
          191,
          261,
          171,
          300,
          208,
          140,
          188,
          211,
          323,
          207,
          144,
          120,
          266,
          253,
          169,
          283,
          298,
          301,
          252,
          285,
          277,
          303,
          247,
          269,
          220,
          258,
          128,
          285,
          256,
          185,
          220,
          157,
          293,
          209,
          114,
          153,
          175,
          268,
          184,
          292,
          179,
          117,
          294,
          165,
          215,
          121,
          200,
          265,
          126,
          266,
          234,
          144,
          227,
          217,
          130,
          218,
          140,
          332,
          231,
          317,
          159,
          281,
          121,
          264,
          162,
          258,
          272,
          185,
          267,
          212,
          268,
          249,
          138,
          273,
          256,
          257,
          302,
          278,
          196,
          125,
          297,
          94,
          126,
          316,
          247,
          263,
          289,
          216,
          306,
          257,
          175,
          233,
          194,
          286,
          202,
          152,
          167,
          295,
          274,
          204,
          186,
          193,
          305,
          153,
          205,
          155,
          180,
          196,
          286,
          294,
          276,
          307,
          174,
          135,
          196,
          317,
          255,
          254,
          124,
          116,
          331,
          261,
          226,
          223,
          268,
          278,
          242,
          263,
          257,
          214,
          295,
          144,
          292,
          239,
          286,
          289,
          138,
          283,
          218,
          210,
          207,
          165,
          103,
          173,
          186,
          194,
          227,
          224,
          268,
          219,
          303,
          250,
          197,
          275,
          264,
          263,
          160,
          278,
          288,
          271,
          241,
          90,
          325,
          296,
          276,
          286,
          307,
          130,
          239,
          306,
          244,
          150,
          117,
          114,
          295,
          194,
          240,
          256,
          232,
          254,
          220,
          144,
          282,
          210,
          259,
          220,
          285,
          269,
          316,
          307,
          129,
          169,
          315,
          317,
          76,
          290,
          286,
          293,
          240,
          291,
          313,
          266,
          155,
          245,
          256,
          294,
          144,
          268,
          228,
          318,
          312,
          265,
          305,
          240,
          251,
          281,
          293,
          243,
          278,
          238,
          136,
          198,
          258,
          145,
          141,
          83,
          300,
          318,
          307,
          229,
          273,
          118,
          190,
          239,
          264,
          156,
          256,
          162,
          205,
          256,
          199,
          201,
          316,
          226,
          240,
          228,
          143,
          76,
          285,
          270,
          228,
          166,
          185,
          199,
          326,
          116,
          292,
          156,
          250,
          328,
          311,
          266,
          257,
          286,
          292,
          147,
          83,
          221,
          210,
          185,
          156,
          292,
          256,
          293,
          108,
          224,
          296,
          104,
          246,
          222,
          90,
          274,
          82,
          314,
          227,
          164,
          232,
          150,
          142,
          135,
          280,
          229,
          320,
          297,
          269,
          137,
          265,
          215,
          167,
          244,
          270,
          137,
          267,
          69,
          271,
          127,
          194,
          264,
          261,
          255,
          183,
          290,
          143,
          223,
          304,
          233,
          99,
          302,
          254,
          291,
          199,
          89,
          213,
          186,
          327,
          292,
          104,
          163,
          231,
          244,
          199,
          191,
          240,
          278,
          53,
          247,
          255,
          314,
          173,
          267,
          209,
          273,
          168,
          281,
          117,
          312,
          191,
          209,
          187,
          233,
          201,
          306,
          133,
          216,
          278,
          285,
          104,
          302,
          94,
          280,
          204,
          287,
          295,
          275,
          264,
          293,
          240,
          242,
          291,
          290,
          324,
          220,
          243,
          219,
          191,
          101,
          256,
          169,
          221,
          151,
          315,
          247,
          220,
          290,
          318,
          116,
          212,
          241,
          290,
          124,
          268,
          228,
          125,
          131,
          312,
          167,
          190,
          183,
          201,
          251,
          285,
          297,
          225,
          236,
          275,
          275,
          165,
          310,
          250,
          325,
          323,
          317,
          34,
          315,
          271,
          327,
          307,
          234,
          319,
          258,
          106,
          274,
          179,
          254,
          289,
          282,
          226,
          153,
          207,
          259,
          254,
          248,
          270,
          67,
          307,
          251,
          182,
          152,
          144,
          297,
          222,
          216,
          269,
          278,
          265,
          273,
          313,
          263,
          211,
          213,
          183,
          183,
          209,
          351,
          172,
          240,
          247,
          320,
          138,
          263,
          297,
          268,
          276,
          164,
          228,
          243,
          252,
          146,
          256,
          83,
          229,
          249,
          269,
          297,
          298,
          252,
          268,
          297,
          256,
          278,
          286,
          256,
          228,
          288,
          205,
          309,
          154,
          247,
          190,
          139,
          95,
          266,
          299,
          269,
          178,
          311,
          242,
          154,
          261,
          303,
          291,
          259,
          303,
          248,
          273,
          190,
          202,
          228,
          241,
          159,
          297,
          146,
          157,
          276,
          317,
          235,
          264,
          220,
          153,
          229,
          301,
          296,
          229,
          210,
          112,
          317,
          298,
          309,
          294,
          282,
          279,
          264,
          112,
          259,
          287,
          114,
          190,
          284,
          255,
          252,
          295,
          242,
          146,
          258,
          259,
          298,
          280,
          200,
          242,
          277,
          262,
          294,
          249,
          308,
          225,
          242,
          104,
          277,
          175,
          250,
          176,
          294,
          216,
          252,
          256,
          224,
          303,
          285,
          161,
          185,
          227,
          215,
          172,
          127,
          262,
          173,
          281,
          177,
          232,
          170,
          80,
          201,
          333,
          127,
          122,
          194,
          115,
          233,
          234,
          255,
          267,
          204,
          257,
          20,
          197,
          133,
          314,
          250,
          253,
          174,
          166,
          158,
          284,
          245,
          270,
          273,
          143,
          106,
          211,
          287,
          194,
          334,
          220,
          236,
          100,
          229,
          325,
          167,
          235,
          240,
          193,
          251,
          158,
          175,
          290,
          241,
          276,
          293,
          257,
          199,
          158,
          244,
          51,
          92,
          56,
          83,
          220,
          243,
          281,
          195,
          231,
          290,
          177,
          249,
          185,
          142,
          232,
          138,
          253,
          257,
          312,
          227,
          290,
          196,
          227,
          179,
          268,
          301,
          233,
          288,
          276,
          216,
          269,
          240,
          255,
          262,
          208,
          292,
          262,
          182,
          208,
          255,
          222,
          116,
          280,
          154,
          225,
          280,
          266,
          157,
          163,
          130,
          84,
          285,
          282,
          165,
          249,
          279,
          228,
          243,
          256,
          137,
          285,
          302,
          302,
          290,
          136,
          301,
          186,
          235,
          230,
          243,
          256,
          323,
          297,
          125,
          207,
          258,
          285,
          261,
          159,
          203,
          326,
          204,
          198,
          298,
          251,
          125,
          145,
          287,
          97,
          96,
          275,
          225,
          305,
          245,
          145,
          292,
          393,
          141,
          189,
          214,
          191,
          280,
          218,
          205,
          103,
          110,
          294,
          225,
          147,
          219,
          284,
          275,
          311,
          157,
          91,
          215,
          162,
          270,
          162,
          325,
          280,
          205,
          86,
          240,
          267,
          306,
          126,
          180,
          240,
          229,
          282,
          186,
          146,
          177,
          203,
          147,
          168,
          206,
          299,
          179,
          323,
          159,
          209,
          104,
          312,
          300,
          105,
          230,
          228,
          154,
          175,
          270,
          307,
          133,
          300,
          177,
          171,
          157,
          254,
          297,
          263,
          233,
          243,
          267,
          135,
          309,
          234,
          231,
          137,
          228
         ]
        }
       ],
       "layout": {
        "barmode": "overlay",
        "legend": {
         "bgcolor": "#F5F6F9",
         "font": {
          "color": "#4D5663"
         }
        },
        "paper_bgcolor": "#F5F6F9",
        "plot_bgcolor": "#F5F6F9",
        "template": {
         "data": {
          "bar": [
           {
            "error_x": {
             "color": "#2a3f5f"
            },
            "error_y": {
             "color": "#2a3f5f"
            },
            "marker": {
             "line": {
              "color": "#E5ECF6",
              "width": 0.5
             }
            },
            "type": "bar"
           }
          ],
          "barpolar": [
           {
            "marker": {
             "line": {
              "color": "#E5ECF6",
              "width": 0.5
             }
            },
            "type": "barpolar"
           }
          ],
          "carpet": [
           {
            "aaxis": {
             "endlinecolor": "#2a3f5f",
             "gridcolor": "white",
             "linecolor": "white",
             "minorgridcolor": "white",
             "startlinecolor": "#2a3f5f"
            },
            "baxis": {
             "endlinecolor": "#2a3f5f",
             "gridcolor": "white",
             "linecolor": "white",
             "minorgridcolor": "white",
             "startlinecolor": "#2a3f5f"
            },
            "type": "carpet"
           }
          ],
          "choropleth": [
           {
            "colorbar": {
             "outlinewidth": 0,
             "ticks": ""
            },
            "type": "choropleth"
           }
          ],
          "contour": [
           {
            "colorbar": {
             "outlinewidth": 0,
             "ticks": ""
            },
            "colorscale": [
             [
              0,
              "#0d0887"
             ],
             [
              0.1111111111111111,
              "#46039f"
             ],
             [
              0.2222222222222222,
              "#7201a8"
             ],
             [
              0.3333333333333333,
              "#9c179e"
             ],
             [
              0.4444444444444444,
              "#bd3786"
             ],
             [
              0.5555555555555556,
              "#d8576b"
             ],
             [
              0.6666666666666666,
              "#ed7953"
             ],
             [
              0.7777777777777778,
              "#fb9f3a"
             ],
             [
              0.8888888888888888,
              "#fdca26"
             ],
             [
              1,
              "#f0f921"
             ]
            ],
            "type": "contour"
           }
          ],
          "contourcarpet": [
           {
            "colorbar": {
             "outlinewidth": 0,
             "ticks": ""
            },
            "type": "contourcarpet"
           }
          ],
          "heatmap": [
           {
            "colorbar": {
             "outlinewidth": 0,
             "ticks": ""
            },
            "colorscale": [
             [
              0,
              "#0d0887"
             ],
             [
              0.1111111111111111,
              "#46039f"
             ],
             [
              0.2222222222222222,
              "#7201a8"
             ],
             [
              0.3333333333333333,
              "#9c179e"
             ],
             [
              0.4444444444444444,
              "#bd3786"
             ],
             [
              0.5555555555555556,
              "#d8576b"
             ],
             [
              0.6666666666666666,
              "#ed7953"
             ],
             [
              0.7777777777777778,
              "#fb9f3a"
             ],
             [
              0.8888888888888888,
              "#fdca26"
             ],
             [
              1,
              "#f0f921"
             ]
            ],
            "type": "heatmap"
           }
          ],
          "heatmapgl": [
           {
            "colorbar": {
             "outlinewidth": 0,
             "ticks": ""
            },
            "colorscale": [
             [
              0,
              "#0d0887"
             ],
             [
              0.1111111111111111,
              "#46039f"
             ],
             [
              0.2222222222222222,
              "#7201a8"
             ],
             [
              0.3333333333333333,
              "#9c179e"
             ],
             [
              0.4444444444444444,
              "#bd3786"
             ],
             [
              0.5555555555555556,
              "#d8576b"
             ],
             [
              0.6666666666666666,
              "#ed7953"
             ],
             [
              0.7777777777777778,
              "#fb9f3a"
             ],
             [
              0.8888888888888888,
              "#fdca26"
             ],
             [
              1,
              "#f0f921"
             ]
            ],
            "type": "heatmapgl"
           }
          ],
          "histogram": [
           {
            "marker": {
             "colorbar": {
              "outlinewidth": 0,
              "ticks": ""
             }
            },
            "type": "histogram"
           }
          ],
          "histogram2d": [
           {
            "colorbar": {
             "outlinewidth": 0,
             "ticks": ""
            },
            "colorscale": [
             [
              0,
              "#0d0887"
             ],
             [
              0.1111111111111111,
              "#46039f"
             ],
             [
              0.2222222222222222,
              "#7201a8"
             ],
             [
              0.3333333333333333,
              "#9c179e"
             ],
             [
              0.4444444444444444,
              "#bd3786"
             ],
             [
              0.5555555555555556,
              "#d8576b"
             ],
             [
              0.6666666666666666,
              "#ed7953"
             ],
             [
              0.7777777777777778,
              "#fb9f3a"
             ],
             [
              0.8888888888888888,
              "#fdca26"
             ],
             [
              1,
              "#f0f921"
             ]
            ],
            "type": "histogram2d"
           }
          ],
          "histogram2dcontour": [
           {
            "colorbar": {
             "outlinewidth": 0,
             "ticks": ""
            },
            "colorscale": [
             [
              0,
              "#0d0887"
             ],
             [
              0.1111111111111111,
              "#46039f"
             ],
             [
              0.2222222222222222,
              "#7201a8"
             ],
             [
              0.3333333333333333,
              "#9c179e"
             ],
             [
              0.4444444444444444,
              "#bd3786"
             ],
             [
              0.5555555555555556,
              "#d8576b"
             ],
             [
              0.6666666666666666,
              "#ed7953"
             ],
             [
              0.7777777777777778,
              "#fb9f3a"
             ],
             [
              0.8888888888888888,
              "#fdca26"
             ],
             [
              1,
              "#f0f921"
             ]
            ],
            "type": "histogram2dcontour"
           }
          ],
          "mesh3d": [
           {
            "colorbar": {
             "outlinewidth": 0,
             "ticks": ""
            },
            "type": "mesh3d"
           }
          ],
          "parcoords": [
           {
            "line": {
             "colorbar": {
              "outlinewidth": 0,
              "ticks": ""
             }
            },
            "type": "parcoords"
           }
          ],
          "pie": [
           {
            "automargin": true,
            "type": "pie"
           }
          ],
          "scatter": [
           {
            "marker": {
             "colorbar": {
              "outlinewidth": 0,
              "ticks": ""
             }
            },
            "type": "scatter"
           }
          ],
          "scatter3d": [
           {
            "line": {
             "colorbar": {
              "outlinewidth": 0,
              "ticks": ""
             }
            },
            "marker": {
             "colorbar": {
              "outlinewidth": 0,
              "ticks": ""
             }
            },
            "type": "scatter3d"
           }
          ],
          "scattercarpet": [
           {
            "marker": {
             "colorbar": {
              "outlinewidth": 0,
              "ticks": ""
             }
            },
            "type": "scattercarpet"
           }
          ],
          "scattergeo": [
           {
            "marker": {
             "colorbar": {
              "outlinewidth": 0,
              "ticks": ""
             }
            },
            "type": "scattergeo"
           }
          ],
          "scattergl": [
           {
            "marker": {
             "colorbar": {
              "outlinewidth": 0,
              "ticks": ""
             }
            },
            "type": "scattergl"
           }
          ],
          "scattermapbox": [
           {
            "marker": {
             "colorbar": {
              "outlinewidth": 0,
              "ticks": ""
             }
            },
            "type": "scattermapbox"
           }
          ],
          "scatterpolar": [
           {
            "marker": {
             "colorbar": {
              "outlinewidth": 0,
              "ticks": ""
             }
            },
            "type": "scatterpolar"
           }
          ],
          "scatterpolargl": [
           {
            "marker": {
             "colorbar": {
              "outlinewidth": 0,
              "ticks": ""
             }
            },
            "type": "scatterpolargl"
           }
          ],
          "scatterternary": [
           {
            "marker": {
             "colorbar": {
              "outlinewidth": 0,
              "ticks": ""
             }
            },
            "type": "scatterternary"
           }
          ],
          "surface": [
           {
            "colorbar": {
             "outlinewidth": 0,
             "ticks": ""
            },
            "colorscale": [
             [
              0,
              "#0d0887"
             ],
             [
              0.1111111111111111,
              "#46039f"
             ],
             [
              0.2222222222222222,
              "#7201a8"
             ],
             [
              0.3333333333333333,
              "#9c179e"
             ],
             [
              0.4444444444444444,
              "#bd3786"
             ],
             [
              0.5555555555555556,
              "#d8576b"
             ],
             [
              0.6666666666666666,
              "#ed7953"
             ],
             [
              0.7777777777777778,
              "#fb9f3a"
             ],
             [
              0.8888888888888888,
              "#fdca26"
             ],
             [
              1,
              "#f0f921"
             ]
            ],
            "type": "surface"
           }
          ],
          "table": [
           {
            "cells": {
             "fill": {
              "color": "#EBF0F8"
             },
             "line": {
              "color": "white"
             }
            },
            "header": {
             "fill": {
              "color": "#C8D4E3"
             },
             "line": {
              "color": "white"
             }
            },
            "type": "table"
           }
          ]
         },
         "layout": {
          "annotationdefaults": {
           "arrowcolor": "#2a3f5f",
           "arrowhead": 0,
           "arrowwidth": 1
          },
          "autotypenumbers": "strict",
          "coloraxis": {
           "colorbar": {
            "outlinewidth": 0,
            "ticks": ""
           }
          },
          "colorscale": {
           "diverging": [
            [
             0,
             "#8e0152"
            ],
            [
             0.1,
             "#c51b7d"
            ],
            [
             0.2,
             "#de77ae"
            ],
            [
             0.3,
             "#f1b6da"
            ],
            [
             0.4,
             "#fde0ef"
            ],
            [
             0.5,
             "#f7f7f7"
            ],
            [
             0.6,
             "#e6f5d0"
            ],
            [
             0.7,
             "#b8e186"
            ],
            [
             0.8,
             "#7fbc41"
            ],
            [
             0.9,
             "#4d9221"
            ],
            [
             1,
             "#276419"
            ]
           ],
           "sequential": [
            [
             0,
             "#0d0887"
            ],
            [
             0.1111111111111111,
             "#46039f"
            ],
            [
             0.2222222222222222,
             "#7201a8"
            ],
            [
             0.3333333333333333,
             "#9c179e"
            ],
            [
             0.4444444444444444,
             "#bd3786"
            ],
            [
             0.5555555555555556,
             "#d8576b"
            ],
            [
             0.6666666666666666,
             "#ed7953"
            ],
            [
             0.7777777777777778,
             "#fb9f3a"
            ],
            [
             0.8888888888888888,
             "#fdca26"
            ],
            [
             1,
             "#f0f921"
            ]
           ],
           "sequentialminus": [
            [
             0,
             "#0d0887"
            ],
            [
             0.1111111111111111,
             "#46039f"
            ],
            [
             0.2222222222222222,
             "#7201a8"
            ],
            [
             0.3333333333333333,
             "#9c179e"
            ],
            [
             0.4444444444444444,
             "#bd3786"
            ],
            [
             0.5555555555555556,
             "#d8576b"
            ],
            [
             0.6666666666666666,
             "#ed7953"
            ],
            [
             0.7777777777777778,
             "#fb9f3a"
            ],
            [
             0.8888888888888888,
             "#fdca26"
            ],
            [
             1,
             "#f0f921"
            ]
           ]
          },
          "colorway": [
           "#636efa",
           "#EF553B",
           "#00cc96",
           "#ab63fa",
           "#FFA15A",
           "#19d3f3",
           "#FF6692",
           "#B6E880",
           "#FF97FF",
           "#FECB52"
          ],
          "font": {
           "color": "#2a3f5f"
          },
          "geo": {
           "bgcolor": "white",
           "lakecolor": "white",
           "landcolor": "#E5ECF6",
           "showlakes": true,
           "showland": true,
           "subunitcolor": "white"
          },
          "hoverlabel": {
           "align": "left"
          },
          "hovermode": "closest",
          "mapbox": {
           "style": "light"
          },
          "paper_bgcolor": "white",
          "plot_bgcolor": "#E5ECF6",
          "polar": {
           "angularaxis": {
            "gridcolor": "white",
            "linecolor": "white",
            "ticks": ""
           },
           "bgcolor": "#E5ECF6",
           "radialaxis": {
            "gridcolor": "white",
            "linecolor": "white",
            "ticks": ""
           }
          },
          "scene": {
           "xaxis": {
            "backgroundcolor": "#E5ECF6",
            "gridcolor": "white",
            "gridwidth": 2,
            "linecolor": "white",
            "showbackground": true,
            "ticks": "",
            "zerolinecolor": "white"
           },
           "yaxis": {
            "backgroundcolor": "#E5ECF6",
            "gridcolor": "white",
            "gridwidth": 2,
            "linecolor": "white",
            "showbackground": true,
            "ticks": "",
            "zerolinecolor": "white"
           },
           "zaxis": {
            "backgroundcolor": "#E5ECF6",
            "gridcolor": "white",
            "gridwidth": 2,
            "linecolor": "white",
            "showbackground": true,
            "ticks": "",
            "zerolinecolor": "white"
           }
          },
          "shapedefaults": {
           "line": {
            "color": "#2a3f5f"
           }
          },
          "ternary": {
           "aaxis": {
            "gridcolor": "white",
            "linecolor": "white",
            "ticks": ""
           },
           "baxis": {
            "gridcolor": "white",
            "linecolor": "white",
            "ticks": ""
           },
           "bgcolor": "#E5ECF6",
           "caxis": {
            "gridcolor": "white",
            "linecolor": "white",
            "ticks": ""
           }
          },
          "title": {
           "x": 0.05
          },
          "xaxis": {
           "automargin": true,
           "gridcolor": "white",
           "linecolor": "white",
           "ticks": "",
           "title": {
            "standoff": 15
           },
           "zerolinecolor": "white",
           "zerolinewidth": 2
          },
          "yaxis": {
           "automargin": true,
           "gridcolor": "white",
           "linecolor": "white",
           "ticks": "",
           "title": {
            "standoff": 15
           },
           "zerolinecolor": "white",
           "zerolinewidth": 2
          }
         }
        },
        "title": {
         "font": {
          "color": "#4D5663"
         },
         "text": "Distribution of Tweet length"
        },
        "xaxis": {
         "gridcolor": "#E1E5ED",
         "showgrid": true,
         "tickfont": {
          "color": "#4D5663"
         },
         "title": {
          "font": {
           "color": "#4D5663"
          },
          "text": "Length of Tweets"
         },
         "zerolinecolor": "#E1E5ED"
        },
        "yaxis": {
         "gridcolor": "#E1E5ED",
         "showgrid": true,
         "tickfont": {
          "color": "#4D5663"
         },
         "title": {
          "font": {
           "color": "#4D5663"
          },
          "text": "Count"
         },
         "zerolinecolor": "#E1E5ED"
        }
       }
      },
      "text/html": [
       "<div>                            <div id=\"6296bd9b-2c76-4c29-a6bb-0318901ec1e4\" class=\"plotly-graph-div\" style=\"height:525px; width:100%;\"></div>            <script type=\"text/javascript\">                require([\"plotly\"], function(Plotly) {                    window.PLOTLYENV=window.PLOTLYENV || {};\n",
       "                    window.PLOTLYENV.BASE_URL='https://plot.ly';                                    if (document.getElementById(\"6296bd9b-2c76-4c29-a6bb-0318901ec1e4\")) {                    Plotly.newPlot(                        \"6296bd9b-2c76-4c29-a6bb-0318901ec1e4\",                        [{\"histfunc\": \"count\", \"histnorm\": \"\", \"marker\": {\"color\": \"rgba(255, 153, 51, 1.0)\", \"line\": {\"color\": \"#4D5663\", \"width\": 1.3}}, \"name\": \"text_len\", \"opacity\": 0.8, \"orientation\": \"v\", \"type\": \"histogram\", \"x\": [205, 330, 91, 256, 212, 241, 290, 269, 221, 292, 251, 201, 290, 287, 324, 297, 280, 197, 247, 317, 285, 138, 128, 294, 154, 182, 281, 240, 330, 223, 165, 304, 294, 299, 312, 121, 277, 219, 256, 275, 278, 294, 300, 315, 317, 93, 121, 304, 131, 153, 109, 288, 225, 235, 225, 268, 270, 173, 258, 313, 252, 169, 244, 203, 268, 281, 227, 293, 191, 347, 256, 153, 262, 298, 194, 258, 183, 248, 328, 269, 115, 300, 114, 221, 269, 116, 258, 132, 295, 282, 346, 278, 286, 274, 191, 310, 254, 304, 186, 264, 241, 324, 155, 248, 316, 167, 268, 193, 170, 228, 125, 110, 275, 276, 232, 239, 319, 319, 285, 268, 272, 207, 166, 283, 286, 298, 320, 269, 199, 240, 218, 133, 283, 253, 307, 142, 177, 293, 277, 313, 130, 320, 271, 119, 199, 83, 158, 197, 117, 229, 255, 286, 185, 235, 254, 190, 137, 184, 126, 263, 219, 129, 268, 288, 271, 223, 313, 192, 241, 270, 332, 216, 298, 283, 153, 113, 318, 118, 259, 253, 109, 286, 181, 297, 221, 260, 233, 256, 249, 235, 198, 217, 216, 274, 311, 155, 256, 127, 188, 185, 138, 135, 276, 195, 298, 311, 180, 181, 162, 178, 138, 301, 132, 314, 70, 227, 158, 176, 78, 273, 295, 289, 131, 153, 140, 267, 305, 263, 189, 220, 168, 207, 301, 186, 133, 185, 209, 201, 154, 257, 210, 280, 188, 261, 178, 132, 331, 220, 118, 181, 322, 167, 218, 235, 323, 164, 273, 129, 273, 231, 178, 309, 275, 108, 309, 108, 177, 150, 256, 201, 261, 244, 315, 119, 198, 161, 207, 136, 290, 169, 326, 175, 157, 175, 93, 148, 113, 213, 194, 174, 321, 263, 121, 264, 298, 228, 320, 229, 207, 316, 208, 167, 200, 240, 261, 144, 280, 294, 270, 229, 225, 157, 165, 141, 175, 266, 237, 193, 311, 240, 225, 256, 160, 278, 111, 282, 303, 135, 196, 278, 165, 163, 244, 173, 288, 194, 234, 119, 198, 287, 261, 271, 196, 289, 253, 189, 280, 131, 278, 90, 284, 240, 101, 268, 174, 174, 103, 257, 288, 222, 310, 283, 282, 188, 305, 269, 279, 287, 265, 257, 226, 166, 191, 225, 342, 287, 129, 301, 150, 176, 130, 286, 229, 247, 337, 202, 168, 276, 104, 220, 227, 283, 150, 256, 281, 287, 150, 100, 311, 292, 262, 328, 191, 272, 98, 280, 273, 120, 115, 181, 232, 288, 256, 225, 199, 313, 271, 149, 119, 144, 197, 122, 299, 292, 286, 238, 312, 293, 156, 176, 257, 248, 264, 302, 324, 95, 177, 88, 297, 284, 137, 255, 280, 251, 105, 300, 289, 139, 75, 251, 182, 297, 192, 294, 123, 300, 247, 274, 290, 316, 302, 192, 213, 148, 255, 259, 218, 186, 278, 166, 309, 151, 212, 97, 284, 273, 179, 163, 170, 289, 123, 244, 178, 200, 231, 285, 269, 173, 173, 297, 217, 256, 83, 155, 265, 259, 168, 291, 184, 169, 206, 256, 148, 167, 298, 130, 212, 194, 294, 203, 255, 138, 213, 217, 240, 303, 303, 277, 237, 324, 200, 119, 97, 159, 235, 175, 288, 183, 245, 106, 279, 222, 291, 147, 191, 267, 256, 254, 271, 113, 96, 308, 254, 213, 335, 307, 123, 163, 316, 252, 269, 238, 196, 328, 276, 207, 271, 268, 230, 168, 179, 187, 275, 203, 165, 241, 267, 226, 252, 109, 303, 173, 184, 268, 262, 131, 242, 269, 261, 185, 310, 148, 287, 168, 187, 178, 254, 130, 154, 296, 166, 256, 216, 258, 208, 270, 130, 256, 306, 148, 154, 172, 243, 220, 165, 95, 166, 302, 218, 234, 165, 213, 77, 293, 281, 162, 209, 220, 92, 286, 205, 285, 124, 148, 184, 190, 278, 183, 217, 208, 235, 91, 303, 191, 316, 271, 287, 172, 234, 324, 244, 232, 255, 249, 287, 152, 118, 149, 314, 275, 270, 213, 236, 300, 303, 118, 306, 319, 239, 299, 290, 161, 181, 300, 138, 145, 171, 225, 298, 290, 240, 319, 232, 174, 218, 333, 289, 131, 145, 274, 174, 154, 174, 55, 258, 161, 139, 146, 127, 237, 265, 253, 135, 298, 216, 291, 220, 165, 123, 186, 289, 267, 274, 177, 118, 177, 113, 230, 247, 309, 315, 178, 109, 208, 278, 270, 151, 167, 165, 321, 74, 269, 201, 333, 212, 287, 139, 220, 276, 207, 271, 300, 207, 304, 142, 191, 181, 170, 196, 280, 99, 313, 295, 203, 224, 298, 120, 264, 163, 324, 249, 285, 188, 230, 246, 303, 168, 198, 305, 320, 188, 165, 168, 260, 205, 145, 226, 291, 193, 292, 109, 276, 161, 280, 322, 187, 182, 186, 133, 300, 210, 264, 266, 276, 265, 244, 245, 268, 200, 149, 224, 285, 202, 271, 215, 269, 166, 206, 317, 271, 185, 298, 317, 166, 177, 139, 107, 191, 175, 285, 196, 183, 155, 146, 225, 284, 286, 283, 189, 291, 114, 208, 231, 258, 325, 249, 224, 146, 217, 290, 284, 300, 126, 144, 147, 277, 182, 253, 284, 192, 211, 196, 168, 167, 97, 238, 162, 398, 291, 160, 187, 132, 186, 220, 109, 198, 263, 125, 142, 277, 211, 210, 247, 254, 251, 288, 223, 183, 307, 184, 221, 232, 282, 209, 277, 288, 141, 137, 131, 129, 117, 278, 286, 274, 283, 261, 153, 296, 268, 303, 129, 147, 271, 270, 294, 271, 260, 108, 289, 86, 284, 225, 115, 185, 286, 220, 200, 256, 247, 231, 189, 281, 281, 175, 251, 254, 283, 180, 293, 174, 177, 217, 281, 280, 133, 171, 261, 58, 251, 239, 231, 204, 145, 256, 308, 258, 175, 167, 293, 103, 308, 138, 190, 178, 248, 72, 269, 274, 329, 278, 261, 111, 90, 68, 218, 311, 292, 214, 191, 252, 292, 225, 312, 268, 272, 311, 252, 222, 303, 152, 283, 90, 296, 285, 291, 268, 131, 261, 216, 228, 269, 280, 193, 256, 263, 271, 279, 200, 215, 213, 167, 218, 213, 312, 293, 167, 264, 177, 139, 187, 140, 274, 170, 195, 293, 293, 277, 188, 280, 287, 293, 273, 304, 189, 128, 176, 312, 293, 305, 191, 121, 199, 157, 215, 242, 235, 212, 224, 177, 298, 137, 164, 252, 317, 226, 295, 280, 292, 256, 166, 133, 314, 181, 227, 308, 177, 265, 309, 284, 121, 193, 296, 305, 248, 256, 178, 194, 308, 167, 274, 119, 305, 210, 294, 155, 294, 130, 280, 289, 285, 222, 197, 147, 190, 192, 295, 291, 307, 280, 138, 151, 141, 294, 273, 139, 157, 304, 247, 319, 116, 235, 97, 264, 330, 276, 304, 315, 256, 262, 180, 343, 287, 225, 217, 170, 256, 272, 173, 115, 316, 270, 189, 223, 272, 304, 103, 231, 256, 242, 227, 177, 303, 241, 299, 237, 255, 275, 251, 331, 265, 140, 280, 154, 239, 273, 317, 285, 319, 147, 193, 166, 278, 165, 169, 267, 244, 173, 101, 284, 221, 134, 295, 226, 294, 135, 187, 232, 229, 230, 263, 311, 99, 319, 181, 147, 178, 196, 157, 180, 187, 245, 254, 172, 186, 295, 272, 205, 185, 66, 190, 281, 280, 150, 93, 116, 240, 191, 261, 171, 300, 208, 140, 188, 211, 323, 207, 144, 120, 266, 253, 169, 283, 298, 301, 252, 285, 277, 303, 247, 269, 220, 258, 128, 285, 256, 185, 220, 157, 293, 209, 114, 153, 175, 268, 184, 292, 179, 117, 294, 165, 215, 121, 200, 265, 126, 266, 234, 144, 227, 217, 130, 218, 140, 332, 231, 317, 159, 281, 121, 264, 162, 258, 272, 185, 267, 212, 268, 249, 138, 273, 256, 257, 302, 278, 196, 125, 297, 94, 126, 316, 247, 263, 289, 216, 306, 257, 175, 233, 194, 286, 202, 152, 167, 295, 274, 204, 186, 193, 305, 153, 205, 155, 180, 196, 286, 294, 276, 307, 174, 135, 196, 317, 255, 254, 124, 116, 331, 261, 226, 223, 268, 278, 242, 263, 257, 214, 295, 144, 292, 239, 286, 289, 138, 283, 218, 210, 207, 165, 103, 173, 186, 194, 227, 224, 268, 219, 303, 250, 197, 275, 264, 263, 160, 278, 288, 271, 241, 90, 325, 296, 276, 286, 307, 130, 239, 306, 244, 150, 117, 114, 295, 194, 240, 256, 232, 254, 220, 144, 282, 210, 259, 220, 285, 269, 316, 307, 129, 169, 315, 317, 76, 290, 286, 293, 240, 291, 313, 266, 155, 245, 256, 294, 144, 268, 228, 318, 312, 265, 305, 240, 251, 281, 293, 243, 278, 238, 136, 198, 258, 145, 141, 83, 300, 318, 307, 229, 273, 118, 190, 239, 264, 156, 256, 162, 205, 256, 199, 201, 316, 226, 240, 228, 143, 76, 285, 270, 228, 166, 185, 199, 326, 116, 292, 156, 250, 328, 311, 266, 257, 286, 292, 147, 83, 221, 210, 185, 156, 292, 256, 293, 108, 224, 296, 104, 246, 222, 90, 274, 82, 314, 227, 164, 232, 150, 142, 135, 280, 229, 320, 297, 269, 137, 265, 215, 167, 244, 270, 137, 267, 69, 271, 127, 194, 264, 261, 255, 183, 290, 143, 223, 304, 233, 99, 302, 254, 291, 199, 89, 213, 186, 327, 292, 104, 163, 231, 244, 199, 191, 240, 278, 53, 247, 255, 314, 173, 267, 209, 273, 168, 281, 117, 312, 191, 209, 187, 233, 201, 306, 133, 216, 278, 285, 104, 302, 94, 280, 204, 287, 295, 275, 264, 293, 240, 242, 291, 290, 324, 220, 243, 219, 191, 101, 256, 169, 221, 151, 315, 247, 220, 290, 318, 116, 212, 241, 290, 124, 268, 228, 125, 131, 312, 167, 190, 183, 201, 251, 285, 297, 225, 236, 275, 275, 165, 310, 250, 325, 323, 317, 34, 315, 271, 327, 307, 234, 319, 258, 106, 274, 179, 254, 289, 282, 226, 153, 207, 259, 254, 248, 270, 67, 307, 251, 182, 152, 144, 297, 222, 216, 269, 278, 265, 273, 313, 263, 211, 213, 183, 183, 209, 351, 172, 240, 247, 320, 138, 263, 297, 268, 276, 164, 228, 243, 252, 146, 256, 83, 229, 249, 269, 297, 298, 252, 268, 297, 256, 278, 286, 256, 228, 288, 205, 309, 154, 247, 190, 139, 95, 266, 299, 269, 178, 311, 242, 154, 261, 303, 291, 259, 303, 248, 273, 190, 202, 228, 241, 159, 297, 146, 157, 276, 317, 235, 264, 220, 153, 229, 301, 296, 229, 210, 112, 317, 298, 309, 294, 282, 279, 264, 112, 259, 287, 114, 190, 284, 255, 252, 295, 242, 146, 258, 259, 298, 280, 200, 242, 277, 262, 294, 249, 308, 225, 242, 104, 277, 175, 250, 176, 294, 216, 252, 256, 224, 303, 285, 161, 185, 227, 215, 172, 127, 262, 173, 281, 177, 232, 170, 80, 201, 333, 127, 122, 194, 115, 233, 234, 255, 267, 204, 257, 20, 197, 133, 314, 250, 253, 174, 166, 158, 284, 245, 270, 273, 143, 106, 211, 287, 194, 334, 220, 236, 100, 229, 325, 167, 235, 240, 193, 251, 158, 175, 290, 241, 276, 293, 257, 199, 158, 244, 51, 92, 56, 83, 220, 243, 281, 195, 231, 290, 177, 249, 185, 142, 232, 138, 253, 257, 312, 227, 290, 196, 227, 179, 268, 301, 233, 288, 276, 216, 269, 240, 255, 262, 208, 292, 262, 182, 208, 255, 222, 116, 280, 154, 225, 280, 266, 157, 163, 130, 84, 285, 282, 165, 249, 279, 228, 243, 256, 137, 285, 302, 302, 290, 136, 301, 186, 235, 230, 243, 256, 323, 297, 125, 207, 258, 285, 261, 159, 203, 326, 204, 198, 298, 251, 125, 145, 287, 97, 96, 275, 225, 305, 245, 145, 292, 393, 141, 189, 214, 191, 280, 218, 205, 103, 110, 294, 225, 147, 219, 284, 275, 311, 157, 91, 215, 162, 270, 162, 325, 280, 205, 86, 240, 267, 306, 126, 180, 240, 229, 282, 186, 146, 177, 203, 147, 168, 206, 299, 179, 323, 159, 209, 104, 312, 300, 105, 230, 228, 154, 175, 270, 307, 133, 300, 177, 171, 157, 254, 297, 263, 233, 243, 267, 135, 309, 234, 231, 137, 228]}],                        {\"barmode\": \"overlay\", \"legend\": {\"bgcolor\": \"#F5F6F9\", \"font\": {\"color\": \"#4D5663\"}}, \"paper_bgcolor\": \"#F5F6F9\", \"plot_bgcolor\": \"#F5F6F9\", \"template\": {\"data\": {\"bar\": [{\"error_x\": {\"color\": \"#2a3f5f\"}, \"error_y\": {\"color\": \"#2a3f5f\"}, \"marker\": {\"line\": {\"color\": \"#E5ECF6\", \"width\": 0.5}}, \"type\": \"bar\"}], \"barpolar\": [{\"marker\": {\"line\": {\"color\": \"#E5ECF6\", \"width\": 0.5}}, \"type\": \"barpolar\"}], \"carpet\": [{\"aaxis\": {\"endlinecolor\": \"#2a3f5f\", \"gridcolor\": \"white\", \"linecolor\": \"white\", \"minorgridcolor\": \"white\", \"startlinecolor\": \"#2a3f5f\"}, \"baxis\": {\"endlinecolor\": \"#2a3f5f\", \"gridcolor\": \"white\", \"linecolor\": \"white\", \"minorgridcolor\": \"white\", \"startlinecolor\": \"#2a3f5f\"}, \"type\": \"carpet\"}], \"choropleth\": [{\"colorbar\": {\"outlinewidth\": 0, \"ticks\": \"\"}, \"type\": \"choropleth\"}], \"contour\": [{\"colorbar\": {\"outlinewidth\": 0, \"ticks\": \"\"}, \"colorscale\": [[0.0, \"#0d0887\"], [0.1111111111111111, \"#46039f\"], [0.2222222222222222, \"#7201a8\"], [0.3333333333333333, \"#9c179e\"], [0.4444444444444444, \"#bd3786\"], [0.5555555555555556, \"#d8576b\"], [0.6666666666666666, \"#ed7953\"], [0.7777777777777778, \"#fb9f3a\"], [0.8888888888888888, \"#fdca26\"], [1.0, \"#f0f921\"]], \"type\": \"contour\"}], \"contourcarpet\": [{\"colorbar\": {\"outlinewidth\": 0, \"ticks\": \"\"}, \"type\": \"contourcarpet\"}], \"heatmap\": [{\"colorbar\": {\"outlinewidth\": 0, \"ticks\": \"\"}, \"colorscale\": [[0.0, \"#0d0887\"], [0.1111111111111111, \"#46039f\"], [0.2222222222222222, \"#7201a8\"], [0.3333333333333333, \"#9c179e\"], [0.4444444444444444, \"#bd3786\"], [0.5555555555555556, \"#d8576b\"], [0.6666666666666666, \"#ed7953\"], [0.7777777777777778, \"#fb9f3a\"], [0.8888888888888888, \"#fdca26\"], [1.0, \"#f0f921\"]], \"type\": \"heatmap\"}], \"heatmapgl\": [{\"colorbar\": {\"outlinewidth\": 0, \"ticks\": \"\"}, \"colorscale\": [[0.0, \"#0d0887\"], [0.1111111111111111, \"#46039f\"], [0.2222222222222222, \"#7201a8\"], [0.3333333333333333, \"#9c179e\"], [0.4444444444444444, \"#bd3786\"], [0.5555555555555556, \"#d8576b\"], [0.6666666666666666, \"#ed7953\"], [0.7777777777777778, \"#fb9f3a\"], [0.8888888888888888, \"#fdca26\"], [1.0, \"#f0f921\"]], \"type\": \"heatmapgl\"}], \"histogram\": [{\"marker\": {\"colorbar\": {\"outlinewidth\": 0, \"ticks\": \"\"}}, \"type\": \"histogram\"}], \"histogram2d\": [{\"colorbar\": {\"outlinewidth\": 0, \"ticks\": \"\"}, \"colorscale\": [[0.0, \"#0d0887\"], [0.1111111111111111, \"#46039f\"], [0.2222222222222222, \"#7201a8\"], [0.3333333333333333, \"#9c179e\"], [0.4444444444444444, \"#bd3786\"], [0.5555555555555556, \"#d8576b\"], [0.6666666666666666, \"#ed7953\"], [0.7777777777777778, \"#fb9f3a\"], [0.8888888888888888, \"#fdca26\"], [1.0, \"#f0f921\"]], \"type\": \"histogram2d\"}], \"histogram2dcontour\": [{\"colorbar\": {\"outlinewidth\": 0, \"ticks\": \"\"}, \"colorscale\": [[0.0, \"#0d0887\"], [0.1111111111111111, \"#46039f\"], [0.2222222222222222, \"#7201a8\"], [0.3333333333333333, \"#9c179e\"], [0.4444444444444444, \"#bd3786\"], [0.5555555555555556, \"#d8576b\"], [0.6666666666666666, \"#ed7953\"], [0.7777777777777778, \"#fb9f3a\"], [0.8888888888888888, \"#fdca26\"], [1.0, \"#f0f921\"]], \"type\": \"histogram2dcontour\"}], \"mesh3d\": [{\"colorbar\": {\"outlinewidth\": 0, \"ticks\": \"\"}, \"type\": \"mesh3d\"}], \"parcoords\": [{\"line\": {\"colorbar\": {\"outlinewidth\": 0, \"ticks\": \"\"}}, \"type\": \"parcoords\"}], \"pie\": [{\"automargin\": true, \"type\": \"pie\"}], \"scatter\": [{\"marker\": {\"colorbar\": {\"outlinewidth\": 0, \"ticks\": \"\"}}, \"type\": \"scatter\"}], \"scatter3d\": [{\"line\": {\"colorbar\": {\"outlinewidth\": 0, \"ticks\": \"\"}}, \"marker\": {\"colorbar\": {\"outlinewidth\": 0, \"ticks\": \"\"}}, \"type\": \"scatter3d\"}], \"scattercarpet\": [{\"marker\": {\"colorbar\": {\"outlinewidth\": 0, \"ticks\": \"\"}}, \"type\": \"scattercarpet\"}], \"scattergeo\": [{\"marker\": {\"colorbar\": {\"outlinewidth\": 0, \"ticks\": \"\"}}, \"type\": \"scattergeo\"}], \"scattergl\": [{\"marker\": {\"colorbar\": {\"outlinewidth\": 0, \"ticks\": \"\"}}, \"type\": \"scattergl\"}], \"scattermapbox\": [{\"marker\": {\"colorbar\": {\"outlinewidth\": 0, \"ticks\": \"\"}}, \"type\": \"scattermapbox\"}], \"scatterpolar\": [{\"marker\": {\"colorbar\": {\"outlinewidth\": 0, \"ticks\": \"\"}}, \"type\": \"scatterpolar\"}], \"scatterpolargl\": [{\"marker\": {\"colorbar\": {\"outlinewidth\": 0, \"ticks\": \"\"}}, \"type\": \"scatterpolargl\"}], \"scatterternary\": [{\"marker\": {\"colorbar\": {\"outlinewidth\": 0, \"ticks\": \"\"}}, \"type\": \"scatterternary\"}], \"surface\": [{\"colorbar\": {\"outlinewidth\": 0, \"ticks\": \"\"}, \"colorscale\": [[0.0, \"#0d0887\"], [0.1111111111111111, \"#46039f\"], [0.2222222222222222, \"#7201a8\"], [0.3333333333333333, \"#9c179e\"], [0.4444444444444444, \"#bd3786\"], [0.5555555555555556, \"#d8576b\"], [0.6666666666666666, \"#ed7953\"], [0.7777777777777778, \"#fb9f3a\"], [0.8888888888888888, \"#fdca26\"], [1.0, \"#f0f921\"]], \"type\": \"surface\"}], \"table\": [{\"cells\": {\"fill\": {\"color\": \"#EBF0F8\"}, \"line\": {\"color\": \"white\"}}, \"header\": {\"fill\": {\"color\": \"#C8D4E3\"}, \"line\": {\"color\": \"white\"}}, \"type\": \"table\"}]}, \"layout\": {\"annotationdefaults\": {\"arrowcolor\": \"#2a3f5f\", \"arrowhead\": 0, \"arrowwidth\": 1}, \"autotypenumbers\": \"strict\", \"coloraxis\": {\"colorbar\": {\"outlinewidth\": 0, \"ticks\": \"\"}}, \"colorscale\": {\"diverging\": [[0, \"#8e0152\"], [0.1, \"#c51b7d\"], [0.2, \"#de77ae\"], [0.3, \"#f1b6da\"], [0.4, \"#fde0ef\"], [0.5, \"#f7f7f7\"], [0.6, \"#e6f5d0\"], [0.7, \"#b8e186\"], [0.8, \"#7fbc41\"], [0.9, \"#4d9221\"], [1, \"#276419\"]], \"sequential\": [[0.0, \"#0d0887\"], [0.1111111111111111, \"#46039f\"], [0.2222222222222222, \"#7201a8\"], [0.3333333333333333, \"#9c179e\"], [0.4444444444444444, \"#bd3786\"], [0.5555555555555556, \"#d8576b\"], [0.6666666666666666, \"#ed7953\"], [0.7777777777777778, \"#fb9f3a\"], [0.8888888888888888, \"#fdca26\"], [1.0, \"#f0f921\"]], \"sequentialminus\": [[0.0, \"#0d0887\"], [0.1111111111111111, \"#46039f\"], [0.2222222222222222, \"#7201a8\"], [0.3333333333333333, \"#9c179e\"], [0.4444444444444444, \"#bd3786\"], [0.5555555555555556, \"#d8576b\"], [0.6666666666666666, \"#ed7953\"], [0.7777777777777778, \"#fb9f3a\"], [0.8888888888888888, \"#fdca26\"], [1.0, \"#f0f921\"]]}, \"colorway\": [\"#636efa\", \"#EF553B\", \"#00cc96\", \"#ab63fa\", \"#FFA15A\", \"#19d3f3\", \"#FF6692\", \"#B6E880\", \"#FF97FF\", \"#FECB52\"], \"font\": {\"color\": \"#2a3f5f\"}, \"geo\": {\"bgcolor\": \"white\", \"lakecolor\": \"white\", \"landcolor\": \"#E5ECF6\", \"showlakes\": true, \"showland\": true, \"subunitcolor\": \"white\"}, \"hoverlabel\": {\"align\": \"left\"}, \"hovermode\": \"closest\", \"mapbox\": {\"style\": \"light\"}, \"paper_bgcolor\": \"white\", \"plot_bgcolor\": \"#E5ECF6\", \"polar\": {\"angularaxis\": {\"gridcolor\": \"white\", \"linecolor\": \"white\", \"ticks\": \"\"}, \"bgcolor\": \"#E5ECF6\", \"radialaxis\": {\"gridcolor\": \"white\", \"linecolor\": \"white\", \"ticks\": \"\"}}, \"scene\": {\"xaxis\": {\"backgroundcolor\": \"#E5ECF6\", \"gridcolor\": \"white\", \"gridwidth\": 2, \"linecolor\": \"white\", \"showbackground\": true, \"ticks\": \"\", \"zerolinecolor\": \"white\"}, \"yaxis\": {\"backgroundcolor\": \"#E5ECF6\", \"gridcolor\": \"white\", \"gridwidth\": 2, \"linecolor\": \"white\", \"showbackground\": true, \"ticks\": \"\", \"zerolinecolor\": \"white\"}, \"zaxis\": {\"backgroundcolor\": \"#E5ECF6\", \"gridcolor\": \"white\", \"gridwidth\": 2, \"linecolor\": \"white\", \"showbackground\": true, \"ticks\": \"\", \"zerolinecolor\": \"white\"}}, \"shapedefaults\": {\"line\": {\"color\": \"#2a3f5f\"}}, \"ternary\": {\"aaxis\": {\"gridcolor\": \"white\", \"linecolor\": \"white\", \"ticks\": \"\"}, \"baxis\": {\"gridcolor\": \"white\", \"linecolor\": \"white\", \"ticks\": \"\"}, \"bgcolor\": \"#E5ECF6\", \"caxis\": {\"gridcolor\": \"white\", \"linecolor\": \"white\", \"ticks\": \"\"}}, \"title\": {\"x\": 0.05}, \"xaxis\": {\"automargin\": true, \"gridcolor\": \"white\", \"linecolor\": \"white\", \"ticks\": \"\", \"title\": {\"standoff\": 15}, \"zerolinecolor\": \"white\", \"zerolinewidth\": 2}, \"yaxis\": {\"automargin\": true, \"gridcolor\": \"white\", \"linecolor\": \"white\", \"ticks\": \"\", \"title\": {\"standoff\": 15}, \"zerolinecolor\": \"white\", \"zerolinewidth\": 2}}}, \"title\": {\"font\": {\"color\": \"#4D5663\"}, \"text\": \"Distribution of Tweet length\"}, \"xaxis\": {\"gridcolor\": \"#E1E5ED\", \"showgrid\": true, \"tickfont\": {\"color\": \"#4D5663\"}, \"title\": {\"font\": {\"color\": \"#4D5663\"}, \"text\": \"Length of Tweets\"}, \"zerolinecolor\": \"#E1E5ED\"}, \"yaxis\": {\"gridcolor\": \"#E1E5ED\", \"showgrid\": true, \"tickfont\": {\"color\": \"#4D5663\"}, \"title\": {\"font\": {\"color\": \"#4D5663\"}, \"text\": \"Count\"}, \"zerolinecolor\": \"#E1E5ED\"}},                        {\"showLink\": true, \"linkText\": \"Export to plot.ly\", \"plotlyServerURL\": \"https://plot.ly\", \"responsive\": true}                    ).then(function(){\n",
       "                            \n",
       "var gd = document.getElementById('6296bd9b-2c76-4c29-a6bb-0318901ec1e4');\n",
       "var x = new MutationObserver(function (mutations, observer) {{\n",
       "        var display = window.getComputedStyle(gd).display;\n",
       "        if (!display || display === 'none') {{\n",
       "            console.log([gd, 'removed!']);\n",
       "            Plotly.purge(gd);\n",
       "            observer.disconnect();\n",
       "        }}\n",
       "}});\n",
       "\n",
       "// Listen for the removal of the full notebook cells\n",
       "var notebookContainer = gd.closest('#notebook-container');\n",
       "if (notebookContainer) {{\n",
       "    x.observe(notebookContainer, {childList: true});\n",
       "}}\n",
       "\n",
       "// Listen for the clearing of the current output cell\n",
       "var outputEl = gd.closest('.output');\n",
       "if (outputEl) {{\n",
       "    x.observe(outputEl, {childList: true});\n",
       "}}\n",
       "\n",
       "                        })                };                });            </script>        </div>"
      ]
     },
     "metadata": {},
     "output_type": "display_data"
    }
   ],
   "source": [
    "df1['text_len'].iplot(kind = 'hist',xTitle = 'Length of Tweets',yTitle = 'Count', \n",
    "                      title = 'Distribution of Tweet length')"
   ]
  },
  {
   "cell_type": "markdown",
   "metadata": {},
   "source": [
    "### Distribution of No.of words in a Question"
   ]
  },
  {
   "cell_type": "code",
   "execution_count": 14,
   "metadata": {},
   "outputs": [
    {
     "data": {
      "application/vnd.plotly.v1+json": {
       "config": {
        "linkText": "Export to plot.ly",
        "plotlyServerURL": "https://plot.ly",
        "showLink": true
       },
       "data": [
        {
         "histfunc": "count",
         "histnorm": "",
         "marker": {
          "color": "rgba(0, 0, 0, 1.0)",
          "line": {
           "color": "#ff9933",
           "width": 1.3
          }
         },
         "name": "word_count",
         "opacity": 0.8,
         "orientation": "v",
         "type": "histogram",
         "x": [
          32,
          38,
          12,
          31,
          28,
          40,
          39,
          45,
          31,
          39,
          44,
          26,
          48,
          40,
          51,
          39,
          38,
          25,
          32,
          39,
          47,
          17,
          14,
          45,
          15,
          27,
          48,
          37,
          46,
          28,
          23,
          51,
          51,
          41,
          44,
          18,
          49,
          35,
          40,
          32,
          40,
          40,
          43,
          47,
          46,
          17,
          16,
          40,
          17,
          17,
          16,
          35,
          35,
          29,
          34,
          45,
          43,
          29,
          40,
          41,
          46,
          18,
          53,
          26,
          47,
          45,
          38,
          54,
          27,
          51,
          48,
          21,
          44,
          42,
          31,
          35,
          29,
          43,
          51,
          46,
          17,
          43,
          16,
          23,
          42,
          17,
          42,
          17,
          40,
          49,
          56,
          44,
          42,
          43,
          36,
          38,
          40,
          43,
          33,
          49,
          43,
          49,
          31,
          39,
          54,
          17,
          38,
          30,
          24,
          37,
          15,
          16,
          38,
          44,
          25,
          28,
          48,
          36,
          53,
          36,
          33,
          33,
          25,
          48,
          48,
          53,
          49,
          31,
          29,
          25,
          30,
          25,
          39,
          46,
          50,
          27,
          29,
          50,
          46,
          47,
          19,
          53,
          33,
          22,
          29,
          14,
          23,
          20,
          22,
          37,
          37,
          43,
          28,
          35,
          42,
          33,
          25,
          21,
          21,
          42,
          29,
          22,
          47,
          35,
          37,
          35,
          43,
          30,
          30,
          33,
          50,
          29,
          43,
          49,
          20,
          14,
          50,
          19,
          40,
          34,
          16,
          44,
          25,
          42,
          38,
          45,
          39,
          37,
          44,
          41,
          25,
          31,
          29,
          54,
          56,
          18,
          30,
          23,
          35,
          31,
          17,
          27,
          46,
          32,
          25,
          50,
          29,
          28,
          20,
          26,
          18,
          54,
          18,
          50,
          11,
          37,
          27,
          29,
          12,
          48,
          48,
          51,
          24,
          29,
          20,
          45,
          49,
          45,
          29,
          36,
          23,
          28,
          59,
          37,
          15,
          23,
          31,
          36,
          22,
          35,
          40,
          36,
          28,
          26,
          23,
          24,
          53,
          31,
          20,
          22,
          40,
          18,
          34,
          32,
          54,
          26,
          43,
          21,
          49,
          29,
          30,
          49,
          42,
          14,
          48,
          12,
          23,
          26,
          48,
          32,
          47,
          37,
          45,
          17,
          30,
          23,
          28,
          22,
          29,
          24,
          41,
          28,
          24,
          32,
          11,
          17,
          16,
          35,
          35,
          27,
          45,
          36,
          20,
          24,
          36,
          27,
          39,
          40,
          25,
          42,
          32,
          24,
          35,
          47,
          43,
          26,
          49,
          42,
          52,
          31,
          27,
          20,
          27,
          17,
          21,
          37,
          23,
          28,
          42,
          32,
          36,
          43,
          24,
          49,
          24,
          41,
          51,
          18,
          28,
          49,
          23,
          26,
          42,
          22,
          37,
          34,
          40,
          22,
          27,
          56,
          41,
          41,
          30,
          40,
          43,
          34,
          44,
          22,
          38,
          14,
          47,
          33,
          18,
          30,
          20,
          25,
          16,
          38,
          53,
          33,
          47,
          52,
          38,
          18,
          51,
          39,
          39,
          40,
          46,
          40,
          31,
          24,
          27,
          36,
          39,
          47,
          19,
          43,
          14,
          28,
          24,
          50,
          33,
          48,
          50,
          37,
          32,
          54,
          13,
          25,
          38,
          39,
          21,
          40,
          43,
          47,
          31,
          19,
          44,
          48,
          42,
          40,
          32,
          47,
          13,
          50,
          47,
          14,
          14,
          26,
          37,
          60,
          31,
          27,
          36,
          45,
          34,
          30,
          20,
          20,
          39,
          23,
          46,
          44,
          42,
          38,
          53,
          40,
          26,
          23,
          45,
          30,
          46,
          51,
          49,
          13,
          30,
          11,
          59,
          46,
          22,
          45,
          38,
          42,
          11,
          45,
          40,
          27,
          13,
          44,
          24,
          46,
          32,
          46,
          22,
          56,
          26,
          36,
          48,
          42,
          36,
          30,
          32,
          17,
          36,
          50,
          29,
          27,
          45,
          26,
          50,
          18,
          32,
          13,
          46,
          36,
          30,
          26,
          21,
          39,
          15,
          35,
          30,
          36,
          39,
          41,
          37,
          25,
          31,
          39,
          34,
          42,
          12,
          25,
          36,
          47,
          24,
          39,
          24,
          24,
          31,
          43,
          22,
          20,
          47,
          23,
          32,
          32,
          58,
          35,
          42,
          22,
          35,
          37,
          31,
          48,
          50,
          47,
          43,
          47,
          32,
          20,
          17,
          27,
          43,
          32,
          49,
          27,
          44,
          22,
          56,
          33,
          49,
          21,
          26,
          36,
          33,
          49,
          37,
          14,
          14,
          42,
          45,
          39,
          58,
          52,
          15,
          24,
          48,
          39,
          35,
          45,
          35,
          44,
          35,
          36,
          43,
          45,
          29,
          26,
          20,
          29,
          52,
          26,
          27,
          52,
          47,
          37,
          43,
          14,
          56,
          31,
          28,
          46,
          44,
          23,
          43,
          39,
          53,
          29,
          44,
          21,
          45,
          26,
          29,
          26,
          39,
          24,
          24,
          44,
          24,
          41,
          32,
          49,
          26,
          38,
          18,
          38,
          53,
          23,
          21,
          21,
          29,
          38,
          19,
          13,
          27,
          42,
          35,
          43,
          29,
          31,
          13,
          54,
          37,
          20,
          35,
          38,
          15,
          54,
          38,
          40,
          15,
          26,
          32,
          29,
          47,
          28,
          35,
          33,
          31,
          14,
          41,
          33,
          48,
          45,
          49,
          26,
          40,
          45,
          41,
          36,
          38,
          34,
          47,
          18,
          19,
          21,
          44,
          42,
          42,
          33,
          35,
          41,
          51,
          20,
          45,
          47,
          28,
          44,
          46,
          22,
          25,
          47,
          24,
          22,
          26,
          41,
          37,
          45,
          31,
          48,
          30,
          21,
          29,
          39,
          45,
          20,
          19,
          49,
          28,
          22,
          27,
          8,
          44,
          19,
          19,
          21,
          20,
          30,
          43,
          37,
          18,
          54,
          31,
          44,
          34,
          28,
          16,
          22,
          55,
          51,
          42,
          29,
          19,
          27,
          17,
          35,
          36,
          43,
          56,
          26,
          19,
          34,
          51,
          48,
          24,
          25,
          30,
          36,
          8,
          41,
          40,
          41,
          36,
          53,
          17,
          30,
          41,
          31,
          42,
          49,
          25,
          51,
          24,
          29,
          24,
          21,
          26,
          45,
          14,
          47,
          49,
          30,
          45,
          47,
          10,
          47,
          28,
          50,
          42,
          50,
          30,
          37,
          36,
          51,
          22,
          30,
          36,
          46,
          28,
          25,
          33,
          43,
          22,
          23,
          30,
          50,
          29,
          52,
          17,
          43,
          26,
          48,
          35,
          29,
          30,
          26,
          21,
          48,
          36,
          35,
          39,
          41,
          40,
          46,
          43,
          38,
          28,
          24,
          34,
          45,
          28,
          48,
          28,
          41,
          22,
          32,
          51,
          48,
          30,
          57,
          59,
          30,
          25,
          25,
          17,
          20,
          24,
          41,
          25,
          31,
          22,
          26,
          31,
          50,
          54,
          44,
          28,
          51,
          17,
          34,
          35,
          48,
          49,
          39,
          35,
          19,
          32,
          51,
          52,
          49,
          19,
          25,
          16,
          46,
          26,
          45,
          48,
          34,
          35,
          34,
          23,
          30,
          13,
          42,
          29,
          51,
          42,
          24,
          30,
          19,
          35,
          34,
          19,
          36,
          42,
          17,
          15,
          52,
          32,
          27,
          39,
          38,
          45,
          50,
          34,
          35,
          47,
          28,
          38,
          42,
          36,
          33,
          39,
          45,
          21,
          19,
          24,
          16,
          19,
          34,
          52,
          46,
          40,
          42,
          20,
          50,
          42,
          53,
          15,
          20,
          37,
          47,
          42,
          42,
          42,
          21,
          38,
          9,
          45,
          39,
          22,
          31,
          34,
          27,
          25,
          39,
          36,
          32,
          27,
          48,
          41,
          27,
          40,
          45,
          53,
          21,
          35,
          17,
          32,
          29,
          47,
          51,
          23,
          28,
          40,
          9,
          41,
          22,
          35,
          36,
          24,
          33,
          53,
          46,
          37,
          27,
          55,
          17,
          36,
          17,
          15,
          28,
          43,
          10,
          40,
          46,
          48,
          47,
          45,
          12,
          13,
          9,
          40,
          45,
          48,
          37,
          26,
          44,
          56,
          26,
          49,
          43,
          48,
          54,
          45,
          29,
          50,
          25,
          46,
          14,
          43,
          54,
          41,
          39,
          15,
          44,
          30,
          38,
          35,
          46,
          27,
          37,
          40,
          40,
          41,
          29,
          35,
          32,
          16,
          37,
          29,
          50,
          48,
          31,
          50,
          27,
          19,
          36,
          20,
          37,
          21,
          21,
          43,
          44,
          39,
          26,
          45,
          50,
          53,
          49,
          48,
          26,
          23,
          20,
          44,
          46,
          48,
          30,
          17,
          27,
          25,
          25,
          41,
          36,
          29,
          33,
          27,
          50,
          23,
          21,
          43,
          48,
          42,
          52,
          46,
          54,
          44,
          26,
          20,
          44,
          32,
          39,
          40,
          27,
          29,
          41,
          39,
          19,
          32,
          44,
          42,
          43,
          39,
          21,
          27,
          50,
          24,
          36,
          18,
          45,
          31,
          47,
          17,
          55,
          21,
          35,
          41,
          48,
          28,
          31,
          22,
          33,
          29,
          47,
          42,
          45,
          37,
          14,
          29,
          24,
          52,
          39,
          20,
          23,
          41,
          36,
          49,
          22,
          37,
          15,
          46,
          48,
          37,
          32,
          31,
          38,
          34,
          29,
          56,
          47,
          30,
          22,
          23,
          40,
          51,
          28,
          19,
          50,
          36,
          32,
          29,
          38,
          47,
          10,
          43,
          45,
          40,
          43,
          28,
          47,
          38,
          41,
          35,
          44,
          43,
          37,
          54,
          50,
          26,
          36,
          29,
          31,
          42,
          42,
          41,
          51,
          15,
          34,
          30,
          47,
          22,
          27,
          45,
          39,
          28,
          18,
          33,
          26,
          21,
          53,
          36,
          56,
          23,
          26,
          31,
          30,
          31,
          44,
          47,
          13,
          50,
          27,
          19,
          26,
          31,
          20,
          29,
          31,
          41,
          44,
          33,
          30,
          50,
          33,
          37,
          33,
          10,
          36,
          49,
          39,
          28,
          17,
          13,
          39,
          25,
          52,
          32,
          56,
          38,
          26,
          29,
          31,
          60,
          39,
          24,
          15,
          45,
          42,
          27,
          48,
          48,
          51,
          51,
          49,
          54,
          49,
          45,
          39,
          38,
          46,
          27,
          54,
          41,
          32,
          36,
          24,
          48,
          27,
          16,
          25,
          27,
          43,
          36,
          39,
          23,
          17,
          52,
          24,
          39,
          21,
          37,
          38,
          23,
          37,
          36,
          23,
          33,
          37,
          16,
          34,
          21,
          48,
          38,
          43,
          27,
          50,
          19,
          34,
          17,
          39,
          39,
          28,
          42,
          24,
          43,
          40,
          18,
          43,
          37,
          44,
          46,
          49,
          26,
          15,
          62,
          11,
          16,
          46,
          41,
          38,
          49,
          28,
          45,
          42,
          28,
          38,
          25,
          52,
          30,
          17,
          17,
          43,
          48,
          39,
          31,
          26,
          41,
          25,
          34,
          29,
          31,
          27,
          51,
          45,
          56,
          55,
          21,
          16,
          37,
          41,
          25,
          38,
          16,
          21,
          41,
          47,
          28,
          33,
          38,
          45,
          38,
          38,
          31,
          27,
          46,
          25,
          48,
          33,
          39,
          44,
          22,
          43,
          29,
          38,
          32,
          23,
          18,
          24,
          26,
          31,
          30,
          32,
          33,
          29,
          43,
          36,
          35,
          47,
          45,
          30,
          19,
          42,
          46,
          37,
          32,
          13,
          46,
          46,
          50,
          41,
          36,
          22,
          37,
          43,
          40,
          20,
          17,
          13,
          48,
          33,
          39,
          46,
          38,
          35,
          34,
          18,
          40,
          23,
          47,
          49,
          52,
          41,
          52,
          51,
          23,
          22,
          38,
          51,
          8,
          30,
          32,
          32,
          35,
          49,
          53,
          42,
          26,
          34,
          44,
          46,
          22,
          48,
          39,
          44,
          40,
          44,
          46,
          34,
          39,
          51,
          48,
          36,
          42,
          44,
          14,
          35,
          28,
          28,
          22,
          12,
          46,
          43,
          42,
          39,
          44,
          14,
          25,
          43,
          43,
          29,
          43,
          19,
          30,
          42,
          31,
          24,
          46,
          28,
          31,
          33,
          18,
          13,
          42,
          45,
          24,
          18,
          32,
          30,
          52,
          21,
          38,
          18,
          32,
          54,
          40,
          42,
          33,
          43,
          45,
          28,
          9,
          37,
          31,
          32,
          22,
          39,
          28,
          46,
          17,
          34,
          46,
          12,
          35,
          32,
          16,
          44,
          15,
          45,
          35,
          17,
          40,
          20,
          17,
          22,
          45,
          45,
          48,
          39,
          43,
          18,
          42,
          32,
          29,
          46,
          49,
          18,
          39,
          11,
          44,
          21,
          35,
          50,
          46,
          41,
          31,
          50,
          18,
          26,
          51,
          34,
          13,
          46,
          40,
          50,
          34,
          14,
          40,
          36,
          50,
          44,
          16,
          35,
          35,
          46,
          35,
          28,
          42,
          39,
          6,
          51,
          48,
          56,
          28,
          45,
          40,
          47,
          30,
          46,
          12,
          45,
          30,
          39,
          33,
          39,
          36,
          49,
          27,
          39,
          55,
          42,
          17,
          46,
          15,
          48,
          27,
          49,
          50,
          48,
          49,
          47,
          34,
          43,
          43,
          47,
          50,
          33,
          43,
          45,
          31,
          19,
          47,
          24,
          33,
          22,
          59,
          26,
          30,
          60,
          46,
          11,
          20,
          42,
          38,
          23,
          48,
          23,
          15,
          25,
          48,
          24,
          30,
          34,
          31,
          44,
          46,
          33,
          33,
          46,
          46,
          52,
          20,
          48,
          36,
          50,
          45,
          40,
          6,
          38,
          39,
          52,
          47,
          35,
          45,
          47,
          13,
          35,
          27,
          45,
          57,
          40,
          46,
          29,
          36,
          37,
          41,
          29,
          41,
          11,
          49,
          34,
          39,
          23,
          28,
          53,
          39,
          42,
          35,
          40,
          39,
          39,
          47,
          40,
          31,
          33,
          25,
          22,
          37,
          50,
          27,
          37,
          34,
          46,
          27,
          46,
          39,
          29,
          42,
          28,
          37,
          36,
          40,
          16,
          32,
          10,
          38,
          48,
          39,
          48,
          46,
          40,
          47,
          46,
          34,
          49,
          42,
          44,
          34,
          48,
          24,
          50,
          29,
          49,
          38,
          23,
          15,
          38,
          52,
          44,
          34,
          51,
          39,
          17,
          45,
          48,
          48,
          39,
          56,
          43,
          52,
          23,
          28,
          30,
          34,
          20,
          56,
          18,
          23,
          34,
          41,
          43,
          40,
          38,
          21,
          42,
          53,
          51,
          35,
          32,
          19,
          42,
          51,
          53,
          47,
          44,
          45,
          45,
          14,
          26,
          37,
          14,
          31,
          43,
          34,
          39,
          48,
          19,
          18,
          36,
          51,
          47,
          47,
          29,
          42,
          52,
          37,
          55,
          38,
          42,
          37,
          35,
          19,
          40,
          17,
          45,
          30,
          47,
          33,
          40,
          50,
          36,
          51,
          48,
          30,
          24,
          43,
          39,
          26,
          10,
          52,
          22,
          49,
          34,
          41,
          29,
          15,
          24,
          55,
          23,
          15,
          33,
          24,
          46,
          42,
          47,
          41,
          37,
          32,
          2,
          37,
          22,
          43,
          42,
          41,
          25,
          30,
          24,
          41,
          45,
          52,
          37,
          20,
          21,
          33,
          52,
          35,
          50,
          28,
          43,
          16,
          34,
          43,
          24,
          38,
          46,
          33,
          30,
          29,
          30,
          37,
          43,
          46,
          37,
          44,
          33,
          21,
          40,
          7,
          19,
          11,
          16,
          42,
          35,
          41,
          25,
          43,
          42,
          26,
          32,
          29,
          28,
          36,
          15,
          46,
          47,
          55,
          48,
          50,
          23,
          40,
          29,
          44,
          46,
          38,
          49,
          59,
          25,
          41,
          39,
          48,
          21,
          31,
          45,
          35,
          30,
          35,
          33,
          43,
          20,
          51,
          25,
          36,
          36,
          50,
          22,
          19,
          19,
          16,
          43,
          51,
          29,
          42,
          44,
          34,
          35,
          40,
          18,
          39,
          45,
          43,
          40,
          18,
          44,
          26,
          40,
          34,
          26,
          43,
          57,
          46,
          18,
          47,
          38,
          43,
          37,
          18,
          26,
          49,
          37,
          25,
          55,
          46,
          22,
          23,
          42,
          13,
          13,
          47,
          30,
          36,
          46,
          16,
          41,
          43,
          20,
          35,
          35,
          31,
          45,
          36,
          31,
          20,
          18,
          33,
          29,
          18,
          26,
          51,
          33,
          39,
          22,
          14,
          37,
          29,
          40,
          30,
          45,
          45,
          19,
          18,
          35,
          46,
          38,
          22,
          36,
          35,
          39,
          39,
          29,
          21,
          20,
          28,
          23,
          23,
          27,
          48,
          20,
          44,
          19,
          23,
          14,
          42,
          44,
          13,
          33,
          32,
          18,
          24,
          35,
          52,
          21,
          52,
          31,
          21,
          15,
          47,
          58,
          29,
          29,
          35,
          48,
          16,
          54,
          33,
          31,
          20,
          36
         ]
        }
       ],
       "layout": {
        "barmode": "overlay",
        "legend": {
         "bgcolor": "#F5F6F9",
         "font": {
          "color": "#4D5663"
         }
        },
        "paper_bgcolor": "#F5F6F9",
        "plot_bgcolor": "#F5F6F9",
        "template": {
         "data": {
          "bar": [
           {
            "error_x": {
             "color": "#2a3f5f"
            },
            "error_y": {
             "color": "#2a3f5f"
            },
            "marker": {
             "line": {
              "color": "#E5ECF6",
              "width": 0.5
             }
            },
            "type": "bar"
           }
          ],
          "barpolar": [
           {
            "marker": {
             "line": {
              "color": "#E5ECF6",
              "width": 0.5
             }
            },
            "type": "barpolar"
           }
          ],
          "carpet": [
           {
            "aaxis": {
             "endlinecolor": "#2a3f5f",
             "gridcolor": "white",
             "linecolor": "white",
             "minorgridcolor": "white",
             "startlinecolor": "#2a3f5f"
            },
            "baxis": {
             "endlinecolor": "#2a3f5f",
             "gridcolor": "white",
             "linecolor": "white",
             "minorgridcolor": "white",
             "startlinecolor": "#2a3f5f"
            },
            "type": "carpet"
           }
          ],
          "choropleth": [
           {
            "colorbar": {
             "outlinewidth": 0,
             "ticks": ""
            },
            "type": "choropleth"
           }
          ],
          "contour": [
           {
            "colorbar": {
             "outlinewidth": 0,
             "ticks": ""
            },
            "colorscale": [
             [
              0,
              "#0d0887"
             ],
             [
              0.1111111111111111,
              "#46039f"
             ],
             [
              0.2222222222222222,
              "#7201a8"
             ],
             [
              0.3333333333333333,
              "#9c179e"
             ],
             [
              0.4444444444444444,
              "#bd3786"
             ],
             [
              0.5555555555555556,
              "#d8576b"
             ],
             [
              0.6666666666666666,
              "#ed7953"
             ],
             [
              0.7777777777777778,
              "#fb9f3a"
             ],
             [
              0.8888888888888888,
              "#fdca26"
             ],
             [
              1,
              "#f0f921"
             ]
            ],
            "type": "contour"
           }
          ],
          "contourcarpet": [
           {
            "colorbar": {
             "outlinewidth": 0,
             "ticks": ""
            },
            "type": "contourcarpet"
           }
          ],
          "heatmap": [
           {
            "colorbar": {
             "outlinewidth": 0,
             "ticks": ""
            },
            "colorscale": [
             [
              0,
              "#0d0887"
             ],
             [
              0.1111111111111111,
              "#46039f"
             ],
             [
              0.2222222222222222,
              "#7201a8"
             ],
             [
              0.3333333333333333,
              "#9c179e"
             ],
             [
              0.4444444444444444,
              "#bd3786"
             ],
             [
              0.5555555555555556,
              "#d8576b"
             ],
             [
              0.6666666666666666,
              "#ed7953"
             ],
             [
              0.7777777777777778,
              "#fb9f3a"
             ],
             [
              0.8888888888888888,
              "#fdca26"
             ],
             [
              1,
              "#f0f921"
             ]
            ],
            "type": "heatmap"
           }
          ],
          "heatmapgl": [
           {
            "colorbar": {
             "outlinewidth": 0,
             "ticks": ""
            },
            "colorscale": [
             [
              0,
              "#0d0887"
             ],
             [
              0.1111111111111111,
              "#46039f"
             ],
             [
              0.2222222222222222,
              "#7201a8"
             ],
             [
              0.3333333333333333,
              "#9c179e"
             ],
             [
              0.4444444444444444,
              "#bd3786"
             ],
             [
              0.5555555555555556,
              "#d8576b"
             ],
             [
              0.6666666666666666,
              "#ed7953"
             ],
             [
              0.7777777777777778,
              "#fb9f3a"
             ],
             [
              0.8888888888888888,
              "#fdca26"
             ],
             [
              1,
              "#f0f921"
             ]
            ],
            "type": "heatmapgl"
           }
          ],
          "histogram": [
           {
            "marker": {
             "colorbar": {
              "outlinewidth": 0,
              "ticks": ""
             }
            },
            "type": "histogram"
           }
          ],
          "histogram2d": [
           {
            "colorbar": {
             "outlinewidth": 0,
             "ticks": ""
            },
            "colorscale": [
             [
              0,
              "#0d0887"
             ],
             [
              0.1111111111111111,
              "#46039f"
             ],
             [
              0.2222222222222222,
              "#7201a8"
             ],
             [
              0.3333333333333333,
              "#9c179e"
             ],
             [
              0.4444444444444444,
              "#bd3786"
             ],
             [
              0.5555555555555556,
              "#d8576b"
             ],
             [
              0.6666666666666666,
              "#ed7953"
             ],
             [
              0.7777777777777778,
              "#fb9f3a"
             ],
             [
              0.8888888888888888,
              "#fdca26"
             ],
             [
              1,
              "#f0f921"
             ]
            ],
            "type": "histogram2d"
           }
          ],
          "histogram2dcontour": [
           {
            "colorbar": {
             "outlinewidth": 0,
             "ticks": ""
            },
            "colorscale": [
             [
              0,
              "#0d0887"
             ],
             [
              0.1111111111111111,
              "#46039f"
             ],
             [
              0.2222222222222222,
              "#7201a8"
             ],
             [
              0.3333333333333333,
              "#9c179e"
             ],
             [
              0.4444444444444444,
              "#bd3786"
             ],
             [
              0.5555555555555556,
              "#d8576b"
             ],
             [
              0.6666666666666666,
              "#ed7953"
             ],
             [
              0.7777777777777778,
              "#fb9f3a"
             ],
             [
              0.8888888888888888,
              "#fdca26"
             ],
             [
              1,
              "#f0f921"
             ]
            ],
            "type": "histogram2dcontour"
           }
          ],
          "mesh3d": [
           {
            "colorbar": {
             "outlinewidth": 0,
             "ticks": ""
            },
            "type": "mesh3d"
           }
          ],
          "parcoords": [
           {
            "line": {
             "colorbar": {
              "outlinewidth": 0,
              "ticks": ""
             }
            },
            "type": "parcoords"
           }
          ],
          "pie": [
           {
            "automargin": true,
            "type": "pie"
           }
          ],
          "scatter": [
           {
            "marker": {
             "colorbar": {
              "outlinewidth": 0,
              "ticks": ""
             }
            },
            "type": "scatter"
           }
          ],
          "scatter3d": [
           {
            "line": {
             "colorbar": {
              "outlinewidth": 0,
              "ticks": ""
             }
            },
            "marker": {
             "colorbar": {
              "outlinewidth": 0,
              "ticks": ""
             }
            },
            "type": "scatter3d"
           }
          ],
          "scattercarpet": [
           {
            "marker": {
             "colorbar": {
              "outlinewidth": 0,
              "ticks": ""
             }
            },
            "type": "scattercarpet"
           }
          ],
          "scattergeo": [
           {
            "marker": {
             "colorbar": {
              "outlinewidth": 0,
              "ticks": ""
             }
            },
            "type": "scattergeo"
           }
          ],
          "scattergl": [
           {
            "marker": {
             "colorbar": {
              "outlinewidth": 0,
              "ticks": ""
             }
            },
            "type": "scattergl"
           }
          ],
          "scattermapbox": [
           {
            "marker": {
             "colorbar": {
              "outlinewidth": 0,
              "ticks": ""
             }
            },
            "type": "scattermapbox"
           }
          ],
          "scatterpolar": [
           {
            "marker": {
             "colorbar": {
              "outlinewidth": 0,
              "ticks": ""
             }
            },
            "type": "scatterpolar"
           }
          ],
          "scatterpolargl": [
           {
            "marker": {
             "colorbar": {
              "outlinewidth": 0,
              "ticks": ""
             }
            },
            "type": "scatterpolargl"
           }
          ],
          "scatterternary": [
           {
            "marker": {
             "colorbar": {
              "outlinewidth": 0,
              "ticks": ""
             }
            },
            "type": "scatterternary"
           }
          ],
          "surface": [
           {
            "colorbar": {
             "outlinewidth": 0,
             "ticks": ""
            },
            "colorscale": [
             [
              0,
              "#0d0887"
             ],
             [
              0.1111111111111111,
              "#46039f"
             ],
             [
              0.2222222222222222,
              "#7201a8"
             ],
             [
              0.3333333333333333,
              "#9c179e"
             ],
             [
              0.4444444444444444,
              "#bd3786"
             ],
             [
              0.5555555555555556,
              "#d8576b"
             ],
             [
              0.6666666666666666,
              "#ed7953"
             ],
             [
              0.7777777777777778,
              "#fb9f3a"
             ],
             [
              0.8888888888888888,
              "#fdca26"
             ],
             [
              1,
              "#f0f921"
             ]
            ],
            "type": "surface"
           }
          ],
          "table": [
           {
            "cells": {
             "fill": {
              "color": "#EBF0F8"
             },
             "line": {
              "color": "white"
             }
            },
            "header": {
             "fill": {
              "color": "#C8D4E3"
             },
             "line": {
              "color": "white"
             }
            },
            "type": "table"
           }
          ]
         },
         "layout": {
          "annotationdefaults": {
           "arrowcolor": "#2a3f5f",
           "arrowhead": 0,
           "arrowwidth": 1
          },
          "autotypenumbers": "strict",
          "coloraxis": {
           "colorbar": {
            "outlinewidth": 0,
            "ticks": ""
           }
          },
          "colorscale": {
           "diverging": [
            [
             0,
             "#8e0152"
            ],
            [
             0.1,
             "#c51b7d"
            ],
            [
             0.2,
             "#de77ae"
            ],
            [
             0.3,
             "#f1b6da"
            ],
            [
             0.4,
             "#fde0ef"
            ],
            [
             0.5,
             "#f7f7f7"
            ],
            [
             0.6,
             "#e6f5d0"
            ],
            [
             0.7,
             "#b8e186"
            ],
            [
             0.8,
             "#7fbc41"
            ],
            [
             0.9,
             "#4d9221"
            ],
            [
             1,
             "#276419"
            ]
           ],
           "sequential": [
            [
             0,
             "#0d0887"
            ],
            [
             0.1111111111111111,
             "#46039f"
            ],
            [
             0.2222222222222222,
             "#7201a8"
            ],
            [
             0.3333333333333333,
             "#9c179e"
            ],
            [
             0.4444444444444444,
             "#bd3786"
            ],
            [
             0.5555555555555556,
             "#d8576b"
            ],
            [
             0.6666666666666666,
             "#ed7953"
            ],
            [
             0.7777777777777778,
             "#fb9f3a"
            ],
            [
             0.8888888888888888,
             "#fdca26"
            ],
            [
             1,
             "#f0f921"
            ]
           ],
           "sequentialminus": [
            [
             0,
             "#0d0887"
            ],
            [
             0.1111111111111111,
             "#46039f"
            ],
            [
             0.2222222222222222,
             "#7201a8"
            ],
            [
             0.3333333333333333,
             "#9c179e"
            ],
            [
             0.4444444444444444,
             "#bd3786"
            ],
            [
             0.5555555555555556,
             "#d8576b"
            ],
            [
             0.6666666666666666,
             "#ed7953"
            ],
            [
             0.7777777777777778,
             "#fb9f3a"
            ],
            [
             0.8888888888888888,
             "#fdca26"
            ],
            [
             1,
             "#f0f921"
            ]
           ]
          },
          "colorway": [
           "#636efa",
           "#EF553B",
           "#00cc96",
           "#ab63fa",
           "#FFA15A",
           "#19d3f3",
           "#FF6692",
           "#B6E880",
           "#FF97FF",
           "#FECB52"
          ],
          "font": {
           "color": "#2a3f5f"
          },
          "geo": {
           "bgcolor": "white",
           "lakecolor": "white",
           "landcolor": "#E5ECF6",
           "showlakes": true,
           "showland": true,
           "subunitcolor": "white"
          },
          "hoverlabel": {
           "align": "left"
          },
          "hovermode": "closest",
          "mapbox": {
           "style": "light"
          },
          "paper_bgcolor": "white",
          "plot_bgcolor": "#E5ECF6",
          "polar": {
           "angularaxis": {
            "gridcolor": "white",
            "linecolor": "white",
            "ticks": ""
           },
           "bgcolor": "#E5ECF6",
           "radialaxis": {
            "gridcolor": "white",
            "linecolor": "white",
            "ticks": ""
           }
          },
          "scene": {
           "xaxis": {
            "backgroundcolor": "#E5ECF6",
            "gridcolor": "white",
            "gridwidth": 2,
            "linecolor": "white",
            "showbackground": true,
            "ticks": "",
            "zerolinecolor": "white"
           },
           "yaxis": {
            "backgroundcolor": "#E5ECF6",
            "gridcolor": "white",
            "gridwidth": 2,
            "linecolor": "white",
            "showbackground": true,
            "ticks": "",
            "zerolinecolor": "white"
           },
           "zaxis": {
            "backgroundcolor": "#E5ECF6",
            "gridcolor": "white",
            "gridwidth": 2,
            "linecolor": "white",
            "showbackground": true,
            "ticks": "",
            "zerolinecolor": "white"
           }
          },
          "shapedefaults": {
           "line": {
            "color": "#2a3f5f"
           }
          },
          "ternary": {
           "aaxis": {
            "gridcolor": "white",
            "linecolor": "white",
            "ticks": ""
           },
           "baxis": {
            "gridcolor": "white",
            "linecolor": "white",
            "ticks": ""
           },
           "bgcolor": "#E5ECF6",
           "caxis": {
            "gridcolor": "white",
            "linecolor": "white",
            "ticks": ""
           }
          },
          "title": {
           "x": 0.05
          },
          "xaxis": {
           "automargin": true,
           "gridcolor": "white",
           "linecolor": "white",
           "ticks": "",
           "title": {
            "standoff": 15
           },
           "zerolinecolor": "white",
           "zerolinewidth": 2
          },
          "yaxis": {
           "automargin": true,
           "gridcolor": "white",
           "linecolor": "white",
           "ticks": "",
           "title": {
            "standoff": 15
           },
           "zerolinecolor": "white",
           "zerolinewidth": 2
          }
         }
        },
        "title": {
         "font": {
          "color": "#4D5663"
         },
         "text": "Distribution of no.of words in a Tweet"
        },
        "xaxis": {
         "gridcolor": "#E1E5ED",
         "linecolor": "orange",
         "showgrid": true,
         "tickfont": {
          "color": "#4D5663"
         },
         "title": {
          "font": {
           "color": "#4D5663"
          },
          "text": "No.of words in a Tweet"
         },
         "zerolinecolor": "#E1E5ED"
        },
        "yaxis": {
         "gridcolor": "#E1E5ED",
         "linecolor": "orange",
         "showgrid": true,
         "tickfont": {
          "color": "#4D5663"
         },
         "title": {
          "font": {
           "color": "#4D5663"
          },
          "text": "Count"
         },
         "zerolinecolor": "#E1E5ED"
        }
       }
      },
      "text/html": [
       "<div>                            <div id=\"86c90ebb-c0e6-4c6d-8e55-c442abcfac2c\" class=\"plotly-graph-div\" style=\"height:525px; width:100%;\"></div>            <script type=\"text/javascript\">                require([\"plotly\"], function(Plotly) {                    window.PLOTLYENV=window.PLOTLYENV || {};\n",
       "                    window.PLOTLYENV.BASE_URL='https://plot.ly';                                    if (document.getElementById(\"86c90ebb-c0e6-4c6d-8e55-c442abcfac2c\")) {                    Plotly.newPlot(                        \"86c90ebb-c0e6-4c6d-8e55-c442abcfac2c\",                        [{\"histfunc\": \"count\", \"histnorm\": \"\", \"marker\": {\"color\": \"rgba(0, 0, 0, 1.0)\", \"line\": {\"color\": \"#ff9933\", \"width\": 1.3}}, \"name\": \"word_count\", \"opacity\": 0.8, \"orientation\": \"v\", \"type\": \"histogram\", \"x\": [32, 38, 12, 31, 28, 40, 39, 45, 31, 39, 44, 26, 48, 40, 51, 39, 38, 25, 32, 39, 47, 17, 14, 45, 15, 27, 48, 37, 46, 28, 23, 51, 51, 41, 44, 18, 49, 35, 40, 32, 40, 40, 43, 47, 46, 17, 16, 40, 17, 17, 16, 35, 35, 29, 34, 45, 43, 29, 40, 41, 46, 18, 53, 26, 47, 45, 38, 54, 27, 51, 48, 21, 44, 42, 31, 35, 29, 43, 51, 46, 17, 43, 16, 23, 42, 17, 42, 17, 40, 49, 56, 44, 42, 43, 36, 38, 40, 43, 33, 49, 43, 49, 31, 39, 54, 17, 38, 30, 24, 37, 15, 16, 38, 44, 25, 28, 48, 36, 53, 36, 33, 33, 25, 48, 48, 53, 49, 31, 29, 25, 30, 25, 39, 46, 50, 27, 29, 50, 46, 47, 19, 53, 33, 22, 29, 14, 23, 20, 22, 37, 37, 43, 28, 35, 42, 33, 25, 21, 21, 42, 29, 22, 47, 35, 37, 35, 43, 30, 30, 33, 50, 29, 43, 49, 20, 14, 50, 19, 40, 34, 16, 44, 25, 42, 38, 45, 39, 37, 44, 41, 25, 31, 29, 54, 56, 18, 30, 23, 35, 31, 17, 27, 46, 32, 25, 50, 29, 28, 20, 26, 18, 54, 18, 50, 11, 37, 27, 29, 12, 48, 48, 51, 24, 29, 20, 45, 49, 45, 29, 36, 23, 28, 59, 37, 15, 23, 31, 36, 22, 35, 40, 36, 28, 26, 23, 24, 53, 31, 20, 22, 40, 18, 34, 32, 54, 26, 43, 21, 49, 29, 30, 49, 42, 14, 48, 12, 23, 26, 48, 32, 47, 37, 45, 17, 30, 23, 28, 22, 29, 24, 41, 28, 24, 32, 11, 17, 16, 35, 35, 27, 45, 36, 20, 24, 36, 27, 39, 40, 25, 42, 32, 24, 35, 47, 43, 26, 49, 42, 52, 31, 27, 20, 27, 17, 21, 37, 23, 28, 42, 32, 36, 43, 24, 49, 24, 41, 51, 18, 28, 49, 23, 26, 42, 22, 37, 34, 40, 22, 27, 56, 41, 41, 30, 40, 43, 34, 44, 22, 38, 14, 47, 33, 18, 30, 20, 25, 16, 38, 53, 33, 47, 52, 38, 18, 51, 39, 39, 40, 46, 40, 31, 24, 27, 36, 39, 47, 19, 43, 14, 28, 24, 50, 33, 48, 50, 37, 32, 54, 13, 25, 38, 39, 21, 40, 43, 47, 31, 19, 44, 48, 42, 40, 32, 47, 13, 50, 47, 14, 14, 26, 37, 60, 31, 27, 36, 45, 34, 30, 20, 20, 39, 23, 46, 44, 42, 38, 53, 40, 26, 23, 45, 30, 46, 51, 49, 13, 30, 11, 59, 46, 22, 45, 38, 42, 11, 45, 40, 27, 13, 44, 24, 46, 32, 46, 22, 56, 26, 36, 48, 42, 36, 30, 32, 17, 36, 50, 29, 27, 45, 26, 50, 18, 32, 13, 46, 36, 30, 26, 21, 39, 15, 35, 30, 36, 39, 41, 37, 25, 31, 39, 34, 42, 12, 25, 36, 47, 24, 39, 24, 24, 31, 43, 22, 20, 47, 23, 32, 32, 58, 35, 42, 22, 35, 37, 31, 48, 50, 47, 43, 47, 32, 20, 17, 27, 43, 32, 49, 27, 44, 22, 56, 33, 49, 21, 26, 36, 33, 49, 37, 14, 14, 42, 45, 39, 58, 52, 15, 24, 48, 39, 35, 45, 35, 44, 35, 36, 43, 45, 29, 26, 20, 29, 52, 26, 27, 52, 47, 37, 43, 14, 56, 31, 28, 46, 44, 23, 43, 39, 53, 29, 44, 21, 45, 26, 29, 26, 39, 24, 24, 44, 24, 41, 32, 49, 26, 38, 18, 38, 53, 23, 21, 21, 29, 38, 19, 13, 27, 42, 35, 43, 29, 31, 13, 54, 37, 20, 35, 38, 15, 54, 38, 40, 15, 26, 32, 29, 47, 28, 35, 33, 31, 14, 41, 33, 48, 45, 49, 26, 40, 45, 41, 36, 38, 34, 47, 18, 19, 21, 44, 42, 42, 33, 35, 41, 51, 20, 45, 47, 28, 44, 46, 22, 25, 47, 24, 22, 26, 41, 37, 45, 31, 48, 30, 21, 29, 39, 45, 20, 19, 49, 28, 22, 27, 8, 44, 19, 19, 21, 20, 30, 43, 37, 18, 54, 31, 44, 34, 28, 16, 22, 55, 51, 42, 29, 19, 27, 17, 35, 36, 43, 56, 26, 19, 34, 51, 48, 24, 25, 30, 36, 8, 41, 40, 41, 36, 53, 17, 30, 41, 31, 42, 49, 25, 51, 24, 29, 24, 21, 26, 45, 14, 47, 49, 30, 45, 47, 10, 47, 28, 50, 42, 50, 30, 37, 36, 51, 22, 30, 36, 46, 28, 25, 33, 43, 22, 23, 30, 50, 29, 52, 17, 43, 26, 48, 35, 29, 30, 26, 21, 48, 36, 35, 39, 41, 40, 46, 43, 38, 28, 24, 34, 45, 28, 48, 28, 41, 22, 32, 51, 48, 30, 57, 59, 30, 25, 25, 17, 20, 24, 41, 25, 31, 22, 26, 31, 50, 54, 44, 28, 51, 17, 34, 35, 48, 49, 39, 35, 19, 32, 51, 52, 49, 19, 25, 16, 46, 26, 45, 48, 34, 35, 34, 23, 30, 13, 42, 29, 51, 42, 24, 30, 19, 35, 34, 19, 36, 42, 17, 15, 52, 32, 27, 39, 38, 45, 50, 34, 35, 47, 28, 38, 42, 36, 33, 39, 45, 21, 19, 24, 16, 19, 34, 52, 46, 40, 42, 20, 50, 42, 53, 15, 20, 37, 47, 42, 42, 42, 21, 38, 9, 45, 39, 22, 31, 34, 27, 25, 39, 36, 32, 27, 48, 41, 27, 40, 45, 53, 21, 35, 17, 32, 29, 47, 51, 23, 28, 40, 9, 41, 22, 35, 36, 24, 33, 53, 46, 37, 27, 55, 17, 36, 17, 15, 28, 43, 10, 40, 46, 48, 47, 45, 12, 13, 9, 40, 45, 48, 37, 26, 44, 56, 26, 49, 43, 48, 54, 45, 29, 50, 25, 46, 14, 43, 54, 41, 39, 15, 44, 30, 38, 35, 46, 27, 37, 40, 40, 41, 29, 35, 32, 16, 37, 29, 50, 48, 31, 50, 27, 19, 36, 20, 37, 21, 21, 43, 44, 39, 26, 45, 50, 53, 49, 48, 26, 23, 20, 44, 46, 48, 30, 17, 27, 25, 25, 41, 36, 29, 33, 27, 50, 23, 21, 43, 48, 42, 52, 46, 54, 44, 26, 20, 44, 32, 39, 40, 27, 29, 41, 39, 19, 32, 44, 42, 43, 39, 21, 27, 50, 24, 36, 18, 45, 31, 47, 17, 55, 21, 35, 41, 48, 28, 31, 22, 33, 29, 47, 42, 45, 37, 14, 29, 24, 52, 39, 20, 23, 41, 36, 49, 22, 37, 15, 46, 48, 37, 32, 31, 38, 34, 29, 56, 47, 30, 22, 23, 40, 51, 28, 19, 50, 36, 32, 29, 38, 47, 10, 43, 45, 40, 43, 28, 47, 38, 41, 35, 44, 43, 37, 54, 50, 26, 36, 29, 31, 42, 42, 41, 51, 15, 34, 30, 47, 22, 27, 45, 39, 28, 18, 33, 26, 21, 53, 36, 56, 23, 26, 31, 30, 31, 44, 47, 13, 50, 27, 19, 26, 31, 20, 29, 31, 41, 44, 33, 30, 50, 33, 37, 33, 10, 36, 49, 39, 28, 17, 13, 39, 25, 52, 32, 56, 38, 26, 29, 31, 60, 39, 24, 15, 45, 42, 27, 48, 48, 51, 51, 49, 54, 49, 45, 39, 38, 46, 27, 54, 41, 32, 36, 24, 48, 27, 16, 25, 27, 43, 36, 39, 23, 17, 52, 24, 39, 21, 37, 38, 23, 37, 36, 23, 33, 37, 16, 34, 21, 48, 38, 43, 27, 50, 19, 34, 17, 39, 39, 28, 42, 24, 43, 40, 18, 43, 37, 44, 46, 49, 26, 15, 62, 11, 16, 46, 41, 38, 49, 28, 45, 42, 28, 38, 25, 52, 30, 17, 17, 43, 48, 39, 31, 26, 41, 25, 34, 29, 31, 27, 51, 45, 56, 55, 21, 16, 37, 41, 25, 38, 16, 21, 41, 47, 28, 33, 38, 45, 38, 38, 31, 27, 46, 25, 48, 33, 39, 44, 22, 43, 29, 38, 32, 23, 18, 24, 26, 31, 30, 32, 33, 29, 43, 36, 35, 47, 45, 30, 19, 42, 46, 37, 32, 13, 46, 46, 50, 41, 36, 22, 37, 43, 40, 20, 17, 13, 48, 33, 39, 46, 38, 35, 34, 18, 40, 23, 47, 49, 52, 41, 52, 51, 23, 22, 38, 51, 8, 30, 32, 32, 35, 49, 53, 42, 26, 34, 44, 46, 22, 48, 39, 44, 40, 44, 46, 34, 39, 51, 48, 36, 42, 44, 14, 35, 28, 28, 22, 12, 46, 43, 42, 39, 44, 14, 25, 43, 43, 29, 43, 19, 30, 42, 31, 24, 46, 28, 31, 33, 18, 13, 42, 45, 24, 18, 32, 30, 52, 21, 38, 18, 32, 54, 40, 42, 33, 43, 45, 28, 9, 37, 31, 32, 22, 39, 28, 46, 17, 34, 46, 12, 35, 32, 16, 44, 15, 45, 35, 17, 40, 20, 17, 22, 45, 45, 48, 39, 43, 18, 42, 32, 29, 46, 49, 18, 39, 11, 44, 21, 35, 50, 46, 41, 31, 50, 18, 26, 51, 34, 13, 46, 40, 50, 34, 14, 40, 36, 50, 44, 16, 35, 35, 46, 35, 28, 42, 39, 6, 51, 48, 56, 28, 45, 40, 47, 30, 46, 12, 45, 30, 39, 33, 39, 36, 49, 27, 39, 55, 42, 17, 46, 15, 48, 27, 49, 50, 48, 49, 47, 34, 43, 43, 47, 50, 33, 43, 45, 31, 19, 47, 24, 33, 22, 59, 26, 30, 60, 46, 11, 20, 42, 38, 23, 48, 23, 15, 25, 48, 24, 30, 34, 31, 44, 46, 33, 33, 46, 46, 52, 20, 48, 36, 50, 45, 40, 6, 38, 39, 52, 47, 35, 45, 47, 13, 35, 27, 45, 57, 40, 46, 29, 36, 37, 41, 29, 41, 11, 49, 34, 39, 23, 28, 53, 39, 42, 35, 40, 39, 39, 47, 40, 31, 33, 25, 22, 37, 50, 27, 37, 34, 46, 27, 46, 39, 29, 42, 28, 37, 36, 40, 16, 32, 10, 38, 48, 39, 48, 46, 40, 47, 46, 34, 49, 42, 44, 34, 48, 24, 50, 29, 49, 38, 23, 15, 38, 52, 44, 34, 51, 39, 17, 45, 48, 48, 39, 56, 43, 52, 23, 28, 30, 34, 20, 56, 18, 23, 34, 41, 43, 40, 38, 21, 42, 53, 51, 35, 32, 19, 42, 51, 53, 47, 44, 45, 45, 14, 26, 37, 14, 31, 43, 34, 39, 48, 19, 18, 36, 51, 47, 47, 29, 42, 52, 37, 55, 38, 42, 37, 35, 19, 40, 17, 45, 30, 47, 33, 40, 50, 36, 51, 48, 30, 24, 43, 39, 26, 10, 52, 22, 49, 34, 41, 29, 15, 24, 55, 23, 15, 33, 24, 46, 42, 47, 41, 37, 32, 2, 37, 22, 43, 42, 41, 25, 30, 24, 41, 45, 52, 37, 20, 21, 33, 52, 35, 50, 28, 43, 16, 34, 43, 24, 38, 46, 33, 30, 29, 30, 37, 43, 46, 37, 44, 33, 21, 40, 7, 19, 11, 16, 42, 35, 41, 25, 43, 42, 26, 32, 29, 28, 36, 15, 46, 47, 55, 48, 50, 23, 40, 29, 44, 46, 38, 49, 59, 25, 41, 39, 48, 21, 31, 45, 35, 30, 35, 33, 43, 20, 51, 25, 36, 36, 50, 22, 19, 19, 16, 43, 51, 29, 42, 44, 34, 35, 40, 18, 39, 45, 43, 40, 18, 44, 26, 40, 34, 26, 43, 57, 46, 18, 47, 38, 43, 37, 18, 26, 49, 37, 25, 55, 46, 22, 23, 42, 13, 13, 47, 30, 36, 46, 16, 41, 43, 20, 35, 35, 31, 45, 36, 31, 20, 18, 33, 29, 18, 26, 51, 33, 39, 22, 14, 37, 29, 40, 30, 45, 45, 19, 18, 35, 46, 38, 22, 36, 35, 39, 39, 29, 21, 20, 28, 23, 23, 27, 48, 20, 44, 19, 23, 14, 42, 44, 13, 33, 32, 18, 24, 35, 52, 21, 52, 31, 21, 15, 47, 58, 29, 29, 35, 48, 16, 54, 33, 31, 20, 36]}],                        {\"barmode\": \"overlay\", \"legend\": {\"bgcolor\": \"#F5F6F9\", \"font\": {\"color\": \"#4D5663\"}}, \"paper_bgcolor\": \"#F5F6F9\", \"plot_bgcolor\": \"#F5F6F9\", \"template\": {\"data\": {\"bar\": [{\"error_x\": {\"color\": \"#2a3f5f\"}, \"error_y\": {\"color\": \"#2a3f5f\"}, \"marker\": {\"line\": {\"color\": \"#E5ECF6\", \"width\": 0.5}}, \"type\": \"bar\"}], \"barpolar\": [{\"marker\": {\"line\": {\"color\": \"#E5ECF6\", \"width\": 0.5}}, \"type\": \"barpolar\"}], \"carpet\": [{\"aaxis\": {\"endlinecolor\": \"#2a3f5f\", \"gridcolor\": \"white\", \"linecolor\": \"white\", \"minorgridcolor\": \"white\", \"startlinecolor\": \"#2a3f5f\"}, \"baxis\": {\"endlinecolor\": \"#2a3f5f\", \"gridcolor\": \"white\", \"linecolor\": \"white\", \"minorgridcolor\": \"white\", \"startlinecolor\": \"#2a3f5f\"}, \"type\": \"carpet\"}], \"choropleth\": [{\"colorbar\": {\"outlinewidth\": 0, \"ticks\": \"\"}, \"type\": \"choropleth\"}], \"contour\": [{\"colorbar\": {\"outlinewidth\": 0, \"ticks\": \"\"}, \"colorscale\": [[0.0, \"#0d0887\"], [0.1111111111111111, \"#46039f\"], [0.2222222222222222, \"#7201a8\"], [0.3333333333333333, \"#9c179e\"], [0.4444444444444444, \"#bd3786\"], [0.5555555555555556, \"#d8576b\"], [0.6666666666666666, \"#ed7953\"], [0.7777777777777778, \"#fb9f3a\"], [0.8888888888888888, \"#fdca26\"], [1.0, \"#f0f921\"]], \"type\": \"contour\"}], \"contourcarpet\": [{\"colorbar\": {\"outlinewidth\": 0, \"ticks\": \"\"}, \"type\": \"contourcarpet\"}], \"heatmap\": [{\"colorbar\": {\"outlinewidth\": 0, \"ticks\": \"\"}, \"colorscale\": [[0.0, \"#0d0887\"], [0.1111111111111111, \"#46039f\"], [0.2222222222222222, \"#7201a8\"], [0.3333333333333333, \"#9c179e\"], [0.4444444444444444, \"#bd3786\"], [0.5555555555555556, \"#d8576b\"], [0.6666666666666666, \"#ed7953\"], [0.7777777777777778, \"#fb9f3a\"], [0.8888888888888888, \"#fdca26\"], [1.0, \"#f0f921\"]], \"type\": \"heatmap\"}], \"heatmapgl\": [{\"colorbar\": {\"outlinewidth\": 0, \"ticks\": \"\"}, \"colorscale\": [[0.0, \"#0d0887\"], [0.1111111111111111, \"#46039f\"], [0.2222222222222222, \"#7201a8\"], [0.3333333333333333, \"#9c179e\"], [0.4444444444444444, \"#bd3786\"], [0.5555555555555556, \"#d8576b\"], [0.6666666666666666, \"#ed7953\"], [0.7777777777777778, \"#fb9f3a\"], [0.8888888888888888, \"#fdca26\"], [1.0, \"#f0f921\"]], \"type\": \"heatmapgl\"}], \"histogram\": [{\"marker\": {\"colorbar\": {\"outlinewidth\": 0, \"ticks\": \"\"}}, \"type\": \"histogram\"}], \"histogram2d\": [{\"colorbar\": {\"outlinewidth\": 0, \"ticks\": \"\"}, \"colorscale\": [[0.0, \"#0d0887\"], [0.1111111111111111, \"#46039f\"], [0.2222222222222222, \"#7201a8\"], [0.3333333333333333, \"#9c179e\"], [0.4444444444444444, \"#bd3786\"], [0.5555555555555556, \"#d8576b\"], [0.6666666666666666, \"#ed7953\"], [0.7777777777777778, \"#fb9f3a\"], [0.8888888888888888, \"#fdca26\"], [1.0, \"#f0f921\"]], \"type\": \"histogram2d\"}], \"histogram2dcontour\": [{\"colorbar\": {\"outlinewidth\": 0, \"ticks\": \"\"}, \"colorscale\": [[0.0, \"#0d0887\"], [0.1111111111111111, \"#46039f\"], [0.2222222222222222, \"#7201a8\"], [0.3333333333333333, \"#9c179e\"], [0.4444444444444444, \"#bd3786\"], [0.5555555555555556, \"#d8576b\"], [0.6666666666666666, \"#ed7953\"], [0.7777777777777778, \"#fb9f3a\"], [0.8888888888888888, \"#fdca26\"], [1.0, \"#f0f921\"]], \"type\": \"histogram2dcontour\"}], \"mesh3d\": [{\"colorbar\": {\"outlinewidth\": 0, \"ticks\": \"\"}, \"type\": \"mesh3d\"}], \"parcoords\": [{\"line\": {\"colorbar\": {\"outlinewidth\": 0, \"ticks\": \"\"}}, \"type\": \"parcoords\"}], \"pie\": [{\"automargin\": true, \"type\": \"pie\"}], \"scatter\": [{\"marker\": {\"colorbar\": {\"outlinewidth\": 0, \"ticks\": \"\"}}, \"type\": \"scatter\"}], \"scatter3d\": [{\"line\": {\"colorbar\": {\"outlinewidth\": 0, \"ticks\": \"\"}}, \"marker\": {\"colorbar\": {\"outlinewidth\": 0, \"ticks\": \"\"}}, \"type\": \"scatter3d\"}], \"scattercarpet\": [{\"marker\": {\"colorbar\": {\"outlinewidth\": 0, \"ticks\": \"\"}}, \"type\": \"scattercarpet\"}], \"scattergeo\": [{\"marker\": {\"colorbar\": {\"outlinewidth\": 0, \"ticks\": \"\"}}, \"type\": \"scattergeo\"}], \"scattergl\": [{\"marker\": {\"colorbar\": {\"outlinewidth\": 0, \"ticks\": \"\"}}, \"type\": \"scattergl\"}], \"scattermapbox\": [{\"marker\": {\"colorbar\": {\"outlinewidth\": 0, \"ticks\": \"\"}}, \"type\": \"scattermapbox\"}], \"scatterpolar\": [{\"marker\": {\"colorbar\": {\"outlinewidth\": 0, \"ticks\": \"\"}}, \"type\": \"scatterpolar\"}], \"scatterpolargl\": [{\"marker\": {\"colorbar\": {\"outlinewidth\": 0, \"ticks\": \"\"}}, \"type\": \"scatterpolargl\"}], \"scatterternary\": [{\"marker\": {\"colorbar\": {\"outlinewidth\": 0, \"ticks\": \"\"}}, \"type\": \"scatterternary\"}], \"surface\": [{\"colorbar\": {\"outlinewidth\": 0, \"ticks\": \"\"}, \"colorscale\": [[0.0, \"#0d0887\"], [0.1111111111111111, \"#46039f\"], [0.2222222222222222, \"#7201a8\"], [0.3333333333333333, \"#9c179e\"], [0.4444444444444444, \"#bd3786\"], [0.5555555555555556, \"#d8576b\"], [0.6666666666666666, \"#ed7953\"], [0.7777777777777778, \"#fb9f3a\"], [0.8888888888888888, \"#fdca26\"], [1.0, \"#f0f921\"]], \"type\": \"surface\"}], \"table\": [{\"cells\": {\"fill\": {\"color\": \"#EBF0F8\"}, \"line\": {\"color\": \"white\"}}, \"header\": {\"fill\": {\"color\": \"#C8D4E3\"}, \"line\": {\"color\": \"white\"}}, \"type\": \"table\"}]}, \"layout\": {\"annotationdefaults\": {\"arrowcolor\": \"#2a3f5f\", \"arrowhead\": 0, \"arrowwidth\": 1}, \"autotypenumbers\": \"strict\", \"coloraxis\": {\"colorbar\": {\"outlinewidth\": 0, \"ticks\": \"\"}}, \"colorscale\": {\"diverging\": [[0, \"#8e0152\"], [0.1, \"#c51b7d\"], [0.2, \"#de77ae\"], [0.3, \"#f1b6da\"], [0.4, \"#fde0ef\"], [0.5, \"#f7f7f7\"], [0.6, \"#e6f5d0\"], [0.7, \"#b8e186\"], [0.8, \"#7fbc41\"], [0.9, \"#4d9221\"], [1, \"#276419\"]], \"sequential\": [[0.0, \"#0d0887\"], [0.1111111111111111, \"#46039f\"], [0.2222222222222222, \"#7201a8\"], [0.3333333333333333, \"#9c179e\"], [0.4444444444444444, \"#bd3786\"], [0.5555555555555556, \"#d8576b\"], [0.6666666666666666, \"#ed7953\"], [0.7777777777777778, \"#fb9f3a\"], [0.8888888888888888, \"#fdca26\"], [1.0, \"#f0f921\"]], \"sequentialminus\": [[0.0, \"#0d0887\"], [0.1111111111111111, \"#46039f\"], [0.2222222222222222, \"#7201a8\"], [0.3333333333333333, \"#9c179e\"], [0.4444444444444444, \"#bd3786\"], [0.5555555555555556, \"#d8576b\"], [0.6666666666666666, \"#ed7953\"], [0.7777777777777778, \"#fb9f3a\"], [0.8888888888888888, \"#fdca26\"], [1.0, \"#f0f921\"]]}, \"colorway\": [\"#636efa\", \"#EF553B\", \"#00cc96\", \"#ab63fa\", \"#FFA15A\", \"#19d3f3\", \"#FF6692\", \"#B6E880\", \"#FF97FF\", \"#FECB52\"], \"font\": {\"color\": \"#2a3f5f\"}, \"geo\": {\"bgcolor\": \"white\", \"lakecolor\": \"white\", \"landcolor\": \"#E5ECF6\", \"showlakes\": true, \"showland\": true, \"subunitcolor\": \"white\"}, \"hoverlabel\": {\"align\": \"left\"}, \"hovermode\": \"closest\", \"mapbox\": {\"style\": \"light\"}, \"paper_bgcolor\": \"white\", \"plot_bgcolor\": \"#E5ECF6\", \"polar\": {\"angularaxis\": {\"gridcolor\": \"white\", \"linecolor\": \"white\", \"ticks\": \"\"}, \"bgcolor\": \"#E5ECF6\", \"radialaxis\": {\"gridcolor\": \"white\", \"linecolor\": \"white\", \"ticks\": \"\"}}, \"scene\": {\"xaxis\": {\"backgroundcolor\": \"#E5ECF6\", \"gridcolor\": \"white\", \"gridwidth\": 2, \"linecolor\": \"white\", \"showbackground\": true, \"ticks\": \"\", \"zerolinecolor\": \"white\"}, \"yaxis\": {\"backgroundcolor\": \"#E5ECF6\", \"gridcolor\": \"white\", \"gridwidth\": 2, \"linecolor\": \"white\", \"showbackground\": true, \"ticks\": \"\", \"zerolinecolor\": \"white\"}, \"zaxis\": {\"backgroundcolor\": \"#E5ECF6\", \"gridcolor\": \"white\", \"gridwidth\": 2, \"linecolor\": \"white\", \"showbackground\": true, \"ticks\": \"\", \"zerolinecolor\": \"white\"}}, \"shapedefaults\": {\"line\": {\"color\": \"#2a3f5f\"}}, \"ternary\": {\"aaxis\": {\"gridcolor\": \"white\", \"linecolor\": \"white\", \"ticks\": \"\"}, \"baxis\": {\"gridcolor\": \"white\", \"linecolor\": \"white\", \"ticks\": \"\"}, \"bgcolor\": \"#E5ECF6\", \"caxis\": {\"gridcolor\": \"white\", \"linecolor\": \"white\", \"ticks\": \"\"}}, \"title\": {\"x\": 0.05}, \"xaxis\": {\"automargin\": true, \"gridcolor\": \"white\", \"linecolor\": \"white\", \"ticks\": \"\", \"title\": {\"standoff\": 15}, \"zerolinecolor\": \"white\", \"zerolinewidth\": 2}, \"yaxis\": {\"automargin\": true, \"gridcolor\": \"white\", \"linecolor\": \"white\", \"ticks\": \"\", \"title\": {\"standoff\": 15}, \"zerolinecolor\": \"white\", \"zerolinewidth\": 2}}}, \"title\": {\"font\": {\"color\": \"#4D5663\"}, \"text\": \"Distribution of no.of words in a Tweet\"}, \"xaxis\": {\"gridcolor\": \"#E1E5ED\", \"linecolor\": \"orange\", \"showgrid\": true, \"tickfont\": {\"color\": \"#4D5663\"}, \"title\": {\"font\": {\"color\": \"#4D5663\"}, \"text\": \"No.of words in a Tweet\"}, \"zerolinecolor\": \"#E1E5ED\"}, \"yaxis\": {\"gridcolor\": \"#E1E5ED\", \"linecolor\": \"orange\", \"showgrid\": true, \"tickfont\": {\"color\": \"#4D5663\"}, \"title\": {\"font\": {\"color\": \"#4D5663\"}, \"text\": \"Count\"}, \"zerolinecolor\": \"#E1E5ED\"}},                        {\"showLink\": true, \"linkText\": \"Export to plot.ly\", \"plotlyServerURL\": \"https://plot.ly\", \"responsive\": true}                    ).then(function(){\n",
       "                            \n",
       "var gd = document.getElementById('86c90ebb-c0e6-4c6d-8e55-c442abcfac2c');\n",
       "var x = new MutationObserver(function (mutations, observer) {{\n",
       "        var display = window.getComputedStyle(gd).display;\n",
       "        if (!display || display === 'none') {{\n",
       "            console.log([gd, 'removed!']);\n",
       "            Plotly.purge(gd);\n",
       "            observer.disconnect();\n",
       "        }}\n",
       "}});\n",
       "\n",
       "// Listen for the removal of the full notebook cells\n",
       "var notebookContainer = gd.closest('#notebook-container');\n",
       "if (notebookContainer) {{\n",
       "    x.observe(notebookContainer, {childList: true});\n",
       "}}\n",
       "\n",
       "// Listen for the clearing of the current output cell\n",
       "var outputEl = gd.closest('.output');\n",
       "if (outputEl) {{\n",
       "    x.observe(outputEl, {childList: true});\n",
       "}}\n",
       "\n",
       "                        })                };                });            </script>        </div>"
      ]
     },
     "metadata": {},
     "output_type": "display_data"
    }
   ],
   "source": [
    "df1['word_count'].iplot(kind = 'hist',xTitle = 'No.of words in a Tweet',yTitle = 'Count', \n",
    "                      title = 'Distribution of no.of words in a Tweet', colors = 'black',linecolor = 'orange')"
   ]
  },
  {
   "cell_type": "markdown",
   "metadata": {},
   "source": [
    "### Distribution of Average word length in Questions"
   ]
  },
  {
   "cell_type": "code",
   "execution_count": 15,
   "metadata": {},
   "outputs": [
    {
     "data": {
      "application/vnd.plotly.v1+json": {
       "config": {
        "linkText": "Export to plot.ly",
        "plotlyServerURL": "https://plot.ly",
        "showLink": true
       },
       "data": [
        {
         "histfunc": "count",
         "histnorm": "",
         "marker": {
          "color": "rgba(173, 216, 230, 1.0)",
          "line": {
           "color": "#000000",
           "width": 1.3
          }
         },
         "name": "avg_word_len",
         "nbinsx": 40,
         "opacity": 0.8,
         "orientation": "v",
         "type": "histogram",
         "x": [
          5.40625,
          7.368421052631579,
          6.583333333333333,
          6.516129032258065,
          6.607142857142857,
          4.925,
          6.461538461538462,
          4.8,
          6.161290322580645,
          6.0256410256410255,
          4.681818181818182,
          6.5,
          5.0625,
          6.15,
          5.372549019607843,
          6.641025641025641,
          6.2368421052631575,
          6.92,
          6.59375,
          7.0256410256410255,
          4.787234042553192,
          7.0588235294117645,
          7.857142857142857,
          5.333333333333333,
          9.266666666666667,
          5.777777777777778,
          4.75,
          5.216216216216216,
          5.934782608695652,
          7,
          5.913043478260869,
          4.921568627450981,
          4.686274509803922,
          6.317073170731708,
          6,
          5.722222222222222,
          4.673469387755102,
          4.857142857142857,
          5.025,
          7.59375,
          5.675,
          6.15,
          5.883720930232558,
          5.276595744680851,
          5.760869565217392,
          4.529411764705882,
          6.625,
          6.55,
          6.647058823529412,
          8.058823529411764,
          5.75,
          7.228571428571429,
          5.457142857142857,
          6.931034482758621,
          5.588235294117647,
          4.533333333333333,
          5.023255813953488,
          4.793103448275862,
          5.425,
          6.512195121951219,
          4.5,
          8.166666666666666,
          3.6226415094339623,
          6.846153846153846,
          4.468085106382978,
          5.044444444444444,
          5,
          4.444444444444445,
          6.111111111111111,
          5.745098039215686,
          4.333333333333333,
          6.333333333333333,
          4.818181818181818,
          5.857142857142857,
          5.290322580645161,
          6.4,
          5.344827586206897,
          4.790697674418604,
          5.352941176470588,
          4.869565217391305,
          5.823529411764706,
          5.8604651162790695,
          6.1875,
          7.913043478260869,
          5.428571428571429,
          5.882352941176471,
          5.142857142857143,
          6.823529411764706,
          6.05,
          4.775510204081633,
          4.785714285714286,
          5.340909090909091,
          5.809523809523809,
          5.395348837209302,
          4.305555555555555,
          7.184210526315789,
          4.975,
          5.4186046511627906,
          4.666666666666667,
          4.387755102040816,
          4.5813953488372094,
          5.469387755102041,
          4.032258064516129,
          5.256410256410256,
          4.851851851851852,
          8.588235294117647,
          6.026315789473684,
          5.466666666666667,
          6.083333333333333,
          4.864864864864865,
          7.333333333333333,
          5.9375,
          6.2631578947368425,
          5.2727272727272725,
          8.28,
          7.321428571428571,
          5.666666666666667,
          7.638888888888889,
          4.377358490566038,
          6.472222222222222,
          7.242424242424242,
          5.212121212121212,
          5.68,
          4.895833333333333,
          4.395833333333333,
          4.169811320754717,
          5.122448979591836,
          7.709677419354839,
          5.655172413793103,
          8.52,
          6.266666666666667,
          4.24,
          6.076923076923077,
          4.369565217391305,
          4.92,
          4.296296296296297,
          4.9655172413793105,
          4.86,
          5.043478260869565,
          5.659574468085107,
          5.894736842105263,
          4.962264150943396,
          6.848484848484849,
          4.454545454545454,
          5.724137931034483,
          4.571428571428571,
          5.869565217391305,
          8.65,
          4.363636363636363,
          4.918918918918919,
          5.756756756756757,
          5.511627906976744,
          5.535714285714286,
          5.742857142857143,
          5.071428571428571,
          4.424242424242424,
          4.4,
          7.809523809523809,
          5.0476190476190474,
          5.071428571428571,
          6.551724137931035,
          4.181818181818182,
          4.659574468085107,
          7.257142857142857,
          6.108108108108108,
          5.4,
          6.186046511627907,
          5.433333333333334,
          6.566666666666666,
          6.7272727272727275,
          5.6,
          5.9655172413793105,
          5.558139534883721,
          4.795918367346939,
          6.7,
          7.142857142857143,
          4.68,
          5.2105263157894735,
          5.5,
          6.470588235294118,
          5.8125,
          5.5,
          6.28,
          6.095238095238095,
          4.842105263157895,
          4.8,
          4.9743589743589745,
          5.405405405405405,
          4.659090909090909,
          4.7317073170731705,
          6.96,
          5.838709677419355,
          6.068965517241379,
          4.092592592592593,
          4.303571428571429,
          7.555555555555555,
          7.066666666666666,
          4.565217391304348,
          4.4,
          4.838709677419355,
          6.764705882352941,
          4.037037037037037,
          5.021739130434782,
          5.0625,
          10.52,
          5.22,
          5.206896551724138,
          5.428571428571429,
          7.15,
          5.884615384615385,
          6.611111111111111,
          4.592592592592593,
          6.388888888888889,
          5.1,
          5.181818181818182,
          5.108108108108108,
          4.851851851851852,
          5.103448275862069,
          5.166666666666667,
          4.6875,
          5.125,
          4.686274509803922,
          4.5,
          4.275862068965517,
          6.05,
          4.844444444444444,
          5.204081632653061,
          4.866666666666666,
          5.379310344827586,
          4.972222222222222,
          6.3478260869565215,
          6.392857142857143,
          3.864406779661017,
          3.891891891891892,
          7.933333333333334,
          7.086956521739131,
          5.645161290322581,
          4.611111111111111,
          6,
          6.371428571428571,
          4.15,
          6.777777777777778,
          5.75,
          8.846153846153847,
          6.782608695652174,
          4.5,
          5.169811320754717,
          5.580645161290323,
          4.85,
          7.2727272727272725,
          6.725,
          8.333333333333334,
          5.4411764705882355,
          6.375,
          5,
          5.346153846153846,
          5.372093023255814,
          4.809523809523809,
          4.591836734693878,
          7,
          4.9,
          5.224489795918367,
          5.4523809523809526,
          6.785714285714286,
          5.25,
          7.666666666666667,
          6.6521739130434785,
          4.346153846153846,
          4.333333333333333,
          5.28125,
          4.574468085106383,
          5.45945945945946,
          6.022222222222222,
          6.0588235294117645,
          5.433333333333334,
          6.043478260869565,
          6.392857142857143,
          5.181818181818182,
          8,
          5.833333333333333,
          6.609756097560975,
          5.285714285714286,
          5.541666666666667,
          4.4375,
          7.2727272727272725,
          7.470588235294118,
          6,
          5.114285714285714,
          4.542857142857143,
          5.074074074074074,
          5.933333333333334,
          6.027777777777778,
          5.1,
          9.75,
          6.833333333333333,
          7.2592592592592595,
          7.230769230769231,
          4.75,
          7.32,
          6.5476190476190474,
          5.5,
          6,
          4.742857142857143,
          4.127659574468085,
          5.069767441860465,
          4.538461538461538,
          4.591836734693878,
          5.785714285714286,
          4.211538461538462,
          6.193548387096774,
          7.037037037037037,
          6.7,
          5.111111111111111,
          7.352941176470588,
          7,
          6.108108108108108,
          8.869565217391305,
          5.928571428571429,
          6.023809523809524,
          6.53125,
          5.277777777777778,
          4.6976744186046515,
          5.666666666666667,
          4.63265306122449,
          3.6666666666666665,
          5.878048780487805,
          4.784313725490196,
          6.5,
          6.035714285714286,
          4.673469387755102,
          6.130434782608695,
          5.1923076923076925,
          4.785714285714286,
          6.363636363636363,
          6.486486486486487,
          4.735294117647059,
          4.875,
          4.409090909090909,
          6.333333333333333,
          4.142857142857143,
          5.317073170731708,
          5.609756097560975,
          5.566666666666666,
          6.15,
          4.906976744186046,
          4.588235294117647,
          5.386363636363637,
          5,
          6.342105263157895,
          5.5,
          4.957446808510638,
          6.151515151515151,
          4.611111111111111,
          7.633333333333334,
          7.75,
          5.84,
          5.4375,
          5.7368421052631575,
          4.339622641509434,
          5.757575757575758,
          5.468085106382978,
          4.461538461538462,
          6.447368421052632,
          8.666666666666666,
          4.705882352941177,
          5.666666666666667,
          6.17948717948718,
          5.85,
          4.717391304347826,
          5.45,
          6.32258064516129,
          5.958333333333333,
          6.074074074074074,
          5.277777777777778,
          7.333333333333333,
          4.74468085106383,
          5.842105263157895,
          5.72093023255814,
          9,
          5.142857142857143,
          4.416666666666667,
          4.72,
          5.9393939393939394,
          4.166666666666667,
          5.52,
          4.486486486486487,
          3.9375,
          4.12962962962963,
          7.076923076923077,
          7.44,
          4.973684210526316,
          6.153846153846154,
          5.9523809523809526,
          5.4,
          5.534883720930233,
          5.127659574468085,
          3.838709677419355,
          4.2631578947368425,
          5.75,
          4.979166666666667,
          5.261904761904762,
          6.975,
          5,
          4.76595744680851,
          6.230769230769231,
          4.6,
          4.829787234042553,
          7.642857142857143,
          7.285714285714286,
          6,
          5.297297297297297,
          3.816666666666667,
          7.290322580645161,
          7.37037037037037,
          4.555555555555555,
          5.711111111111111,
          7,
          4,
          4.95,
          6.25,
          4.051282051282051,
          4.3478260869565215,
          5.521739130434782,
          5.659090909090909,
          5.833333333333333,
          5.2631578947368425,
          4.90566037735849,
          6.35,
          5.038461538461538,
          6.260869565217392,
          4.733333333333333,
          7.133333333333334,
          4.760869565217392,
          4.784313725490196,
          5.326530612244898,
          6.384615384615385,
          4.933333333333334,
          7.090909090909091,
          4.0508474576271185,
          5.195652173913044,
          5.2272727272727275,
          4.666666666666667,
          6.131578947368421,
          4.880952380952381,
          8.636363636363637,
          5.555555555555555,
          5.975,
          4.148148148148148,
          4.846153846153846,
          4.7272727272727275,
          6.625,
          5.282608695652174,
          4.8125,
          5.304347826086956,
          4.590909090909091,
          4.196428571428571,
          8.307692307692308,
          6.638888888888889,
          4.9375,
          6.428571428571429,
          7.277777777777778,
          5.166666666666667,
          5.6875,
          7.176470588235294,
          6.083333333333333,
          4.18,
          6.551724137931035,
          5.851851851851852,
          5.177777777777778,
          5.038461538461538,
          5.2,
          7.444444444444445,
          5.5,
          6.461538461538462,
          5.130434782608695,
          6.194444444444445,
          5,
          5.153846153846154,
          6.857142857142857,
          6.410256410256411,
          6.8,
          5.9714285714285715,
          4.933333333333334,
          4.583333333333333,
          4.948717948717949,
          5.975609756097561,
          6.027027027027027,
          5.96,
          4.612903225806452,
          6.512820512820513,
          5.411764705882353,
          4.976190476190476,
          5.833333333333333,
          5.24,
          6.333333333333333,
          4.48936170212766,
          6.041666666666667,
          6.358974358974359,
          6.625,
          6.083333333333333,
          5.612903225806452,
          4.953488372093023,
          5.136363636363637,
          7.3,
          5.361702127659575,
          4.695652173913044,
          5.65625,
          4.6875,
          4.086206896551724,
          4.828571428571428,
          5.071428571428571,
          5.318181818181818,
          5.114285714285714,
          4.756756756756757,
          6.709677419354839,
          5.25,
          4.86,
          4.851063829787234,
          4.488372093023256,
          5.617021276595745,
          4.96875,
          4.9,
          4.705882352941177,
          4.888888888888889,
          4.4186046511627906,
          4.46875,
          4.8979591836734695,
          5.777777777777778,
          4.568181818181818,
          3.8181818181818183,
          3.9285714285714284,
          5.424242424242424,
          4.836734693877551,
          5.619047619047619,
          6.115384615384615,
          6.444444444444445,
          6.787878787878788,
          4.183673469387755,
          6.054054054054054,
          7.071428571428571,
          5.785714285714286,
          6.214285714285714,
          4.666666666666667,
          4.410256410256411,
          4.396551724137931,
          4.865384615384615,
          7.066666666666666,
          5.833333333333333,
          5.479166666666667,
          5.487179487179487,
          6.3428571428571425,
          4.288888888888889,
          4.6,
          6.340909090909091,
          6.885714285714286,
          4.75,
          5.186046511627907,
          4.955555555555556,
          6.620689655172414,
          5.461538461538462,
          8,
          5.310344827586207,
          4.288461538461538,
          6.846153846153846,
          5.148148148148148,
          3.576923076923077,
          4.659574468085107,
          5.108108108108108,
          4.883720930232558,
          6.857142857142857,
          4.392857142857143,
          4.612903225806452,
          5.607142857142857,
          4.826086956521739,
          4.636363636363637,
          4.695652173913044,
          4.5813953488372094,
          5.923076923076923,
          3.9245283018867925,
          5.103448275862069,
          5.795454545454546,
          6.095238095238095,
          5.355555555555555,
          5.076923076923077,
          5.482758620689655,
          5.576923076923077,
          5.461538461538462,
          4.333333333333333,
          5.416666666666667,
          5.75,
          5.75,
          4.975609756097561,
          5.78125,
          4.26530612244898,
          7.038461538461538,
          5.815789473684211,
          6.222222222222222,
          5.7368421052631575,
          4.679245283018868,
          5.478260869565218,
          6.333333333333333,
          6.666666666666667,
          6.793103448275862,
          4.7368421052631575,
          7.2105263157894735,
          6.384615384615385,
          5.148148148148148,
          6.214285714285714,
          5.228571428571429,
          4.465116279069767,
          4.655172413793103,
          5.903225806451613,
          5,
          4.444444444444445,
          6.54054054054054,
          7.15,
          4.857142857142857,
          4.5,
          5.2,
          4.314814814814815,
          4.2894736842105265,
          6,
          7.333333333333333,
          4.6923076923076925,
          4.78125,
          5.482758620689655,
          4.914893617021277,
          5.5,
          5.228571428571429,
          5.181818181818182,
          6.612903225806452,
          5.571428571428571,
          6.170731707317073,
          4.636363636363637,
          5.520833333333333,
          5,
          4.755102040816326,
          5.576923076923077,
          4.875,
          5.688888888888889,
          4.926829268292683,
          5.472222222222222,
          5.7368421052631575,
          6.352941176470588,
          5.127659574468085,
          7.5,
          5.2105263157894735,
          6.0476190476190474,
          5.795454545454546,
          5.571428571428571,
          4.880952380952381,
          5.484848484848484,
          5.771428571428571,
          6.341463414634147,
          4.96078431372549,
          4.95,
          5.822222222222222,
          5.404255319148936,
          7.214285714285714,
          5.818181818181818,
          5.217391304347826,
          6.090909090909091,
          6.24,
          5.382978723404255,
          4.791666666666667,
          5.590909090909091,
          5.615384615384615,
          4.512195121951219,
          7.054054054054054,
          5.4,
          6.741935483870968,
          5.645833333333333,
          6.6,
          7.333333333333333,
          6.379310344827586,
          7.282051282051282,
          5.444444444444445,
          5.55,
          6.2631578947368425,
          4.591836734693878,
          5.178571428571429,
          5.7272727272727275,
          5.37037037037037,
          5.875,
          4.863636363636363,
          7.473684210526316,
          6.315789473684211,
          6,
          5.35,
          6.933333333333334,
          5.162790697674419,
          5.324324324324325,
          6.555555555555555,
          4.537037037037037,
          6,
          5.636363636363637,
          5.411764705882353,
          4.928571428571429,
          6.75,
          7.409090909090909,
          4.2727272727272725,
          4.254901960784314,
          5.5,
          5.137931034482759,
          5.2631578947368425,
          5.592592592592593,
          5.705882352941177,
          5.542857142857143,
          5.888888888888889,
          6.069767441860465,
          4.642857142857143,
          5.884615384615385,
          4.7894736842105265,
          4.970588235294118,
          4.450980392156863,
          4.5625,
          5.291666666666667,
          5.68,
          4.533333333333333,
          7.805555555555555,
          7.875,
          5.585365853658536,
          4.05,
          6.829268292682927,
          4.916666666666667,
          4.30188679245283,
          6.882352941176471,
          6,
          5.7317073170731705,
          5.483870967741935,
          5.4523809523809526,
          5.020408163265306,
          7.28,
          4.921568627450981,
          4.958333333333333,
          5.413793103448276,
          5.916666666666667,
          6.666666666666667,
          6.461538461538462,
          5.177777777777778,
          6.142857142857143,
          5.680851063829787,
          4.816326530612245,
          5.766666666666667,
          4,
          5.340425531914893,
          11.1,
          4.638297872340425,
          4.857142857142857,
          5.32,
          4.904761904761905,
          4.68,
          5.3,
          5.243243243243243,
          5.861111111111111,
          4.96078431372549,
          6.681818181818182,
          5.633333333333334,
          6.888888888888889,
          5.978260869565218,
          5.714285714285714,
          5.64,
          4.121212121212121,
          5.046511627906977,
          8.090909090909092,
          5.260869565217392,
          6.2,
          4.84,
          5.689655172413793,
          4.615384615384615,
          5.470588235294118,
          5.441860465116279,
          5.1923076923076925,
          4.833333333333333,
          8.057142857142857,
          5.482758620689655,
          5.1,
          5.5,
          5.142857142857143,
          4.9375,
          4.583333333333333,
          6.571428571428571,
          5.82051282051282,
          5.7317073170731705,
          5.625,
          4.326086956521739,
          4.72093023255814,
          6.052631578947368,
          6.107142857142857,
          5.208333333333333,
          5.588235294117647,
          5.066666666666666,
          6.071428571428571,
          4.625,
          6.678571428571429,
          5.585365853658536,
          6.363636363636363,
          5.46875,
          4.823529411764706,
          4.666666666666667,
          5.2,
          4.245614035087719,
          4.288135593220339,
          4.4,
          6.04,
          4.56,
          5.294117647058823,
          8.6,
          6.333333333333333,
          5.634146341463414,
          6.4,
          4.903225806451613,
          6.090909090909091,
          4.615384615384615,
          6.064516129032258,
          4.58,
          4.314814814814815,
          5.454545454545454,
          5.464285714285714,
          4.7254901960784315,
          5.764705882352941,
          5.147058823529412,
          5.628571428571429,
          4.375,
          5.612244897959184,
          5.410256410256411,
          5.428571428571429,
          6.684210526315789,
          5.65625,
          4.705882352941177,
          4.480769230769231,
          5.142857142857143,
          5.631578947368421,
          4.76,
          8.25,
          5.043478260869565,
          6,
          4.622222222222222,
          4.9375,
          4.647058823529412,
          5.057142857142857,
          4.794117647058823,
          6.3478260869565215,
          4.6,
          6.538461538461538,
          4.690476190476191,
          4.482758620689655,
          6.568627450980392,
          5.9523809523809526,
          5.458333333333333,
          5.133333333333334,
          6,
          4.3428571428571425,
          5.5,
          4.631578947368421,
          4.527777777777778,
          5.285714285714286,
          6.352941176470588,
          8.533333333333333,
          4.269230769230769,
          5.53125,
          6.814814814814815,
          5.333333333333333,
          5.394736842105263,
          4.6,
          4.78,
          5.529411764705882,
          4.228571428571429,
          5.276595744680851,
          5.607142857142857,
          4.7894736842105265,
          4.4523809523809526,
          6.861111111111111,
          5.363636363636363,
          6.102564102564102,
          5.177777777777778,
          5.761904761904762,
          6.2105263157894735,
          4.5,
          7.0625,
          5.2105263157894735,
          7.176470588235294,
          4.519230769230769,
          4.978260869565218,
          6.075,
          5.071428571428571,
          6.55,
          4.94,
          5.357142857142857,
          4.735849056603773,
          7.4,
          6.3,
          6.351351351351352,
          4.659574468085107,
          6.023809523809524,
          5.404761904761905,
          4.928571428571429,
          4.0476190476190474,
          6.578947368421052,
          8.666666666666666,
          5.333333333333333,
          4.794871794871795,
          4.2272727272727275,
          5,
          7.264705882352941,
          7.111111111111111,
          7.04,
          5.282051282051282,
          5.861111111111111,
          6.25,
          6,
          4.875,
          5.829268292682927,
          5.518518518518518,
          5.3,
          4.444444444444445,
          4.3584905660377355,
          7.571428571428571,
          7,
          9.235294117647058,
          4.5625,
          6.413793103448276,
          4.9787234042553195,
          4.490196078431373,
          4.826086956521739,
          5.142857142857143,
          5.55,
          5.444444444444445,
          5.121951219512195,
          9.818181818181818,
          5.6,
          4.694444444444445,
          4.875,
          6.757575757575758,
          4.69811320754717,
          4.478260869565218,
          3.7567567567567566,
          5.222222222222222,
          4.345454545454546,
          5.0588235294117645,
          7.138888888888889,
          7.117647058823529,
          7.733333333333333,
          5.357142857142857,
          4.767441860465116,
          6.3,
          5.75,
          4.956521739130435,
          5.645833333333333,
          4.808510638297872,
          4.711111111111111,
          7.833333333333333,
          6,
          6.666666666666667,
          4.475,
          5.822222222222222,
          4.895833333333333,
          4.702702702702703,
          6.346153846153846,
          4.704545454545454,
          4.214285714285714,
          7.5,
          5.1020408163265305,
          5.255813953488372,
          4.6875,
          4.777777777777778,
          4.2444444444444445,
          6.655172413793103,
          4.86,
          5.12,
          5.173913043478261,
          5.428571428571429,
          5.627906976744186,
          4.296296296296297,
          6.073170731707317,
          5.846153846153846,
          7.666666666666667,
          4.886363636363637,
          5.566666666666666,
          5,
          6.714285714285714,
          5.065217391304348,
          6.111111111111111,
          5.756756756756757,
          5.425,
          5.675,
          5.829268292682927,
          5.896551724137931,
          5.0285714285714285,
          5.125,
          9.5,
          4.918918918918919,
          6.379310344827586,
          5.26,
          5.020833333333333,
          4.419354838709677,
          4.3,
          5.592592592592593,
          6.368421052631579,
          4.222222222222222,
          6,
          6.405405405405405,
          7.095238095238095,
          8.095238095238095,
          5.255813953488372,
          5.340909090909091,
          6.0256410256410255,
          6.115384615384615,
          5.2444444444444445,
          4.76,
          4.547169811320755,
          4.387755102040816,
          5.354166666666667,
          6.269230769230769,
          4.565217391304348,
          7.85,
          5.840909090909091,
          5.304347826086956,
          5.145833333333333,
          5.4,
          6.117647058823529,
          6.185185185185185,
          5.32,
          7.56,
          4.926829268292683,
          5.083333333333333,
          6.068965517241379,
          5.666666666666667,
          5.592592592592593,
          4.74,
          4.869565217391305,
          6.857142857142857,
          4.8604651162790695,
          5.583333333333333,
          4.404761904761905,
          4.6923076923076925,
          4.978260869565218,
          4.425925925925926,
          4.840909090909091,
          5.423076923076923,
          5.7,
          6.159090909090909,
          4.6875,
          4.846153846153846,
          6.425,
          5.555555555555555,
          7.9655172413793105,
          6.560975609756097,
          6.102564102564102,
          5.368421052631579,
          5.03125,
          5.75,
          6.190476190476191,
          4.790697674418604,
          5.564102564102564,
          7,
          6.037037037037037,
          5.08,
          6,
          6.611111111111111,
          5.666666666666667,
          5.777777777777778,
          5.774193548387097,
          5.042553191489362,
          7.882352941176471,
          4.363636363636363,
          5.238095238095238,
          6.885714285714286,
          6.073170731707317,
          4.833333333333333,
          6.571428571428571,
          5.387096774193548,
          5.7272727272727275,
          4.787878787878788,
          5.655172413793103,
          5.276595744680851,
          5.571428571428571,
          5.777777777777778,
          6.594594594594595,
          8.928571428571429,
          4.241379310344827,
          4.875,
          4.673076923076923,
          6,
          4.6,
          5.869565217391305,
          6.341463414634147,
          5.722222222222222,
          5.530612244897959,
          4.318181818181818,
          5.351351351351352,
          5.533333333333333,
          4.760869565217392,
          5.791666666666667,
          6.486486486486487,
          8.46875,
          9.096774193548388,
          5.7631578947368425,
          6.735294117647059,
          5.241379310344827,
          4.785714285714286,
          5.127659574468085,
          6.533333333333333,
          8.727272727272727,
          6.391304347826087,
          5.375,
          4.333333333333333,
          5.214285714285714,
          5.052631578947368,
          5.34,
          6.527777777777778,
          4.9375,
          6.137931034482759,
          6.184210526315789,
          5.361702127659575,
          9.4,
          4.372093023255814,
          4.688888888888889,
          5.05,
          4.3023255813953485,
          5.357142857142857,
          5.085106382978723,
          5.157894736842105,
          5.878048780487805,
          5.8,
          4.818181818181818,
          5.162790697674419,
          5.621621621621622,
          5.148148148148148,
          4.3,
          4.423076923076923,
          6.805555555555555,
          4.310344827586207,
          6.741935483870968,
          5.428571428571429,
          6.523809523809524,
          5.975609756097561,
          5.235294117647059,
          8.866666666666667,
          4.529411764705882,
          4.566666666666666,
          4.702127659574468,
          6.545454545454546,
          5.111111111111111,
          4.733333333333333,
          5.256410256410256,
          5.107142857142857,
          4.666666666666667,
          7.606060606060606,
          7.384615384615385,
          5.428571428571429,
          4.584905660377358,
          5.305555555555555,
          4.267857142857143,
          4.826086956521739,
          6.038461538461538,
          6.483870967741935,
          6.633333333333334,
          6.419354838709677,
          4.931818181818182,
          5.297872340425532,
          6.6923076923076925,
          5.34,
          5.7407407407407405,
          6.7368421052631575,
          5.8076923076923075,
          5.290322580645161,
          6.6,
          5.241379310344827,
          5.032258064516129,
          4.975609756097561,
          4.75,
          4.151515151515151,
          5.2,
          4.78,
          7.2727272727272725,
          4.5675675675675675,
          4.636363636363637,
          5.7,
          4.305555555555555,
          4.448979591836735,
          6,
          4.392857142857143,
          4.470588235294118,
          7.846153846153846,
          5.17948717948718,
          6.36,
          4.019230769230769,
          4.34375,
          4.267857142857143,
          4.447368421052632,
          4.423076923076923,
          5.517241379310345,
          5.838709677419355,
          4.116666666666666,
          3.923076923076923,
          5,
          7.066666666666666,
          4.666666666666667,
          5.0476190476190474,
          5.296296296296297,
          4.916666666666667,
          5,
          4.823529411764706,
          3.9215686274509802,
          4.836734693877551,
          4.12962962962963,
          5.204081632653061,
          4.511111111111111,
          5.871794871794871,
          4.815789473684211,
          4.630434782608695,
          3.7777777777777777,
          4.148148148148148,
          5.2439024390243905,
          4.8125,
          5.111111111111111,
          5.125,
          5.125,
          6.407407407407407,
          6.1875,
          5.16,
          5.518518518518518,
          5.255813953488372,
          4.111111111111111,
          6.282051282051282,
          6.782608695652174,
          5.647058823529412,
          4.673076923076923,
          5.833333333333333,
          4.538461538461538,
          4.809523809523809,
          4.4324324324324325,
          5.973684210526316,
          4.521739130434782,
          6.1891891891891895,
          5.5,
          5.304347826086956,
          5.909090909090909,
          4.8108108108108105,
          6.9375,
          5.4411764705882355,
          5.666666666666667,
          5.9375,
          5.052631578947368,
          5.953488372093023,
          4.925925925925926,
          4.64,
          5.105263157894737,
          6.794117647058823,
          8.529411764705882,
          5.17948717948718,
          6,
          5.642857142857143,
          5.380952380952381,
          7.583333333333333,
          5.232558139534884,
          4.65,
          6.388888888888889,
          5.27906976744186,
          5.54054054054054,
          4.863636363636363,
          5.173913043478261,
          4.6938775510204085,
          6.5,
          7.266666666666667,
          3.6451612903225805,
          7.545454545454546,
          6.8125,
          5.891304347826087,
          4.975609756097561,
          5.894736842105263,
          4.775510204081633,
          6.714285714285714,
          5.822222222222222,
          5.142857142857143,
          5.25,
          5.157894736842105,
          6.48,
          4.519230769230769,
          5.766666666666667,
          7.882352941176471,
          8.823529411764707,
          5.767441860465116,
          4.645833333333333,
          4.256410256410256,
          5,
          6.230769230769231,
          6.463414634146342,
          5.16,
          4.911764705882353,
          4.379310344827586,
          4.838709677419355,
          6.2592592592592595,
          4.627450980392157,
          5.555555555555555,
          3.9464285714285716,
          4.5636363636363635,
          6.904761904761905,
          7.375,
          4.297297297297297,
          6.463414634146342,
          8.72,
          5.578947368421052,
          6.625,
          4.571428571428571,
          6.585365853658536,
          4.553191489361702,
          7.107142857142857,
          5.757575757575758,
          5.973684210526316,
          5.2,
          5.394736842105263,
          5.657894736842105,
          7.096774193548387,
          6.962962962962963,
          5.434782608695652,
          4.8,
          4.854166666666667,
          5.878787878787879,
          6.102564102564102,
          5.4772727272727275,
          4.909090909090909,
          5.488372093023256,
          6.517241379310345,
          4.526315789473684,
          5.46875,
          6.217391304347826,
          4.777777777777778,
          6.25,
          6.1923076923076925,
          5.290322580645161,
          6.566666666666666,
          5.96875,
          6.636363636363637,
          6.586206896551724,
          5.651162790697675,
          5.944444444444445,
          4.6,
          4.851063829787234,
          4.866666666666666,
          7.7,
          7.368421052631579,
          5.619047619047619,
          5.282608695652174,
          6.324324324324325,
          6.5625,
          6,
          5.760869565217392,
          5.456521739130435,
          4.52,
          6,
          6.638888888888889,
          4.818181818181818,
          5.486486486486487,
          5.8604651162790695,
          5.1,
          6.15,
          5.9411764705882355,
          7.846153846153846,
          4.895833333333333,
          4.909090909090909,
          5.17948717948718,
          4.586956521739131,
          4.578947368421052,
          6.285714285714286,
          5.352941176470588,
          7,
          6.075,
          7.956521739130435,
          4.51063829787234,
          3.510204081632653,
          4.461538461538462,
          5.585365853658536,
          5.096153846153846,
          5.03921568627451,
          4.608695652173913,
          6.454545454545454,
          7.315789473684211,
          4.862745098039215,
          8.5,
          8.7,
          7.9375,
          8.09375,
          5.885714285714286,
          4.959183673469388,
          4.9245283018867925,
          4.928571428571429,
          5,
          6.117647058823529,
          4.818181818181818,
          5.413043478260869,
          5.545454545454546,
          4.583333333333333,
          4.794871794871795,
          5.954545454545454,
          6.7,
          5.045454545454546,
          5.434782608695652,
          6.088235294117647,
          5.461538461538462,
          4.529411764705882,
          5.020833333333333,
          5.777777777777778,
          5.595238095238095,
          4.409090909090909,
          8.785714285714286,
          4.685714285714286,
          8.214285714285714,
          4.214285714285714,
          5.409090909090909,
          5.916666666666667,
          5.130434782608695,
          6.162790697674419,
          6.309523809523809,
          4.871794871794871,
          4.9772727272727275,
          7.285714285714286,
          6.48,
          4.5813953488372094,
          5.1395348837209305,
          4.413793103448276,
          4.883720930232558,
          7.526315789473684,
          5.866666666666666,
          5.095238095238095,
          5.451612903225806,
          6.916666666666667,
          5.543478260869565,
          6.5,
          6.225806451612903,
          5.666666666666667,
          6.722222222222222,
          4.923076923076923,
          5.785714285714286,
          5.022222222222222,
          8.375,
          8.277777777777779,
          4.8125,
          5.633333333333334,
          5.288461538461538,
          4.523809523809524,
          6.552631578947368,
          7.666666666666667,
          6.65625,
          5.055555555555555,
          6.8,
          5.333333333333333,
          6.818181818181818,
          5.232558139534884,
          5.111111111111111,
          4.25,
          8.11111111111111,
          4.972972972972973,
          5.806451612903226,
          4.8125,
          6.136363636363637,
          6.410256410256411,
          8.178571428571429,
          5.369565217391305,
          4.882352941176471,
          5.4411764705882355,
          5.413043478260869,
          7.75,
          6.057142857142857,
          5.96875,
          4.6875,
          5.25,
          4.466666666666667,
          5.822222222222222,
          5.4,
          8.529411764705882,
          4.825,
          6.55,
          7.411764705882353,
          5.181818181818182,
          5.2444444444444445,
          4.111111111111111,
          5.6875,
          6.333333333333333,
          5.27906976744186,
          6.611111111111111,
          5.309523809523809,
          5.71875,
          4.413793103448276,
          4.304347826086956,
          4.448979591836735,
          6.5,
          5.846153846153846,
          5.363636363636363,
          5.159090909090909,
          4.857142857142857,
          4.4,
          4.22,
          4.695652173913044,
          5.2439024390243905,
          4.903225806451613,
          4.82,
          6.888888888888889,
          7.076923076923077,
          4.686274509803922,
          5.617647058823529,
          6.615384615384615,
          5.478260869565218,
          4.825,
          4.84,
          4.852941176470588,
          5.357142857142857,
          4.35,
          4.194444444444445,
          4.96,
          5.386363636363637,
          5.5,
          3.6857142857142855,
          5.6,
          4.304347826086956,
          4.6571428571428575,
          5.857142857142857,
          4.714285714285714,
          6.076923076923077,
          7.833333333333333,
          3.823529411764706,
          4.333333333333333,
          4.625,
          5.214285714285714,
          4.955555555555556,
          4.25,
          4.808510638297872,
          4.633333333333334,
          5.086956521739131,
          8.083333333333334,
          5.622222222222222,
          5.4,
          4.256410256410256,
          4.666666666666667,
          4.9743589743589745,
          4.583333333333333,
          5.081632653061225,
          3.962962962962963,
          4.564102564102564,
          4.072727272727272,
          5.809523809523809,
          5.117647058823529,
          4.869565217391305,
          5.266666666666667,
          4.854166666666667,
          6.592592592592593,
          4.795918367346939,
          4.58,
          4.729166666666667,
          4.408163265306122,
          5.148936170212766,
          6.088235294117647,
          4.651162790697675,
          5.674418604651163,
          5.191489361702128,
          5.28,
          5.696969696969697,
          4.674418604651163,
          3.888888888888889,
          5.129032258064516,
          4.368421052631579,
          4.468085106382978,
          6.041666666666667,
          5.666666666666667,
          5.909090909090909,
          4.288135593220339,
          8.384615384615385,
          6.366666666666666,
          3.85,
          5.826086956521739,
          9.454545454545455,
          9.35,
          4.738095238095238,
          6.657894736842105,
          4.434782608695652,
          4.604166666666667,
          8.478260869565217,
          7.4,
          4.28,
          5.208333333333333,
          5.958333333333333,
          5.366666666666666,
          4.411764705882353,
          5.483870967741935,
          4.590909090909091,
          5.086956521739131,
          8.030303030303031,
          5.636363636363637,
          4.130434782608695,
          4.956521739130435,
          4.288461538461538,
          7.25,
          5.479166666666667,
          5.972222222222222,
          5.42,
          5.777777777777778,
          6.6,
          4.666666666666667,
          7.105263157894737,
          5.666666666666667,
          5.019230769230769,
          5.468085106382978,
          5.714285714285714,
          5.733333333333333,
          4.48936170212766,
          7.230769230769231,
          6.857142857142857,
          5.666666666666667,
          4.555555555555555,
          4.087719298245614,
          5.95,
          3.9130434782608696,
          4.310344827586207,
          4.666666666666667,
          6.027027027027027,
          5.146341463414634,
          7.551724137931035,
          5.609756097560975,
          5.090909090909091,
          5.26530612244898,
          6.382352941176471,
          3.6923076923076925,
          5.608695652173913,
          4.178571428571429,
          4.509433962264151,
          4.512820512820513,
          4.071428571428571,
          6.628571428571429,
          5.95,
          5.794871794871795,
          5.897435897435898,
          5.659574468085107,
          5.6,
          5.451612903225806,
          5.424242424242424,
          6.36,
          7.045454545454546,
          4.675675675675675,
          5.6,
          5.407407407407407,
          5.45945945945946,
          6.235294117647059,
          5.3478260869565215,
          4.148148148148148,
          4.739130434782608,
          6.564102564102564,
          7.896551724137931,
          5.571428571428571,
          4.892857142857143,
          5.162162162162162,
          5.361111111111111,
          5.3,
          8.125,
          7.03125,
          7.3,
          4.973684210526316,
          4.208333333333333,
          5.538461538461538,
          5.0625,
          5.260869565217392,
          5.325,
          4.702127659574468,
          5.413043478260869,
          6.294117647058823,
          4.6938775510204085,
          5.809523809523809,
          4.818181818181818,
          4.882352941176471,
          5.020833333333333,
          7.541666666666667,
          4.74,
          4.310344827586207,
          4.040816326530612,
          4.026315789473684,
          4.782608695652174,
          5.2,
          6.026315789473684,
          4.769230769230769,
          5.113636363636363,
          4.264705882352941,
          5.078431372549019,
          5.230769230769231,
          7.9411764705882355,
          4.822222222222222,
          5.229166666666667,
          5.083333333333333,
          5.666666666666667,
          4.428571428571429,
          4.767441860465116,
          4.269230769230769,
          7.086956521739131,
          5.892857142857143,
          6.266666666666667,
          5.823529411764706,
          6.5,
          4.214285714285714,
          7.166666666666667,
          5.869565217391305,
          7,
          6.634146341463414,
          4.488372093023256,
          5.55,
          4.815789473684211,
          6.333333333333333,
          4.4523809523809526,
          4.69811320754717,
          4.607843137254902,
          5.571428571428571,
          5.53125,
          4.315789473684211,
          6.571428571428571,
          4.588235294117647,
          4.377358490566038,
          5.276595744680851,
          5.409090909090909,
          5.222222222222222,
          4.644444444444445,
          6.928571428571429,
          8.346153846153847,
          6.783783783783784,
          7.214285714285714,
          5.161290322580645,
          5.627906976744186,
          6.411764705882353,
          5.487179487179487,
          5.166666666666667,
          11.526315789473685,
          7.055555555555555,
          6,
          4.078431372549019,
          5.297872340425532,
          4.851063829787234,
          5.931034482758621,
          4.785714285714286,
          4.288461538461538,
          6.108108108108108,
          4.236363636363636,
          5.578947368421052,
          5.714285714285714,
          5.027027027027027,
          5.885714285714286,
          4.526315789473684,
          5.875,
          8.823529411764707,
          4.377777777777778,
          4.533333333333333,
          5.276595744680851,
          5.515151515151516,
          5.2,
          4.12,
          5.111111111111111,
          4.96078431372549,
          4.9375,
          4.4,
          6.75,
          4.27906976744186,
          4.512820512820513,
          5.615384615384615,
          11.8,
          4.0576923076923075,
          6.7272727272727275,
          4.755102040816326,
          4.235294117647059,
          4.682926829268292,
          4.862068965517241,
          4.333333333333333,
          7.375,
          5.054545454545455,
          4.521739130434782,
          7.2,
          4.848484848484849,
          3.8333333333333335,
          4.043478260869565,
          4.571428571428571,
          4.446808510638298,
          5.536585365853658,
          4.54054054054054,
          6.40625,
          9,
          4.351351351351352,
          5.090909090909091,
          5.976744186046512,
          4.976190476190476,
          5.073170731707317,
          6,
          4.566666666666666,
          5.333333333333333,
          5.2926829268292686,
          4.444444444444445,
          4.096153846153846,
          6.216216216216216,
          6.2,
          4.095238095238095,
          5.424242424242424,
          4.538461538461538,
          4.542857142857143,
          5.66,
          6.714285714285714,
          4.488372093023256,
          5.25,
          5.764705882352941,
          6.232558139534884,
          6,
          4.868421052631579,
          4.239130434782608,
          4.787878787878788,
          7.266666666666667,
          4.482758620689655,
          4.866666666666666,
          6.864864864864865,
          4.604651162790698,
          5,
          6.945945945945946,
          4.840909090909091,
          5.0606060606060606,
          6.571428571428571,
          5.125,
          6.285714285714286,
          3.8947368421052633,
          3.909090909090909,
          4.25,
          4.261904761904762,
          5.9714285714285715,
          5.853658536585366,
          6.84,
          4.395348837209302,
          5.666666666666667,
          5.846153846153846,
          6.59375,
          5.379310344827586,
          4.107142857142857,
          5.333333333333333,
          8.266666666666667,
          4.521739130434782,
          4.48936170212766,
          4.6,
          3.7291666666666665,
          4.82,
          7.478260869565218,
          4.6,
          5.172413793103448,
          5.068181818181818,
          5.304347826086956,
          5.157894736842105,
          4.8979591836734695,
          3.694915254237288,
          7.2,
          5.585365853658536,
          5.051282051282051,
          4.3125,
          9.619047619047619,
          5.645161290322581,
          5.377777777777778,
          6.485714285714286,
          5.1,
          4.942857142857143,
          6.545454545454546,
          4.162790697674419,
          4.85,
          4.470588235294118,
          5.16,
          5.277777777777778,
          6.166666666666667,
          4.32,
          6.136363636363637,
          7.631578947368421,
          5.894736842105263,
          4.3125,
          5.604651162790698,
          4.490196078431373,
          4.724137931034483,
          4.928571428571429,
          5.340909090909091,
          5.735294117647059,
          5.685714285714286,
          5.375,
          6.666666666666667,
          6.282051282051282,
          5.711111111111111,
          5.976744186046512,
          6.125,
          6.611111111111111,
          5.7272727272727275,
          6.1923076923076925,
          4.75,
          5.764705882352941,
          8.384615384615385,
          4.953488372093023,
          4.298245614035087,
          5.478260869565218,
          6,
          3.425531914893617,
          5.815789473684211,
          5.604651162790698,
          6.081081081081081,
          7.833333333333333,
          6.846153846153846,
          5.326530612244898,
          4.54054054054054,
          6.48,
          4.4363636363636365,
          4.391304347826087,
          4.681818181818182,
          5.3478260869565215,
          5.738095238095238,
          6.461538461538462,
          6.384615384615385,
          4.872340425531915,
          6.533333333333333,
          7.055555555555555,
          4.3478260869565215,
          7.6875,
          5.829268292682927,
          7.232558139534884,
          6.1,
          4.4,
          5.142857142857143,
          4.838709677419355,
          5.222222222222222,
          5.083333333333333,
          5.612903225806452,
          4.2,
          5.166666666666667,
          6.424242424242424,
          6.172413793103448,
          7.166666666666667,
          7.346153846153846,
          4.470588235294118,
          7.303030303030303,
          6.82051282051282,
          6.181818181818182,
          5.5,
          4.8108108108108105,
          4.448275862068965,
          5.625,
          4.233333333333333,
          6.2444444444444445,
          5.2444444444444445,
          9.578947368421053,
          3.8333333333333335,
          5.714285714285714,
          4.804347826086956,
          6.684210526315789,
          4.7272727272727275,
          4.027777777777778,
          5.714285714285714,
          4.897435897435898,
          6.128205128205129,
          5.448275862068965,
          5.619047619047619,
          7.9,
          6.285714285714286,
          5.434782608695652,
          6.3478260869565215,
          6.444444444444445,
          5.229166666666667,
          7.7,
          6.363636363636363,
          7.157894736842105,
          8.130434782608695,
          6.428571428571429,
          6.166666666666667,
          5.840909090909091,
          7.076923076923077,
          5.818181818181818,
          6.125,
          7.611111111111111,
          6.291666666666667,
          6.685714285714286,
          4.730769230769231,
          5.380952380952381,
          4.788461538461538,
          4.709677419354839,
          7.142857142857143,
          9.533333333333333,
          4.404255319148936,
          4.137931034482759,
          8.10344827586207,
          6.896551724137931,
          5.828571428571428,
          4.583333333333333,
          7.375,
          4.7407407407407405,
          5.96969696969697,
          6.290322580645161,
          5.9,
          5.361111111111111
         ]
        }
       ],
       "layout": {
        "barmode": "overlay",
        "legend": {
         "bgcolor": "#F5F6F9",
         "font": {
          "color": "#4D5663"
         }
        },
        "paper_bgcolor": "#F5F6F9",
        "plot_bgcolor": "#F5F6F9",
        "template": {
         "data": {
          "bar": [
           {
            "error_x": {
             "color": "#2a3f5f"
            },
            "error_y": {
             "color": "#2a3f5f"
            },
            "marker": {
             "line": {
              "color": "#E5ECF6",
              "width": 0.5
             }
            },
            "type": "bar"
           }
          ],
          "barpolar": [
           {
            "marker": {
             "line": {
              "color": "#E5ECF6",
              "width": 0.5
             }
            },
            "type": "barpolar"
           }
          ],
          "carpet": [
           {
            "aaxis": {
             "endlinecolor": "#2a3f5f",
             "gridcolor": "white",
             "linecolor": "white",
             "minorgridcolor": "white",
             "startlinecolor": "#2a3f5f"
            },
            "baxis": {
             "endlinecolor": "#2a3f5f",
             "gridcolor": "white",
             "linecolor": "white",
             "minorgridcolor": "white",
             "startlinecolor": "#2a3f5f"
            },
            "type": "carpet"
           }
          ],
          "choropleth": [
           {
            "colorbar": {
             "outlinewidth": 0,
             "ticks": ""
            },
            "type": "choropleth"
           }
          ],
          "contour": [
           {
            "colorbar": {
             "outlinewidth": 0,
             "ticks": ""
            },
            "colorscale": [
             [
              0,
              "#0d0887"
             ],
             [
              0.1111111111111111,
              "#46039f"
             ],
             [
              0.2222222222222222,
              "#7201a8"
             ],
             [
              0.3333333333333333,
              "#9c179e"
             ],
             [
              0.4444444444444444,
              "#bd3786"
             ],
             [
              0.5555555555555556,
              "#d8576b"
             ],
             [
              0.6666666666666666,
              "#ed7953"
             ],
             [
              0.7777777777777778,
              "#fb9f3a"
             ],
             [
              0.8888888888888888,
              "#fdca26"
             ],
             [
              1,
              "#f0f921"
             ]
            ],
            "type": "contour"
           }
          ],
          "contourcarpet": [
           {
            "colorbar": {
             "outlinewidth": 0,
             "ticks": ""
            },
            "type": "contourcarpet"
           }
          ],
          "heatmap": [
           {
            "colorbar": {
             "outlinewidth": 0,
             "ticks": ""
            },
            "colorscale": [
             [
              0,
              "#0d0887"
             ],
             [
              0.1111111111111111,
              "#46039f"
             ],
             [
              0.2222222222222222,
              "#7201a8"
             ],
             [
              0.3333333333333333,
              "#9c179e"
             ],
             [
              0.4444444444444444,
              "#bd3786"
             ],
             [
              0.5555555555555556,
              "#d8576b"
             ],
             [
              0.6666666666666666,
              "#ed7953"
             ],
             [
              0.7777777777777778,
              "#fb9f3a"
             ],
             [
              0.8888888888888888,
              "#fdca26"
             ],
             [
              1,
              "#f0f921"
             ]
            ],
            "type": "heatmap"
           }
          ],
          "heatmapgl": [
           {
            "colorbar": {
             "outlinewidth": 0,
             "ticks": ""
            },
            "colorscale": [
             [
              0,
              "#0d0887"
             ],
             [
              0.1111111111111111,
              "#46039f"
             ],
             [
              0.2222222222222222,
              "#7201a8"
             ],
             [
              0.3333333333333333,
              "#9c179e"
             ],
             [
              0.4444444444444444,
              "#bd3786"
             ],
             [
              0.5555555555555556,
              "#d8576b"
             ],
             [
              0.6666666666666666,
              "#ed7953"
             ],
             [
              0.7777777777777778,
              "#fb9f3a"
             ],
             [
              0.8888888888888888,
              "#fdca26"
             ],
             [
              1,
              "#f0f921"
             ]
            ],
            "type": "heatmapgl"
           }
          ],
          "histogram": [
           {
            "marker": {
             "colorbar": {
              "outlinewidth": 0,
              "ticks": ""
             }
            },
            "type": "histogram"
           }
          ],
          "histogram2d": [
           {
            "colorbar": {
             "outlinewidth": 0,
             "ticks": ""
            },
            "colorscale": [
             [
              0,
              "#0d0887"
             ],
             [
              0.1111111111111111,
              "#46039f"
             ],
             [
              0.2222222222222222,
              "#7201a8"
             ],
             [
              0.3333333333333333,
              "#9c179e"
             ],
             [
              0.4444444444444444,
              "#bd3786"
             ],
             [
              0.5555555555555556,
              "#d8576b"
             ],
             [
              0.6666666666666666,
              "#ed7953"
             ],
             [
              0.7777777777777778,
              "#fb9f3a"
             ],
             [
              0.8888888888888888,
              "#fdca26"
             ],
             [
              1,
              "#f0f921"
             ]
            ],
            "type": "histogram2d"
           }
          ],
          "histogram2dcontour": [
           {
            "colorbar": {
             "outlinewidth": 0,
             "ticks": ""
            },
            "colorscale": [
             [
              0,
              "#0d0887"
             ],
             [
              0.1111111111111111,
              "#46039f"
             ],
             [
              0.2222222222222222,
              "#7201a8"
             ],
             [
              0.3333333333333333,
              "#9c179e"
             ],
             [
              0.4444444444444444,
              "#bd3786"
             ],
             [
              0.5555555555555556,
              "#d8576b"
             ],
             [
              0.6666666666666666,
              "#ed7953"
             ],
             [
              0.7777777777777778,
              "#fb9f3a"
             ],
             [
              0.8888888888888888,
              "#fdca26"
             ],
             [
              1,
              "#f0f921"
             ]
            ],
            "type": "histogram2dcontour"
           }
          ],
          "mesh3d": [
           {
            "colorbar": {
             "outlinewidth": 0,
             "ticks": ""
            },
            "type": "mesh3d"
           }
          ],
          "parcoords": [
           {
            "line": {
             "colorbar": {
              "outlinewidth": 0,
              "ticks": ""
             }
            },
            "type": "parcoords"
           }
          ],
          "pie": [
           {
            "automargin": true,
            "type": "pie"
           }
          ],
          "scatter": [
           {
            "marker": {
             "colorbar": {
              "outlinewidth": 0,
              "ticks": ""
             }
            },
            "type": "scatter"
           }
          ],
          "scatter3d": [
           {
            "line": {
             "colorbar": {
              "outlinewidth": 0,
              "ticks": ""
             }
            },
            "marker": {
             "colorbar": {
              "outlinewidth": 0,
              "ticks": ""
             }
            },
            "type": "scatter3d"
           }
          ],
          "scattercarpet": [
           {
            "marker": {
             "colorbar": {
              "outlinewidth": 0,
              "ticks": ""
             }
            },
            "type": "scattercarpet"
           }
          ],
          "scattergeo": [
           {
            "marker": {
             "colorbar": {
              "outlinewidth": 0,
              "ticks": ""
             }
            },
            "type": "scattergeo"
           }
          ],
          "scattergl": [
           {
            "marker": {
             "colorbar": {
              "outlinewidth": 0,
              "ticks": ""
             }
            },
            "type": "scattergl"
           }
          ],
          "scattermapbox": [
           {
            "marker": {
             "colorbar": {
              "outlinewidth": 0,
              "ticks": ""
             }
            },
            "type": "scattermapbox"
           }
          ],
          "scatterpolar": [
           {
            "marker": {
             "colorbar": {
              "outlinewidth": 0,
              "ticks": ""
             }
            },
            "type": "scatterpolar"
           }
          ],
          "scatterpolargl": [
           {
            "marker": {
             "colorbar": {
              "outlinewidth": 0,
              "ticks": ""
             }
            },
            "type": "scatterpolargl"
           }
          ],
          "scatterternary": [
           {
            "marker": {
             "colorbar": {
              "outlinewidth": 0,
              "ticks": ""
             }
            },
            "type": "scatterternary"
           }
          ],
          "surface": [
           {
            "colorbar": {
             "outlinewidth": 0,
             "ticks": ""
            },
            "colorscale": [
             [
              0,
              "#0d0887"
             ],
             [
              0.1111111111111111,
              "#46039f"
             ],
             [
              0.2222222222222222,
              "#7201a8"
             ],
             [
              0.3333333333333333,
              "#9c179e"
             ],
             [
              0.4444444444444444,
              "#bd3786"
             ],
             [
              0.5555555555555556,
              "#d8576b"
             ],
             [
              0.6666666666666666,
              "#ed7953"
             ],
             [
              0.7777777777777778,
              "#fb9f3a"
             ],
             [
              0.8888888888888888,
              "#fdca26"
             ],
             [
              1,
              "#f0f921"
             ]
            ],
            "type": "surface"
           }
          ],
          "table": [
           {
            "cells": {
             "fill": {
              "color": "#EBF0F8"
             },
             "line": {
              "color": "white"
             }
            },
            "header": {
             "fill": {
              "color": "#C8D4E3"
             },
             "line": {
              "color": "white"
             }
            },
            "type": "table"
           }
          ]
         },
         "layout": {
          "annotationdefaults": {
           "arrowcolor": "#2a3f5f",
           "arrowhead": 0,
           "arrowwidth": 1
          },
          "autotypenumbers": "strict",
          "coloraxis": {
           "colorbar": {
            "outlinewidth": 0,
            "ticks": ""
           }
          },
          "colorscale": {
           "diverging": [
            [
             0,
             "#8e0152"
            ],
            [
             0.1,
             "#c51b7d"
            ],
            [
             0.2,
             "#de77ae"
            ],
            [
             0.3,
             "#f1b6da"
            ],
            [
             0.4,
             "#fde0ef"
            ],
            [
             0.5,
             "#f7f7f7"
            ],
            [
             0.6,
             "#e6f5d0"
            ],
            [
             0.7,
             "#b8e186"
            ],
            [
             0.8,
             "#7fbc41"
            ],
            [
             0.9,
             "#4d9221"
            ],
            [
             1,
             "#276419"
            ]
           ],
           "sequential": [
            [
             0,
             "#0d0887"
            ],
            [
             0.1111111111111111,
             "#46039f"
            ],
            [
             0.2222222222222222,
             "#7201a8"
            ],
            [
             0.3333333333333333,
             "#9c179e"
            ],
            [
             0.4444444444444444,
             "#bd3786"
            ],
            [
             0.5555555555555556,
             "#d8576b"
            ],
            [
             0.6666666666666666,
             "#ed7953"
            ],
            [
             0.7777777777777778,
             "#fb9f3a"
            ],
            [
             0.8888888888888888,
             "#fdca26"
            ],
            [
             1,
             "#f0f921"
            ]
           ],
           "sequentialminus": [
            [
             0,
             "#0d0887"
            ],
            [
             0.1111111111111111,
             "#46039f"
            ],
            [
             0.2222222222222222,
             "#7201a8"
            ],
            [
             0.3333333333333333,
             "#9c179e"
            ],
            [
             0.4444444444444444,
             "#bd3786"
            ],
            [
             0.5555555555555556,
             "#d8576b"
            ],
            [
             0.6666666666666666,
             "#ed7953"
            ],
            [
             0.7777777777777778,
             "#fb9f3a"
            ],
            [
             0.8888888888888888,
             "#fdca26"
            ],
            [
             1,
             "#f0f921"
            ]
           ]
          },
          "colorway": [
           "#636efa",
           "#EF553B",
           "#00cc96",
           "#ab63fa",
           "#FFA15A",
           "#19d3f3",
           "#FF6692",
           "#B6E880",
           "#FF97FF",
           "#FECB52"
          ],
          "font": {
           "color": "#2a3f5f"
          },
          "geo": {
           "bgcolor": "white",
           "lakecolor": "white",
           "landcolor": "#E5ECF6",
           "showlakes": true,
           "showland": true,
           "subunitcolor": "white"
          },
          "hoverlabel": {
           "align": "left"
          },
          "hovermode": "closest",
          "mapbox": {
           "style": "light"
          },
          "paper_bgcolor": "white",
          "plot_bgcolor": "#E5ECF6",
          "polar": {
           "angularaxis": {
            "gridcolor": "white",
            "linecolor": "white",
            "ticks": ""
           },
           "bgcolor": "#E5ECF6",
           "radialaxis": {
            "gridcolor": "white",
            "linecolor": "white",
            "ticks": ""
           }
          },
          "scene": {
           "xaxis": {
            "backgroundcolor": "#E5ECF6",
            "gridcolor": "white",
            "gridwidth": 2,
            "linecolor": "white",
            "showbackground": true,
            "ticks": "",
            "zerolinecolor": "white"
           },
           "yaxis": {
            "backgroundcolor": "#E5ECF6",
            "gridcolor": "white",
            "gridwidth": 2,
            "linecolor": "white",
            "showbackground": true,
            "ticks": "",
            "zerolinecolor": "white"
           },
           "zaxis": {
            "backgroundcolor": "#E5ECF6",
            "gridcolor": "white",
            "gridwidth": 2,
            "linecolor": "white",
            "showbackground": true,
            "ticks": "",
            "zerolinecolor": "white"
           }
          },
          "shapedefaults": {
           "line": {
            "color": "#2a3f5f"
           }
          },
          "ternary": {
           "aaxis": {
            "gridcolor": "white",
            "linecolor": "white",
            "ticks": ""
           },
           "baxis": {
            "gridcolor": "white",
            "linecolor": "white",
            "ticks": ""
           },
           "bgcolor": "#E5ECF6",
           "caxis": {
            "gridcolor": "white",
            "linecolor": "white",
            "ticks": ""
           }
          },
          "title": {
           "x": 0.05
          },
          "xaxis": {
           "automargin": true,
           "gridcolor": "white",
           "linecolor": "white",
           "ticks": "",
           "title": {
            "standoff": 15
           },
           "zerolinecolor": "white",
           "zerolinewidth": 2
          },
          "yaxis": {
           "automargin": true,
           "gridcolor": "white",
           "linecolor": "white",
           "ticks": "",
           "title": {
            "standoff": 15
           },
           "zerolinecolor": "white",
           "zerolinewidth": 2
          }
         }
        },
        "title": {
         "font": {
          "color": "#4D5663"
         },
         "text": "Distribution of Average word length in Tweets"
        },
        "xaxis": {
         "gridcolor": "#E1E5ED",
         "linecolor": "black",
         "showgrid": true,
         "tickfont": {
          "color": "#4D5663"
         },
         "title": {
          "font": {
           "color": "#4D5663"
          },
          "text": "Average word length"
         },
         "zerolinecolor": "#E1E5ED"
        },
        "yaxis": {
         "gridcolor": "#E1E5ED",
         "linecolor": "black",
         "showgrid": true,
         "tickfont": {
          "color": "#4D5663"
         },
         "title": {
          "font": {
           "color": "#4D5663"
          },
          "text": "Count"
         },
         "zerolinecolor": "#E1E5ED"
        }
       }
      },
      "text/html": [
       "<div>                            <div id=\"1cd20f78-764e-45b1-b41a-80c43cef37aa\" class=\"plotly-graph-div\" style=\"height:525px; width:100%;\"></div>            <script type=\"text/javascript\">                require([\"plotly\"], function(Plotly) {                    window.PLOTLYENV=window.PLOTLYENV || {};\n",
       "                    window.PLOTLYENV.BASE_URL='https://plot.ly';                                    if (document.getElementById(\"1cd20f78-764e-45b1-b41a-80c43cef37aa\")) {                    Plotly.newPlot(                        \"1cd20f78-764e-45b1-b41a-80c43cef37aa\",                        [{\"histfunc\": \"count\", \"histnorm\": \"\", \"marker\": {\"color\": \"rgba(173, 216, 230, 1.0)\", \"line\": {\"color\": \"#000000\", \"width\": 1.3}}, \"name\": \"avg_word_len\", \"nbinsx\": 40, \"opacity\": 0.8, \"orientation\": \"v\", \"type\": \"histogram\", \"x\": [5.40625, 7.368421052631579, 6.583333333333333, 6.516129032258065, 6.607142857142857, 4.925, 6.461538461538462, 4.8, 6.161290322580645, 6.0256410256410255, 4.681818181818182, 6.5, 5.0625, 6.15, 5.372549019607843, 6.641025641025641, 6.2368421052631575, 6.92, 6.59375, 7.0256410256410255, 4.787234042553192, 7.0588235294117645, 7.857142857142857, 5.333333333333333, 9.266666666666667, 5.777777777777778, 4.75, 5.216216216216216, 5.934782608695652, 7.0, 5.913043478260869, 4.921568627450981, 4.686274509803922, 6.317073170731708, 6.0, 5.722222222222222, 4.673469387755102, 4.857142857142857, 5.025, 7.59375, 5.675, 6.15, 5.883720930232558, 5.276595744680851, 5.760869565217392, 4.529411764705882, 6.625, 6.55, 6.647058823529412, 8.058823529411764, 5.75, 7.228571428571429, 5.457142857142857, 6.931034482758621, 5.588235294117647, 4.533333333333333, 5.023255813953488, 4.793103448275862, 5.425, 6.512195121951219, 4.5, 8.166666666666666, 3.6226415094339623, 6.846153846153846, 4.468085106382978, 5.044444444444444, 5.0, 4.444444444444445, 6.111111111111111, 5.745098039215686, 4.333333333333333, 6.333333333333333, 4.818181818181818, 5.857142857142857, 5.290322580645161, 6.4, 5.344827586206897, 4.790697674418604, 5.352941176470588, 4.869565217391305, 5.823529411764706, 5.8604651162790695, 6.1875, 7.913043478260869, 5.428571428571429, 5.882352941176471, 5.142857142857143, 6.823529411764706, 6.05, 4.775510204081633, 4.785714285714286, 5.340909090909091, 5.809523809523809, 5.395348837209302, 4.305555555555555, 7.184210526315789, 4.975, 5.4186046511627906, 4.666666666666667, 4.387755102040816, 4.5813953488372094, 5.469387755102041, 4.032258064516129, 5.256410256410256, 4.851851851851852, 8.588235294117647, 6.026315789473684, 5.466666666666667, 6.083333333333333, 4.864864864864865, 7.333333333333333, 5.9375, 6.2631578947368425, 5.2727272727272725, 8.28, 7.321428571428571, 5.666666666666667, 7.638888888888889, 4.377358490566038, 6.472222222222222, 7.242424242424242, 5.212121212121212, 5.68, 4.895833333333333, 4.395833333333333, 4.169811320754717, 5.122448979591836, 7.709677419354839, 5.655172413793103, 8.52, 6.266666666666667, 4.24, 6.076923076923077, 4.369565217391305, 4.92, 4.296296296296297, 4.9655172413793105, 4.86, 5.043478260869565, 5.659574468085107, 5.894736842105263, 4.962264150943396, 6.848484848484849, 4.454545454545454, 5.724137931034483, 4.571428571428571, 5.869565217391305, 8.65, 4.363636363636363, 4.918918918918919, 5.756756756756757, 5.511627906976744, 5.535714285714286, 5.742857142857143, 5.071428571428571, 4.424242424242424, 4.4, 7.809523809523809, 5.0476190476190474, 5.071428571428571, 6.551724137931035, 4.181818181818182, 4.659574468085107, 7.257142857142857, 6.108108108108108, 5.4, 6.186046511627907, 5.433333333333334, 6.566666666666666, 6.7272727272727275, 5.6, 5.9655172413793105, 5.558139534883721, 4.795918367346939, 6.7, 7.142857142857143, 4.68, 5.2105263157894735, 5.5, 6.470588235294118, 5.8125, 5.5, 6.28, 6.095238095238095, 4.842105263157895, 4.8, 4.9743589743589745, 5.405405405405405, 4.659090909090909, 4.7317073170731705, 6.96, 5.838709677419355, 6.068965517241379, 4.092592592592593, 4.303571428571429, 7.555555555555555, 7.066666666666666, 4.565217391304348, 4.4, 4.838709677419355, 6.764705882352941, 4.037037037037037, 5.021739130434782, 5.0625, 10.52, 5.22, 5.206896551724138, 5.428571428571429, 7.15, 5.884615384615385, 6.611111111111111, 4.592592592592593, 6.388888888888889, 5.1, 5.181818181818182, 5.108108108108108, 4.851851851851852, 5.103448275862069, 5.166666666666667, 4.6875, 5.125, 4.686274509803922, 4.5, 4.275862068965517, 6.05, 4.844444444444444, 5.204081632653061, 4.866666666666666, 5.379310344827586, 4.972222222222222, 6.3478260869565215, 6.392857142857143, 3.864406779661017, 3.891891891891892, 7.933333333333334, 7.086956521739131, 5.645161290322581, 4.611111111111111, 6.0, 6.371428571428571, 4.15, 6.777777777777778, 5.75, 8.846153846153847, 6.782608695652174, 4.5, 5.169811320754717, 5.580645161290323, 4.85, 7.2727272727272725, 6.725, 8.333333333333334, 5.4411764705882355, 6.375, 5.0, 5.346153846153846, 5.372093023255814, 4.809523809523809, 4.591836734693878, 7.0, 4.9, 5.224489795918367, 5.4523809523809526, 6.785714285714286, 5.25, 7.666666666666667, 6.6521739130434785, 4.346153846153846, 4.333333333333333, 5.28125, 4.574468085106383, 5.45945945945946, 6.022222222222222, 6.0588235294117645, 5.433333333333334, 6.043478260869565, 6.392857142857143, 5.181818181818182, 8.0, 5.833333333333333, 6.609756097560975, 5.285714285714286, 5.541666666666667, 4.4375, 7.2727272727272725, 7.470588235294118, 6.0, 5.114285714285714, 4.542857142857143, 5.074074074074074, 5.933333333333334, 6.027777777777778, 5.1, 9.75, 6.833333333333333, 7.2592592592592595, 7.230769230769231, 4.75, 7.32, 6.5476190476190474, 5.5, 6.0, 4.742857142857143, 4.127659574468085, 5.069767441860465, 4.538461538461538, 4.591836734693878, 5.785714285714286, 4.211538461538462, 6.193548387096774, 7.037037037037037, 6.7, 5.111111111111111, 7.352941176470588, 7.0, 6.108108108108108, 8.869565217391305, 5.928571428571429, 6.023809523809524, 6.53125, 5.277777777777778, 4.6976744186046515, 5.666666666666667, 4.63265306122449, 3.6666666666666665, 5.878048780487805, 4.784313725490196, 6.5, 6.035714285714286, 4.673469387755102, 6.130434782608695, 5.1923076923076925, 4.785714285714286, 6.363636363636363, 6.486486486486487, 4.735294117647059, 4.875, 4.409090909090909, 6.333333333333333, 4.142857142857143, 5.317073170731708, 5.609756097560975, 5.566666666666666, 6.15, 4.906976744186046, 4.588235294117647, 5.386363636363637, 5.0, 6.342105263157895, 5.5, 4.957446808510638, 6.151515151515151, 4.611111111111111, 7.633333333333334, 7.75, 5.84, 5.4375, 5.7368421052631575, 4.339622641509434, 5.757575757575758, 5.468085106382978, 4.461538461538462, 6.447368421052632, 8.666666666666666, 4.705882352941177, 5.666666666666667, 6.17948717948718, 5.85, 4.717391304347826, 5.45, 6.32258064516129, 5.958333333333333, 6.074074074074074, 5.277777777777778, 7.333333333333333, 4.74468085106383, 5.842105263157895, 5.72093023255814, 9.0, 5.142857142857143, 4.416666666666667, 4.72, 5.9393939393939394, 4.166666666666667, 5.52, 4.486486486486487, 3.9375, 4.12962962962963, 7.076923076923077, 7.44, 4.973684210526316, 6.153846153846154, 5.9523809523809526, 5.4, 5.534883720930233, 5.127659574468085, 3.838709677419355, 4.2631578947368425, 5.75, 4.979166666666667, 5.261904761904762, 6.975, 5.0, 4.76595744680851, 6.230769230769231, 4.6, 4.829787234042553, 7.642857142857143, 7.285714285714286, 6.0, 5.297297297297297, 3.816666666666667, 7.290322580645161, 7.37037037037037, 4.555555555555555, 5.711111111111111, 7.0, 4.0, 4.95, 6.25, 4.051282051282051, 4.3478260869565215, 5.521739130434782, 5.659090909090909, 5.833333333333333, 5.2631578947368425, 4.90566037735849, 6.35, 5.038461538461538, 6.260869565217392, 4.733333333333333, 7.133333333333334, 4.760869565217392, 4.784313725490196, 5.326530612244898, 6.384615384615385, 4.933333333333334, 7.090909090909091, 4.0508474576271185, 5.195652173913044, 5.2272727272727275, 4.666666666666667, 6.131578947368421, 4.880952380952381, 8.636363636363637, 5.555555555555555, 5.975, 4.148148148148148, 4.846153846153846, 4.7272727272727275, 6.625, 5.282608695652174, 4.8125, 5.304347826086956, 4.590909090909091, 4.196428571428571, 8.307692307692308, 6.638888888888889, 4.9375, 6.428571428571429, 7.277777777777778, 5.166666666666667, 5.6875, 7.176470588235294, 6.083333333333333, 4.18, 6.551724137931035, 5.851851851851852, 5.177777777777778, 5.038461538461538, 5.2, 7.444444444444445, 5.5, 6.461538461538462, 5.130434782608695, 6.194444444444445, 5.0, 5.153846153846154, 6.857142857142857, 6.410256410256411, 6.8, 5.9714285714285715, 4.933333333333334, 4.583333333333333, 4.948717948717949, 5.975609756097561, 6.027027027027027, 5.96, 4.612903225806452, 6.512820512820513, 5.411764705882353, 4.976190476190476, 5.833333333333333, 5.24, 6.333333333333333, 4.48936170212766, 6.041666666666667, 6.358974358974359, 6.625, 6.083333333333333, 5.612903225806452, 4.953488372093023, 5.136363636363637, 7.3, 5.361702127659575, 4.695652173913044, 5.65625, 4.6875, 4.086206896551724, 4.828571428571428, 5.071428571428571, 5.318181818181818, 5.114285714285714, 4.756756756756757, 6.709677419354839, 5.25, 4.86, 4.851063829787234, 4.488372093023256, 5.617021276595745, 4.96875, 4.9, 4.705882352941177, 4.888888888888889, 4.4186046511627906, 4.46875, 4.8979591836734695, 5.777777777777778, 4.568181818181818, 3.8181818181818183, 3.9285714285714284, 5.424242424242424, 4.836734693877551, 5.619047619047619, 6.115384615384615, 6.444444444444445, 6.787878787878788, 4.183673469387755, 6.054054054054054, 7.071428571428571, 5.785714285714286, 6.214285714285714, 4.666666666666667, 4.410256410256411, 4.396551724137931, 4.865384615384615, 7.066666666666666, 5.833333333333333, 5.479166666666667, 5.487179487179487, 6.3428571428571425, 4.288888888888889, 4.6, 6.340909090909091, 6.885714285714286, 4.75, 5.186046511627907, 4.955555555555556, 6.620689655172414, 5.461538461538462, 8.0, 5.310344827586207, 4.288461538461538, 6.846153846153846, 5.148148148148148, 3.576923076923077, 4.659574468085107, 5.108108108108108, 4.883720930232558, 6.857142857142857, 4.392857142857143, 4.612903225806452, 5.607142857142857, 4.826086956521739, 4.636363636363637, 4.695652173913044, 4.5813953488372094, 5.923076923076923, 3.9245283018867925, 5.103448275862069, 5.795454545454546, 6.095238095238095, 5.355555555555555, 5.076923076923077, 5.482758620689655, 5.576923076923077, 5.461538461538462, 4.333333333333333, 5.416666666666667, 5.75, 5.75, 4.975609756097561, 5.78125, 4.26530612244898, 7.038461538461538, 5.815789473684211, 6.222222222222222, 5.7368421052631575, 4.679245283018868, 5.478260869565218, 6.333333333333333, 6.666666666666667, 6.793103448275862, 4.7368421052631575, 7.2105263157894735, 6.384615384615385, 5.148148148148148, 6.214285714285714, 5.228571428571429, 4.465116279069767, 4.655172413793103, 5.903225806451613, 5.0, 4.444444444444445, 6.54054054054054, 7.15, 4.857142857142857, 4.5, 5.2, 4.314814814814815, 4.2894736842105265, 6.0, 7.333333333333333, 4.6923076923076925, 4.78125, 5.482758620689655, 4.914893617021277, 5.5, 5.228571428571429, 5.181818181818182, 6.612903225806452, 5.571428571428571, 6.170731707317073, 4.636363636363637, 5.520833333333333, 5.0, 4.755102040816326, 5.576923076923077, 4.875, 5.688888888888889, 4.926829268292683, 5.472222222222222, 5.7368421052631575, 6.352941176470588, 5.127659574468085, 7.5, 5.2105263157894735, 6.0476190476190474, 5.795454545454546, 5.571428571428571, 4.880952380952381, 5.484848484848484, 5.771428571428571, 6.341463414634147, 4.96078431372549, 4.95, 5.822222222222222, 5.404255319148936, 7.214285714285714, 5.818181818181818, 5.217391304347826, 6.090909090909091, 6.24, 5.382978723404255, 4.791666666666667, 5.590909090909091, 5.615384615384615, 4.512195121951219, 7.054054054054054, 5.4, 6.741935483870968, 5.645833333333333, 6.6, 7.333333333333333, 6.379310344827586, 7.282051282051282, 5.444444444444445, 5.55, 6.2631578947368425, 4.591836734693878, 5.178571428571429, 5.7272727272727275, 5.37037037037037, 5.875, 4.863636363636363, 7.473684210526316, 6.315789473684211, 6.0, 5.35, 6.933333333333334, 5.162790697674419, 5.324324324324325, 6.555555555555555, 4.537037037037037, 6.0, 5.636363636363637, 5.411764705882353, 4.928571428571429, 6.75, 7.409090909090909, 4.2727272727272725, 4.254901960784314, 5.5, 5.137931034482759, 5.2631578947368425, 5.592592592592593, 5.705882352941177, 5.542857142857143, 5.888888888888889, 6.069767441860465, 4.642857142857143, 5.884615384615385, 4.7894736842105265, 4.970588235294118, 4.450980392156863, 4.5625, 5.291666666666667, 5.68, 4.533333333333333, 7.805555555555555, 7.875, 5.585365853658536, 4.05, 6.829268292682927, 4.916666666666667, 4.30188679245283, 6.882352941176471, 6.0, 5.7317073170731705, 5.483870967741935, 5.4523809523809526, 5.020408163265306, 7.28, 4.921568627450981, 4.958333333333333, 5.413793103448276, 5.916666666666667, 6.666666666666667, 6.461538461538462, 5.177777777777778, 6.142857142857143, 5.680851063829787, 4.816326530612245, 5.766666666666667, 4.0, 5.340425531914893, 11.1, 4.638297872340425, 4.857142857142857, 5.32, 4.904761904761905, 4.68, 5.3, 5.243243243243243, 5.861111111111111, 4.96078431372549, 6.681818181818182, 5.633333333333334, 6.888888888888889, 5.978260869565218, 5.714285714285714, 5.64, 4.121212121212121, 5.046511627906977, 8.090909090909092, 5.260869565217392, 6.2, 4.84, 5.689655172413793, 4.615384615384615, 5.470588235294118, 5.441860465116279, 5.1923076923076925, 4.833333333333333, 8.057142857142857, 5.482758620689655, 5.1, 5.5, 5.142857142857143, 4.9375, 4.583333333333333, 6.571428571428571, 5.82051282051282, 5.7317073170731705, 5.625, 4.326086956521739, 4.72093023255814, 6.052631578947368, 6.107142857142857, 5.208333333333333, 5.588235294117647, 5.066666666666666, 6.071428571428571, 4.625, 6.678571428571429, 5.585365853658536, 6.363636363636363, 5.46875, 4.823529411764706, 4.666666666666667, 5.2, 4.245614035087719, 4.288135593220339, 4.4, 6.04, 4.56, 5.294117647058823, 8.6, 6.333333333333333, 5.634146341463414, 6.4, 4.903225806451613, 6.090909090909091, 4.615384615384615, 6.064516129032258, 4.58, 4.314814814814815, 5.454545454545454, 5.464285714285714, 4.7254901960784315, 5.764705882352941, 5.147058823529412, 5.628571428571429, 4.375, 5.612244897959184, 5.410256410256411, 5.428571428571429, 6.684210526315789, 5.65625, 4.705882352941177, 4.480769230769231, 5.142857142857143, 5.631578947368421, 4.76, 8.25, 5.043478260869565, 6.0, 4.622222222222222, 4.9375, 4.647058823529412, 5.057142857142857, 4.794117647058823, 6.3478260869565215, 4.6, 6.538461538461538, 4.690476190476191, 4.482758620689655, 6.568627450980392, 5.9523809523809526, 5.458333333333333, 5.133333333333334, 6.0, 4.3428571428571425, 5.5, 4.631578947368421, 4.527777777777778, 5.285714285714286, 6.352941176470588, 8.533333333333333, 4.269230769230769, 5.53125, 6.814814814814815, 5.333333333333333, 5.394736842105263, 4.6, 4.78, 5.529411764705882, 4.228571428571429, 5.276595744680851, 5.607142857142857, 4.7894736842105265, 4.4523809523809526, 6.861111111111111, 5.363636363636363, 6.102564102564102, 5.177777777777778, 5.761904761904762, 6.2105263157894735, 4.5, 7.0625, 5.2105263157894735, 7.176470588235294, 4.519230769230769, 4.978260869565218, 6.075, 5.071428571428571, 6.55, 4.94, 5.357142857142857, 4.735849056603773, 7.4, 6.3, 6.351351351351352, 4.659574468085107, 6.023809523809524, 5.404761904761905, 4.928571428571429, 4.0476190476190474, 6.578947368421052, 8.666666666666666, 5.333333333333333, 4.794871794871795, 4.2272727272727275, 5.0, 7.264705882352941, 7.111111111111111, 7.04, 5.282051282051282, 5.861111111111111, 6.25, 6.0, 4.875, 5.829268292682927, 5.518518518518518, 5.3, 4.444444444444445, 4.3584905660377355, 7.571428571428571, 7.0, 9.235294117647058, 4.5625, 6.413793103448276, 4.9787234042553195, 4.490196078431373, 4.826086956521739, 5.142857142857143, 5.55, 5.444444444444445, 5.121951219512195, 9.818181818181818, 5.6, 4.694444444444445, 4.875, 6.757575757575758, 4.69811320754717, 4.478260869565218, 3.7567567567567566, 5.222222222222222, 4.345454545454546, 5.0588235294117645, 7.138888888888889, 7.117647058823529, 7.733333333333333, 5.357142857142857, 4.767441860465116, 6.3, 5.75, 4.956521739130435, 5.645833333333333, 4.808510638297872, 4.711111111111111, 7.833333333333333, 6.0, 6.666666666666667, 4.475, 5.822222222222222, 4.895833333333333, 4.702702702702703, 6.346153846153846, 4.704545454545454, 4.214285714285714, 7.5, 5.1020408163265305, 5.255813953488372, 4.6875, 4.777777777777778, 4.2444444444444445, 6.655172413793103, 4.86, 5.12, 5.173913043478261, 5.428571428571429, 5.627906976744186, 4.296296296296297, 6.073170731707317, 5.846153846153846, 7.666666666666667, 4.886363636363637, 5.566666666666666, 5.0, 6.714285714285714, 5.065217391304348, 6.111111111111111, 5.756756756756757, 5.425, 5.675, 5.829268292682927, 5.896551724137931, 5.0285714285714285, 5.125, 9.5, 4.918918918918919, 6.379310344827586, 5.26, 5.020833333333333, 4.419354838709677, 4.3, 5.592592592592593, 6.368421052631579, 4.222222222222222, 6.0, 6.405405405405405, 7.095238095238095, 8.095238095238095, 5.255813953488372, 5.340909090909091, 6.0256410256410255, 6.115384615384615, 5.2444444444444445, 4.76, 4.547169811320755, 4.387755102040816, 5.354166666666667, 6.269230769230769, 4.565217391304348, 7.85, 5.840909090909091, 5.304347826086956, 5.145833333333333, 5.4, 6.117647058823529, 6.185185185185185, 5.32, 7.56, 4.926829268292683, 5.083333333333333, 6.068965517241379, 5.666666666666667, 5.592592592592593, 4.74, 4.869565217391305, 6.857142857142857, 4.8604651162790695, 5.583333333333333, 4.404761904761905, 4.6923076923076925, 4.978260869565218, 4.425925925925926, 4.840909090909091, 5.423076923076923, 5.7, 6.159090909090909, 4.6875, 4.846153846153846, 6.425, 5.555555555555555, 7.9655172413793105, 6.560975609756097, 6.102564102564102, 5.368421052631579, 5.03125, 5.75, 6.190476190476191, 4.790697674418604, 5.564102564102564, 7.0, 6.037037037037037, 5.08, 6.0, 6.611111111111111, 5.666666666666667, 5.777777777777778, 5.774193548387097, 5.042553191489362, 7.882352941176471, 4.363636363636363, 5.238095238095238, 6.885714285714286, 6.073170731707317, 4.833333333333333, 6.571428571428571, 5.387096774193548, 5.7272727272727275, 4.787878787878788, 5.655172413793103, 5.276595744680851, 5.571428571428571, 5.777777777777778, 6.594594594594595, 8.928571428571429, 4.241379310344827, 4.875, 4.673076923076923, 6.0, 4.6, 5.869565217391305, 6.341463414634147, 5.722222222222222, 5.530612244897959, 4.318181818181818, 5.351351351351352, 5.533333333333333, 4.760869565217392, 5.791666666666667, 6.486486486486487, 8.46875, 9.096774193548388, 5.7631578947368425, 6.735294117647059, 5.241379310344827, 4.785714285714286, 5.127659574468085, 6.533333333333333, 8.727272727272727, 6.391304347826087, 5.375, 4.333333333333333, 5.214285714285714, 5.052631578947368, 5.34, 6.527777777777778, 4.9375, 6.137931034482759, 6.184210526315789, 5.361702127659575, 9.4, 4.372093023255814, 4.688888888888889, 5.05, 4.3023255813953485, 5.357142857142857, 5.085106382978723, 5.157894736842105, 5.878048780487805, 5.8, 4.818181818181818, 5.162790697674419, 5.621621621621622, 5.148148148148148, 4.3, 4.423076923076923, 6.805555555555555, 4.310344827586207, 6.741935483870968, 5.428571428571429, 6.523809523809524, 5.975609756097561, 5.235294117647059, 8.866666666666667, 4.529411764705882, 4.566666666666666, 4.702127659574468, 6.545454545454546, 5.111111111111111, 4.733333333333333, 5.256410256410256, 5.107142857142857, 4.666666666666667, 7.606060606060606, 7.384615384615385, 5.428571428571429, 4.584905660377358, 5.305555555555555, 4.267857142857143, 4.826086956521739, 6.038461538461538, 6.483870967741935, 6.633333333333334, 6.419354838709677, 4.931818181818182, 5.297872340425532, 6.6923076923076925, 5.34, 5.7407407407407405, 6.7368421052631575, 5.8076923076923075, 5.290322580645161, 6.6, 5.241379310344827, 5.032258064516129, 4.975609756097561, 4.75, 4.151515151515151, 5.2, 4.78, 7.2727272727272725, 4.5675675675675675, 4.636363636363637, 5.7, 4.305555555555555, 4.448979591836735, 6.0, 4.392857142857143, 4.470588235294118, 7.846153846153846, 5.17948717948718, 6.36, 4.019230769230769, 4.34375, 4.267857142857143, 4.447368421052632, 4.423076923076923, 5.517241379310345, 5.838709677419355, 4.116666666666666, 3.923076923076923, 5.0, 7.066666666666666, 4.666666666666667, 5.0476190476190474, 5.296296296296297, 4.916666666666667, 5.0, 4.823529411764706, 3.9215686274509802, 4.836734693877551, 4.12962962962963, 5.204081632653061, 4.511111111111111, 5.871794871794871, 4.815789473684211, 4.630434782608695, 3.7777777777777777, 4.148148148148148, 5.2439024390243905, 4.8125, 5.111111111111111, 5.125, 5.125, 6.407407407407407, 6.1875, 5.16, 5.518518518518518, 5.255813953488372, 4.111111111111111, 6.282051282051282, 6.782608695652174, 5.647058823529412, 4.673076923076923, 5.833333333333333, 4.538461538461538, 4.809523809523809, 4.4324324324324325, 5.973684210526316, 4.521739130434782, 6.1891891891891895, 5.5, 5.304347826086956, 5.909090909090909, 4.8108108108108105, 6.9375, 5.4411764705882355, 5.666666666666667, 5.9375, 5.052631578947368, 5.953488372093023, 4.925925925925926, 4.64, 5.105263157894737, 6.794117647058823, 8.529411764705882, 5.17948717948718, 6.0, 5.642857142857143, 5.380952380952381, 7.583333333333333, 5.232558139534884, 4.65, 6.388888888888889, 5.27906976744186, 5.54054054054054, 4.863636363636363, 5.173913043478261, 4.6938775510204085, 6.5, 7.266666666666667, 3.6451612903225805, 7.545454545454546, 6.8125, 5.891304347826087, 4.975609756097561, 5.894736842105263, 4.775510204081633, 6.714285714285714, 5.822222222222222, 5.142857142857143, 5.25, 5.157894736842105, 6.48, 4.519230769230769, 5.766666666666667, 7.882352941176471, 8.823529411764707, 5.767441860465116, 4.645833333333333, 4.256410256410256, 5.0, 6.230769230769231, 6.463414634146342, 5.16, 4.911764705882353, 4.379310344827586, 4.838709677419355, 6.2592592592592595, 4.627450980392157, 5.555555555555555, 3.9464285714285716, 4.5636363636363635, 6.904761904761905, 7.375, 4.297297297297297, 6.463414634146342, 8.72, 5.578947368421052, 6.625, 4.571428571428571, 6.585365853658536, 4.553191489361702, 7.107142857142857, 5.757575757575758, 5.973684210526316, 5.2, 5.394736842105263, 5.657894736842105, 7.096774193548387, 6.962962962962963, 5.434782608695652, 4.8, 4.854166666666667, 5.878787878787879, 6.102564102564102, 5.4772727272727275, 4.909090909090909, 5.488372093023256, 6.517241379310345, 4.526315789473684, 5.46875, 6.217391304347826, 4.777777777777778, 6.25, 6.1923076923076925, 5.290322580645161, 6.566666666666666, 5.96875, 6.636363636363637, 6.586206896551724, 5.651162790697675, 5.944444444444445, 4.6, 4.851063829787234, 4.866666666666666, 7.7, 7.368421052631579, 5.619047619047619, 5.282608695652174, 6.324324324324325, 6.5625, 6.0, 5.760869565217392, 5.456521739130435, 4.52, 6.0, 6.638888888888889, 4.818181818181818, 5.486486486486487, 5.8604651162790695, 5.1, 6.15, 5.9411764705882355, 7.846153846153846, 4.895833333333333, 4.909090909090909, 5.17948717948718, 4.586956521739131, 4.578947368421052, 6.285714285714286, 5.352941176470588, 7.0, 6.075, 7.956521739130435, 4.51063829787234, 3.510204081632653, 4.461538461538462, 5.585365853658536, 5.096153846153846, 5.03921568627451, 4.608695652173913, 6.454545454545454, 7.315789473684211, 4.862745098039215, 8.5, 8.7, 7.9375, 8.09375, 5.885714285714286, 4.959183673469388, 4.9245283018867925, 4.928571428571429, 5.0, 6.117647058823529, 4.818181818181818, 5.413043478260869, 5.545454545454546, 4.583333333333333, 4.794871794871795, 5.954545454545454, 6.7, 5.045454545454546, 5.434782608695652, 6.088235294117647, 5.461538461538462, 4.529411764705882, 5.020833333333333, 5.777777777777778, 5.595238095238095, 4.409090909090909, 8.785714285714286, 4.685714285714286, 8.214285714285714, 4.214285714285714, 5.409090909090909, 5.916666666666667, 5.130434782608695, 6.162790697674419, 6.309523809523809, 4.871794871794871, 4.9772727272727275, 7.285714285714286, 6.48, 4.5813953488372094, 5.1395348837209305, 4.413793103448276, 4.883720930232558, 7.526315789473684, 5.866666666666666, 5.095238095238095, 5.451612903225806, 6.916666666666667, 5.543478260869565, 6.5, 6.225806451612903, 5.666666666666667, 6.722222222222222, 4.923076923076923, 5.785714285714286, 5.022222222222222, 8.375, 8.277777777777779, 4.8125, 5.633333333333334, 5.288461538461538, 4.523809523809524, 6.552631578947368, 7.666666666666667, 6.65625, 5.055555555555555, 6.8, 5.333333333333333, 6.818181818181818, 5.232558139534884, 5.111111111111111, 4.25, 8.11111111111111, 4.972972972972973, 5.806451612903226, 4.8125, 6.136363636363637, 6.410256410256411, 8.178571428571429, 5.369565217391305, 4.882352941176471, 5.4411764705882355, 5.413043478260869, 7.75, 6.057142857142857, 5.96875, 4.6875, 5.25, 4.466666666666667, 5.822222222222222, 5.4, 8.529411764705882, 4.825, 6.55, 7.411764705882353, 5.181818181818182, 5.2444444444444445, 4.111111111111111, 5.6875, 6.333333333333333, 5.27906976744186, 6.611111111111111, 5.309523809523809, 5.71875, 4.413793103448276, 4.304347826086956, 4.448979591836735, 6.5, 5.846153846153846, 5.363636363636363, 5.159090909090909, 4.857142857142857, 4.4, 4.22, 4.695652173913044, 5.2439024390243905, 4.903225806451613, 4.82, 6.888888888888889, 7.076923076923077, 4.686274509803922, 5.617647058823529, 6.615384615384615, 5.478260869565218, 4.825, 4.84, 4.852941176470588, 5.357142857142857, 4.35, 4.194444444444445, 4.96, 5.386363636363637, 5.5, 3.6857142857142855, 5.6, 4.304347826086956, 4.6571428571428575, 5.857142857142857, 4.714285714285714, 6.076923076923077, 7.833333333333333, 3.823529411764706, 4.333333333333333, 4.625, 5.214285714285714, 4.955555555555556, 4.25, 4.808510638297872, 4.633333333333334, 5.086956521739131, 8.083333333333334, 5.622222222222222, 5.4, 4.256410256410256, 4.666666666666667, 4.9743589743589745, 4.583333333333333, 5.081632653061225, 3.962962962962963, 4.564102564102564, 4.072727272727272, 5.809523809523809, 5.117647058823529, 4.869565217391305, 5.266666666666667, 4.854166666666667, 6.592592592592593, 4.795918367346939, 4.58, 4.729166666666667, 4.408163265306122, 5.148936170212766, 6.088235294117647, 4.651162790697675, 5.674418604651163, 5.191489361702128, 5.28, 5.696969696969697, 4.674418604651163, 3.888888888888889, 5.129032258064516, 4.368421052631579, 4.468085106382978, 6.041666666666667, 5.666666666666667, 5.909090909090909, 4.288135593220339, 8.384615384615385, 6.366666666666666, 3.85, 5.826086956521739, 9.454545454545455, 9.35, 4.738095238095238, 6.657894736842105, 4.434782608695652, 4.604166666666667, 8.478260869565217, 7.4, 4.28, 5.208333333333333, 5.958333333333333, 5.366666666666666, 4.411764705882353, 5.483870967741935, 4.590909090909091, 5.086956521739131, 8.030303030303031, 5.636363636363637, 4.130434782608695, 4.956521739130435, 4.288461538461538, 7.25, 5.479166666666667, 5.972222222222222, 5.42, 5.777777777777778, 6.6, 4.666666666666667, 7.105263157894737, 5.666666666666667, 5.019230769230769, 5.468085106382978, 5.714285714285714, 5.733333333333333, 4.48936170212766, 7.230769230769231, 6.857142857142857, 5.666666666666667, 4.555555555555555, 4.087719298245614, 5.95, 3.9130434782608696, 4.310344827586207, 4.666666666666667, 6.027027027027027, 5.146341463414634, 7.551724137931035, 5.609756097560975, 5.090909090909091, 5.26530612244898, 6.382352941176471, 3.6923076923076925, 5.608695652173913, 4.178571428571429, 4.509433962264151, 4.512820512820513, 4.071428571428571, 6.628571428571429, 5.95, 5.794871794871795, 5.897435897435898, 5.659574468085107, 5.6, 5.451612903225806, 5.424242424242424, 6.36, 7.045454545454546, 4.675675675675675, 5.6, 5.407407407407407, 5.45945945945946, 6.235294117647059, 5.3478260869565215, 4.148148148148148, 4.739130434782608, 6.564102564102564, 7.896551724137931, 5.571428571428571, 4.892857142857143, 5.162162162162162, 5.361111111111111, 5.3, 8.125, 7.03125, 7.3, 4.973684210526316, 4.208333333333333, 5.538461538461538, 5.0625, 5.260869565217392, 5.325, 4.702127659574468, 5.413043478260869, 6.294117647058823, 4.6938775510204085, 5.809523809523809, 4.818181818181818, 4.882352941176471, 5.020833333333333, 7.541666666666667, 4.74, 4.310344827586207, 4.040816326530612, 4.026315789473684, 4.782608695652174, 5.2, 6.026315789473684, 4.769230769230769, 5.113636363636363, 4.264705882352941, 5.078431372549019, 5.230769230769231, 7.9411764705882355, 4.822222222222222, 5.229166666666667, 5.083333333333333, 5.666666666666667, 4.428571428571429, 4.767441860465116, 4.269230769230769, 7.086956521739131, 5.892857142857143, 6.266666666666667, 5.823529411764706, 6.5, 4.214285714285714, 7.166666666666667, 5.869565217391305, 7.0, 6.634146341463414, 4.488372093023256, 5.55, 4.815789473684211, 6.333333333333333, 4.4523809523809526, 4.69811320754717, 4.607843137254902, 5.571428571428571, 5.53125, 4.315789473684211, 6.571428571428571, 4.588235294117647, 4.377358490566038, 5.276595744680851, 5.409090909090909, 5.222222222222222, 4.644444444444445, 6.928571428571429, 8.346153846153847, 6.783783783783784, 7.214285714285714, 5.161290322580645, 5.627906976744186, 6.411764705882353, 5.487179487179487, 5.166666666666667, 11.526315789473685, 7.055555555555555, 6.0, 4.078431372549019, 5.297872340425532, 4.851063829787234, 5.931034482758621, 4.785714285714286, 4.288461538461538, 6.108108108108108, 4.236363636363636, 5.578947368421052, 5.714285714285714, 5.027027027027027, 5.885714285714286, 4.526315789473684, 5.875, 8.823529411764707, 4.377777777777778, 4.533333333333333, 5.276595744680851, 5.515151515151516, 5.2, 4.12, 5.111111111111111, 4.96078431372549, 4.9375, 4.4, 6.75, 4.27906976744186, 4.512820512820513, 5.615384615384615, 11.8, 4.0576923076923075, 6.7272727272727275, 4.755102040816326, 4.235294117647059, 4.682926829268292, 4.862068965517241, 4.333333333333333, 7.375, 5.054545454545455, 4.521739130434782, 7.2, 4.848484848484849, 3.8333333333333335, 4.043478260869565, 4.571428571428571, 4.446808510638298, 5.536585365853658, 4.54054054054054, 6.40625, 9.0, 4.351351351351352, 5.090909090909091, 5.976744186046512, 4.976190476190476, 5.073170731707317, 6.0, 4.566666666666666, 5.333333333333333, 5.2926829268292686, 4.444444444444445, 4.096153846153846, 6.216216216216216, 6.2, 4.095238095238095, 5.424242424242424, 4.538461538461538, 4.542857142857143, 5.66, 6.714285714285714, 4.488372093023256, 5.25, 5.764705882352941, 6.232558139534884, 6.0, 4.868421052631579, 4.239130434782608, 4.787878787878788, 7.266666666666667, 4.482758620689655, 4.866666666666666, 6.864864864864865, 4.604651162790698, 5.0, 6.945945945945946, 4.840909090909091, 5.0606060606060606, 6.571428571428571, 5.125, 6.285714285714286, 3.8947368421052633, 3.909090909090909, 4.25, 4.261904761904762, 5.9714285714285715, 5.853658536585366, 6.84, 4.395348837209302, 5.666666666666667, 5.846153846153846, 6.59375, 5.379310344827586, 4.107142857142857, 5.333333333333333, 8.266666666666667, 4.521739130434782, 4.48936170212766, 4.6, 3.7291666666666665, 4.82, 7.478260869565218, 4.6, 5.172413793103448, 5.068181818181818, 5.304347826086956, 5.157894736842105, 4.8979591836734695, 3.694915254237288, 7.2, 5.585365853658536, 5.051282051282051, 4.3125, 9.619047619047619, 5.645161290322581, 5.377777777777778, 6.485714285714286, 5.1, 4.942857142857143, 6.545454545454546, 4.162790697674419, 4.85, 4.470588235294118, 5.16, 5.277777777777778, 6.166666666666667, 4.32, 6.136363636363637, 7.631578947368421, 5.894736842105263, 4.3125, 5.604651162790698, 4.490196078431373, 4.724137931034483, 4.928571428571429, 5.340909090909091, 5.735294117647059, 5.685714285714286, 5.375, 6.666666666666667, 6.282051282051282, 5.711111111111111, 5.976744186046512, 6.125, 6.611111111111111, 5.7272727272727275, 6.1923076923076925, 4.75, 5.764705882352941, 8.384615384615385, 4.953488372093023, 4.298245614035087, 5.478260869565218, 6.0, 3.425531914893617, 5.815789473684211, 5.604651162790698, 6.081081081081081, 7.833333333333333, 6.846153846153846, 5.326530612244898, 4.54054054054054, 6.48, 4.4363636363636365, 4.391304347826087, 4.681818181818182, 5.3478260869565215, 5.738095238095238, 6.461538461538462, 6.384615384615385, 4.872340425531915, 6.533333333333333, 7.055555555555555, 4.3478260869565215, 7.6875, 5.829268292682927, 7.232558139534884, 6.1, 4.4, 5.142857142857143, 4.838709677419355, 5.222222222222222, 5.083333333333333, 5.612903225806452, 4.2, 5.166666666666667, 6.424242424242424, 6.172413793103448, 7.166666666666667, 7.346153846153846, 4.470588235294118, 7.303030303030303, 6.82051282051282, 6.181818181818182, 5.5, 4.8108108108108105, 4.448275862068965, 5.625, 4.233333333333333, 6.2444444444444445, 5.2444444444444445, 9.578947368421053, 3.8333333333333335, 5.714285714285714, 4.804347826086956, 6.684210526315789, 4.7272727272727275, 4.027777777777778, 5.714285714285714, 4.897435897435898, 6.128205128205129, 5.448275862068965, 5.619047619047619, 7.9, 6.285714285714286, 5.434782608695652, 6.3478260869565215, 6.444444444444445, 5.229166666666667, 7.7, 6.363636363636363, 7.157894736842105, 8.130434782608695, 6.428571428571429, 6.166666666666667, 5.840909090909091, 7.076923076923077, 5.818181818181818, 6.125, 7.611111111111111, 6.291666666666667, 6.685714285714286, 4.730769230769231, 5.380952380952381, 4.788461538461538, 4.709677419354839, 7.142857142857143, 9.533333333333333, 4.404255319148936, 4.137931034482759, 8.10344827586207, 6.896551724137931, 5.828571428571428, 4.583333333333333, 7.375, 4.7407407407407405, 5.96969696969697, 6.290322580645161, 5.9, 5.361111111111111]}],                        {\"barmode\": \"overlay\", \"legend\": {\"bgcolor\": \"#F5F6F9\", \"font\": {\"color\": \"#4D5663\"}}, \"paper_bgcolor\": \"#F5F6F9\", \"plot_bgcolor\": \"#F5F6F9\", \"template\": {\"data\": {\"bar\": [{\"error_x\": {\"color\": \"#2a3f5f\"}, \"error_y\": {\"color\": \"#2a3f5f\"}, \"marker\": {\"line\": {\"color\": \"#E5ECF6\", \"width\": 0.5}}, \"type\": \"bar\"}], \"barpolar\": [{\"marker\": {\"line\": {\"color\": \"#E5ECF6\", \"width\": 0.5}}, \"type\": \"barpolar\"}], \"carpet\": [{\"aaxis\": {\"endlinecolor\": \"#2a3f5f\", \"gridcolor\": \"white\", \"linecolor\": \"white\", \"minorgridcolor\": \"white\", \"startlinecolor\": \"#2a3f5f\"}, \"baxis\": {\"endlinecolor\": \"#2a3f5f\", \"gridcolor\": \"white\", \"linecolor\": \"white\", \"minorgridcolor\": \"white\", \"startlinecolor\": \"#2a3f5f\"}, \"type\": \"carpet\"}], \"choropleth\": [{\"colorbar\": {\"outlinewidth\": 0, \"ticks\": \"\"}, \"type\": \"choropleth\"}], \"contour\": [{\"colorbar\": {\"outlinewidth\": 0, \"ticks\": \"\"}, \"colorscale\": [[0.0, \"#0d0887\"], [0.1111111111111111, \"#46039f\"], [0.2222222222222222, \"#7201a8\"], [0.3333333333333333, \"#9c179e\"], [0.4444444444444444, \"#bd3786\"], [0.5555555555555556, \"#d8576b\"], [0.6666666666666666, \"#ed7953\"], [0.7777777777777778, \"#fb9f3a\"], [0.8888888888888888, \"#fdca26\"], [1.0, \"#f0f921\"]], \"type\": \"contour\"}], \"contourcarpet\": [{\"colorbar\": {\"outlinewidth\": 0, \"ticks\": \"\"}, \"type\": \"contourcarpet\"}], \"heatmap\": [{\"colorbar\": {\"outlinewidth\": 0, \"ticks\": \"\"}, \"colorscale\": [[0.0, \"#0d0887\"], [0.1111111111111111, \"#46039f\"], [0.2222222222222222, \"#7201a8\"], [0.3333333333333333, \"#9c179e\"], [0.4444444444444444, \"#bd3786\"], [0.5555555555555556, \"#d8576b\"], [0.6666666666666666, \"#ed7953\"], [0.7777777777777778, \"#fb9f3a\"], [0.8888888888888888, \"#fdca26\"], [1.0, \"#f0f921\"]], \"type\": \"heatmap\"}], \"heatmapgl\": [{\"colorbar\": {\"outlinewidth\": 0, \"ticks\": \"\"}, \"colorscale\": [[0.0, \"#0d0887\"], [0.1111111111111111, \"#46039f\"], [0.2222222222222222, \"#7201a8\"], [0.3333333333333333, \"#9c179e\"], [0.4444444444444444, \"#bd3786\"], [0.5555555555555556, \"#d8576b\"], [0.6666666666666666, \"#ed7953\"], [0.7777777777777778, \"#fb9f3a\"], [0.8888888888888888, \"#fdca26\"], [1.0, \"#f0f921\"]], \"type\": \"heatmapgl\"}], \"histogram\": [{\"marker\": {\"colorbar\": {\"outlinewidth\": 0, \"ticks\": \"\"}}, \"type\": \"histogram\"}], \"histogram2d\": [{\"colorbar\": {\"outlinewidth\": 0, \"ticks\": \"\"}, \"colorscale\": [[0.0, \"#0d0887\"], [0.1111111111111111, \"#46039f\"], [0.2222222222222222, \"#7201a8\"], [0.3333333333333333, \"#9c179e\"], [0.4444444444444444, \"#bd3786\"], [0.5555555555555556, \"#d8576b\"], [0.6666666666666666, \"#ed7953\"], [0.7777777777777778, \"#fb9f3a\"], [0.8888888888888888, \"#fdca26\"], [1.0, \"#f0f921\"]], \"type\": \"histogram2d\"}], \"histogram2dcontour\": [{\"colorbar\": {\"outlinewidth\": 0, \"ticks\": \"\"}, \"colorscale\": [[0.0, \"#0d0887\"], [0.1111111111111111, \"#46039f\"], [0.2222222222222222, \"#7201a8\"], [0.3333333333333333, \"#9c179e\"], [0.4444444444444444, \"#bd3786\"], [0.5555555555555556, \"#d8576b\"], [0.6666666666666666, \"#ed7953\"], [0.7777777777777778, \"#fb9f3a\"], [0.8888888888888888, \"#fdca26\"], [1.0, \"#f0f921\"]], \"type\": \"histogram2dcontour\"}], \"mesh3d\": [{\"colorbar\": {\"outlinewidth\": 0, \"ticks\": \"\"}, \"type\": \"mesh3d\"}], \"parcoords\": [{\"line\": {\"colorbar\": {\"outlinewidth\": 0, \"ticks\": \"\"}}, \"type\": \"parcoords\"}], \"pie\": [{\"automargin\": true, \"type\": \"pie\"}], \"scatter\": [{\"marker\": {\"colorbar\": {\"outlinewidth\": 0, \"ticks\": \"\"}}, \"type\": \"scatter\"}], \"scatter3d\": [{\"line\": {\"colorbar\": {\"outlinewidth\": 0, \"ticks\": \"\"}}, \"marker\": {\"colorbar\": {\"outlinewidth\": 0, \"ticks\": \"\"}}, \"type\": \"scatter3d\"}], \"scattercarpet\": [{\"marker\": {\"colorbar\": {\"outlinewidth\": 0, \"ticks\": \"\"}}, \"type\": \"scattercarpet\"}], \"scattergeo\": [{\"marker\": {\"colorbar\": {\"outlinewidth\": 0, \"ticks\": \"\"}}, \"type\": \"scattergeo\"}], \"scattergl\": [{\"marker\": {\"colorbar\": {\"outlinewidth\": 0, \"ticks\": \"\"}}, \"type\": \"scattergl\"}], \"scattermapbox\": [{\"marker\": {\"colorbar\": {\"outlinewidth\": 0, \"ticks\": \"\"}}, \"type\": \"scattermapbox\"}], \"scatterpolar\": [{\"marker\": {\"colorbar\": {\"outlinewidth\": 0, \"ticks\": \"\"}}, \"type\": \"scatterpolar\"}], \"scatterpolargl\": [{\"marker\": {\"colorbar\": {\"outlinewidth\": 0, \"ticks\": \"\"}}, \"type\": \"scatterpolargl\"}], \"scatterternary\": [{\"marker\": {\"colorbar\": {\"outlinewidth\": 0, \"ticks\": \"\"}}, \"type\": \"scatterternary\"}], \"surface\": [{\"colorbar\": {\"outlinewidth\": 0, \"ticks\": \"\"}, \"colorscale\": [[0.0, \"#0d0887\"], [0.1111111111111111, \"#46039f\"], [0.2222222222222222, \"#7201a8\"], [0.3333333333333333, \"#9c179e\"], [0.4444444444444444, \"#bd3786\"], [0.5555555555555556, \"#d8576b\"], [0.6666666666666666, \"#ed7953\"], [0.7777777777777778, \"#fb9f3a\"], [0.8888888888888888, \"#fdca26\"], [1.0, \"#f0f921\"]], \"type\": \"surface\"}], \"table\": [{\"cells\": {\"fill\": {\"color\": \"#EBF0F8\"}, \"line\": {\"color\": \"white\"}}, \"header\": {\"fill\": {\"color\": \"#C8D4E3\"}, \"line\": {\"color\": \"white\"}}, \"type\": \"table\"}]}, \"layout\": {\"annotationdefaults\": {\"arrowcolor\": \"#2a3f5f\", \"arrowhead\": 0, \"arrowwidth\": 1}, \"autotypenumbers\": \"strict\", \"coloraxis\": {\"colorbar\": {\"outlinewidth\": 0, \"ticks\": \"\"}}, \"colorscale\": {\"diverging\": [[0, \"#8e0152\"], [0.1, \"#c51b7d\"], [0.2, \"#de77ae\"], [0.3, \"#f1b6da\"], [0.4, \"#fde0ef\"], [0.5, \"#f7f7f7\"], [0.6, \"#e6f5d0\"], [0.7, \"#b8e186\"], [0.8, \"#7fbc41\"], [0.9, \"#4d9221\"], [1, \"#276419\"]], \"sequential\": [[0.0, \"#0d0887\"], [0.1111111111111111, \"#46039f\"], [0.2222222222222222, \"#7201a8\"], [0.3333333333333333, \"#9c179e\"], [0.4444444444444444, \"#bd3786\"], [0.5555555555555556, \"#d8576b\"], [0.6666666666666666, \"#ed7953\"], [0.7777777777777778, \"#fb9f3a\"], [0.8888888888888888, \"#fdca26\"], [1.0, \"#f0f921\"]], \"sequentialminus\": [[0.0, \"#0d0887\"], [0.1111111111111111, \"#46039f\"], [0.2222222222222222, \"#7201a8\"], [0.3333333333333333, \"#9c179e\"], [0.4444444444444444, \"#bd3786\"], [0.5555555555555556, \"#d8576b\"], [0.6666666666666666, \"#ed7953\"], [0.7777777777777778, \"#fb9f3a\"], [0.8888888888888888, \"#fdca26\"], [1.0, \"#f0f921\"]]}, \"colorway\": [\"#636efa\", \"#EF553B\", \"#00cc96\", \"#ab63fa\", \"#FFA15A\", \"#19d3f3\", \"#FF6692\", \"#B6E880\", \"#FF97FF\", \"#FECB52\"], \"font\": {\"color\": \"#2a3f5f\"}, \"geo\": {\"bgcolor\": \"white\", \"lakecolor\": \"white\", \"landcolor\": \"#E5ECF6\", \"showlakes\": true, \"showland\": true, \"subunitcolor\": \"white\"}, \"hoverlabel\": {\"align\": \"left\"}, \"hovermode\": \"closest\", \"mapbox\": {\"style\": \"light\"}, \"paper_bgcolor\": \"white\", \"plot_bgcolor\": \"#E5ECF6\", \"polar\": {\"angularaxis\": {\"gridcolor\": \"white\", \"linecolor\": \"white\", \"ticks\": \"\"}, \"bgcolor\": \"#E5ECF6\", \"radialaxis\": {\"gridcolor\": \"white\", \"linecolor\": \"white\", \"ticks\": \"\"}}, \"scene\": {\"xaxis\": {\"backgroundcolor\": \"#E5ECF6\", \"gridcolor\": \"white\", \"gridwidth\": 2, \"linecolor\": \"white\", \"showbackground\": true, \"ticks\": \"\", \"zerolinecolor\": \"white\"}, \"yaxis\": {\"backgroundcolor\": \"#E5ECF6\", \"gridcolor\": \"white\", \"gridwidth\": 2, \"linecolor\": \"white\", \"showbackground\": true, \"ticks\": \"\", \"zerolinecolor\": \"white\"}, \"zaxis\": {\"backgroundcolor\": \"#E5ECF6\", \"gridcolor\": \"white\", \"gridwidth\": 2, \"linecolor\": \"white\", \"showbackground\": true, \"ticks\": \"\", \"zerolinecolor\": \"white\"}}, \"shapedefaults\": {\"line\": {\"color\": \"#2a3f5f\"}}, \"ternary\": {\"aaxis\": {\"gridcolor\": \"white\", \"linecolor\": \"white\", \"ticks\": \"\"}, \"baxis\": {\"gridcolor\": \"white\", \"linecolor\": \"white\", \"ticks\": \"\"}, \"bgcolor\": \"#E5ECF6\", \"caxis\": {\"gridcolor\": \"white\", \"linecolor\": \"white\", \"ticks\": \"\"}}, \"title\": {\"x\": 0.05}, \"xaxis\": {\"automargin\": true, \"gridcolor\": \"white\", \"linecolor\": \"white\", \"ticks\": \"\", \"title\": {\"standoff\": 15}, \"zerolinecolor\": \"white\", \"zerolinewidth\": 2}, \"yaxis\": {\"automargin\": true, \"gridcolor\": \"white\", \"linecolor\": \"white\", \"ticks\": \"\", \"title\": {\"standoff\": 15}, \"zerolinecolor\": \"white\", \"zerolinewidth\": 2}}}, \"title\": {\"font\": {\"color\": \"#4D5663\"}, \"text\": \"Distribution of Average word length in Tweets\"}, \"xaxis\": {\"gridcolor\": \"#E1E5ED\", \"linecolor\": \"black\", \"showgrid\": true, \"tickfont\": {\"color\": \"#4D5663\"}, \"title\": {\"font\": {\"color\": \"#4D5663\"}, \"text\": \"Average word length\"}, \"zerolinecolor\": \"#E1E5ED\"}, \"yaxis\": {\"gridcolor\": \"#E1E5ED\", \"linecolor\": \"black\", \"showgrid\": true, \"tickfont\": {\"color\": \"#4D5663\"}, \"title\": {\"font\": {\"color\": \"#4D5663\"}, \"text\": \"Count\"}, \"zerolinecolor\": \"#E1E5ED\"}},                        {\"showLink\": true, \"linkText\": \"Export to plot.ly\", \"plotlyServerURL\": \"https://plot.ly\", \"responsive\": true}                    ).then(function(){\n",
       "                            \n",
       "var gd = document.getElementById('1cd20f78-764e-45b1-b41a-80c43cef37aa');\n",
       "var x = new MutationObserver(function (mutations, observer) {{\n",
       "        var display = window.getComputedStyle(gd).display;\n",
       "        if (!display || display === 'none') {{\n",
       "            console.log([gd, 'removed!']);\n",
       "            Plotly.purge(gd);\n",
       "            observer.disconnect();\n",
       "        }}\n",
       "}});\n",
       "\n",
       "// Listen for the removal of the full notebook cells\n",
       "var notebookContainer = gd.closest('#notebook-container');\n",
       "if (notebookContainer) {{\n",
       "    x.observe(notebookContainer, {childList: true});\n",
       "}}\n",
       "\n",
       "// Listen for the clearing of the current output cell\n",
       "var outputEl = gd.closest('.output');\n",
       "if (outputEl) {{\n",
       "    x.observe(outputEl, {childList: true});\n",
       "}}\n",
       "\n",
       "                        })                };                });            </script>        </div>"
      ]
     },
     "metadata": {},
     "output_type": "display_data"
    }
   ],
   "source": [
    "df1['avg_word_len'].iplot(kind = 'hist',bins = 40, \n",
    "               xTitle = 'Average word length', yTitle = 'Count',\n",
    "              title = 'Distribution of Average word length in Tweets',\n",
    "              colors = 'lightblue', linecolor = 'black')"
   ]
  },
  {
   "cell_type": "code",
   "execution_count": 16,
   "metadata": {},
   "outputs": [],
   "source": [
    "def get_top_n_words(x,ngram,top):\n",
    "    vec = CountVectorizer(ngram_range = (ngram,ngram)).fit(x)\n",
    "    bow = vec.transform(x)\n",
    "    sum_words = bow.sum(axis = 0)\n",
    "    words_freq = [(word, sum_words[0,idx]) for word, idx in vec.vocabulary_.items()]\n",
    "    words_freq =  sorted(words_freq, key = lambda x: x[1], reverse = True)\n",
    "    return words_freq[:top]"
   ]
  },
  {
   "cell_type": "code",
   "execution_count": 17,
   "metadata": {},
   "outputs": [],
   "source": [
    "words = get_top_n_words(df1['Tweet'],1,20)"
   ]
  },
  {
   "cell_type": "code",
   "execution_count": 18,
   "metadata": {},
   "outputs": [
    {
     "data": {
      "text/plain": [
       "[('the', 2330),\n",
       " ('to', 1969),\n",
       " ('and', 1284),\n",
       " ('of', 1113),\n",
       " ('in', 1021),\n",
       " ('co', 931),\n",
       " ('https', 916),\n",
       " ('covid_19', 799),\n",
       " ('coronavirus', 777),\n",
       " ('food', 742),\n",
       " ('for', 697),\n",
       " ('is', 669),\n",
       " ('you', 612),\n",
       " ('on', 606),\n",
       " ('are', 582),\n",
       " ('store', 528),\n",
       " ('at', 471),\n",
       " ('grocery', 447),\n",
       " ('19', 443),\n",
       " ('it', 440)]"
      ]
     },
     "execution_count": 18,
     "metadata": {},
     "output_type": "execute_result"
    }
   ],
   "source": [
    "words"
   ]
  },
  {
   "cell_type": "markdown",
   "metadata": {},
   "source": [
    "### Distribution of Unigram,Bigram and Trigram without STOPWORDS"
   ]
  },
  {
   "cell_type": "code",
   "execution_count": 19,
   "metadata": {},
   "outputs": [],
   "source": [
    "def get_top_n_words(x,ngram,top):\n",
    "    vec = CountVectorizer(ngram_range = (ngram,ngram),stop_words = 'english').fit(x)\n",
    "    bow = vec.transform(x)\n",
    "    sum_words = bow.sum(axis = 0)\n",
    "    words_freq = [(word, sum_words[0,idx]) for word, idx in vec.vocabulary_.items()]\n",
    "    words_freq =  sorted(words_freq, key = lambda x: x[1], reverse = True)\n",
    "    return words_freq[:top]"
   ]
  },
  {
   "cell_type": "code",
   "execution_count": 20,
   "metadata": {},
   "outputs": [],
   "source": [
    "words = get_top_n_words(df1['Tweet'],1,20)"
   ]
  },
  {
   "cell_type": "markdown",
   "metadata": {},
   "source": [
    "### Distribution of Top 20 Unigrams based on Frequency"
   ]
  },
  {
   "cell_type": "code",
   "execution_count": 21,
   "metadata": {},
   "outputs": [
    {
     "data": {
      "application/vnd.plotly.v1+json": {
       "config": {
        "linkText": "Export to plot.ly",
        "plotlyServerURL": "https://plot.ly",
        "showLink": true
       },
       "data": [
        {
         "marker": {
          "color": "rgba(255, 153, 51, 0.6)",
          "line": {
           "color": "rgba(255, 153, 51, 1.0)",
           "width": 1
          }
         },
         "name": "Frequency",
         "orientation": "v",
         "text": "",
         "type": "bar",
         "x": [
          "https",
          "covid_19",
          "coronavirus",
          "food",
          "store",
          "grocery",
          "19",
          "covid",
          "stock",
          "people",
          "shopping",
          "supermarket",
          "online",
          "amp",
          "panic",
          "prices",
          "toilet",
          "just",
          "paper",
          "like"
         ],
         "y": [
          916,
          799,
          777,
          742,
          528,
          447,
          443,
          433,
          425,
          421,
          293,
          287,
          281,
          280,
          244,
          230,
          201,
          198,
          197,
          197
         ]
        }
       ],
       "layout": {
        "legend": {
         "bgcolor": "#F5F6F9",
         "font": {
          "color": "#4D5663"
         }
        },
        "paper_bgcolor": "#F5F6F9",
        "plot_bgcolor": "#F5F6F9",
        "template": {
         "data": {
          "bar": [
           {
            "error_x": {
             "color": "#2a3f5f"
            },
            "error_y": {
             "color": "#2a3f5f"
            },
            "marker": {
             "line": {
              "color": "#E5ECF6",
              "width": 0.5
             }
            },
            "type": "bar"
           }
          ],
          "barpolar": [
           {
            "marker": {
             "line": {
              "color": "#E5ECF6",
              "width": 0.5
             }
            },
            "type": "barpolar"
           }
          ],
          "carpet": [
           {
            "aaxis": {
             "endlinecolor": "#2a3f5f",
             "gridcolor": "white",
             "linecolor": "white",
             "minorgridcolor": "white",
             "startlinecolor": "#2a3f5f"
            },
            "baxis": {
             "endlinecolor": "#2a3f5f",
             "gridcolor": "white",
             "linecolor": "white",
             "minorgridcolor": "white",
             "startlinecolor": "#2a3f5f"
            },
            "type": "carpet"
           }
          ],
          "choropleth": [
           {
            "colorbar": {
             "outlinewidth": 0,
             "ticks": ""
            },
            "type": "choropleth"
           }
          ],
          "contour": [
           {
            "colorbar": {
             "outlinewidth": 0,
             "ticks": ""
            },
            "colorscale": [
             [
              0,
              "#0d0887"
             ],
             [
              0.1111111111111111,
              "#46039f"
             ],
             [
              0.2222222222222222,
              "#7201a8"
             ],
             [
              0.3333333333333333,
              "#9c179e"
             ],
             [
              0.4444444444444444,
              "#bd3786"
             ],
             [
              0.5555555555555556,
              "#d8576b"
             ],
             [
              0.6666666666666666,
              "#ed7953"
             ],
             [
              0.7777777777777778,
              "#fb9f3a"
             ],
             [
              0.8888888888888888,
              "#fdca26"
             ],
             [
              1,
              "#f0f921"
             ]
            ],
            "type": "contour"
           }
          ],
          "contourcarpet": [
           {
            "colorbar": {
             "outlinewidth": 0,
             "ticks": ""
            },
            "type": "contourcarpet"
           }
          ],
          "heatmap": [
           {
            "colorbar": {
             "outlinewidth": 0,
             "ticks": ""
            },
            "colorscale": [
             [
              0,
              "#0d0887"
             ],
             [
              0.1111111111111111,
              "#46039f"
             ],
             [
              0.2222222222222222,
              "#7201a8"
             ],
             [
              0.3333333333333333,
              "#9c179e"
             ],
             [
              0.4444444444444444,
              "#bd3786"
             ],
             [
              0.5555555555555556,
              "#d8576b"
             ],
             [
              0.6666666666666666,
              "#ed7953"
             ],
             [
              0.7777777777777778,
              "#fb9f3a"
             ],
             [
              0.8888888888888888,
              "#fdca26"
             ],
             [
              1,
              "#f0f921"
             ]
            ],
            "type": "heatmap"
           }
          ],
          "heatmapgl": [
           {
            "colorbar": {
             "outlinewidth": 0,
             "ticks": ""
            },
            "colorscale": [
             [
              0,
              "#0d0887"
             ],
             [
              0.1111111111111111,
              "#46039f"
             ],
             [
              0.2222222222222222,
              "#7201a8"
             ],
             [
              0.3333333333333333,
              "#9c179e"
             ],
             [
              0.4444444444444444,
              "#bd3786"
             ],
             [
              0.5555555555555556,
              "#d8576b"
             ],
             [
              0.6666666666666666,
              "#ed7953"
             ],
             [
              0.7777777777777778,
              "#fb9f3a"
             ],
             [
              0.8888888888888888,
              "#fdca26"
             ],
             [
              1,
              "#f0f921"
             ]
            ],
            "type": "heatmapgl"
           }
          ],
          "histogram": [
           {
            "marker": {
             "colorbar": {
              "outlinewidth": 0,
              "ticks": ""
             }
            },
            "type": "histogram"
           }
          ],
          "histogram2d": [
           {
            "colorbar": {
             "outlinewidth": 0,
             "ticks": ""
            },
            "colorscale": [
             [
              0,
              "#0d0887"
             ],
             [
              0.1111111111111111,
              "#46039f"
             ],
             [
              0.2222222222222222,
              "#7201a8"
             ],
             [
              0.3333333333333333,
              "#9c179e"
             ],
             [
              0.4444444444444444,
              "#bd3786"
             ],
             [
              0.5555555555555556,
              "#d8576b"
             ],
             [
              0.6666666666666666,
              "#ed7953"
             ],
             [
              0.7777777777777778,
              "#fb9f3a"
             ],
             [
              0.8888888888888888,
              "#fdca26"
             ],
             [
              1,
              "#f0f921"
             ]
            ],
            "type": "histogram2d"
           }
          ],
          "histogram2dcontour": [
           {
            "colorbar": {
             "outlinewidth": 0,
             "ticks": ""
            },
            "colorscale": [
             [
              0,
              "#0d0887"
             ],
             [
              0.1111111111111111,
              "#46039f"
             ],
             [
              0.2222222222222222,
              "#7201a8"
             ],
             [
              0.3333333333333333,
              "#9c179e"
             ],
             [
              0.4444444444444444,
              "#bd3786"
             ],
             [
              0.5555555555555556,
              "#d8576b"
             ],
             [
              0.6666666666666666,
              "#ed7953"
             ],
             [
              0.7777777777777778,
              "#fb9f3a"
             ],
             [
              0.8888888888888888,
              "#fdca26"
             ],
             [
              1,
              "#f0f921"
             ]
            ],
            "type": "histogram2dcontour"
           }
          ],
          "mesh3d": [
           {
            "colorbar": {
             "outlinewidth": 0,
             "ticks": ""
            },
            "type": "mesh3d"
           }
          ],
          "parcoords": [
           {
            "line": {
             "colorbar": {
              "outlinewidth": 0,
              "ticks": ""
             }
            },
            "type": "parcoords"
           }
          ],
          "pie": [
           {
            "automargin": true,
            "type": "pie"
           }
          ],
          "scatter": [
           {
            "marker": {
             "colorbar": {
              "outlinewidth": 0,
              "ticks": ""
             }
            },
            "type": "scatter"
           }
          ],
          "scatter3d": [
           {
            "line": {
             "colorbar": {
              "outlinewidth": 0,
              "ticks": ""
             }
            },
            "marker": {
             "colorbar": {
              "outlinewidth": 0,
              "ticks": ""
             }
            },
            "type": "scatter3d"
           }
          ],
          "scattercarpet": [
           {
            "marker": {
             "colorbar": {
              "outlinewidth": 0,
              "ticks": ""
             }
            },
            "type": "scattercarpet"
           }
          ],
          "scattergeo": [
           {
            "marker": {
             "colorbar": {
              "outlinewidth": 0,
              "ticks": ""
             }
            },
            "type": "scattergeo"
           }
          ],
          "scattergl": [
           {
            "marker": {
             "colorbar": {
              "outlinewidth": 0,
              "ticks": ""
             }
            },
            "type": "scattergl"
           }
          ],
          "scattermapbox": [
           {
            "marker": {
             "colorbar": {
              "outlinewidth": 0,
              "ticks": ""
             }
            },
            "type": "scattermapbox"
           }
          ],
          "scatterpolar": [
           {
            "marker": {
             "colorbar": {
              "outlinewidth": 0,
              "ticks": ""
             }
            },
            "type": "scatterpolar"
           }
          ],
          "scatterpolargl": [
           {
            "marker": {
             "colorbar": {
              "outlinewidth": 0,
              "ticks": ""
             }
            },
            "type": "scatterpolargl"
           }
          ],
          "scatterternary": [
           {
            "marker": {
             "colorbar": {
              "outlinewidth": 0,
              "ticks": ""
             }
            },
            "type": "scatterternary"
           }
          ],
          "surface": [
           {
            "colorbar": {
             "outlinewidth": 0,
             "ticks": ""
            },
            "colorscale": [
             [
              0,
              "#0d0887"
             ],
             [
              0.1111111111111111,
              "#46039f"
             ],
             [
              0.2222222222222222,
              "#7201a8"
             ],
             [
              0.3333333333333333,
              "#9c179e"
             ],
             [
              0.4444444444444444,
              "#bd3786"
             ],
             [
              0.5555555555555556,
              "#d8576b"
             ],
             [
              0.6666666666666666,
              "#ed7953"
             ],
             [
              0.7777777777777778,
              "#fb9f3a"
             ],
             [
              0.8888888888888888,
              "#fdca26"
             ],
             [
              1,
              "#f0f921"
             ]
            ],
            "type": "surface"
           }
          ],
          "table": [
           {
            "cells": {
             "fill": {
              "color": "#EBF0F8"
             },
             "line": {
              "color": "white"
             }
            },
            "header": {
             "fill": {
              "color": "#C8D4E3"
             },
             "line": {
              "color": "white"
             }
            },
            "type": "table"
           }
          ]
         },
         "layout": {
          "annotationdefaults": {
           "arrowcolor": "#2a3f5f",
           "arrowhead": 0,
           "arrowwidth": 1
          },
          "autotypenumbers": "strict",
          "coloraxis": {
           "colorbar": {
            "outlinewidth": 0,
            "ticks": ""
           }
          },
          "colorscale": {
           "diverging": [
            [
             0,
             "#8e0152"
            ],
            [
             0.1,
             "#c51b7d"
            ],
            [
             0.2,
             "#de77ae"
            ],
            [
             0.3,
             "#f1b6da"
            ],
            [
             0.4,
             "#fde0ef"
            ],
            [
             0.5,
             "#f7f7f7"
            ],
            [
             0.6,
             "#e6f5d0"
            ],
            [
             0.7,
             "#b8e186"
            ],
            [
             0.8,
             "#7fbc41"
            ],
            [
             0.9,
             "#4d9221"
            ],
            [
             1,
             "#276419"
            ]
           ],
           "sequential": [
            [
             0,
             "#0d0887"
            ],
            [
             0.1111111111111111,
             "#46039f"
            ],
            [
             0.2222222222222222,
             "#7201a8"
            ],
            [
             0.3333333333333333,
             "#9c179e"
            ],
            [
             0.4444444444444444,
             "#bd3786"
            ],
            [
             0.5555555555555556,
             "#d8576b"
            ],
            [
             0.6666666666666666,
             "#ed7953"
            ],
            [
             0.7777777777777778,
             "#fb9f3a"
            ],
            [
             0.8888888888888888,
             "#fdca26"
            ],
            [
             1,
             "#f0f921"
            ]
           ],
           "sequentialminus": [
            [
             0,
             "#0d0887"
            ],
            [
             0.1111111111111111,
             "#46039f"
            ],
            [
             0.2222222222222222,
             "#7201a8"
            ],
            [
             0.3333333333333333,
             "#9c179e"
            ],
            [
             0.4444444444444444,
             "#bd3786"
            ],
            [
             0.5555555555555556,
             "#d8576b"
            ],
            [
             0.6666666666666666,
             "#ed7953"
            ],
            [
             0.7777777777777778,
             "#fb9f3a"
            ],
            [
             0.8888888888888888,
             "#fdca26"
            ],
            [
             1,
             "#f0f921"
            ]
           ]
          },
          "colorway": [
           "#636efa",
           "#EF553B",
           "#00cc96",
           "#ab63fa",
           "#FFA15A",
           "#19d3f3",
           "#FF6692",
           "#B6E880",
           "#FF97FF",
           "#FECB52"
          ],
          "font": {
           "color": "#2a3f5f"
          },
          "geo": {
           "bgcolor": "white",
           "lakecolor": "white",
           "landcolor": "#E5ECF6",
           "showlakes": true,
           "showland": true,
           "subunitcolor": "white"
          },
          "hoverlabel": {
           "align": "left"
          },
          "hovermode": "closest",
          "mapbox": {
           "style": "light"
          },
          "paper_bgcolor": "white",
          "plot_bgcolor": "#E5ECF6",
          "polar": {
           "angularaxis": {
            "gridcolor": "white",
            "linecolor": "white",
            "ticks": ""
           },
           "bgcolor": "#E5ECF6",
           "radialaxis": {
            "gridcolor": "white",
            "linecolor": "white",
            "ticks": ""
           }
          },
          "scene": {
           "xaxis": {
            "backgroundcolor": "#E5ECF6",
            "gridcolor": "white",
            "gridwidth": 2,
            "linecolor": "white",
            "showbackground": true,
            "ticks": "",
            "zerolinecolor": "white"
           },
           "yaxis": {
            "backgroundcolor": "#E5ECF6",
            "gridcolor": "white",
            "gridwidth": 2,
            "linecolor": "white",
            "showbackground": true,
            "ticks": "",
            "zerolinecolor": "white"
           },
           "zaxis": {
            "backgroundcolor": "#E5ECF6",
            "gridcolor": "white",
            "gridwidth": 2,
            "linecolor": "white",
            "showbackground": true,
            "ticks": "",
            "zerolinecolor": "white"
           }
          },
          "shapedefaults": {
           "line": {
            "color": "#2a3f5f"
           }
          },
          "ternary": {
           "aaxis": {
            "gridcolor": "white",
            "linecolor": "white",
            "ticks": ""
           },
           "baxis": {
            "gridcolor": "white",
            "linecolor": "white",
            "ticks": ""
           },
           "bgcolor": "#E5ECF6",
           "caxis": {
            "gridcolor": "white",
            "linecolor": "white",
            "ticks": ""
           }
          },
          "title": {
           "x": 0.05
          },
          "xaxis": {
           "automargin": true,
           "gridcolor": "white",
           "linecolor": "white",
           "ticks": "",
           "title": {
            "standoff": 15
           },
           "zerolinecolor": "white",
           "zerolinewidth": 2
          },
          "yaxis": {
           "automargin": true,
           "gridcolor": "white",
           "linecolor": "white",
           "ticks": "",
           "title": {
            "standoff": 15
           },
           "zerolinecolor": "white",
           "zerolinewidth": 2
          }
         }
        },
        "title": {
         "font": {
          "color": "#4D5663"
         },
         "text": "Distribution of Top 20 Unigrams based on Frequency"
        },
        "xaxis": {
         "gridcolor": "#E1E5ED",
         "showgrid": true,
         "tickfont": {
          "color": "#4D5663"
         },
         "title": {
          "font": {
           "color": "#4D5663"
          },
          "text": "Unigrams"
         },
         "zerolinecolor": "#E1E5ED"
        },
        "yaxis": {
         "gridcolor": "#E1E5ED",
         "showgrid": true,
         "tickfont": {
          "color": "#4D5663"
         },
         "title": {
          "font": {
           "color": "#4D5663"
          },
          "text": "Count"
         },
         "zerolinecolor": "#E1E5ED"
        }
       }
      },
      "text/html": [
       "<div>                            <div id=\"0a4b58ff-4536-4180-b444-438d402870d5\" class=\"plotly-graph-div\" style=\"height:525px; width:100%;\"></div>            <script type=\"text/javascript\">                require([\"plotly\"], function(Plotly) {                    window.PLOTLYENV=window.PLOTLYENV || {};\n",
       "                    window.PLOTLYENV.BASE_URL='https://plot.ly';                                    if (document.getElementById(\"0a4b58ff-4536-4180-b444-438d402870d5\")) {                    Plotly.newPlot(                        \"0a4b58ff-4536-4180-b444-438d402870d5\",                        [{\"marker\": {\"color\": \"rgba(255, 153, 51, 0.6)\", \"line\": {\"color\": \"rgba(255, 153, 51, 1.0)\", \"width\": 1}}, \"name\": \"Frequency\", \"orientation\": \"v\", \"text\": \"\", \"type\": \"bar\", \"x\": [\"https\", \"covid_19\", \"coronavirus\", \"food\", \"store\", \"grocery\", \"19\", \"covid\", \"stock\", \"people\", \"shopping\", \"supermarket\", \"online\", \"amp\", \"panic\", \"prices\", \"toilet\", \"just\", \"paper\", \"like\"], \"y\": [916, 799, 777, 742, 528, 447, 443, 433, 425, 421, 293, 287, 281, 280, 244, 230, 201, 198, 197, 197]}],                        {\"legend\": {\"bgcolor\": \"#F5F6F9\", \"font\": {\"color\": \"#4D5663\"}}, \"paper_bgcolor\": \"#F5F6F9\", \"plot_bgcolor\": \"#F5F6F9\", \"template\": {\"data\": {\"bar\": [{\"error_x\": {\"color\": \"#2a3f5f\"}, \"error_y\": {\"color\": \"#2a3f5f\"}, \"marker\": {\"line\": {\"color\": \"#E5ECF6\", \"width\": 0.5}}, \"type\": \"bar\"}], \"barpolar\": [{\"marker\": {\"line\": {\"color\": \"#E5ECF6\", \"width\": 0.5}}, \"type\": \"barpolar\"}], \"carpet\": [{\"aaxis\": {\"endlinecolor\": \"#2a3f5f\", \"gridcolor\": \"white\", \"linecolor\": \"white\", \"minorgridcolor\": \"white\", \"startlinecolor\": \"#2a3f5f\"}, \"baxis\": {\"endlinecolor\": \"#2a3f5f\", \"gridcolor\": \"white\", \"linecolor\": \"white\", \"minorgridcolor\": \"white\", \"startlinecolor\": \"#2a3f5f\"}, \"type\": \"carpet\"}], \"choropleth\": [{\"colorbar\": {\"outlinewidth\": 0, \"ticks\": \"\"}, \"type\": \"choropleth\"}], \"contour\": [{\"colorbar\": {\"outlinewidth\": 0, \"ticks\": \"\"}, \"colorscale\": [[0.0, \"#0d0887\"], [0.1111111111111111, \"#46039f\"], [0.2222222222222222, \"#7201a8\"], [0.3333333333333333, \"#9c179e\"], [0.4444444444444444, \"#bd3786\"], [0.5555555555555556, \"#d8576b\"], [0.6666666666666666, \"#ed7953\"], [0.7777777777777778, \"#fb9f3a\"], [0.8888888888888888, \"#fdca26\"], [1.0, \"#f0f921\"]], \"type\": \"contour\"}], \"contourcarpet\": [{\"colorbar\": {\"outlinewidth\": 0, \"ticks\": \"\"}, \"type\": \"contourcarpet\"}], \"heatmap\": [{\"colorbar\": {\"outlinewidth\": 0, \"ticks\": \"\"}, \"colorscale\": [[0.0, \"#0d0887\"], [0.1111111111111111, \"#46039f\"], [0.2222222222222222, \"#7201a8\"], [0.3333333333333333, \"#9c179e\"], [0.4444444444444444, \"#bd3786\"], [0.5555555555555556, \"#d8576b\"], [0.6666666666666666, \"#ed7953\"], [0.7777777777777778, \"#fb9f3a\"], [0.8888888888888888, \"#fdca26\"], [1.0, \"#f0f921\"]], \"type\": \"heatmap\"}], \"heatmapgl\": [{\"colorbar\": {\"outlinewidth\": 0, \"ticks\": \"\"}, \"colorscale\": [[0.0, \"#0d0887\"], [0.1111111111111111, \"#46039f\"], [0.2222222222222222, \"#7201a8\"], [0.3333333333333333, \"#9c179e\"], [0.4444444444444444, \"#bd3786\"], [0.5555555555555556, \"#d8576b\"], [0.6666666666666666, \"#ed7953\"], [0.7777777777777778, \"#fb9f3a\"], [0.8888888888888888, \"#fdca26\"], [1.0, \"#f0f921\"]], \"type\": \"heatmapgl\"}], \"histogram\": [{\"marker\": {\"colorbar\": {\"outlinewidth\": 0, \"ticks\": \"\"}}, \"type\": \"histogram\"}], \"histogram2d\": [{\"colorbar\": {\"outlinewidth\": 0, \"ticks\": \"\"}, \"colorscale\": [[0.0, \"#0d0887\"], [0.1111111111111111, \"#46039f\"], [0.2222222222222222, \"#7201a8\"], [0.3333333333333333, \"#9c179e\"], [0.4444444444444444, \"#bd3786\"], [0.5555555555555556, \"#d8576b\"], [0.6666666666666666, \"#ed7953\"], [0.7777777777777778, \"#fb9f3a\"], [0.8888888888888888, \"#fdca26\"], [1.0, \"#f0f921\"]], \"type\": \"histogram2d\"}], \"histogram2dcontour\": [{\"colorbar\": {\"outlinewidth\": 0, \"ticks\": \"\"}, \"colorscale\": [[0.0, \"#0d0887\"], [0.1111111111111111, \"#46039f\"], [0.2222222222222222, \"#7201a8\"], [0.3333333333333333, \"#9c179e\"], [0.4444444444444444, \"#bd3786\"], [0.5555555555555556, \"#d8576b\"], [0.6666666666666666, \"#ed7953\"], [0.7777777777777778, \"#fb9f3a\"], [0.8888888888888888, \"#fdca26\"], [1.0, \"#f0f921\"]], \"type\": \"histogram2dcontour\"}], \"mesh3d\": [{\"colorbar\": {\"outlinewidth\": 0, \"ticks\": \"\"}, \"type\": \"mesh3d\"}], \"parcoords\": [{\"line\": {\"colorbar\": {\"outlinewidth\": 0, \"ticks\": \"\"}}, \"type\": \"parcoords\"}], \"pie\": [{\"automargin\": true, \"type\": \"pie\"}], \"scatter\": [{\"marker\": {\"colorbar\": {\"outlinewidth\": 0, \"ticks\": \"\"}}, \"type\": \"scatter\"}], \"scatter3d\": [{\"line\": {\"colorbar\": {\"outlinewidth\": 0, \"ticks\": \"\"}}, \"marker\": {\"colorbar\": {\"outlinewidth\": 0, \"ticks\": \"\"}}, \"type\": \"scatter3d\"}], \"scattercarpet\": [{\"marker\": {\"colorbar\": {\"outlinewidth\": 0, \"ticks\": \"\"}}, \"type\": \"scattercarpet\"}], \"scattergeo\": [{\"marker\": {\"colorbar\": {\"outlinewidth\": 0, \"ticks\": \"\"}}, \"type\": \"scattergeo\"}], \"scattergl\": [{\"marker\": {\"colorbar\": {\"outlinewidth\": 0, \"ticks\": \"\"}}, \"type\": \"scattergl\"}], \"scattermapbox\": [{\"marker\": {\"colorbar\": {\"outlinewidth\": 0, \"ticks\": \"\"}}, \"type\": \"scattermapbox\"}], \"scatterpolar\": [{\"marker\": {\"colorbar\": {\"outlinewidth\": 0, \"ticks\": \"\"}}, \"type\": \"scatterpolar\"}], \"scatterpolargl\": [{\"marker\": {\"colorbar\": {\"outlinewidth\": 0, \"ticks\": \"\"}}, \"type\": \"scatterpolargl\"}], \"scatterternary\": [{\"marker\": {\"colorbar\": {\"outlinewidth\": 0, \"ticks\": \"\"}}, \"type\": \"scatterternary\"}], \"surface\": [{\"colorbar\": {\"outlinewidth\": 0, \"ticks\": \"\"}, \"colorscale\": [[0.0, \"#0d0887\"], [0.1111111111111111, \"#46039f\"], [0.2222222222222222, \"#7201a8\"], [0.3333333333333333, \"#9c179e\"], [0.4444444444444444, \"#bd3786\"], [0.5555555555555556, \"#d8576b\"], [0.6666666666666666, \"#ed7953\"], [0.7777777777777778, \"#fb9f3a\"], [0.8888888888888888, \"#fdca26\"], [1.0, \"#f0f921\"]], \"type\": \"surface\"}], \"table\": [{\"cells\": {\"fill\": {\"color\": \"#EBF0F8\"}, \"line\": {\"color\": \"white\"}}, \"header\": {\"fill\": {\"color\": \"#C8D4E3\"}, \"line\": {\"color\": \"white\"}}, \"type\": \"table\"}]}, \"layout\": {\"annotationdefaults\": {\"arrowcolor\": \"#2a3f5f\", \"arrowhead\": 0, \"arrowwidth\": 1}, \"autotypenumbers\": \"strict\", \"coloraxis\": {\"colorbar\": {\"outlinewidth\": 0, \"ticks\": \"\"}}, \"colorscale\": {\"diverging\": [[0, \"#8e0152\"], [0.1, \"#c51b7d\"], [0.2, \"#de77ae\"], [0.3, \"#f1b6da\"], [0.4, \"#fde0ef\"], [0.5, \"#f7f7f7\"], [0.6, \"#e6f5d0\"], [0.7, \"#b8e186\"], [0.8, \"#7fbc41\"], [0.9, \"#4d9221\"], [1, \"#276419\"]], \"sequential\": [[0.0, \"#0d0887\"], [0.1111111111111111, \"#46039f\"], [0.2222222222222222, \"#7201a8\"], [0.3333333333333333, \"#9c179e\"], [0.4444444444444444, \"#bd3786\"], [0.5555555555555556, \"#d8576b\"], [0.6666666666666666, \"#ed7953\"], [0.7777777777777778, \"#fb9f3a\"], [0.8888888888888888, \"#fdca26\"], [1.0, \"#f0f921\"]], \"sequentialminus\": [[0.0, \"#0d0887\"], [0.1111111111111111, \"#46039f\"], [0.2222222222222222, \"#7201a8\"], [0.3333333333333333, \"#9c179e\"], [0.4444444444444444, \"#bd3786\"], [0.5555555555555556, \"#d8576b\"], [0.6666666666666666, \"#ed7953\"], [0.7777777777777778, \"#fb9f3a\"], [0.8888888888888888, \"#fdca26\"], [1.0, \"#f0f921\"]]}, \"colorway\": [\"#636efa\", \"#EF553B\", \"#00cc96\", \"#ab63fa\", \"#FFA15A\", \"#19d3f3\", \"#FF6692\", \"#B6E880\", \"#FF97FF\", \"#FECB52\"], \"font\": {\"color\": \"#2a3f5f\"}, \"geo\": {\"bgcolor\": \"white\", \"lakecolor\": \"white\", \"landcolor\": \"#E5ECF6\", \"showlakes\": true, \"showland\": true, \"subunitcolor\": \"white\"}, \"hoverlabel\": {\"align\": \"left\"}, \"hovermode\": \"closest\", \"mapbox\": {\"style\": \"light\"}, \"paper_bgcolor\": \"white\", \"plot_bgcolor\": \"#E5ECF6\", \"polar\": {\"angularaxis\": {\"gridcolor\": \"white\", \"linecolor\": \"white\", \"ticks\": \"\"}, \"bgcolor\": \"#E5ECF6\", \"radialaxis\": {\"gridcolor\": \"white\", \"linecolor\": \"white\", \"ticks\": \"\"}}, \"scene\": {\"xaxis\": {\"backgroundcolor\": \"#E5ECF6\", \"gridcolor\": \"white\", \"gridwidth\": 2, \"linecolor\": \"white\", \"showbackground\": true, \"ticks\": \"\", \"zerolinecolor\": \"white\"}, \"yaxis\": {\"backgroundcolor\": \"#E5ECF6\", \"gridcolor\": \"white\", \"gridwidth\": 2, \"linecolor\": \"white\", \"showbackground\": true, \"ticks\": \"\", \"zerolinecolor\": \"white\"}, \"zaxis\": {\"backgroundcolor\": \"#E5ECF6\", \"gridcolor\": \"white\", \"gridwidth\": 2, \"linecolor\": \"white\", \"showbackground\": true, \"ticks\": \"\", \"zerolinecolor\": \"white\"}}, \"shapedefaults\": {\"line\": {\"color\": \"#2a3f5f\"}}, \"ternary\": {\"aaxis\": {\"gridcolor\": \"white\", \"linecolor\": \"white\", \"ticks\": \"\"}, \"baxis\": {\"gridcolor\": \"white\", \"linecolor\": \"white\", \"ticks\": \"\"}, \"bgcolor\": \"#E5ECF6\", \"caxis\": {\"gridcolor\": \"white\", \"linecolor\": \"white\", \"ticks\": \"\"}}, \"title\": {\"x\": 0.05}, \"xaxis\": {\"automargin\": true, \"gridcolor\": \"white\", \"linecolor\": \"white\", \"ticks\": \"\", \"title\": {\"standoff\": 15}, \"zerolinecolor\": \"white\", \"zerolinewidth\": 2}, \"yaxis\": {\"automargin\": true, \"gridcolor\": \"white\", \"linecolor\": \"white\", \"ticks\": \"\", \"title\": {\"standoff\": 15}, \"zerolinecolor\": \"white\", \"zerolinewidth\": 2}}}, \"title\": {\"font\": {\"color\": \"#4D5663\"}, \"text\": \"Distribution of Top 20 Unigrams based on Frequency\"}, \"xaxis\": {\"gridcolor\": \"#E1E5ED\", \"showgrid\": true, \"tickfont\": {\"color\": \"#4D5663\"}, \"title\": {\"font\": {\"color\": \"#4D5663\"}, \"text\": \"Unigrams\"}, \"zerolinecolor\": \"#E1E5ED\"}, \"yaxis\": {\"gridcolor\": \"#E1E5ED\", \"showgrid\": true, \"tickfont\": {\"color\": \"#4D5663\"}, \"title\": {\"font\": {\"color\": \"#4D5663\"}, \"text\": \"Count\"}, \"zerolinecolor\": \"#E1E5ED\"}},                        {\"showLink\": true, \"linkText\": \"Export to plot.ly\", \"plotlyServerURL\": \"https://plot.ly\", \"responsive\": true}                    ).then(function(){\n",
       "                            \n",
       "var gd = document.getElementById('0a4b58ff-4536-4180-b444-438d402870d5');\n",
       "var x = new MutationObserver(function (mutations, observer) {{\n",
       "        var display = window.getComputedStyle(gd).display;\n",
       "        if (!display || display === 'none') {{\n",
       "            console.log([gd, 'removed!']);\n",
       "            Plotly.purge(gd);\n",
       "            observer.disconnect();\n",
       "        }}\n",
       "}});\n",
       "\n",
       "// Listen for the removal of the full notebook cells\n",
       "var notebookContainer = gd.closest('#notebook-container');\n",
       "if (notebookContainer) {{\n",
       "    x.observe(notebookContainer, {childList: true});\n",
       "}}\n",
       "\n",
       "// Listen for the clearing of the current output cell\n",
       "var outputEl = gd.closest('.output');\n",
       "if (outputEl) {{\n",
       "    x.observe(outputEl, {childList: true});\n",
       "}}\n",
       "\n",
       "                        })                };                });            </script>        </div>"
      ]
     },
     "metadata": {},
     "output_type": "display_data"
    }
   ],
   "source": [
    "df2 = pd.DataFrame(words, columns = ['Unigram','Frequency'])\n",
    "df2 = df2.set_index('Unigram')\n",
    "df2.iplot(kind = 'bar', xTitle = 'Unigrams', yTitle = 'Count', title = 'Distribution of Top 20 Unigrams based on Frequency')"
   ]
  },
  {
   "cell_type": "code",
   "execution_count": 22,
   "metadata": {},
   "outputs": [],
   "source": [
    "words = get_top_n_words(df1['Tweet'],2,20)"
   ]
  },
  {
   "cell_type": "markdown",
   "metadata": {},
   "source": [
    "### Distribution of Top 20 Bigrams based on Frequency"
   ]
  },
  {
   "cell_type": "code",
   "execution_count": 23,
   "metadata": {},
   "outputs": [
    {
     "data": {
      "application/vnd.plotly.v1+json": {
       "config": {
        "linkText": "Export to plot.ly",
        "plotlyServerURL": "https://plot.ly",
        "showLink": true
       },
       "data": [
        {
         "marker": {
          "color": "rgba(255, 153, 51, 0.6)",
          "line": {
           "color": "rgba(255, 153, 51, 1.0)",
           "width": 1
          }
         },
         "name": "Frequency",
         "orientation": "v",
         "text": "",
         "type": "bar",
         "x": [
          "covid 19",
          "grocery store",
          "toilet paper",
          "online shopping",
          "stock food",
          "covid_19 https",
          "panic buying",
          "coronavirus https",
          "new york",
          "united states",
          "covid_19 coronavirus",
          "hand sanitizer",
          "coronavirus covid_19",
          "los angeles",
          "coronaviruspandemic covid_19",
          "stay home",
          "shopping online",
          "retail store",
          "coronavirus covid19",
          "local grocery"
         ],
         "y": [
          415,
          361,
          170,
          130,
          120,
          106,
          88,
          76,
          52,
          49,
          41,
          37,
          37,
          34,
          34,
          33,
          33,
          33,
          31,
          31
         ]
        }
       ],
       "layout": {
        "legend": {
         "bgcolor": "#F5F6F9",
         "font": {
          "color": "#4D5663"
         }
        },
        "paper_bgcolor": "#F5F6F9",
        "plot_bgcolor": "#F5F6F9",
        "template": {
         "data": {
          "bar": [
           {
            "error_x": {
             "color": "#2a3f5f"
            },
            "error_y": {
             "color": "#2a3f5f"
            },
            "marker": {
             "line": {
              "color": "#E5ECF6",
              "width": 0.5
             }
            },
            "type": "bar"
           }
          ],
          "barpolar": [
           {
            "marker": {
             "line": {
              "color": "#E5ECF6",
              "width": 0.5
             }
            },
            "type": "barpolar"
           }
          ],
          "carpet": [
           {
            "aaxis": {
             "endlinecolor": "#2a3f5f",
             "gridcolor": "white",
             "linecolor": "white",
             "minorgridcolor": "white",
             "startlinecolor": "#2a3f5f"
            },
            "baxis": {
             "endlinecolor": "#2a3f5f",
             "gridcolor": "white",
             "linecolor": "white",
             "minorgridcolor": "white",
             "startlinecolor": "#2a3f5f"
            },
            "type": "carpet"
           }
          ],
          "choropleth": [
           {
            "colorbar": {
             "outlinewidth": 0,
             "ticks": ""
            },
            "type": "choropleth"
           }
          ],
          "contour": [
           {
            "colorbar": {
             "outlinewidth": 0,
             "ticks": ""
            },
            "colorscale": [
             [
              0,
              "#0d0887"
             ],
             [
              0.1111111111111111,
              "#46039f"
             ],
             [
              0.2222222222222222,
              "#7201a8"
             ],
             [
              0.3333333333333333,
              "#9c179e"
             ],
             [
              0.4444444444444444,
              "#bd3786"
             ],
             [
              0.5555555555555556,
              "#d8576b"
             ],
             [
              0.6666666666666666,
              "#ed7953"
             ],
             [
              0.7777777777777778,
              "#fb9f3a"
             ],
             [
              0.8888888888888888,
              "#fdca26"
             ],
             [
              1,
              "#f0f921"
             ]
            ],
            "type": "contour"
           }
          ],
          "contourcarpet": [
           {
            "colorbar": {
             "outlinewidth": 0,
             "ticks": ""
            },
            "type": "contourcarpet"
           }
          ],
          "heatmap": [
           {
            "colorbar": {
             "outlinewidth": 0,
             "ticks": ""
            },
            "colorscale": [
             [
              0,
              "#0d0887"
             ],
             [
              0.1111111111111111,
              "#46039f"
             ],
             [
              0.2222222222222222,
              "#7201a8"
             ],
             [
              0.3333333333333333,
              "#9c179e"
             ],
             [
              0.4444444444444444,
              "#bd3786"
             ],
             [
              0.5555555555555556,
              "#d8576b"
             ],
             [
              0.6666666666666666,
              "#ed7953"
             ],
             [
              0.7777777777777778,
              "#fb9f3a"
             ],
             [
              0.8888888888888888,
              "#fdca26"
             ],
             [
              1,
              "#f0f921"
             ]
            ],
            "type": "heatmap"
           }
          ],
          "heatmapgl": [
           {
            "colorbar": {
             "outlinewidth": 0,
             "ticks": ""
            },
            "colorscale": [
             [
              0,
              "#0d0887"
             ],
             [
              0.1111111111111111,
              "#46039f"
             ],
             [
              0.2222222222222222,
              "#7201a8"
             ],
             [
              0.3333333333333333,
              "#9c179e"
             ],
             [
              0.4444444444444444,
              "#bd3786"
             ],
             [
              0.5555555555555556,
              "#d8576b"
             ],
             [
              0.6666666666666666,
              "#ed7953"
             ],
             [
              0.7777777777777778,
              "#fb9f3a"
             ],
             [
              0.8888888888888888,
              "#fdca26"
             ],
             [
              1,
              "#f0f921"
             ]
            ],
            "type": "heatmapgl"
           }
          ],
          "histogram": [
           {
            "marker": {
             "colorbar": {
              "outlinewidth": 0,
              "ticks": ""
             }
            },
            "type": "histogram"
           }
          ],
          "histogram2d": [
           {
            "colorbar": {
             "outlinewidth": 0,
             "ticks": ""
            },
            "colorscale": [
             [
              0,
              "#0d0887"
             ],
             [
              0.1111111111111111,
              "#46039f"
             ],
             [
              0.2222222222222222,
              "#7201a8"
             ],
             [
              0.3333333333333333,
              "#9c179e"
             ],
             [
              0.4444444444444444,
              "#bd3786"
             ],
             [
              0.5555555555555556,
              "#d8576b"
             ],
             [
              0.6666666666666666,
              "#ed7953"
             ],
             [
              0.7777777777777778,
              "#fb9f3a"
             ],
             [
              0.8888888888888888,
              "#fdca26"
             ],
             [
              1,
              "#f0f921"
             ]
            ],
            "type": "histogram2d"
           }
          ],
          "histogram2dcontour": [
           {
            "colorbar": {
             "outlinewidth": 0,
             "ticks": ""
            },
            "colorscale": [
             [
              0,
              "#0d0887"
             ],
             [
              0.1111111111111111,
              "#46039f"
             ],
             [
              0.2222222222222222,
              "#7201a8"
             ],
             [
              0.3333333333333333,
              "#9c179e"
             ],
             [
              0.4444444444444444,
              "#bd3786"
             ],
             [
              0.5555555555555556,
              "#d8576b"
             ],
             [
              0.6666666666666666,
              "#ed7953"
             ],
             [
              0.7777777777777778,
              "#fb9f3a"
             ],
             [
              0.8888888888888888,
              "#fdca26"
             ],
             [
              1,
              "#f0f921"
             ]
            ],
            "type": "histogram2dcontour"
           }
          ],
          "mesh3d": [
           {
            "colorbar": {
             "outlinewidth": 0,
             "ticks": ""
            },
            "type": "mesh3d"
           }
          ],
          "parcoords": [
           {
            "line": {
             "colorbar": {
              "outlinewidth": 0,
              "ticks": ""
             }
            },
            "type": "parcoords"
           }
          ],
          "pie": [
           {
            "automargin": true,
            "type": "pie"
           }
          ],
          "scatter": [
           {
            "marker": {
             "colorbar": {
              "outlinewidth": 0,
              "ticks": ""
             }
            },
            "type": "scatter"
           }
          ],
          "scatter3d": [
           {
            "line": {
             "colorbar": {
              "outlinewidth": 0,
              "ticks": ""
             }
            },
            "marker": {
             "colorbar": {
              "outlinewidth": 0,
              "ticks": ""
             }
            },
            "type": "scatter3d"
           }
          ],
          "scattercarpet": [
           {
            "marker": {
             "colorbar": {
              "outlinewidth": 0,
              "ticks": ""
             }
            },
            "type": "scattercarpet"
           }
          ],
          "scattergeo": [
           {
            "marker": {
             "colorbar": {
              "outlinewidth": 0,
              "ticks": ""
             }
            },
            "type": "scattergeo"
           }
          ],
          "scattergl": [
           {
            "marker": {
             "colorbar": {
              "outlinewidth": 0,
              "ticks": ""
             }
            },
            "type": "scattergl"
           }
          ],
          "scattermapbox": [
           {
            "marker": {
             "colorbar": {
              "outlinewidth": 0,
              "ticks": ""
             }
            },
            "type": "scattermapbox"
           }
          ],
          "scatterpolar": [
           {
            "marker": {
             "colorbar": {
              "outlinewidth": 0,
              "ticks": ""
             }
            },
            "type": "scatterpolar"
           }
          ],
          "scatterpolargl": [
           {
            "marker": {
             "colorbar": {
              "outlinewidth": 0,
              "ticks": ""
             }
            },
            "type": "scatterpolargl"
           }
          ],
          "scatterternary": [
           {
            "marker": {
             "colorbar": {
              "outlinewidth": 0,
              "ticks": ""
             }
            },
            "type": "scatterternary"
           }
          ],
          "surface": [
           {
            "colorbar": {
             "outlinewidth": 0,
             "ticks": ""
            },
            "colorscale": [
             [
              0,
              "#0d0887"
             ],
             [
              0.1111111111111111,
              "#46039f"
             ],
             [
              0.2222222222222222,
              "#7201a8"
             ],
             [
              0.3333333333333333,
              "#9c179e"
             ],
             [
              0.4444444444444444,
              "#bd3786"
             ],
             [
              0.5555555555555556,
              "#d8576b"
             ],
             [
              0.6666666666666666,
              "#ed7953"
             ],
             [
              0.7777777777777778,
              "#fb9f3a"
             ],
             [
              0.8888888888888888,
              "#fdca26"
             ],
             [
              1,
              "#f0f921"
             ]
            ],
            "type": "surface"
           }
          ],
          "table": [
           {
            "cells": {
             "fill": {
              "color": "#EBF0F8"
             },
             "line": {
              "color": "white"
             }
            },
            "header": {
             "fill": {
              "color": "#C8D4E3"
             },
             "line": {
              "color": "white"
             }
            },
            "type": "table"
           }
          ]
         },
         "layout": {
          "annotationdefaults": {
           "arrowcolor": "#2a3f5f",
           "arrowhead": 0,
           "arrowwidth": 1
          },
          "autotypenumbers": "strict",
          "coloraxis": {
           "colorbar": {
            "outlinewidth": 0,
            "ticks": ""
           }
          },
          "colorscale": {
           "diverging": [
            [
             0,
             "#8e0152"
            ],
            [
             0.1,
             "#c51b7d"
            ],
            [
             0.2,
             "#de77ae"
            ],
            [
             0.3,
             "#f1b6da"
            ],
            [
             0.4,
             "#fde0ef"
            ],
            [
             0.5,
             "#f7f7f7"
            ],
            [
             0.6,
             "#e6f5d0"
            ],
            [
             0.7,
             "#b8e186"
            ],
            [
             0.8,
             "#7fbc41"
            ],
            [
             0.9,
             "#4d9221"
            ],
            [
             1,
             "#276419"
            ]
           ],
           "sequential": [
            [
             0,
             "#0d0887"
            ],
            [
             0.1111111111111111,
             "#46039f"
            ],
            [
             0.2222222222222222,
             "#7201a8"
            ],
            [
             0.3333333333333333,
             "#9c179e"
            ],
            [
             0.4444444444444444,
             "#bd3786"
            ],
            [
             0.5555555555555556,
             "#d8576b"
            ],
            [
             0.6666666666666666,
             "#ed7953"
            ],
            [
             0.7777777777777778,
             "#fb9f3a"
            ],
            [
             0.8888888888888888,
             "#fdca26"
            ],
            [
             1,
             "#f0f921"
            ]
           ],
           "sequentialminus": [
            [
             0,
             "#0d0887"
            ],
            [
             0.1111111111111111,
             "#46039f"
            ],
            [
             0.2222222222222222,
             "#7201a8"
            ],
            [
             0.3333333333333333,
             "#9c179e"
            ],
            [
             0.4444444444444444,
             "#bd3786"
            ],
            [
             0.5555555555555556,
             "#d8576b"
            ],
            [
             0.6666666666666666,
             "#ed7953"
            ],
            [
             0.7777777777777778,
             "#fb9f3a"
            ],
            [
             0.8888888888888888,
             "#fdca26"
            ],
            [
             1,
             "#f0f921"
            ]
           ]
          },
          "colorway": [
           "#636efa",
           "#EF553B",
           "#00cc96",
           "#ab63fa",
           "#FFA15A",
           "#19d3f3",
           "#FF6692",
           "#B6E880",
           "#FF97FF",
           "#FECB52"
          ],
          "font": {
           "color": "#2a3f5f"
          },
          "geo": {
           "bgcolor": "white",
           "lakecolor": "white",
           "landcolor": "#E5ECF6",
           "showlakes": true,
           "showland": true,
           "subunitcolor": "white"
          },
          "hoverlabel": {
           "align": "left"
          },
          "hovermode": "closest",
          "mapbox": {
           "style": "light"
          },
          "paper_bgcolor": "white",
          "plot_bgcolor": "#E5ECF6",
          "polar": {
           "angularaxis": {
            "gridcolor": "white",
            "linecolor": "white",
            "ticks": ""
           },
           "bgcolor": "#E5ECF6",
           "radialaxis": {
            "gridcolor": "white",
            "linecolor": "white",
            "ticks": ""
           }
          },
          "scene": {
           "xaxis": {
            "backgroundcolor": "#E5ECF6",
            "gridcolor": "white",
            "gridwidth": 2,
            "linecolor": "white",
            "showbackground": true,
            "ticks": "",
            "zerolinecolor": "white"
           },
           "yaxis": {
            "backgroundcolor": "#E5ECF6",
            "gridcolor": "white",
            "gridwidth": 2,
            "linecolor": "white",
            "showbackground": true,
            "ticks": "",
            "zerolinecolor": "white"
           },
           "zaxis": {
            "backgroundcolor": "#E5ECF6",
            "gridcolor": "white",
            "gridwidth": 2,
            "linecolor": "white",
            "showbackground": true,
            "ticks": "",
            "zerolinecolor": "white"
           }
          },
          "shapedefaults": {
           "line": {
            "color": "#2a3f5f"
           }
          },
          "ternary": {
           "aaxis": {
            "gridcolor": "white",
            "linecolor": "white",
            "ticks": ""
           },
           "baxis": {
            "gridcolor": "white",
            "linecolor": "white",
            "ticks": ""
           },
           "bgcolor": "#E5ECF6",
           "caxis": {
            "gridcolor": "white",
            "linecolor": "white",
            "ticks": ""
           }
          },
          "title": {
           "x": 0.05
          },
          "xaxis": {
           "automargin": true,
           "gridcolor": "white",
           "linecolor": "white",
           "ticks": "",
           "title": {
            "standoff": 15
           },
           "zerolinecolor": "white",
           "zerolinewidth": 2
          },
          "yaxis": {
           "automargin": true,
           "gridcolor": "white",
           "linecolor": "white",
           "ticks": "",
           "title": {
            "standoff": 15
           },
           "zerolinecolor": "white",
           "zerolinewidth": 2
          }
         }
        },
        "title": {
         "font": {
          "color": "#4D5663"
         },
         "text": "Distribution of Top 20 Bigrams based on Frequency"
        },
        "xaxis": {
         "gridcolor": "#E1E5ED",
         "showgrid": true,
         "tickfont": {
          "color": "#4D5663"
         },
         "title": {
          "font": {
           "color": "#4D5663"
          },
          "text": "Bigram"
         },
         "zerolinecolor": "#E1E5ED"
        },
        "yaxis": {
         "gridcolor": "#E1E5ED",
         "showgrid": true,
         "tickfont": {
          "color": "#4D5663"
         },
         "title": {
          "font": {
           "color": "#4D5663"
          },
          "text": "Count"
         },
         "zerolinecolor": "#E1E5ED"
        }
       }
      },
      "text/html": [
       "<div>                            <div id=\"2c7f5cf7-2a9d-42db-beae-9959727ec2bb\" class=\"plotly-graph-div\" style=\"height:525px; width:100%;\"></div>            <script type=\"text/javascript\">                require([\"plotly\"], function(Plotly) {                    window.PLOTLYENV=window.PLOTLYENV || {};\n",
       "                    window.PLOTLYENV.BASE_URL='https://plot.ly';                                    if (document.getElementById(\"2c7f5cf7-2a9d-42db-beae-9959727ec2bb\")) {                    Plotly.newPlot(                        \"2c7f5cf7-2a9d-42db-beae-9959727ec2bb\",                        [{\"marker\": {\"color\": \"rgba(255, 153, 51, 0.6)\", \"line\": {\"color\": \"rgba(255, 153, 51, 1.0)\", \"width\": 1}}, \"name\": \"Frequency\", \"orientation\": \"v\", \"text\": \"\", \"type\": \"bar\", \"x\": [\"covid 19\", \"grocery store\", \"toilet paper\", \"online shopping\", \"stock food\", \"covid_19 https\", \"panic buying\", \"coronavirus https\", \"new york\", \"united states\", \"covid_19 coronavirus\", \"hand sanitizer\", \"coronavirus covid_19\", \"los angeles\", \"coronaviruspandemic covid_19\", \"stay home\", \"shopping online\", \"retail store\", \"coronavirus covid19\", \"local grocery\"], \"y\": [415, 361, 170, 130, 120, 106, 88, 76, 52, 49, 41, 37, 37, 34, 34, 33, 33, 33, 31, 31]}],                        {\"legend\": {\"bgcolor\": \"#F5F6F9\", \"font\": {\"color\": \"#4D5663\"}}, \"paper_bgcolor\": \"#F5F6F9\", \"plot_bgcolor\": \"#F5F6F9\", \"template\": {\"data\": {\"bar\": [{\"error_x\": {\"color\": \"#2a3f5f\"}, \"error_y\": {\"color\": \"#2a3f5f\"}, \"marker\": {\"line\": {\"color\": \"#E5ECF6\", \"width\": 0.5}}, \"type\": \"bar\"}], \"barpolar\": [{\"marker\": {\"line\": {\"color\": \"#E5ECF6\", \"width\": 0.5}}, \"type\": \"barpolar\"}], \"carpet\": [{\"aaxis\": {\"endlinecolor\": \"#2a3f5f\", \"gridcolor\": \"white\", \"linecolor\": \"white\", \"minorgridcolor\": \"white\", \"startlinecolor\": \"#2a3f5f\"}, \"baxis\": {\"endlinecolor\": \"#2a3f5f\", \"gridcolor\": \"white\", \"linecolor\": \"white\", \"minorgridcolor\": \"white\", \"startlinecolor\": \"#2a3f5f\"}, \"type\": \"carpet\"}], \"choropleth\": [{\"colorbar\": {\"outlinewidth\": 0, \"ticks\": \"\"}, \"type\": \"choropleth\"}], \"contour\": [{\"colorbar\": {\"outlinewidth\": 0, \"ticks\": \"\"}, \"colorscale\": [[0.0, \"#0d0887\"], [0.1111111111111111, \"#46039f\"], [0.2222222222222222, \"#7201a8\"], [0.3333333333333333, \"#9c179e\"], [0.4444444444444444, \"#bd3786\"], [0.5555555555555556, \"#d8576b\"], [0.6666666666666666, \"#ed7953\"], [0.7777777777777778, \"#fb9f3a\"], [0.8888888888888888, \"#fdca26\"], [1.0, \"#f0f921\"]], \"type\": \"contour\"}], \"contourcarpet\": [{\"colorbar\": {\"outlinewidth\": 0, \"ticks\": \"\"}, \"type\": \"contourcarpet\"}], \"heatmap\": [{\"colorbar\": {\"outlinewidth\": 0, \"ticks\": \"\"}, \"colorscale\": [[0.0, \"#0d0887\"], [0.1111111111111111, \"#46039f\"], [0.2222222222222222, \"#7201a8\"], [0.3333333333333333, \"#9c179e\"], [0.4444444444444444, \"#bd3786\"], [0.5555555555555556, \"#d8576b\"], [0.6666666666666666, \"#ed7953\"], [0.7777777777777778, \"#fb9f3a\"], [0.8888888888888888, \"#fdca26\"], [1.0, \"#f0f921\"]], \"type\": \"heatmap\"}], \"heatmapgl\": [{\"colorbar\": {\"outlinewidth\": 0, \"ticks\": \"\"}, \"colorscale\": [[0.0, \"#0d0887\"], [0.1111111111111111, \"#46039f\"], [0.2222222222222222, \"#7201a8\"], [0.3333333333333333, \"#9c179e\"], [0.4444444444444444, \"#bd3786\"], [0.5555555555555556, \"#d8576b\"], [0.6666666666666666, \"#ed7953\"], [0.7777777777777778, \"#fb9f3a\"], [0.8888888888888888, \"#fdca26\"], [1.0, \"#f0f921\"]], \"type\": \"heatmapgl\"}], \"histogram\": [{\"marker\": {\"colorbar\": {\"outlinewidth\": 0, \"ticks\": \"\"}}, \"type\": \"histogram\"}], \"histogram2d\": [{\"colorbar\": {\"outlinewidth\": 0, \"ticks\": \"\"}, \"colorscale\": [[0.0, \"#0d0887\"], [0.1111111111111111, \"#46039f\"], [0.2222222222222222, \"#7201a8\"], [0.3333333333333333, \"#9c179e\"], [0.4444444444444444, \"#bd3786\"], [0.5555555555555556, \"#d8576b\"], [0.6666666666666666, \"#ed7953\"], [0.7777777777777778, \"#fb9f3a\"], [0.8888888888888888, \"#fdca26\"], [1.0, \"#f0f921\"]], \"type\": \"histogram2d\"}], \"histogram2dcontour\": [{\"colorbar\": {\"outlinewidth\": 0, \"ticks\": \"\"}, \"colorscale\": [[0.0, \"#0d0887\"], [0.1111111111111111, \"#46039f\"], [0.2222222222222222, \"#7201a8\"], [0.3333333333333333, \"#9c179e\"], [0.4444444444444444, \"#bd3786\"], [0.5555555555555556, \"#d8576b\"], [0.6666666666666666, \"#ed7953\"], [0.7777777777777778, \"#fb9f3a\"], [0.8888888888888888, \"#fdca26\"], [1.0, \"#f0f921\"]], \"type\": \"histogram2dcontour\"}], \"mesh3d\": [{\"colorbar\": {\"outlinewidth\": 0, \"ticks\": \"\"}, \"type\": \"mesh3d\"}], \"parcoords\": [{\"line\": {\"colorbar\": {\"outlinewidth\": 0, \"ticks\": \"\"}}, \"type\": \"parcoords\"}], \"pie\": [{\"automargin\": true, \"type\": \"pie\"}], \"scatter\": [{\"marker\": {\"colorbar\": {\"outlinewidth\": 0, \"ticks\": \"\"}}, \"type\": \"scatter\"}], \"scatter3d\": [{\"line\": {\"colorbar\": {\"outlinewidth\": 0, \"ticks\": \"\"}}, \"marker\": {\"colorbar\": {\"outlinewidth\": 0, \"ticks\": \"\"}}, \"type\": \"scatter3d\"}], \"scattercarpet\": [{\"marker\": {\"colorbar\": {\"outlinewidth\": 0, \"ticks\": \"\"}}, \"type\": \"scattercarpet\"}], \"scattergeo\": [{\"marker\": {\"colorbar\": {\"outlinewidth\": 0, \"ticks\": \"\"}}, \"type\": \"scattergeo\"}], \"scattergl\": [{\"marker\": {\"colorbar\": {\"outlinewidth\": 0, \"ticks\": \"\"}}, \"type\": \"scattergl\"}], \"scattermapbox\": [{\"marker\": {\"colorbar\": {\"outlinewidth\": 0, \"ticks\": \"\"}}, \"type\": \"scattermapbox\"}], \"scatterpolar\": [{\"marker\": {\"colorbar\": {\"outlinewidth\": 0, \"ticks\": \"\"}}, \"type\": \"scatterpolar\"}], \"scatterpolargl\": [{\"marker\": {\"colorbar\": {\"outlinewidth\": 0, \"ticks\": \"\"}}, \"type\": \"scatterpolargl\"}], \"scatterternary\": [{\"marker\": {\"colorbar\": {\"outlinewidth\": 0, \"ticks\": \"\"}}, \"type\": \"scatterternary\"}], \"surface\": [{\"colorbar\": {\"outlinewidth\": 0, \"ticks\": \"\"}, \"colorscale\": [[0.0, \"#0d0887\"], [0.1111111111111111, \"#46039f\"], [0.2222222222222222, \"#7201a8\"], [0.3333333333333333, \"#9c179e\"], [0.4444444444444444, \"#bd3786\"], [0.5555555555555556, \"#d8576b\"], [0.6666666666666666, \"#ed7953\"], [0.7777777777777778, \"#fb9f3a\"], [0.8888888888888888, \"#fdca26\"], [1.0, \"#f0f921\"]], \"type\": \"surface\"}], \"table\": [{\"cells\": {\"fill\": {\"color\": \"#EBF0F8\"}, \"line\": {\"color\": \"white\"}}, \"header\": {\"fill\": {\"color\": \"#C8D4E3\"}, \"line\": {\"color\": \"white\"}}, \"type\": \"table\"}]}, \"layout\": {\"annotationdefaults\": {\"arrowcolor\": \"#2a3f5f\", \"arrowhead\": 0, \"arrowwidth\": 1}, \"autotypenumbers\": \"strict\", \"coloraxis\": {\"colorbar\": {\"outlinewidth\": 0, \"ticks\": \"\"}}, \"colorscale\": {\"diverging\": [[0, \"#8e0152\"], [0.1, \"#c51b7d\"], [0.2, \"#de77ae\"], [0.3, \"#f1b6da\"], [0.4, \"#fde0ef\"], [0.5, \"#f7f7f7\"], [0.6, \"#e6f5d0\"], [0.7, \"#b8e186\"], [0.8, \"#7fbc41\"], [0.9, \"#4d9221\"], [1, \"#276419\"]], \"sequential\": [[0.0, \"#0d0887\"], [0.1111111111111111, \"#46039f\"], [0.2222222222222222, \"#7201a8\"], [0.3333333333333333, \"#9c179e\"], [0.4444444444444444, \"#bd3786\"], [0.5555555555555556, \"#d8576b\"], [0.6666666666666666, \"#ed7953\"], [0.7777777777777778, \"#fb9f3a\"], [0.8888888888888888, \"#fdca26\"], [1.0, \"#f0f921\"]], \"sequentialminus\": [[0.0, \"#0d0887\"], [0.1111111111111111, \"#46039f\"], [0.2222222222222222, \"#7201a8\"], [0.3333333333333333, \"#9c179e\"], [0.4444444444444444, \"#bd3786\"], [0.5555555555555556, \"#d8576b\"], [0.6666666666666666, \"#ed7953\"], [0.7777777777777778, \"#fb9f3a\"], [0.8888888888888888, \"#fdca26\"], [1.0, \"#f0f921\"]]}, \"colorway\": [\"#636efa\", \"#EF553B\", \"#00cc96\", \"#ab63fa\", \"#FFA15A\", \"#19d3f3\", \"#FF6692\", \"#B6E880\", \"#FF97FF\", \"#FECB52\"], \"font\": {\"color\": \"#2a3f5f\"}, \"geo\": {\"bgcolor\": \"white\", \"lakecolor\": \"white\", \"landcolor\": \"#E5ECF6\", \"showlakes\": true, \"showland\": true, \"subunitcolor\": \"white\"}, \"hoverlabel\": {\"align\": \"left\"}, \"hovermode\": \"closest\", \"mapbox\": {\"style\": \"light\"}, \"paper_bgcolor\": \"white\", \"plot_bgcolor\": \"#E5ECF6\", \"polar\": {\"angularaxis\": {\"gridcolor\": \"white\", \"linecolor\": \"white\", \"ticks\": \"\"}, \"bgcolor\": \"#E5ECF6\", \"radialaxis\": {\"gridcolor\": \"white\", \"linecolor\": \"white\", \"ticks\": \"\"}}, \"scene\": {\"xaxis\": {\"backgroundcolor\": \"#E5ECF6\", \"gridcolor\": \"white\", \"gridwidth\": 2, \"linecolor\": \"white\", \"showbackground\": true, \"ticks\": \"\", \"zerolinecolor\": \"white\"}, \"yaxis\": {\"backgroundcolor\": \"#E5ECF6\", \"gridcolor\": \"white\", \"gridwidth\": 2, \"linecolor\": \"white\", \"showbackground\": true, \"ticks\": \"\", \"zerolinecolor\": \"white\"}, \"zaxis\": {\"backgroundcolor\": \"#E5ECF6\", \"gridcolor\": \"white\", \"gridwidth\": 2, \"linecolor\": \"white\", \"showbackground\": true, \"ticks\": \"\", \"zerolinecolor\": \"white\"}}, \"shapedefaults\": {\"line\": {\"color\": \"#2a3f5f\"}}, \"ternary\": {\"aaxis\": {\"gridcolor\": \"white\", \"linecolor\": \"white\", \"ticks\": \"\"}, \"baxis\": {\"gridcolor\": \"white\", \"linecolor\": \"white\", \"ticks\": \"\"}, \"bgcolor\": \"#E5ECF6\", \"caxis\": {\"gridcolor\": \"white\", \"linecolor\": \"white\", \"ticks\": \"\"}}, \"title\": {\"x\": 0.05}, \"xaxis\": {\"automargin\": true, \"gridcolor\": \"white\", \"linecolor\": \"white\", \"ticks\": \"\", \"title\": {\"standoff\": 15}, \"zerolinecolor\": \"white\", \"zerolinewidth\": 2}, \"yaxis\": {\"automargin\": true, \"gridcolor\": \"white\", \"linecolor\": \"white\", \"ticks\": \"\", \"title\": {\"standoff\": 15}, \"zerolinecolor\": \"white\", \"zerolinewidth\": 2}}}, \"title\": {\"font\": {\"color\": \"#4D5663\"}, \"text\": \"Distribution of Top 20 Bigrams based on Frequency\"}, \"xaxis\": {\"gridcolor\": \"#E1E5ED\", \"showgrid\": true, \"tickfont\": {\"color\": \"#4D5663\"}, \"title\": {\"font\": {\"color\": \"#4D5663\"}, \"text\": \"Bigram\"}, \"zerolinecolor\": \"#E1E5ED\"}, \"yaxis\": {\"gridcolor\": \"#E1E5ED\", \"showgrid\": true, \"tickfont\": {\"color\": \"#4D5663\"}, \"title\": {\"font\": {\"color\": \"#4D5663\"}, \"text\": \"Count\"}, \"zerolinecolor\": \"#E1E5ED\"}},                        {\"showLink\": true, \"linkText\": \"Export to plot.ly\", \"plotlyServerURL\": \"https://plot.ly\", \"responsive\": true}                    ).then(function(){\n",
       "                            \n",
       "var gd = document.getElementById('2c7f5cf7-2a9d-42db-beae-9959727ec2bb');\n",
       "var x = new MutationObserver(function (mutations, observer) {{\n",
       "        var display = window.getComputedStyle(gd).display;\n",
       "        if (!display || display === 'none') {{\n",
       "            console.log([gd, 'removed!']);\n",
       "            Plotly.purge(gd);\n",
       "            observer.disconnect();\n",
       "        }}\n",
       "}});\n",
       "\n",
       "// Listen for the removal of the full notebook cells\n",
       "var notebookContainer = gd.closest('#notebook-container');\n",
       "if (notebookContainer) {{\n",
       "    x.observe(notebookContainer, {childList: true});\n",
       "}}\n",
       "\n",
       "// Listen for the clearing of the current output cell\n",
       "var outputEl = gd.closest('.output');\n",
       "if (outputEl) {{\n",
       "    x.observe(outputEl, {childList: true});\n",
       "}}\n",
       "\n",
       "                        })                };                });            </script>        </div>"
      ]
     },
     "metadata": {},
     "output_type": "display_data"
    }
   ],
   "source": [
    "df2 = pd.DataFrame(words, columns = ['Bigram','Frequency'])\n",
    "df2 = df2.set_index('Bigram')\n",
    "df2.iplot(kind = 'bar', xTitle = 'Bigram', yTitle = 'Count', title = 'Distribution of Top 20 Bigrams based on Frequency')"
   ]
  },
  {
   "cell_type": "code",
   "execution_count": 24,
   "metadata": {},
   "outputs": [],
   "source": [
    "words = get_top_n_words(df1['Tweet'],3,20)"
   ]
  },
  {
   "cell_type": "markdown",
   "metadata": {},
   "source": [
    "### Distribution of Top 20 Trigrams based on Frequency"
   ]
  },
  {
   "cell_type": "code",
   "execution_count": 25,
   "metadata": {},
   "outputs": [
    {
     "data": {
      "application/vnd.plotly.v1+json": {
       "config": {
        "linkText": "Export to plot.ly",
        "plotlyServerURL": "https://plot.ly",
        "showLink": true
       },
       "data": [
        {
         "marker": {
          "color": "rgba(255, 153, 51, 0.6)",
          "line": {
           "color": "rgba(255, 153, 51, 1.0)",
           "width": 1
          }
         },
         "name": "Frequency",
         "orientation": "v",
         "text": "",
         "type": "bar",
         "x": [
          "local grocery store",
          "new york ny",
          "covid 19 https",
          "covid 19 coronavirus",
          "went grocery store",
          "coronavirus covid 19",
          "los angeles ca",
          "paid sick leave",
          "covid 19 pandemic",
          "grocery store today",
          "covid 19 outbreak",
          "store toilet paper",
          "online grocery shopping",
          "grocery store covid_19",
          "stock food amp",
          "going grocery store",
          "food covid 19",
          "people panic buying",
          "local food bank",
          "grocery store toilet"
         ],
         "y": [
          30,
          22,
          22,
          20,
          20,
          19,
          18,
          17,
          15,
          14,
          13,
          12,
          12,
          12,
          11,
          11,
          11,
          11,
          11,
          10
         ]
        }
       ],
       "layout": {
        "legend": {
         "bgcolor": "#F5F6F9",
         "font": {
          "color": "#4D5663"
         }
        },
        "paper_bgcolor": "#F5F6F9",
        "plot_bgcolor": "#F5F6F9",
        "template": {
         "data": {
          "bar": [
           {
            "error_x": {
             "color": "#2a3f5f"
            },
            "error_y": {
             "color": "#2a3f5f"
            },
            "marker": {
             "line": {
              "color": "#E5ECF6",
              "width": 0.5
             }
            },
            "type": "bar"
           }
          ],
          "barpolar": [
           {
            "marker": {
             "line": {
              "color": "#E5ECF6",
              "width": 0.5
             }
            },
            "type": "barpolar"
           }
          ],
          "carpet": [
           {
            "aaxis": {
             "endlinecolor": "#2a3f5f",
             "gridcolor": "white",
             "linecolor": "white",
             "minorgridcolor": "white",
             "startlinecolor": "#2a3f5f"
            },
            "baxis": {
             "endlinecolor": "#2a3f5f",
             "gridcolor": "white",
             "linecolor": "white",
             "minorgridcolor": "white",
             "startlinecolor": "#2a3f5f"
            },
            "type": "carpet"
           }
          ],
          "choropleth": [
           {
            "colorbar": {
             "outlinewidth": 0,
             "ticks": ""
            },
            "type": "choropleth"
           }
          ],
          "contour": [
           {
            "colorbar": {
             "outlinewidth": 0,
             "ticks": ""
            },
            "colorscale": [
             [
              0,
              "#0d0887"
             ],
             [
              0.1111111111111111,
              "#46039f"
             ],
             [
              0.2222222222222222,
              "#7201a8"
             ],
             [
              0.3333333333333333,
              "#9c179e"
             ],
             [
              0.4444444444444444,
              "#bd3786"
             ],
             [
              0.5555555555555556,
              "#d8576b"
             ],
             [
              0.6666666666666666,
              "#ed7953"
             ],
             [
              0.7777777777777778,
              "#fb9f3a"
             ],
             [
              0.8888888888888888,
              "#fdca26"
             ],
             [
              1,
              "#f0f921"
             ]
            ],
            "type": "contour"
           }
          ],
          "contourcarpet": [
           {
            "colorbar": {
             "outlinewidth": 0,
             "ticks": ""
            },
            "type": "contourcarpet"
           }
          ],
          "heatmap": [
           {
            "colorbar": {
             "outlinewidth": 0,
             "ticks": ""
            },
            "colorscale": [
             [
              0,
              "#0d0887"
             ],
             [
              0.1111111111111111,
              "#46039f"
             ],
             [
              0.2222222222222222,
              "#7201a8"
             ],
             [
              0.3333333333333333,
              "#9c179e"
             ],
             [
              0.4444444444444444,
              "#bd3786"
             ],
             [
              0.5555555555555556,
              "#d8576b"
             ],
             [
              0.6666666666666666,
              "#ed7953"
             ],
             [
              0.7777777777777778,
              "#fb9f3a"
             ],
             [
              0.8888888888888888,
              "#fdca26"
             ],
             [
              1,
              "#f0f921"
             ]
            ],
            "type": "heatmap"
           }
          ],
          "heatmapgl": [
           {
            "colorbar": {
             "outlinewidth": 0,
             "ticks": ""
            },
            "colorscale": [
             [
              0,
              "#0d0887"
             ],
             [
              0.1111111111111111,
              "#46039f"
             ],
             [
              0.2222222222222222,
              "#7201a8"
             ],
             [
              0.3333333333333333,
              "#9c179e"
             ],
             [
              0.4444444444444444,
              "#bd3786"
             ],
             [
              0.5555555555555556,
              "#d8576b"
             ],
             [
              0.6666666666666666,
              "#ed7953"
             ],
             [
              0.7777777777777778,
              "#fb9f3a"
             ],
             [
              0.8888888888888888,
              "#fdca26"
             ],
             [
              1,
              "#f0f921"
             ]
            ],
            "type": "heatmapgl"
           }
          ],
          "histogram": [
           {
            "marker": {
             "colorbar": {
              "outlinewidth": 0,
              "ticks": ""
             }
            },
            "type": "histogram"
           }
          ],
          "histogram2d": [
           {
            "colorbar": {
             "outlinewidth": 0,
             "ticks": ""
            },
            "colorscale": [
             [
              0,
              "#0d0887"
             ],
             [
              0.1111111111111111,
              "#46039f"
             ],
             [
              0.2222222222222222,
              "#7201a8"
             ],
             [
              0.3333333333333333,
              "#9c179e"
             ],
             [
              0.4444444444444444,
              "#bd3786"
             ],
             [
              0.5555555555555556,
              "#d8576b"
             ],
             [
              0.6666666666666666,
              "#ed7953"
             ],
             [
              0.7777777777777778,
              "#fb9f3a"
             ],
             [
              0.8888888888888888,
              "#fdca26"
             ],
             [
              1,
              "#f0f921"
             ]
            ],
            "type": "histogram2d"
           }
          ],
          "histogram2dcontour": [
           {
            "colorbar": {
             "outlinewidth": 0,
             "ticks": ""
            },
            "colorscale": [
             [
              0,
              "#0d0887"
             ],
             [
              0.1111111111111111,
              "#46039f"
             ],
             [
              0.2222222222222222,
              "#7201a8"
             ],
             [
              0.3333333333333333,
              "#9c179e"
             ],
             [
              0.4444444444444444,
              "#bd3786"
             ],
             [
              0.5555555555555556,
              "#d8576b"
             ],
             [
              0.6666666666666666,
              "#ed7953"
             ],
             [
              0.7777777777777778,
              "#fb9f3a"
             ],
             [
              0.8888888888888888,
              "#fdca26"
             ],
             [
              1,
              "#f0f921"
             ]
            ],
            "type": "histogram2dcontour"
           }
          ],
          "mesh3d": [
           {
            "colorbar": {
             "outlinewidth": 0,
             "ticks": ""
            },
            "type": "mesh3d"
           }
          ],
          "parcoords": [
           {
            "line": {
             "colorbar": {
              "outlinewidth": 0,
              "ticks": ""
             }
            },
            "type": "parcoords"
           }
          ],
          "pie": [
           {
            "automargin": true,
            "type": "pie"
           }
          ],
          "scatter": [
           {
            "marker": {
             "colorbar": {
              "outlinewidth": 0,
              "ticks": ""
             }
            },
            "type": "scatter"
           }
          ],
          "scatter3d": [
           {
            "line": {
             "colorbar": {
              "outlinewidth": 0,
              "ticks": ""
             }
            },
            "marker": {
             "colorbar": {
              "outlinewidth": 0,
              "ticks": ""
             }
            },
            "type": "scatter3d"
           }
          ],
          "scattercarpet": [
           {
            "marker": {
             "colorbar": {
              "outlinewidth": 0,
              "ticks": ""
             }
            },
            "type": "scattercarpet"
           }
          ],
          "scattergeo": [
           {
            "marker": {
             "colorbar": {
              "outlinewidth": 0,
              "ticks": ""
             }
            },
            "type": "scattergeo"
           }
          ],
          "scattergl": [
           {
            "marker": {
             "colorbar": {
              "outlinewidth": 0,
              "ticks": ""
             }
            },
            "type": "scattergl"
           }
          ],
          "scattermapbox": [
           {
            "marker": {
             "colorbar": {
              "outlinewidth": 0,
              "ticks": ""
             }
            },
            "type": "scattermapbox"
           }
          ],
          "scatterpolar": [
           {
            "marker": {
             "colorbar": {
              "outlinewidth": 0,
              "ticks": ""
             }
            },
            "type": "scatterpolar"
           }
          ],
          "scatterpolargl": [
           {
            "marker": {
             "colorbar": {
              "outlinewidth": 0,
              "ticks": ""
             }
            },
            "type": "scatterpolargl"
           }
          ],
          "scatterternary": [
           {
            "marker": {
             "colorbar": {
              "outlinewidth": 0,
              "ticks": ""
             }
            },
            "type": "scatterternary"
           }
          ],
          "surface": [
           {
            "colorbar": {
             "outlinewidth": 0,
             "ticks": ""
            },
            "colorscale": [
             [
              0,
              "#0d0887"
             ],
             [
              0.1111111111111111,
              "#46039f"
             ],
             [
              0.2222222222222222,
              "#7201a8"
             ],
             [
              0.3333333333333333,
              "#9c179e"
             ],
             [
              0.4444444444444444,
              "#bd3786"
             ],
             [
              0.5555555555555556,
              "#d8576b"
             ],
             [
              0.6666666666666666,
              "#ed7953"
             ],
             [
              0.7777777777777778,
              "#fb9f3a"
             ],
             [
              0.8888888888888888,
              "#fdca26"
             ],
             [
              1,
              "#f0f921"
             ]
            ],
            "type": "surface"
           }
          ],
          "table": [
           {
            "cells": {
             "fill": {
              "color": "#EBF0F8"
             },
             "line": {
              "color": "white"
             }
            },
            "header": {
             "fill": {
              "color": "#C8D4E3"
             },
             "line": {
              "color": "white"
             }
            },
            "type": "table"
           }
          ]
         },
         "layout": {
          "annotationdefaults": {
           "arrowcolor": "#2a3f5f",
           "arrowhead": 0,
           "arrowwidth": 1
          },
          "autotypenumbers": "strict",
          "coloraxis": {
           "colorbar": {
            "outlinewidth": 0,
            "ticks": ""
           }
          },
          "colorscale": {
           "diverging": [
            [
             0,
             "#8e0152"
            ],
            [
             0.1,
             "#c51b7d"
            ],
            [
             0.2,
             "#de77ae"
            ],
            [
             0.3,
             "#f1b6da"
            ],
            [
             0.4,
             "#fde0ef"
            ],
            [
             0.5,
             "#f7f7f7"
            ],
            [
             0.6,
             "#e6f5d0"
            ],
            [
             0.7,
             "#b8e186"
            ],
            [
             0.8,
             "#7fbc41"
            ],
            [
             0.9,
             "#4d9221"
            ],
            [
             1,
             "#276419"
            ]
           ],
           "sequential": [
            [
             0,
             "#0d0887"
            ],
            [
             0.1111111111111111,
             "#46039f"
            ],
            [
             0.2222222222222222,
             "#7201a8"
            ],
            [
             0.3333333333333333,
             "#9c179e"
            ],
            [
             0.4444444444444444,
             "#bd3786"
            ],
            [
             0.5555555555555556,
             "#d8576b"
            ],
            [
             0.6666666666666666,
             "#ed7953"
            ],
            [
             0.7777777777777778,
             "#fb9f3a"
            ],
            [
             0.8888888888888888,
             "#fdca26"
            ],
            [
             1,
             "#f0f921"
            ]
           ],
           "sequentialminus": [
            [
             0,
             "#0d0887"
            ],
            [
             0.1111111111111111,
             "#46039f"
            ],
            [
             0.2222222222222222,
             "#7201a8"
            ],
            [
             0.3333333333333333,
             "#9c179e"
            ],
            [
             0.4444444444444444,
             "#bd3786"
            ],
            [
             0.5555555555555556,
             "#d8576b"
            ],
            [
             0.6666666666666666,
             "#ed7953"
            ],
            [
             0.7777777777777778,
             "#fb9f3a"
            ],
            [
             0.8888888888888888,
             "#fdca26"
            ],
            [
             1,
             "#f0f921"
            ]
           ]
          },
          "colorway": [
           "#636efa",
           "#EF553B",
           "#00cc96",
           "#ab63fa",
           "#FFA15A",
           "#19d3f3",
           "#FF6692",
           "#B6E880",
           "#FF97FF",
           "#FECB52"
          ],
          "font": {
           "color": "#2a3f5f"
          },
          "geo": {
           "bgcolor": "white",
           "lakecolor": "white",
           "landcolor": "#E5ECF6",
           "showlakes": true,
           "showland": true,
           "subunitcolor": "white"
          },
          "hoverlabel": {
           "align": "left"
          },
          "hovermode": "closest",
          "mapbox": {
           "style": "light"
          },
          "paper_bgcolor": "white",
          "plot_bgcolor": "#E5ECF6",
          "polar": {
           "angularaxis": {
            "gridcolor": "white",
            "linecolor": "white",
            "ticks": ""
           },
           "bgcolor": "#E5ECF6",
           "radialaxis": {
            "gridcolor": "white",
            "linecolor": "white",
            "ticks": ""
           }
          },
          "scene": {
           "xaxis": {
            "backgroundcolor": "#E5ECF6",
            "gridcolor": "white",
            "gridwidth": 2,
            "linecolor": "white",
            "showbackground": true,
            "ticks": "",
            "zerolinecolor": "white"
           },
           "yaxis": {
            "backgroundcolor": "#E5ECF6",
            "gridcolor": "white",
            "gridwidth": 2,
            "linecolor": "white",
            "showbackground": true,
            "ticks": "",
            "zerolinecolor": "white"
           },
           "zaxis": {
            "backgroundcolor": "#E5ECF6",
            "gridcolor": "white",
            "gridwidth": 2,
            "linecolor": "white",
            "showbackground": true,
            "ticks": "",
            "zerolinecolor": "white"
           }
          },
          "shapedefaults": {
           "line": {
            "color": "#2a3f5f"
           }
          },
          "ternary": {
           "aaxis": {
            "gridcolor": "white",
            "linecolor": "white",
            "ticks": ""
           },
           "baxis": {
            "gridcolor": "white",
            "linecolor": "white",
            "ticks": ""
           },
           "bgcolor": "#E5ECF6",
           "caxis": {
            "gridcolor": "white",
            "linecolor": "white",
            "ticks": ""
           }
          },
          "title": {
           "x": 0.05
          },
          "xaxis": {
           "automargin": true,
           "gridcolor": "white",
           "linecolor": "white",
           "ticks": "",
           "title": {
            "standoff": 15
           },
           "zerolinecolor": "white",
           "zerolinewidth": 2
          },
          "yaxis": {
           "automargin": true,
           "gridcolor": "white",
           "linecolor": "white",
           "ticks": "",
           "title": {
            "standoff": 15
           },
           "zerolinecolor": "white",
           "zerolinewidth": 2
          }
         }
        },
        "title": {
         "font": {
          "color": "#4D5663"
         },
         "text": "Distribution of Top 20 Trigrams based on Frequency"
        },
        "xaxis": {
         "gridcolor": "#E1E5ED",
         "showgrid": true,
         "tickfont": {
          "color": "#4D5663"
         },
         "title": {
          "font": {
           "color": "#4D5663"
          },
          "text": "Trigrams"
         },
         "zerolinecolor": "#E1E5ED"
        },
        "yaxis": {
         "gridcolor": "#E1E5ED",
         "showgrid": true,
         "tickfont": {
          "color": "#4D5663"
         },
         "title": {
          "font": {
           "color": "#4D5663"
          },
          "text": "Count"
         },
         "zerolinecolor": "#E1E5ED"
        }
       }
      },
      "text/html": [
       "<div>                            <div id=\"62b9fd05-1f98-4970-8dc7-326b9fc10f03\" class=\"plotly-graph-div\" style=\"height:525px; width:100%;\"></div>            <script type=\"text/javascript\">                require([\"plotly\"], function(Plotly) {                    window.PLOTLYENV=window.PLOTLYENV || {};\n",
       "                    window.PLOTLYENV.BASE_URL='https://plot.ly';                                    if (document.getElementById(\"62b9fd05-1f98-4970-8dc7-326b9fc10f03\")) {                    Plotly.newPlot(                        \"62b9fd05-1f98-4970-8dc7-326b9fc10f03\",                        [{\"marker\": {\"color\": \"rgba(255, 153, 51, 0.6)\", \"line\": {\"color\": \"rgba(255, 153, 51, 1.0)\", \"width\": 1}}, \"name\": \"Frequency\", \"orientation\": \"v\", \"text\": \"\", \"type\": \"bar\", \"x\": [\"local grocery store\", \"new york ny\", \"covid 19 https\", \"covid 19 coronavirus\", \"went grocery store\", \"coronavirus covid 19\", \"los angeles ca\", \"paid sick leave\", \"covid 19 pandemic\", \"grocery store today\", \"covid 19 outbreak\", \"store toilet paper\", \"online grocery shopping\", \"grocery store covid_19\", \"stock food amp\", \"going grocery store\", \"food covid 19\", \"people panic buying\", \"local food bank\", \"grocery store toilet\"], \"y\": [30, 22, 22, 20, 20, 19, 18, 17, 15, 14, 13, 12, 12, 12, 11, 11, 11, 11, 11, 10]}],                        {\"legend\": {\"bgcolor\": \"#F5F6F9\", \"font\": {\"color\": \"#4D5663\"}}, \"paper_bgcolor\": \"#F5F6F9\", \"plot_bgcolor\": \"#F5F6F9\", \"template\": {\"data\": {\"bar\": [{\"error_x\": {\"color\": \"#2a3f5f\"}, \"error_y\": {\"color\": \"#2a3f5f\"}, \"marker\": {\"line\": {\"color\": \"#E5ECF6\", \"width\": 0.5}}, \"type\": \"bar\"}], \"barpolar\": [{\"marker\": {\"line\": {\"color\": \"#E5ECF6\", \"width\": 0.5}}, \"type\": \"barpolar\"}], \"carpet\": [{\"aaxis\": {\"endlinecolor\": \"#2a3f5f\", \"gridcolor\": \"white\", \"linecolor\": \"white\", \"minorgridcolor\": \"white\", \"startlinecolor\": \"#2a3f5f\"}, \"baxis\": {\"endlinecolor\": \"#2a3f5f\", \"gridcolor\": \"white\", \"linecolor\": \"white\", \"minorgridcolor\": \"white\", \"startlinecolor\": \"#2a3f5f\"}, \"type\": \"carpet\"}], \"choropleth\": [{\"colorbar\": {\"outlinewidth\": 0, \"ticks\": \"\"}, \"type\": \"choropleth\"}], \"contour\": [{\"colorbar\": {\"outlinewidth\": 0, \"ticks\": \"\"}, \"colorscale\": [[0.0, \"#0d0887\"], [0.1111111111111111, \"#46039f\"], [0.2222222222222222, \"#7201a8\"], [0.3333333333333333, \"#9c179e\"], [0.4444444444444444, \"#bd3786\"], [0.5555555555555556, \"#d8576b\"], [0.6666666666666666, \"#ed7953\"], [0.7777777777777778, \"#fb9f3a\"], [0.8888888888888888, \"#fdca26\"], [1.0, \"#f0f921\"]], \"type\": \"contour\"}], \"contourcarpet\": [{\"colorbar\": {\"outlinewidth\": 0, \"ticks\": \"\"}, \"type\": \"contourcarpet\"}], \"heatmap\": [{\"colorbar\": {\"outlinewidth\": 0, \"ticks\": \"\"}, \"colorscale\": [[0.0, \"#0d0887\"], [0.1111111111111111, \"#46039f\"], [0.2222222222222222, \"#7201a8\"], [0.3333333333333333, \"#9c179e\"], [0.4444444444444444, \"#bd3786\"], [0.5555555555555556, \"#d8576b\"], [0.6666666666666666, \"#ed7953\"], [0.7777777777777778, \"#fb9f3a\"], [0.8888888888888888, \"#fdca26\"], [1.0, \"#f0f921\"]], \"type\": \"heatmap\"}], \"heatmapgl\": [{\"colorbar\": {\"outlinewidth\": 0, \"ticks\": \"\"}, \"colorscale\": [[0.0, \"#0d0887\"], [0.1111111111111111, \"#46039f\"], [0.2222222222222222, \"#7201a8\"], [0.3333333333333333, \"#9c179e\"], [0.4444444444444444, \"#bd3786\"], [0.5555555555555556, \"#d8576b\"], [0.6666666666666666, \"#ed7953\"], [0.7777777777777778, \"#fb9f3a\"], [0.8888888888888888, \"#fdca26\"], [1.0, \"#f0f921\"]], \"type\": \"heatmapgl\"}], \"histogram\": [{\"marker\": {\"colorbar\": {\"outlinewidth\": 0, \"ticks\": \"\"}}, \"type\": \"histogram\"}], \"histogram2d\": [{\"colorbar\": {\"outlinewidth\": 0, \"ticks\": \"\"}, \"colorscale\": [[0.0, \"#0d0887\"], [0.1111111111111111, \"#46039f\"], [0.2222222222222222, \"#7201a8\"], [0.3333333333333333, \"#9c179e\"], [0.4444444444444444, \"#bd3786\"], [0.5555555555555556, \"#d8576b\"], [0.6666666666666666, \"#ed7953\"], [0.7777777777777778, \"#fb9f3a\"], [0.8888888888888888, \"#fdca26\"], [1.0, \"#f0f921\"]], \"type\": \"histogram2d\"}], \"histogram2dcontour\": [{\"colorbar\": {\"outlinewidth\": 0, \"ticks\": \"\"}, \"colorscale\": [[0.0, \"#0d0887\"], [0.1111111111111111, \"#46039f\"], [0.2222222222222222, \"#7201a8\"], [0.3333333333333333, \"#9c179e\"], [0.4444444444444444, \"#bd3786\"], [0.5555555555555556, \"#d8576b\"], [0.6666666666666666, \"#ed7953\"], [0.7777777777777778, \"#fb9f3a\"], [0.8888888888888888, \"#fdca26\"], [1.0, \"#f0f921\"]], \"type\": \"histogram2dcontour\"}], \"mesh3d\": [{\"colorbar\": {\"outlinewidth\": 0, \"ticks\": \"\"}, \"type\": \"mesh3d\"}], \"parcoords\": [{\"line\": {\"colorbar\": {\"outlinewidth\": 0, \"ticks\": \"\"}}, \"type\": \"parcoords\"}], \"pie\": [{\"automargin\": true, \"type\": \"pie\"}], \"scatter\": [{\"marker\": {\"colorbar\": {\"outlinewidth\": 0, \"ticks\": \"\"}}, \"type\": \"scatter\"}], \"scatter3d\": [{\"line\": {\"colorbar\": {\"outlinewidth\": 0, \"ticks\": \"\"}}, \"marker\": {\"colorbar\": {\"outlinewidth\": 0, \"ticks\": \"\"}}, \"type\": \"scatter3d\"}], \"scattercarpet\": [{\"marker\": {\"colorbar\": {\"outlinewidth\": 0, \"ticks\": \"\"}}, \"type\": \"scattercarpet\"}], \"scattergeo\": [{\"marker\": {\"colorbar\": {\"outlinewidth\": 0, \"ticks\": \"\"}}, \"type\": \"scattergeo\"}], \"scattergl\": [{\"marker\": {\"colorbar\": {\"outlinewidth\": 0, \"ticks\": \"\"}}, \"type\": \"scattergl\"}], \"scattermapbox\": [{\"marker\": {\"colorbar\": {\"outlinewidth\": 0, \"ticks\": \"\"}}, \"type\": \"scattermapbox\"}], \"scatterpolar\": [{\"marker\": {\"colorbar\": {\"outlinewidth\": 0, \"ticks\": \"\"}}, \"type\": \"scatterpolar\"}], \"scatterpolargl\": [{\"marker\": {\"colorbar\": {\"outlinewidth\": 0, \"ticks\": \"\"}}, \"type\": \"scatterpolargl\"}], \"scatterternary\": [{\"marker\": {\"colorbar\": {\"outlinewidth\": 0, \"ticks\": \"\"}}, \"type\": \"scatterternary\"}], \"surface\": [{\"colorbar\": {\"outlinewidth\": 0, \"ticks\": \"\"}, \"colorscale\": [[0.0, \"#0d0887\"], [0.1111111111111111, \"#46039f\"], [0.2222222222222222, \"#7201a8\"], [0.3333333333333333, \"#9c179e\"], [0.4444444444444444, \"#bd3786\"], [0.5555555555555556, \"#d8576b\"], [0.6666666666666666, \"#ed7953\"], [0.7777777777777778, \"#fb9f3a\"], [0.8888888888888888, \"#fdca26\"], [1.0, \"#f0f921\"]], \"type\": \"surface\"}], \"table\": [{\"cells\": {\"fill\": {\"color\": \"#EBF0F8\"}, \"line\": {\"color\": \"white\"}}, \"header\": {\"fill\": {\"color\": \"#C8D4E3\"}, \"line\": {\"color\": \"white\"}}, \"type\": \"table\"}]}, \"layout\": {\"annotationdefaults\": {\"arrowcolor\": \"#2a3f5f\", \"arrowhead\": 0, \"arrowwidth\": 1}, \"autotypenumbers\": \"strict\", \"coloraxis\": {\"colorbar\": {\"outlinewidth\": 0, \"ticks\": \"\"}}, \"colorscale\": {\"diverging\": [[0, \"#8e0152\"], [0.1, \"#c51b7d\"], [0.2, \"#de77ae\"], [0.3, \"#f1b6da\"], [0.4, \"#fde0ef\"], [0.5, \"#f7f7f7\"], [0.6, \"#e6f5d0\"], [0.7, \"#b8e186\"], [0.8, \"#7fbc41\"], [0.9, \"#4d9221\"], [1, \"#276419\"]], \"sequential\": [[0.0, \"#0d0887\"], [0.1111111111111111, \"#46039f\"], [0.2222222222222222, \"#7201a8\"], [0.3333333333333333, \"#9c179e\"], [0.4444444444444444, \"#bd3786\"], [0.5555555555555556, \"#d8576b\"], [0.6666666666666666, \"#ed7953\"], [0.7777777777777778, \"#fb9f3a\"], [0.8888888888888888, \"#fdca26\"], [1.0, \"#f0f921\"]], \"sequentialminus\": [[0.0, \"#0d0887\"], [0.1111111111111111, \"#46039f\"], [0.2222222222222222, \"#7201a8\"], [0.3333333333333333, \"#9c179e\"], [0.4444444444444444, \"#bd3786\"], [0.5555555555555556, \"#d8576b\"], [0.6666666666666666, \"#ed7953\"], [0.7777777777777778, \"#fb9f3a\"], [0.8888888888888888, \"#fdca26\"], [1.0, \"#f0f921\"]]}, \"colorway\": [\"#636efa\", \"#EF553B\", \"#00cc96\", \"#ab63fa\", \"#FFA15A\", \"#19d3f3\", \"#FF6692\", \"#B6E880\", \"#FF97FF\", \"#FECB52\"], \"font\": {\"color\": \"#2a3f5f\"}, \"geo\": {\"bgcolor\": \"white\", \"lakecolor\": \"white\", \"landcolor\": \"#E5ECF6\", \"showlakes\": true, \"showland\": true, \"subunitcolor\": \"white\"}, \"hoverlabel\": {\"align\": \"left\"}, \"hovermode\": \"closest\", \"mapbox\": {\"style\": \"light\"}, \"paper_bgcolor\": \"white\", \"plot_bgcolor\": \"#E5ECF6\", \"polar\": {\"angularaxis\": {\"gridcolor\": \"white\", \"linecolor\": \"white\", \"ticks\": \"\"}, \"bgcolor\": \"#E5ECF6\", \"radialaxis\": {\"gridcolor\": \"white\", \"linecolor\": \"white\", \"ticks\": \"\"}}, \"scene\": {\"xaxis\": {\"backgroundcolor\": \"#E5ECF6\", \"gridcolor\": \"white\", \"gridwidth\": 2, \"linecolor\": \"white\", \"showbackground\": true, \"ticks\": \"\", \"zerolinecolor\": \"white\"}, \"yaxis\": {\"backgroundcolor\": \"#E5ECF6\", \"gridcolor\": \"white\", \"gridwidth\": 2, \"linecolor\": \"white\", \"showbackground\": true, \"ticks\": \"\", \"zerolinecolor\": \"white\"}, \"zaxis\": {\"backgroundcolor\": \"#E5ECF6\", \"gridcolor\": \"white\", \"gridwidth\": 2, \"linecolor\": \"white\", \"showbackground\": true, \"ticks\": \"\", \"zerolinecolor\": \"white\"}}, \"shapedefaults\": {\"line\": {\"color\": \"#2a3f5f\"}}, \"ternary\": {\"aaxis\": {\"gridcolor\": \"white\", \"linecolor\": \"white\", \"ticks\": \"\"}, \"baxis\": {\"gridcolor\": \"white\", \"linecolor\": \"white\", \"ticks\": \"\"}, \"bgcolor\": \"#E5ECF6\", \"caxis\": {\"gridcolor\": \"white\", \"linecolor\": \"white\", \"ticks\": \"\"}}, \"title\": {\"x\": 0.05}, \"xaxis\": {\"automargin\": true, \"gridcolor\": \"white\", \"linecolor\": \"white\", \"ticks\": \"\", \"title\": {\"standoff\": 15}, \"zerolinecolor\": \"white\", \"zerolinewidth\": 2}, \"yaxis\": {\"automargin\": true, \"gridcolor\": \"white\", \"linecolor\": \"white\", \"ticks\": \"\", \"title\": {\"standoff\": 15}, \"zerolinecolor\": \"white\", \"zerolinewidth\": 2}}}, \"title\": {\"font\": {\"color\": \"#4D5663\"}, \"text\": \"Distribution of Top 20 Trigrams based on Frequency\"}, \"xaxis\": {\"gridcolor\": \"#E1E5ED\", \"showgrid\": true, \"tickfont\": {\"color\": \"#4D5663\"}, \"title\": {\"font\": {\"color\": \"#4D5663\"}, \"text\": \"Trigrams\"}, \"zerolinecolor\": \"#E1E5ED\"}, \"yaxis\": {\"gridcolor\": \"#E1E5ED\", \"showgrid\": true, \"tickfont\": {\"color\": \"#4D5663\"}, \"title\": {\"font\": {\"color\": \"#4D5663\"}, \"text\": \"Count\"}, \"zerolinecolor\": \"#E1E5ED\"}},                        {\"showLink\": true, \"linkText\": \"Export to plot.ly\", \"plotlyServerURL\": \"https://plot.ly\", \"responsive\": true}                    ).then(function(){\n",
       "                            \n",
       "var gd = document.getElementById('62b9fd05-1f98-4970-8dc7-326b9fc10f03');\n",
       "var x = new MutationObserver(function (mutations, observer) {{\n",
       "        var display = window.getComputedStyle(gd).display;\n",
       "        if (!display || display === 'none') {{\n",
       "            console.log([gd, 'removed!']);\n",
       "            Plotly.purge(gd);\n",
       "            observer.disconnect();\n",
       "        }}\n",
       "}});\n",
       "\n",
       "// Listen for the removal of the full notebook cells\n",
       "var notebookContainer = gd.closest('#notebook-container');\n",
       "if (notebookContainer) {{\n",
       "    x.observe(notebookContainer, {childList: true});\n",
       "}}\n",
       "\n",
       "// Listen for the clearing of the current output cell\n",
       "var outputEl = gd.closest('.output');\n",
       "if (outputEl) {{\n",
       "    x.observe(outputEl, {childList: true});\n",
       "}}\n",
       "\n",
       "                        })                };                });            </script>        </div>"
      ]
     },
     "metadata": {},
     "output_type": "display_data"
    }
   ],
   "source": [
    "df2 = pd.DataFrame(words, columns = ['Trigram','Frequency'])\n",
    "df2 = df2.set_index('Trigram')\n",
    "df2.iplot(kind = 'bar', xTitle = 'Trigrams', yTitle = 'Count', title = 'Distribution of Top 20 Trigrams based on Frequency')"
   ]
  },
  {
   "cell_type": "markdown",
   "metadata": {},
   "source": [
    "### Bivariate Analysis of Numerical Columns"
   ]
  },
  {
   "cell_type": "code",
   "execution_count": 26,
   "metadata": {},
   "outputs": [
    {
     "data": {
      "text/plain": [
       "<seaborn.axisgrid.PairGrid at 0x1fff770b888>"
      ]
     },
     "execution_count": 26,
     "metadata": {},
     "output_type": "execute_result"
    },
    {
     "data": {
      "image/png": "[encoded data removed]",
      "text/plain": [
       "<Figure size 540x540 with 12 Axes>"
      ]
     },
     "metadata": {
      "needs_background": "light"
     },
     "output_type": "display_data"
    }
   ],
   "source": [
    "sns.pairplot(df1)"
   ]
  },
  {
   "cell_type": "markdown",
   "metadata": {},
   "source": [
    "### Relationship between Quality of Questions and Word Count"
   ]
  },
  {
   "cell_type": "code",
   "execution_count": 27,
   "metadata": {},
   "outputs": [
    {
     "data": {
      "text/plain": [
       "Text(0.5, 0.98, 'Relationship between Sentiment and Word Count')"
      ]
     },
     "execution_count": 27,
     "metadata": {},
     "output_type": "execute_result"
    },
    {
     "data": {
      "image/png": "[encoded data removed]",
      "text/plain": [
       "<Figure size 360x360 with 1 Axes>"
      ]
     },
     "metadata": {
      "needs_background": "light"
     },
     "output_type": "display_data"
    }
   ],
   "source": [
    "plot = sns.catplot(x = 'Sentiment', y='word_count', data=df1)\n",
    "plot.fig.suptitle('Relationship between Sentiment and Word Count')"
   ]
  },
  {
   "cell_type": "markdown",
   "metadata": {},
   "source": [
    "From the above, we can say that Word count does not have much influence on Sentiment of the tweets."
   ]
  },
  {
   "cell_type": "markdown",
   "metadata": {},
   "source": [
    "## Text Cleaning"
   ]
  },
  {
   "cell_type": "markdown",
   "metadata": {},
   "source": [
    "### Counting emails"
   ]
  },
  {
   "cell_type": "code",
   "execution_count": 28,
   "metadata": {},
   "outputs": [],
   "source": [
    "df1['emails'] = df1['Tweet'].apply(lambda x: re.findall(r'([a-zA-Z0-9+._-]+@[a-zA-Z0-9._-]+\\.[a-zA-Z0-9_-]+)', x))\n",
    "df1['emails_count'] = df1['emails'].apply(lambda x: len(x))"
   ]
  },
  {
   "cell_type": "code",
   "execution_count": 29,
   "metadata": {},
   "outputs": [
    {
     "data": {
      "text/html": [
       "<div>\n",
       "<style scoped>\n",
       "    .dataframe tbody tr th:only-of-type {\n",
       "        vertical-align: middle;\n",
       "    }\n",
       "\n",
       "    .dataframe tbody tr th {\n",
       "        vertical-align: top;\n",
       "    }\n",
       "\n",
       "    .dataframe thead th {\n",
       "        text-align: right;\n",
       "    }\n",
       "</style>\n",
       "<table border=\"1\" class=\"dataframe\">\n",
       "  <thead>\n",
       "    <tr style=\"text-align: right;\">\n",
       "      <th></th>\n",
       "      <th>Tweet</th>\n",
       "      <th>Sentiment</th>\n",
       "      <th>text_len</th>\n",
       "      <th>word_count</th>\n",
       "      <th>avg_word_len</th>\n",
       "      <th>emails</th>\n",
       "      <th>emails_count</th>\n",
       "    </tr>\n",
       "  </thead>\n",
       "  <tbody>\n",
       "    <tr>\n",
       "      <th>16</th>\n",
       "      <td>So far 36 Pennsylvanians have reached out to m...</td>\n",
       "      <td>Negative</td>\n",
       "      <td>280</td>\n",
       "      <td>38</td>\n",
       "      <td>6.236842</td>\n",
       "      <td>[pricegouging@attorneygeneral.gov]</td>\n",
       "      <td>1</td>\n",
       "    </tr>\n",
       "    <tr>\n",
       "      <th>261</th>\n",
       "      <td>U.S. World Food Prices Fell During February: \"...</td>\n",
       "      <td>Negative</td>\n",
       "      <td>309</td>\n",
       "      <td>49</td>\n",
       "      <td>5.224490</td>\n",
       "      <td>[info@farms.com]</td>\n",
       "      <td>1</td>\n",
       "    </tr>\n",
       "    <tr>\n",
       "      <th>415</th>\n",
       "      <td>Has anyone in #Cardiff or #SouthWales had thei...</td>\n",
       "      <td>Negative</td>\n",
       "      <td>313</td>\n",
       "      <td>45</td>\n",
       "      <td>5.711111</td>\n",
       "      <td>[rhiannon.c.moore@icloud.com]</td>\n",
       "      <td>1</td>\n",
       "    </tr>\n",
       "    <tr>\n",
       "      <th>1001</th>\n",
       "      <td>Be vigilant about scam calls regarding the Cov...</td>\n",
       "      <td>Negative</td>\n",
       "      <td>274</td>\n",
       "      <td>37</td>\n",
       "      <td>6.405405</td>\n",
       "      <td>[consumerhelp@state.sd.us]</td>\n",
       "      <td>1</td>\n",
       "    </tr>\n",
       "    <tr>\n",
       "      <th>1098</th>\n",
       "      <td>Report retailers or manufacturers colluding &amp;a...</td>\n",
       "      <td>Positive</td>\n",
       "      <td>262</td>\n",
       "      <td>34</td>\n",
       "      <td>6.735294</td>\n",
       "      <td>[info@cak.go.ke]</td>\n",
       "      <td>1</td>\n",
       "    </tr>\n",
       "  </tbody>\n",
       "</table>\n",
       "</div>"
      ],
      "text/plain": [
       "                                                  Tweet Sentiment  text_len  \\\n",
       "16    So far 36 Pennsylvanians have reached out to m...  Negative       280   \n",
       "261   U.S. World Food Prices Fell During February: \"...  Negative       309   \n",
       "415   Has anyone in #Cardiff or #SouthWales had thei...  Negative       313   \n",
       "1001  Be vigilant about scam calls regarding the Cov...  Negative       274   \n",
       "1098  Report retailers or manufacturers colluding &a...  Positive       262   \n",
       "\n",
       "      word_count  avg_word_len                              emails  \\\n",
       "16            38      6.236842  [pricegouging@attorneygeneral.gov]   \n",
       "261           49      5.224490                    [info@farms.com]   \n",
       "415           45      5.711111       [rhiannon.c.moore@icloud.com]   \n",
       "1001          37      6.405405          [consumerhelp@state.sd.us]   \n",
       "1098          34      6.735294                    [info@cak.go.ke]   \n",
       "\n",
       "      emails_count  \n",
       "16               1  \n",
       "261              1  \n",
       "415              1  \n",
       "1001             1  \n",
       "1098             1  "
      ]
     },
     "execution_count": 29,
     "metadata": {},
     "output_type": "execute_result"
    }
   ],
   "source": [
    "df1[df1['emails_count']>0].head()"
   ]
  },
  {
   "cell_type": "markdown",
   "metadata": {},
   "source": [
    "### Counting URLs"
   ]
  },
  {
   "cell_type": "code",
   "execution_count": 30,
   "metadata": {},
   "outputs": [],
   "source": [
    "df1['urls_flag'] = df1['Tweet'].apply(lambda x: len(re.findall(r'(http|ftp|https)://([\\w_-]+(?:(?:\\.[\\w_-]+)+))([\\w.,@?^=%&:/~+#-]*[\\w@?^=%&/~+#-])?', x)))"
   ]
  },
  {
   "cell_type": "code",
   "execution_count": 31,
   "metadata": {},
   "outputs": [
    {
     "data": {
      "text/html": [
       "<div>\n",
       "<style scoped>\n",
       "    .dataframe tbody tr th:only-of-type {\n",
       "        vertical-align: middle;\n",
       "    }\n",
       "\n",
       "    .dataframe tbody tr th {\n",
       "        vertical-align: top;\n",
       "    }\n",
       "\n",
       "    .dataframe thead th {\n",
       "        text-align: right;\n",
       "    }\n",
       "</style>\n",
       "<table border=\"1\" class=\"dataframe\">\n",
       "  <thead>\n",
       "    <tr style=\"text-align: right;\">\n",
       "      <th></th>\n",
       "      <th>Tweet</th>\n",
       "      <th>Sentiment</th>\n",
       "      <th>text_len</th>\n",
       "      <th>word_count</th>\n",
       "      <th>avg_word_len</th>\n",
       "      <th>emails</th>\n",
       "      <th>emails_count</th>\n",
       "      <th>urls_flag</th>\n",
       "    </tr>\n",
       "  </thead>\n",
       "  <tbody>\n",
       "    <tr>\n",
       "      <th>0</th>\n",
       "      <td>When I couldn't find hand sanitizer at Fred Me...</td>\n",
       "      <td>Positive</td>\n",
       "      <td>205</td>\n",
       "      <td>32</td>\n",
       "      <td>5.406250</td>\n",
       "      <td>[]</td>\n",
       "      <td>0</td>\n",
       "      <td>1</td>\n",
       "    </tr>\n",
       "    <tr>\n",
       "      <th>1</th>\n",
       "      <td>#Panic buying hits #NewYork City as anxious sh...</td>\n",
       "      <td>Negative</td>\n",
       "      <td>330</td>\n",
       "      <td>38</td>\n",
       "      <td>7.368421</td>\n",
       "      <td>[]</td>\n",
       "      <td>0</td>\n",
       "      <td>2</td>\n",
       "    </tr>\n",
       "    <tr>\n",
       "      <th>2</th>\n",
       "      <td>Voting in the age of #coronavirus = hand sanit...</td>\n",
       "      <td>Positive</td>\n",
       "      <td>91</td>\n",
       "      <td>12</td>\n",
       "      <td>6.583333</td>\n",
       "      <td>[]</td>\n",
       "      <td>0</td>\n",
       "      <td>1</td>\n",
       "    </tr>\n",
       "    <tr>\n",
       "      <th>3</th>\n",
       "      <td>Best quality couches at unbelievably low price...</td>\n",
       "      <td>Positive</td>\n",
       "      <td>256</td>\n",
       "      <td>31</td>\n",
       "      <td>6.516129</td>\n",
       "      <td>[]</td>\n",
       "      <td>0</td>\n",
       "      <td>1</td>\n",
       "    </tr>\n",
       "    <tr>\n",
       "      <th>4</th>\n",
       "      <td>While we were busy watching election returns a...</td>\n",
       "      <td>Positive</td>\n",
       "      <td>212</td>\n",
       "      <td>28</td>\n",
       "      <td>6.607143</td>\n",
       "      <td>[]</td>\n",
       "      <td>0</td>\n",
       "      <td>1</td>\n",
       "    </tr>\n",
       "  </tbody>\n",
       "</table>\n",
       "</div>"
      ],
      "text/plain": [
       "                                               Tweet Sentiment  text_len  \\\n",
       "0  When I couldn't find hand sanitizer at Fred Me...  Positive       205   \n",
       "1  #Panic buying hits #NewYork City as anxious sh...  Negative       330   \n",
       "2  Voting in the age of #coronavirus = hand sanit...  Positive        91   \n",
       "3  Best quality couches at unbelievably low price...  Positive       256   \n",
       "4  While we were busy watching election returns a...  Positive       212   \n",
       "\n",
       "   word_count  avg_word_len emails  emails_count  urls_flag  \n",
       "0          32      5.406250     []             0          1  \n",
       "1          38      7.368421     []             0          2  \n",
       "2          12      6.583333     []             0          1  \n",
       "3          31      6.516129     []             0          1  \n",
       "4          28      6.607143     []             0          1  "
      ]
     },
     "execution_count": 31,
     "metadata": {},
     "output_type": "execute_result"
    }
   ],
   "source": [
    "df1[df1['urls_flag'] > 0].head()"
   ]
  },
  {
   "cell_type": "code",
   "execution_count": 32,
   "metadata": {},
   "outputs": [],
   "source": [
    "#Cleaning tet by converting text to lowecase,removing emails,urls,html tags,spaces,punctuations,numbers and stop words\n",
    "def cleaning_text(text):\n",
    "    #Converting to lowercase\n",
    "    text = text.lower()\n",
    "    #Removing emails\n",
    "    text = re.sub(r'([a-zA-Z0-9+._-]+@[a-zA-Z0-9._-]+\\.[a-zA-Z0-9_-]+)', '', text)\n",
    "    #Removing URLs\n",
    "    text = re.sub(r'(http|ftp|https)://([\\w_-]+(?:(?:\\.[\\w_-]+)+))([\\w.,@?^=%&:/~+#-]*[\\w@?^=%&/~+#-])?', '', text)\n",
    "    #Removing HTML tags\n",
    "    text = BeautifulSoup(text, 'lxml').get_text()\n",
    "    #Removing punctuations and numbers\n",
    "    text = re.sub('[^A-Z a-z ]+', ' ', text)\n",
    "    #Removing Multiple spaces\n",
    "    text =  \" \".join(text.split())\n",
    "    #Removing Stop words\n",
    "    text =  \" \".join([t for t in text.split() if t not in STOP_WORDS])\n",
    "    return text"
   ]
  },
  {
   "cell_type": "code",
   "execution_count": 33,
   "metadata": {},
   "outputs": [],
   "source": [
    "#Dropping unnecessary columns\n",
    "df1 = df1.drop(['emails','emails_count','urls_flag'], axis = 1)\n",
    "#Cleaning Text\n",
    "df1['Tweet'] = df1['Tweet'].apply(lambda x: cleaning_text(x))\n",
    "#Dropping duplicate values\n",
    "df1 = df1.drop_duplicates(subset=[\"Tweet\",\"Sentiment\"])"
   ]
  },
  {
   "cell_type": "code",
   "execution_count": 34,
   "metadata": {},
   "outputs": [
    {
     "name": "stdout",
     "output_type": "stream",
     "text": [
      "@realDonaldTrump Separate Table of US Corna Virus Statistics.\r",
      "\r\n",
      " Very high stats of corona virus.\r",
      "\r\n",
      " US Government's Inability to Control Corona Virus.\r",
      "\r\n",
      " High Price Disinfectant Gel in USA High price of mask in USA. \r",
      "\r\n",
      "Food prices are rising day by day\r",
      "\r",
      " ?? ???? ?????? . ??? ???? ??? \n",
      "\n",
      "\n",
      "\n",
      "\n",
      " realdonaldtrump separate table corna virus statistics high stats corona virus government s inability control corona virus high price disinfectant gel usa high price mask usa food prices rising day day\n"
     ]
    }
   ],
   "source": [
    "i = 20\n",
    "print(df['Tweet'][i],\"\\n\\n\\n\\n\\n\",df1['Tweet'][i])"
   ]
  },
  {
   "cell_type": "code",
   "execution_count": 35,
   "metadata": {},
   "outputs": [
    {
     "data": {
      "text/plain": [
       "38981"
      ]
     },
     "execution_count": 35,
     "metadata": {},
     "output_type": "execute_result"
    }
   ],
   "source": [
    "text = ' '.join(df1['Tweet'])\n",
    "text = text.split()\n",
    "len(text)"
   ]
  },
  {
   "cell_type": "markdown",
   "metadata": {},
   "source": [
    "### Most frequent words"
   ]
  },
  {
   "cell_type": "code",
   "execution_count": 36,
   "metadata": {},
   "outputs": [
    {
     "data": {
      "text/plain": [
       "covid          1533\n",
       "coronavirus     776\n",
       "food            746\n",
       "store           528\n",
       "grocery         447\n",
       "s               439\n",
       "t               429\n",
       "stock           425\n",
       "people          421\n",
       "shopping        292\n",
       "supermarket     287\n",
       "online          280\n",
       "panic           244\n",
       "prices          230\n",
       "toilet          201\n",
       "paper           197\n",
       "like            197\n",
       "need            183\n",
       "don             174\n",
       "buying          156\n",
       "dtype: int64"
      ]
     },
     "execution_count": 36,
     "metadata": {},
     "output_type": "execute_result"
    }
   ],
   "source": [
    "freq_comm = pd.Series(text).value_counts()\n",
    "freq_comm[:20]"
   ]
  },
  {
   "cell_type": "code",
   "execution_count": 37,
   "metadata": {},
   "outputs": [],
   "source": [
    "#Removing characters since it may be often used as variables\n",
    "df1['Tweet'] = df1['Tweet'].apply(lambda x: \" \".join([t for t in x.split() if len(t) > 1]))"
   ]
  },
  {
   "cell_type": "code",
   "execution_count": 38,
   "metadata": {},
   "outputs": [],
   "source": [
    "f10 = freq_comm[:10]\n",
    "df1['Tweet'] = df1['Tweet'].apply(lambda x: \" \".join([t for t in x.split() if t not in f10[:10]]))#Removing most frequent words"
   ]
  },
  {
   "cell_type": "markdown",
   "metadata": {},
   "source": [
    "### Removing rare words"
   ]
  },
  {
   "cell_type": "code",
   "execution_count": 39,
   "metadata": {},
   "outputs": [],
   "source": [
    "rare = freq_comm[freq_comm.values == 1]\n",
    "df1['Tweet'] = df1['Tweet'].apply(lambda x: ' '.join([t for t in x.split() if t not in rare]))"
   ]
  },
  {
   "cell_type": "code",
   "execution_count": 40,
   "metadata": {},
   "outputs": [
    {
     "data": {
      "text/plain": [
       "3442"
      ]
     },
     "execution_count": 40,
     "metadata": {},
     "output_type": "execute_result"
    }
   ],
   "source": [
    "text = ' '.join(df1['Tweet'])\n",
    "text = text.split()\n",
    "len(set(text))"
   ]
  },
  {
   "cell_type": "markdown",
   "metadata": {},
   "source": [
    "### TF - IDF Vectorizer"
   ]
  },
  {
   "cell_type": "code",
   "execution_count": 41,
   "metadata": {},
   "outputs": [],
   "source": [
    "vectorizer = TfidfVectorizer(analyzer='word', stop_words='english')\n",
    "tfIdfMat  = vectorizer.fit_transform(df1['Tweet'].tolist())"
   ]
  },
  {
   "cell_type": "code",
   "execution_count": 42,
   "metadata": {},
   "outputs": [],
   "source": [
    "feature_names = sorted(vectorizer.get_feature_names())\n",
    "#print(feature_names)"
   ]
  },
  {
   "cell_type": "code",
   "execution_count": 43,
   "metadata": {},
   "outputs": [
    {
     "data": {
      "text/plain": [
       "3431"
      ]
     },
     "execution_count": 43,
     "metadata": {},
     "output_type": "execute_result"
    }
   ],
   "source": [
    "len(feature_names)"
   ]
  },
  {
   "cell_type": "code",
   "execution_count": 44,
   "metadata": {},
   "outputs": [],
   "source": [
    "from sklearn.model_selection import train_test_split\n",
    "\n",
    "labels = df1['Sentiment'].tolist()\n",
    "X_train, X_test, y_train, y_test = train_test_split(tfIdfMat, labels, test_size=0.33,random_state=42)"
   ]
  },
  {
   "cell_type": "code",
   "execution_count": 45,
   "metadata": {},
   "outputs": [
    {
     "name": "stdout",
     "output_type": "stream",
     "text": [
      "0.6402439024390244\n",
      "              precision    recall  f1-score   support\n",
      "\n",
      "    Negative       0.63      0.73      0.68       341\n",
      "    Positive       0.65      0.54      0.59       315\n",
      "\n",
      "    accuracy                           0.64       656\n",
      "   macro avg       0.64      0.64      0.63       656\n",
      "weighted avg       0.64      0.64      0.64       656\n",
      "\n"
     ]
    }
   ],
   "source": [
    "log = LogisticRegression()\n",
    "log.fit(X_train,y_train)\n",
    "predictions = log.predict(X_test)\n",
    "print(metrics.accuracy_score(y_test,predictions))\n",
    "print(metrics.classification_report(y_test,predictions))"
   ]
  },
  {
   "cell_type": "code",
   "execution_count": 46,
   "metadata": {},
   "outputs": [
    {
     "name": "stdout",
     "output_type": "stream",
     "text": [
      "0.635670731707317\n",
      "              precision    recall  f1-score   support\n",
      "\n",
      "    Negative       0.62      0.77      0.69       341\n",
      "    Positive       0.66      0.49      0.56       315\n",
      "\n",
      "    accuracy                           0.64       656\n",
      "   macro avg       0.64      0.63      0.63       656\n",
      "weighted avg       0.64      0.64      0.63       656\n",
      "\n"
     ]
    }
   ],
   "source": [
    "svc = SVC()\n",
    "svc.fit(X_train, y_train)\n",
    "y_pred = svc.predict(X_test)\n",
    "print(metrics.accuracy_score(y_test,y_pred))\n",
    "print(metrics.classification_report(y_test,y_pred))"
   ]
  },
  {
   "cell_type": "code",
   "execution_count": 48,
   "metadata": {},
   "outputs": [
    {
     "name": "stdout",
     "output_type": "stream",
     "text": [
      "0.6204268292682927\n",
      "              precision    recall  f1-score   support\n",
      "\n",
      "    Negative       0.60      0.82      0.69       341\n",
      "    Positive       0.67      0.41      0.51       315\n",
      "\n",
      "    accuracy                           0.62       656\n",
      "   macro avg       0.64      0.61      0.60       656\n",
      "weighted avg       0.63      0.62      0.60       656\n",
      "\n"
     ]
    }
   ],
   "source": [
    "clf=RandomForestClassifier(n_estimators=100)    #Create a Gaussian Classifier\n",
    "clf.fit(X_train,y_train)     #Train the model using the training sets y_pred=clf.predict(X_test)\n",
    "y_pred_rf=clf.predict(X_test)\n",
    "print(metrics.accuracy_score(y_test,y_pred_rf))\n",
    "print(metrics.classification_report(y_test,y_pred_rf))"
   ]
  },
  {
   "cell_type": "markdown",
   "metadata": {},
   "source": [
    "### Word Embedding with word2vec"
   ]
  },
  {
   "cell_type": "code",
   "execution_count": 49,
   "metadata": {},
   "outputs": [],
   "source": [
    "def get_vec(x):\n",
    "    doc = nlp(x)\n",
    "    vec = doc.vector\n",
    "    return vec"
   ]
  },
  {
   "cell_type": "code",
   "execution_count": 50,
   "metadata": {},
   "outputs": [
    {
     "data": {
      "text/html": [
       "<div>\n",
       "<style scoped>\n",
       "    .dataframe tbody tr th:only-of-type {\n",
       "        vertical-align: middle;\n",
       "    }\n",
       "\n",
       "    .dataframe tbody tr th {\n",
       "        vertical-align: top;\n",
       "    }\n",
       "\n",
       "    .dataframe thead th {\n",
       "        text-align: right;\n",
       "    }\n",
       "</style>\n",
       "<table border=\"1\" class=\"dataframe\">\n",
       "  <thead>\n",
       "    <tr style=\"text-align: right;\">\n",
       "      <th></th>\n",
       "      <th>Tweet</th>\n",
       "      <th>Sentiment</th>\n",
       "      <th>text_len</th>\n",
       "      <th>word_count</th>\n",
       "      <th>avg_word_len</th>\n",
       "      <th>vec</th>\n",
       "    </tr>\n",
       "  </thead>\n",
       "  <tbody>\n",
       "    <tr>\n",
       "      <th>0</th>\n",
       "      <td>couldn find hand sanitizer fred meyer amazon p...</td>\n",
       "      <td>Positive</td>\n",
       "      <td>205</td>\n",
       "      <td>32</td>\n",
       "      <td>5.406250</td>\n",
       "      <td>[-0.2030265, 0.07947565, -0.02712057, -0.06036...</td>\n",
       "    </tr>\n",
       "    <tr>\n",
       "      <th>1</th>\n",
       "      <td>panic buying hits newyork city anxious shopper...</td>\n",
       "      <td>Negative</td>\n",
       "      <td>330</td>\n",
       "      <td>38</td>\n",
       "      <td>7.368421</td>\n",
       "      <td>[-0.01406505, 0.09977359, 0.0059688976, -0.029...</td>\n",
       "    </tr>\n",
       "    <tr>\n",
       "      <th>2</th>\n",
       "      <td>age hand sanitizer</td>\n",
       "      <td>Positive</td>\n",
       "      <td>91</td>\n",
       "      <td>12</td>\n",
       "      <td>6.583333</td>\n",
       "      <td>[-0.46513334, 0.04096665, 0.116428666, -0.0849...</td>\n",
       "    </tr>\n",
       "    <tr>\n",
       "      <th>3</th>\n",
       "      <td>best low prices available order boksburg info ...</td>\n",
       "      <td>Positive</td>\n",
       "      <td>256</td>\n",
       "      <td>31</td>\n",
       "      <td>6.516129</td>\n",
       "      <td>[-0.19799939, 0.19754182, 0.085628636, -0.0532...</td>\n",
       "    </tr>\n",
       "    <tr>\n",
       "      <th>4</th>\n",
       "      <td>busy watching election returns bracing outbrea...</td>\n",
       "      <td>Positive</td>\n",
       "      <td>212</td>\n",
       "      <td>28</td>\n",
       "      <td>6.607143</td>\n",
       "      <td>[-0.11161437, 0.15552333, 0.13277888, -0.10643...</td>\n",
       "    </tr>\n",
       "  </tbody>\n",
       "</table>\n",
       "</div>"
      ],
      "text/plain": [
       "                                               Tweet Sentiment  text_len  \\\n",
       "0  couldn find hand sanitizer fred meyer amazon p...  Positive       205   \n",
       "1  panic buying hits newyork city anxious shopper...  Negative       330   \n",
       "2                                 age hand sanitizer  Positive        91   \n",
       "3  best low prices available order boksburg info ...  Positive       256   \n",
       "4  busy watching election returns bracing outbrea...  Positive       212   \n",
       "\n",
       "   word_count  avg_word_len                                                vec  \n",
       "0          32      5.406250  [-0.2030265, 0.07947565, -0.02712057, -0.06036...  \n",
       "1          38      7.368421  [-0.01406505, 0.09977359, 0.0059688976, -0.029...  \n",
       "2          12      6.583333  [-0.46513334, 0.04096665, 0.116428666, -0.0849...  \n",
       "3          31      6.516129  [-0.19799939, 0.19754182, 0.085628636, -0.0532...  \n",
       "4          28      6.607143  [-0.11161437, 0.15552333, 0.13277888, -0.10643...  "
      ]
     },
     "execution_count": 50,
     "metadata": {},
     "output_type": "execute_result"
    }
   ],
   "source": [
    "df1['vec'] = df1['Tweet'].apply(lambda x: get_vec(x))\n",
    "df1.head()"
   ]
  },
  {
   "cell_type": "code",
   "execution_count": 51,
   "metadata": {},
   "outputs": [],
   "source": [
    "pickle.dump(df1,open('clean_data.pkl','wb'))"
   ]
  },
  {
   "cell_type": "code",
   "execution_count": 52,
   "metadata": {},
   "outputs": [],
   "source": [
    "df1 = pickle.load(open('clean_data.pkl','rb'))"
   ]
  },
  {
   "cell_type": "code",
   "execution_count": 53,
   "metadata": {},
   "outputs": [],
   "source": [
    "X = df1['vec'].to_numpy()\n",
    "X = X.reshape(-1, 1)"
   ]
  },
  {
   "cell_type": "code",
   "execution_count": 54,
   "metadata": {},
   "outputs": [
    {
     "data": {
      "text/plain": [
       "(1987, 1)"
      ]
     },
     "execution_count": 54,
     "metadata": {},
     "output_type": "execute_result"
    }
   ],
   "source": [
    "X.shape"
   ]
  },
  {
   "cell_type": "code",
   "execution_count": 55,
   "metadata": {},
   "outputs": [],
   "source": [
    "X = np.concatenate(np.concatenate(X, axis = 0), axis = 0).reshape(-1, 300)"
   ]
  },
  {
   "cell_type": "code",
   "execution_count": 56,
   "metadata": {},
   "outputs": [
    {
     "data": {
      "text/plain": [
       "(1987, 300)"
      ]
     },
     "execution_count": 56,
     "metadata": {},
     "output_type": "execute_result"
    }
   ],
   "source": [
    "X.shape"
   ]
  },
  {
   "cell_type": "code",
   "execution_count": 57,
   "metadata": {},
   "outputs": [],
   "source": [
    "y = df1['Sentiment']"
   ]
  },
  {
   "cell_type": "code",
   "execution_count": 58,
   "metadata": {},
   "outputs": [],
   "source": [
    "X_train, X_test, y_train, y_test = train_test_split(X, y, test_size = 0.2, random_state = 0)"
   ]
  },
  {
   "cell_type": "code",
   "execution_count": 59,
   "metadata": {},
   "outputs": [
    {
     "data": {
      "text/plain": [
       "((1589, 300), (398, 300))"
      ]
     },
     "execution_count": 59,
     "metadata": {},
     "output_type": "execute_result"
    }
   ],
   "source": [
    "X_train.shape, X_test.shape"
   ]
  },
  {
   "cell_type": "markdown",
   "metadata": {},
   "source": [
    "## Logistic Regression"
   ]
  },
  {
   "cell_type": "code",
   "execution_count": 60,
   "metadata": {},
   "outputs": [
    {
     "data": {
      "text/plain": [
       "LogisticRegression()"
      ]
     },
     "execution_count": 60,
     "metadata": {},
     "output_type": "execute_result"
    }
   ],
   "source": [
    "log = LogisticRegression()\n",
    "log.fit(X_train,y_train)"
   ]
  },
  {
   "cell_type": "code",
   "execution_count": 61,
   "metadata": {},
   "outputs": [],
   "source": [
    "pickle.dump(log,open('logistic_train.pkl','wb'))"
   ]
  },
  {
   "cell_type": "code",
   "execution_count": 62,
   "metadata": {},
   "outputs": [],
   "source": [
    "log = pickle.load(open('logistic_train.pkl','rb'))"
   ]
  },
  {
   "cell_type": "code",
   "execution_count": 63,
   "metadata": {},
   "outputs": [],
   "source": [
    "y_pred = log.predict(X_test)"
   ]
  },
  {
   "cell_type": "code",
   "execution_count": 64,
   "metadata": {},
   "outputs": [
    {
     "name": "stdout",
     "output_type": "stream",
     "text": [
      "Logistic Regression:\n",
      "Accuracy:  0.6306532663316583\n"
     ]
    }
   ],
   "source": [
    "print(\"Logistic Regression:\\nAccuracy: \",metrics.accuracy_score(y_test,y_pred))"
   ]
  },
  {
   "cell_type": "markdown",
   "metadata": {},
   "source": [
    "<h2>Naive Bayes</h2>"
   ]
  },
  {
   "cell_type": "code",
   "execution_count": 65,
   "metadata": {},
   "outputs": [],
   "source": [
    "nb = GaussianNB()\n",
    "nb.fit(X_train, y_train)\n",
    "y_pred  =  nb.predict(X_test)"
   ]
  },
  {
   "cell_type": "code",
   "execution_count": 66,
   "metadata": {},
   "outputs": [],
   "source": [
    "pickle.dump(nb,open('naive_train.pkl','wb'))"
   ]
  },
  {
   "cell_type": "code",
   "execution_count": 67,
   "metadata": {},
   "outputs": [
    {
     "name": "stdout",
     "output_type": "stream",
     "text": [
      "[[126  86]\n",
      " [ 76 110]]\n",
      "0.592964824120603\n"
     ]
    }
   ],
   "source": [
    "print(metrics.confusion_matrix(y_test, y_pred))\n",
    "print(metrics.accuracy_score(y_test,y_pred))"
   ]
  },
  {
   "cell_type": "markdown",
   "metadata": {},
   "source": [
    "<h2>Random Forest Classification</h2>"
   ]
  },
  {
   "cell_type": "code",
   "execution_count": 72,
   "metadata": {},
   "outputs": [],
   "source": [
    "clf=RandomForestClassifier(n_estimators=100)    #Create a Gaussian Classifier\n",
    "clf.fit(X_train,y_train)     #Train the model using the training sets y_pred=clf.predict(X_test)\n",
    "y_pred_rf=clf.predict(X_test)"
   ]
  },
  {
   "cell_type": "code",
   "execution_count": 73,
   "metadata": {},
   "outputs": [],
   "source": [
    "pickle.dump(clf,open('randomforest_train.pkl','wb'))"
   ]
  },
  {
   "cell_type": "code",
   "execution_count": 74,
   "metadata": {},
   "outputs": [],
   "source": [
    "clf = pickle.load(open('randomforest_train.pkl','rb'))"
   ]
  },
  {
   "cell_type": "code",
   "execution_count": 75,
   "metadata": {},
   "outputs": [
    {
     "name": "stdout",
     "output_type": "stream",
     "text": [
      "Accuracy: 0.6105527638190955\n"
     ]
    }
   ],
   "source": [
    "print(\"Accuracy:\",metrics.accuracy_score(y_test, y_pred_rf))"
   ]
  },
  {
   "cell_type": "markdown",
   "metadata": {},
   "source": [
    "<h2>Giving input and Prediction</h2>"
   ]
  },
  {
   "cell_type": "code",
   "execution_count": 82,
   "metadata": {},
   "outputs": [],
   "source": [
    "input = [['''\"Form Validation project<p>I am working on a project for my company and we are not allowed to alter the HTML in any way. There is already a Page set up in the Using html to do Data Validation. There are to separate forms of validation questions on the page and each form contains its own \"\"submit\"\" button. Although both submit buttons have the same \"\"id\"\". is there any way to figure out how isolate each button to apply a different \"\".onclick\"\" method to them. Thanks in advance.</p>\n",
    "\"\n",
    "'''],[''' ''']]\n",
    "   "
   ]
  },
  {
   "cell_type": "markdown",
   "metadata": {},
   "source": [
    "#Tf-idf vectorizer\n",
    "for i in input:\n",
    "    print(log.predict(vectorizer.transform([str(i)])))"
   ]
  },
  {
   "cell_type": "markdown",
   "metadata": {},
   "source": [
    "# LSTM and Bidirectional LSTM"
   ]
  },
  {
   "cell_type": "code",
   "execution_count": 84,
   "metadata": {},
   "outputs": [],
   "source": [
    "import gensim\n",
    "from nltk.tokenize.treebank import TreebankWordDetokenizer"
   ]
  },
  {
   "cell_type": "code",
   "execution_count": 85,
   "metadata": {},
   "outputs": [],
   "source": [
    "df = pd.read_csv(\"CoronaTweetsSentimentAnalysis.csv\")\n",
    "df['Tweet'] = pd.Series(df[['OriginalTweet','Location']].fillna('').values.tolist()).str.join(' ')\n",
    "df.drop(['UserName','ScreenName','TweetAt','OriginalTweet','Location'],axis = 1, inplace = True)"
   ]
  },
  {
   "cell_type": "code",
   "execution_count": 86,
   "metadata": {},
   "outputs": [
    {
     "name": "stdout",
     "output_type": "stream",
     "text": [
      "['couldn find hand sanitizer fred meyer turned amazon pack purell check coronavirus concerns driving prices seattle wa', 'panic buying hits newyork city anxious shoppers stock food medical supplies healthcare worker bigapple st confirmed coronavirus patient bloomberg staged event qanon qanon qanon election cdc chicagoland', 'voting age coronavirus hand sanitizer supertuesday', 'best quality couches unbelievably low prices available order boksburg gp info whatsapp supertuesdsy powertalk covid sayentrepreneur djsbu boksburg south africa', 'busy watching election returns bracing covid outbreak trump nominated chemical industry lobbyist head consumer product safety commission washington dc']\n"
     ]
    }
   ],
   "source": [
    "temp = []\n",
    "#Splitting pd.Series to list\n",
    "data_to_list = df['Tweet'].values.tolist()\n",
    "for i in range(len(data_to_list)):\n",
    "    temp.append(cleaning_text(data_to_list[i]))\n",
    "\n",
    "def sent_to_words(sentences):\n",
    "    for sentence in sentences:\n",
    "        yield(gensim.utils.simple_preprocess(str(sentence), deacc=True))  # deacc=True removes punctuations\n",
    "        \n",
    "data_words = list(sent_to_words(temp))\n",
    "\n",
    "def detokenize(text):\n",
    "    return TreebankWordDetokenizer().detokenize(text)\n",
    "\n",
    "data = []\n",
    "for i in range(len(data_words)):\n",
    "    data.append(detokenize(data_words[i]))\n",
    "print(data[:5])"
   ]
  },
  {
   "cell_type": "code",
   "execution_count": 87,
   "metadata": {},
   "outputs": [],
   "source": [
    "one_hot_encoded_data = pd.get_dummies(df, columns = ['Sentiment'])"
   ]
  },
  {
   "cell_type": "code",
   "execution_count": 88,
   "metadata": {},
   "outputs": [
    {
     "name": "stdout",
     "output_type": "stream",
     "text": [
      "[[   0    0    0 ...   12  367  469]\n",
      " [   0    0    0 ... 1357  740 3424]\n",
      " [   0    0    0 ...   40   86 3426]\n",
      " ...\n",
      " [   0    0    0 ...  606 1467  126]\n",
      " [   0    0    0 ...  431    2 1052]\n",
      " [   0    0    0 ...   17    1 3245]]\n"
     ]
    }
   ],
   "source": [
    "from keras.models import Sequential\n",
    "from keras import layers\n",
    "from tensorflow.keras.optimizers import RMSprop,Adam\n",
    "from keras.preprocessing.text import Tokenizer\n",
    "from keras.preprocessing.sequence import pad_sequences\n",
    "from keras import regularizers\n",
    "from keras import backend as K\n",
    "from keras.callbacks import ModelCheckpoint\n",
    "max_words = 5000\n",
    "max_len = 200\n",
    "\n",
    "tokenizer = Tokenizer(num_words=max_words)\n",
    "tokenizer.fit_on_texts(data)\n",
    "sequences = tokenizer.texts_to_sequences(data)\n",
    "tweets = pad_sequences(sequences, maxlen=max_len)\n",
    "print(tweets)"
   ]
  },
  {
   "cell_type": "code",
   "execution_count": 89,
   "metadata": {},
   "outputs": [],
   "source": [
    "labels = one_hot_encoded_data[['Sentiment_Negative','Sentiment_Positive']]"
   ]
  },
  {
   "cell_type": "code",
   "execution_count": 90,
   "metadata": {},
   "outputs": [
    {
     "name": "stdout",
     "output_type": "stream",
     "text": [
      "1491 497 1491 497\n"
     ]
    }
   ],
   "source": [
    "X_train, X_test, y_train, y_test = train_test_split(tweets, labels, random_state=0)\n",
    "print(len(X_train),len(X_test),len(y_train),len(y_test))"
   ]
  },
  {
   "cell_type": "code",
   "execution_count": 91,
   "metadata": {},
   "outputs": [
    {
     "name": "stdout",
     "output_type": "stream",
     "text": [
      "WARNING:tensorflow:`period` argument is deprecated. Please use `save_freq` to specify the frequency in number of batches seen.\n",
      "Epoch 1/40\n",
      "47/47 [==============================] - 28s 75ms/step - loss: 0.6927 - accuracy: 0.5148 - val_loss: 0.6909 - val_accuracy: 0.5493\n",
      "\n",
      "Epoch 00001: val_accuracy improved from -inf to 0.54930, saving model to best_model1.hdf5\n",
      "Epoch 2/40\n",
      "47/47 [==============================] - 3s 57ms/step - loss: 0.6884 - accuracy: 0.5492 - val_loss: 0.6839 - val_accuracy: 0.5533\n",
      "\n",
      "Epoch 00002: val_accuracy improved from 0.54930 to 0.55332, saving model to best_model1.hdf5\n",
      "Epoch 3/40\n",
      "47/47 [==============================] - 3s 55ms/step - loss: 0.6628 - accuracy: 0.6385 - val_loss: 0.6706 - val_accuracy: 0.5956\n",
      "\n",
      "Epoch 00003: val_accuracy improved from 0.55332 to 0.59557, saving model to best_model1.hdf5\n",
      "Epoch 4/40\n",
      "47/47 [==============================] - 3s 55ms/step - loss: 0.6399 - accuracy: 0.7467 - val_loss: 0.6602 - val_accuracy: 0.5915\n",
      "\n",
      "Epoch 00004: val_accuracy did not improve from 0.59557\n",
      "Epoch 5/40\n",
      "47/47 [==============================] - 3s 59ms/step - loss: 0.5703 - accuracy: 0.7748 - val_loss: 0.6530 - val_accuracy: 0.5996\n",
      "\n",
      "Epoch 00005: val_accuracy improved from 0.59557 to 0.59960, saving model to best_model1.hdf5\n",
      "Epoch 6/40\n",
      "47/47 [==============================] - 3s 54ms/step - loss: 0.4890 - accuracy: 0.8125 - val_loss: 0.6699 - val_accuracy: 0.6217\n",
      "\n",
      "Epoch 00006: val_accuracy improved from 0.59960 to 0.62173, saving model to best_model1.hdf5\n",
      "Epoch 7/40\n",
      "47/47 [==============================] - 3s 55ms/step - loss: 0.3947 - accuracy: 0.8399 - val_loss: 0.6933 - val_accuracy: 0.6419\n",
      "\n",
      "Epoch 00007: val_accuracy improved from 0.62173 to 0.64185, saving model to best_model1.hdf5\n",
      "Epoch 8/40\n",
      "47/47 [==============================] - 3s 56ms/step - loss: 0.3244 - accuracy: 0.8823 - val_loss: 0.7319 - val_accuracy: 0.6439\n",
      "\n",
      "Epoch 00008: val_accuracy improved from 0.64185 to 0.64386, saving model to best_model1.hdf5\n",
      "Epoch 9/40\n",
      "47/47 [==============================] - 3s 54ms/step - loss: 0.2688 - accuracy: 0.8962 - val_loss: 0.7672 - val_accuracy: 0.6459\n",
      "\n",
      "Epoch 00009: val_accuracy improved from 0.64386 to 0.64588, saving model to best_model1.hdf5\n",
      "Epoch 10/40\n",
      "47/47 [==============================] - 3s 57ms/step - loss: 0.2408 - accuracy: 0.9060 - val_loss: 0.7920 - val_accuracy: 0.6398\n",
      "\n",
      "Epoch 00010: val_accuracy did not improve from 0.64588\n",
      "Epoch 11/40\n",
      "47/47 [==============================] - 3s 58ms/step - loss: 0.1844 - accuracy: 0.9306 - val_loss: 0.8754 - val_accuracy: 0.6398\n",
      "\n",
      "Epoch 00011: val_accuracy did not improve from 0.64588\n",
      "Epoch 12/40\n",
      "47/47 [==============================] - 3s 58ms/step - loss: 0.1512 - accuracy: 0.9465 - val_loss: 0.9904 - val_accuracy: 0.6318\n",
      "\n",
      "Epoch 00012: val_accuracy did not improve from 0.64588\n",
      "Epoch 13/40\n",
      "47/47 [==============================] - 3s 58ms/step - loss: 0.1504 - accuracy: 0.9453 - val_loss: 0.9991 - val_accuracy: 0.6278\n",
      "\n",
      "Epoch 00013: val_accuracy did not improve from 0.64588\n",
      "Epoch 14/40\n",
      "47/47 [==============================] - 3s 57ms/step - loss: 0.1295 - accuracy: 0.9500 - val_loss: 1.0509 - val_accuracy: 0.6137\n",
      "\n",
      "Epoch 00014: val_accuracy did not improve from 0.64588\n",
      "Epoch 15/40\n",
      "47/47 [==============================] - 3s 56ms/step - loss: 0.1004 - accuracy: 0.9568 - val_loss: 1.1215 - val_accuracy: 0.6097\n",
      "\n",
      "Epoch 00015: val_accuracy did not improve from 0.64588\n",
      "Epoch 16/40\n",
      "47/47 [==============================] - 3s 56ms/step - loss: 0.0977 - accuracy: 0.9575 - val_loss: 1.1800 - val_accuracy: 0.6298\n",
      "\n",
      "Epoch 00016: val_accuracy did not improve from 0.64588\n",
      "Epoch 17/40\n",
      "47/47 [==============================] - 3s 58ms/step - loss: 0.0782 - accuracy: 0.9791 - val_loss: 1.2754 - val_accuracy: 0.6157\n",
      "\n",
      "Epoch 00017: val_accuracy did not improve from 0.64588\n",
      "Epoch 18/40\n",
      "47/47 [==============================] - 3s 58ms/step - loss: 0.2101 - accuracy: 0.9552 - val_loss: 1.3241 - val_accuracy: 0.6117\n",
      "\n",
      "Epoch 00018: val_accuracy did not improve from 0.64588\n",
      "Epoch 19/40\n",
      "47/47 [==============================] - 3s 58ms/step - loss: 0.0444 - accuracy: 0.9859 - val_loss: 1.2222 - val_accuracy: 0.6137\n",
      "\n",
      "Epoch 00019: val_accuracy did not improve from 0.64588\n",
      "Epoch 20/40\n",
      "47/47 [==============================] - 3s 57ms/step - loss: 0.0495 - accuracy: 0.9829 - val_loss: 1.5168 - val_accuracy: 0.6097\n",
      "\n",
      "Epoch 00020: val_accuracy did not improve from 0.64588\n",
      "Epoch 21/40\n",
      "47/47 [==============================] - 3s 57ms/step - loss: 0.1923 - accuracy: 0.9654 - val_loss: 1.5095 - val_accuracy: 0.6137\n",
      "\n",
      "Epoch 00021: val_accuracy did not improve from 0.64588\n",
      "Epoch 22/40\n",
      "47/47 [==============================] - 3s 56ms/step - loss: 0.1502 - accuracy: 0.9762 - val_loss: 1.4920 - val_accuracy: 0.6137\n",
      "\n",
      "Epoch 00022: val_accuracy did not improve from 0.64588\n",
      "Epoch 23/40\n",
      "47/47 [==============================] - 3s 56ms/step - loss: 0.0382 - accuracy: 0.9890 - val_loss: 2.2643 - val_accuracy: 0.5412\n",
      "\n",
      "Epoch 00023: val_accuracy did not improve from 0.64588\n",
      "Epoch 24/40\n",
      "47/47 [==============================] - 3s 57ms/step - loss: 0.1006 - accuracy: 0.9705 - val_loss: 1.5352 - val_accuracy: 0.6117\n",
      "\n",
      "Epoch 00024: val_accuracy did not improve from 0.64588\n",
      "Epoch 25/40\n",
      "47/47 [==============================] - 3s 58ms/step - loss: 0.0261 - accuracy: 0.9927 - val_loss: 1.5883 - val_accuracy: 0.6117\n",
      "\n",
      "Epoch 00025: val_accuracy did not improve from 0.64588\n",
      "Epoch 26/40\n",
      "47/47 [==============================] - 3s 58ms/step - loss: 0.0377 - accuracy: 0.9848 - val_loss: 1.6775 - val_accuracy: 0.6097\n",
      "\n",
      "Epoch 00026: val_accuracy did not improve from 0.64588\n",
      "Epoch 27/40\n",
      "47/47 [==============================] - 3s 57ms/step - loss: 0.0214 - accuracy: 0.9926 - val_loss: 1.7876 - val_accuracy: 0.6157\n",
      "\n",
      "Epoch 00027: val_accuracy did not improve from 0.64588\n",
      "Epoch 28/40\n",
      "47/47 [==============================] - 3s 56ms/step - loss: 0.0185 - accuracy: 0.9953 - val_loss: 1.7650 - val_accuracy: 0.6197\n",
      "\n",
      "Epoch 00028: val_accuracy did not improve from 0.64588\n",
      "Epoch 29/40\n",
      "47/47 [==============================] - 3s 56ms/step - loss: 0.0220 - accuracy: 0.9918 - val_loss: 1.8539 - val_accuracy: 0.6117\n",
      "\n",
      "Epoch 00029: val_accuracy did not improve from 0.64588\n",
      "Epoch 30/40\n",
      "47/47 [==============================] - 3s 56ms/step - loss: 0.0405 - accuracy: 0.9866 - val_loss: 1.8658 - val_accuracy: 0.6097\n",
      "\n",
      "Epoch 00030: val_accuracy did not improve from 0.64588\n",
      "Epoch 31/40\n",
      "47/47 [==============================] - 3s 57ms/step - loss: 0.0556 - accuracy: 0.9872 - val_loss: 2.0109 - val_accuracy: 0.6036\n",
      "\n",
      "Epoch 00031: val_accuracy did not improve from 0.64588\n",
      "Epoch 32/40\n",
      "47/47 [==============================] - 3s 56ms/step - loss: 0.0589 - accuracy: 0.9843 - val_loss: 2.0978 - val_accuracy: 0.6097\n",
      "\n",
      "Epoch 00032: val_accuracy did not improve from 0.64588\n",
      "Epoch 33/40\n",
      "47/47 [==============================] - 3s 57ms/step - loss: 0.0080 - accuracy: 0.9970 - val_loss: 1.9546 - val_accuracy: 0.6097\n",
      "\n",
      "Epoch 00033: val_accuracy did not improve from 0.64588\n",
      "Epoch 34/40\n",
      "47/47 [==============================] - 3s 55ms/step - loss: 0.0212 - accuracy: 0.9918 - val_loss: 2.0758 - val_accuracy: 0.5996\n",
      "\n",
      "Epoch 00034: val_accuracy did not improve from 0.64588\n",
      "Epoch 35/40\n",
      "47/47 [==============================] - 3s 56ms/step - loss: 0.0304 - accuracy: 0.9930 - val_loss: 2.0212 - val_accuracy: 0.6056\n",
      "\n",
      "Epoch 00035: val_accuracy did not improve from 0.64588\n",
      "Epoch 36/40\n",
      "47/47 [==============================] - 3s 57ms/step - loss: 0.0141 - accuracy: 0.9945 - val_loss: 3.7635 - val_accuracy: 0.5010\n",
      "\n",
      "Epoch 00036: val_accuracy did not improve from 0.64588\n",
      "Epoch 37/40\n",
      "47/47 [==============================] - 3s 56ms/step - loss: 0.1281 - accuracy: 0.9723 - val_loss: 2.0961 - val_accuracy: 0.6076\n",
      "\n",
      "Epoch 00037: val_accuracy did not improve from 0.64588\n",
      "Epoch 38/40\n",
      "47/47 [==============================] - 3s 57ms/step - loss: 0.0083 - accuracy: 0.9981 - val_loss: 2.0718 - val_accuracy: 0.6157\n",
      "\n",
      "Epoch 00038: val_accuracy did not improve from 0.64588\n",
      "Epoch 39/40\n",
      "47/47 [==============================] - 3s 56ms/step - loss: 0.0054 - accuracy: 0.9984 - val_loss: 2.1673 - val_accuracy: 0.6056\n",
      "\n",
      "Epoch 00039: val_accuracy did not improve from 0.64588\n",
      "Epoch 40/40\n",
      "47/47 [==============================] - 3s 54ms/step - loss: 0.0088 - accuracy: 0.9964 - val_loss: 2.2809 - val_accuracy: 0.6197\n",
      "\n",
      "Epoch 00040: val_accuracy did not improve from 0.64588\n"
     ]
    }
   ],
   "source": [
    "model1 = Sequential()\n",
    "model1.add(layers.Embedding(max_words, 20))\n",
    "model1.add(layers.LSTM(15,dropout=0.5))\n",
    "model1.add(layers.Dense(2,activation='softmax'))\n",
    "\n",
    "model1.compile(optimizer='rmsprop',loss='categorical_crossentropy', metrics=['accuracy'])\n",
    "#Implementing model checkpoins to save the best metric and do not lose it on training.\n",
    "checkpoint1 = ModelCheckpoint(\"best_model1.hdf5\", monitor='val_accuracy', verbose=1,save_best_only=True, mode='auto', period=1,save_weights_only=False)\n",
    "history = model1.fit(X_train, y_train, epochs=40,validation_data=(X_test, y_test),callbacks=[checkpoint1])"
   ]
  },
  {
   "cell_type": "code",
   "execution_count": 92,
   "metadata": {},
   "outputs": [
    {
     "name": "stdout",
     "output_type": "stream",
     "text": [
      "WARNING:tensorflow:`period` argument is deprecated. Please use `save_freq` to specify the frequency in number of batches seen.\n",
      "Epoch 1/40\n",
      "47/47 [==============================] - 9s 90ms/step - loss: 0.6936 - accuracy: 0.5229 - val_loss: 0.6910 - val_accuracy: 0.5453\n",
      "\n",
      "Epoch 00001: val_accuracy improved from -inf to 0.54527, saving model to best_model2.hdf5\n",
      "Epoch 2/40\n",
      "47/47 [==============================] - 4s 87ms/step - loss: 0.6882 - accuracy: 0.5305 - val_loss: 0.6879 - val_accuracy: 0.5755\n",
      "\n",
      "Epoch 00002: val_accuracy improved from 0.54527 to 0.57545, saving model to best_model2.hdf5\n",
      "Epoch 3/40\n",
      "47/47 [==============================] - 4s 88ms/step - loss: 0.6655 - accuracy: 0.6514 - val_loss: 0.6729 - val_accuracy: 0.5956\n",
      "\n",
      "Epoch 00003: val_accuracy improved from 0.57545 to 0.59557, saving model to best_model2.hdf5\n",
      "Epoch 4/40\n",
      "47/47 [==============================] - 4s 81ms/step - loss: 0.6023 - accuracy: 0.7130 - val_loss: 0.6525 - val_accuracy: 0.6157\n",
      "\n",
      "Epoch 00004: val_accuracy improved from 0.59557 to 0.61569, saving model to best_model2.hdf5\n",
      "Epoch 5/40\n",
      "47/47 [==============================] - 4s 81ms/step - loss: 0.5114 - accuracy: 0.7997 - val_loss: 0.6633 - val_accuracy: 0.6217\n",
      "\n",
      "Epoch 00005: val_accuracy improved from 0.61569 to 0.62173, saving model to best_model2.hdf5\n",
      "Epoch 6/40\n",
      "47/47 [==============================] - 4s 79ms/step - loss: 0.4135 - accuracy: 0.8241 - val_loss: 0.6958 - val_accuracy: 0.6439\n",
      "\n",
      "Epoch 00006: val_accuracy improved from 0.62173 to 0.64386, saving model to best_model2.hdf5\n",
      "Epoch 7/40\n",
      "47/47 [==============================] - 4s 80ms/step - loss: 0.3045 - accuracy: 0.8824 - val_loss: 0.7288 - val_accuracy: 0.6439\n",
      "\n",
      "Epoch 00007: val_accuracy did not improve from 0.64386\n",
      "Epoch 8/40\n",
      "47/47 [==============================] - 4s 81ms/step - loss: 0.3000 - accuracy: 0.8666 - val_loss: 0.7968 - val_accuracy: 0.6157\n",
      "\n",
      "Epoch 00008: val_accuracy did not improve from 0.64386\n",
      "Epoch 9/40\n",
      "47/47 [==============================] - 4s 82ms/step - loss: 0.2483 - accuracy: 0.9077 - val_loss: 0.8422 - val_accuracy: 0.6338\n",
      "\n",
      "Epoch 00009: val_accuracy did not improve from 0.64386\n",
      "Epoch 10/40\n",
      "47/47 [==============================] - 4s 80ms/step - loss: 0.1929 - accuracy: 0.9178 - val_loss: 0.8674 - val_accuracy: 0.6338\n",
      "\n",
      "Epoch 00010: val_accuracy did not improve from 0.64386\n",
      "Epoch 11/40\n",
      "47/47 [==============================] - 4s 81ms/step - loss: 0.1612 - accuracy: 0.9429 - val_loss: 0.9110 - val_accuracy: 0.6318\n",
      "\n",
      "Epoch 00011: val_accuracy did not improve from 0.64386\n",
      "Epoch 12/40\n",
      "47/47 [==============================] - 4s 83ms/step - loss: 0.1502 - accuracy: 0.9464 - val_loss: 0.9743 - val_accuracy: 0.6157\n",
      "\n",
      "Epoch 00012: val_accuracy did not improve from 0.64386\n",
      "Epoch 13/40\n",
      "47/47 [==============================] - 4s 82ms/step - loss: 0.1118 - accuracy: 0.9610 - val_loss: 1.0220 - val_accuracy: 0.6036\n",
      "\n",
      "Epoch 00013: val_accuracy did not improve from 0.64386\n",
      "Epoch 14/40\n",
      "47/47 [==============================] - 4s 82ms/step - loss: 0.0956 - accuracy: 0.9712 - val_loss: 1.2438 - val_accuracy: 0.6097\n",
      "\n",
      "Epoch 00014: val_accuracy did not improve from 0.64386\n",
      "Epoch 15/40\n",
      "47/47 [==============================] - 4s 84ms/step - loss: 0.1044 - accuracy: 0.9588 - val_loss: 1.1960 - val_accuracy: 0.5956\n",
      "\n",
      "Epoch 00015: val_accuracy did not improve from 0.64386\n",
      "Epoch 16/40\n",
      "47/47 [==============================] - 4s 83ms/step - loss: 0.0736 - accuracy: 0.9761 - val_loss: 1.2767 - val_accuracy: 0.6217\n",
      "\n",
      "Epoch 00016: val_accuracy did not improve from 0.64386\n",
      "Epoch 17/40\n",
      "47/47 [==============================] - 4s 81ms/step - loss: 0.0631 - accuracy: 0.9763 - val_loss: 1.2917 - val_accuracy: 0.5996\n",
      "\n",
      "Epoch 00017: val_accuracy did not improve from 0.64386\n",
      "Epoch 18/40\n",
      "47/47 [==============================] - 4s 82ms/step - loss: 0.0631 - accuracy: 0.9771 - val_loss: 1.4945 - val_accuracy: 0.6137\n",
      "\n",
      "Epoch 00018: val_accuracy did not improve from 0.64386\n",
      "Epoch 19/40\n",
      "47/47 [==============================] - 4s 83ms/step - loss: 0.0616 - accuracy: 0.9777 - val_loss: 1.3602 - val_accuracy: 0.6016\n",
      "\n",
      "Epoch 00019: val_accuracy did not improve from 0.64386\n",
      "Epoch 20/40\n",
      "47/47 [==============================] - 4s 83ms/step - loss: 0.0564 - accuracy: 0.9734 - val_loss: 1.6223 - val_accuracy: 0.5956\n",
      "\n",
      "Epoch 00020: val_accuracy did not improve from 0.64386\n",
      "Epoch 21/40\n",
      "47/47 [==============================] - 4s 82ms/step - loss: 0.0699 - accuracy: 0.9801 - val_loss: 1.5108 - val_accuracy: 0.6076\n",
      "\n",
      "Epoch 00021: val_accuracy did not improve from 0.64386\n",
      "Epoch 22/40\n",
      "47/47 [==============================] - 4s 81ms/step - loss: 0.0464 - accuracy: 0.9843 - val_loss: 1.5687 - val_accuracy: 0.5976\n",
      "\n",
      "Epoch 00022: val_accuracy did not improve from 0.64386\n",
      "Epoch 23/40\n",
      "47/47 [==============================] - 4s 82ms/step - loss: 0.0463 - accuracy: 0.9816 - val_loss: 1.5758 - val_accuracy: 0.6076\n",
      "\n",
      "Epoch 00023: val_accuracy did not improve from 0.64386\n",
      "Epoch 24/40\n",
      "47/47 [==============================] - 4s 82ms/step - loss: 0.0352 - accuracy: 0.9874 - val_loss: 1.7825 - val_accuracy: 0.6117\n",
      "\n",
      "Epoch 00024: val_accuracy did not improve from 0.64386\n",
      "Epoch 25/40\n",
      "47/47 [==============================] - 4s 82ms/step - loss: 0.0296 - accuracy: 0.9871 - val_loss: 1.6148 - val_accuracy: 0.6117\n",
      "\n",
      "Epoch 00025: val_accuracy did not improve from 0.64386\n",
      "Epoch 26/40\n",
      "47/47 [==============================] - 4s 81ms/step - loss: 0.0380 - accuracy: 0.9923 - val_loss: 1.7341 - val_accuracy: 0.6016\n",
      "\n",
      "Epoch 00026: val_accuracy did not improve from 0.64386\n",
      "Epoch 27/40\n",
      "47/47 [==============================] - 4s 82ms/step - loss: 0.0299 - accuracy: 0.9896 - val_loss: 1.8675 - val_accuracy: 0.5976\n",
      "\n",
      "Epoch 00027: val_accuracy did not improve from 0.64386\n",
      "Epoch 28/40\n",
      "47/47 [==============================] - 4s 81ms/step - loss: 0.0226 - accuracy: 0.9921 - val_loss: 1.9996 - val_accuracy: 0.5976\n",
      "\n",
      "Epoch 00028: val_accuracy did not improve from 0.64386\n",
      "Epoch 29/40\n",
      "47/47 [==============================] - 4s 82ms/step - loss: 0.0230 - accuracy: 0.9920 - val_loss: 1.9691 - val_accuracy: 0.6056\n",
      "\n",
      "Epoch 00029: val_accuracy did not improve from 0.64386\n",
      "Epoch 30/40\n",
      "47/47 [==============================] - 4s 81ms/step - loss: 0.0291 - accuracy: 0.9916 - val_loss: 2.0215 - val_accuracy: 0.6016\n",
      "\n",
      "Epoch 00030: val_accuracy did not improve from 0.64386\n",
      "Epoch 31/40\n",
      "47/47 [==============================] - 4s 82ms/step - loss: 0.0174 - accuracy: 0.9949 - val_loss: 2.2150 - val_accuracy: 0.5915\n",
      "\n",
      "Epoch 00031: val_accuracy did not improve from 0.64386\n",
      "Epoch 32/40\n",
      "47/47 [==============================] - 4s 82ms/step - loss: 0.0319 - accuracy: 0.9932 - val_loss: 2.0172 - val_accuracy: 0.6056\n",
      "\n",
      "Epoch 00032: val_accuracy did not improve from 0.64386\n",
      "Epoch 33/40\n",
      "47/47 [==============================] - 4s 82ms/step - loss: 0.0155 - accuracy: 0.9946 - val_loss: 2.0981 - val_accuracy: 0.6076\n",
      "\n",
      "Epoch 00033: val_accuracy did not improve from 0.64386\n",
      "Epoch 34/40\n",
      "47/47 [==============================] - 4s 85ms/step - loss: 0.0137 - accuracy: 0.9958 - val_loss: 2.2841 - val_accuracy: 0.5976\n",
      "\n",
      "Epoch 00034: val_accuracy did not improve from 0.64386\n",
      "Epoch 35/40\n",
      "47/47 [==============================] - 4s 83ms/step - loss: 0.0079 - accuracy: 0.9978 - val_loss: 2.3272 - val_accuracy: 0.5976\n",
      "\n",
      "Epoch 00035: val_accuracy did not improve from 0.64386\n",
      "Epoch 36/40\n",
      "47/47 [==============================] - 4s 82ms/step - loss: 0.0059 - accuracy: 0.9969 - val_loss: 2.5675 - val_accuracy: 0.5976\n",
      "\n",
      "Epoch 00036: val_accuracy did not improve from 0.64386\n",
      "Epoch 37/40\n",
      "47/47 [==============================] - 4s 81ms/step - loss: 0.0517 - accuracy: 0.9913 - val_loss: 2.3519 - val_accuracy: 0.5855\n",
      "\n",
      "Epoch 00037: val_accuracy did not improve from 0.64386\n",
      "Epoch 38/40\n",
      "47/47 [==============================] - 4s 83ms/step - loss: 0.0097 - accuracy: 0.9952 - val_loss: 2.3771 - val_accuracy: 0.6137\n",
      "\n",
      "Epoch 00038: val_accuracy did not improve from 0.64386\n",
      "Epoch 39/40\n",
      "47/47 [==============================] - 4s 81ms/step - loss: 0.0094 - accuracy: 0.9972 - val_loss: 2.4854 - val_accuracy: 0.6016\n",
      "\n",
      "Epoch 00039: val_accuracy did not improve from 0.64386\n",
      "Epoch 40/40\n",
      "47/47 [==============================] - 4s 83ms/step - loss: 0.0111 - accuracy: 0.9943 - val_loss: 2.4526 - val_accuracy: 0.5996\n"
     ]
    },
    {
     "name": "stdout",
     "output_type": "stream",
     "text": [
      "\n",
      "Epoch 00040: val_accuracy did not improve from 0.64386\n"
     ]
    }
   ],
   "source": [
    "model2 = Sequential()\n",
    "model2.add(layers.Embedding(max_words, 40, input_length=max_len))\n",
    "model2.add(layers.Bidirectional(layers.LSTM(20,dropout=0.6)))\n",
    "model2.add(layers.Dense(2,activation='softmax'))\n",
    "model2.compile(optimizer='rmsprop',loss='categorical_crossentropy', metrics=['accuracy'])\n",
    "#Implementing model checkpoins to save the best metric and do not lose it on training.\n",
    "checkpoint2 = ModelCheckpoint(\"best_model2.hdf5\", monitor='val_accuracy', verbose=1,save_best_only=True, mode='auto', period=1,save_weights_only=False)\n",
    "history = model2.fit(X_train, y_train, epochs=40,validation_data=(X_test, y_test),callbacks=[checkpoint2])"
   ]
  },
  {
   "cell_type": "code",
   "execution_count": null,
   "metadata": {},
   "outputs": [],
   "source": []
  },
  {
   "cell_type": "code",
   "execution_count": null,
   "metadata": {},
   "outputs": [],
   "source": []
  },
  {
   "cell_type": "code",
   "execution_count": null,
   "metadata": {},
   "outputs": [],
   "source": []
  }
 ],
 "metadata": {
  "kernelspec": {
   "display_name": "Python 3",
   "language": "python",
   "name": "python3"
  },
  "language_info": {
   "codemirror_mode": {
    "name": "ipython",
    "version": 3
   },
   "file_extension": ".py",
   "mimetype": "text/x-python",
   "name": "python",
   "nbconvert_exporter": "python",
   "pygments_lexer": "ipython3",
   "version": "3.7.9"
  }
 },
 "nbformat": 4,
 "nbformat_minor": 2
}
